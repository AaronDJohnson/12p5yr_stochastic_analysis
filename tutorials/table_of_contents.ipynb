{
 "cells": [
  {
   "cell_type": "markdown",
   "metadata": {},
   "source": [
    "# 12.5 Year Stochastic Tutorials\n",
    "\n",
    "### by Steve Taylor, Sarah Vigeland, Joe Simon, Bence Becsy, and Aaron Johnson on behalf of the NANOGrav Collaboration"
   ]
  },
  {
   "cell_type": "markdown",
   "metadata": {},
   "source": [
    "# Table of Contents"
   ]
  },
  {
   "cell_type": "markdown",
   "metadata": {},
   "source": [
    "## Single Pulsar Stochastic Background Search Tutorials\n",
    "1. [Single Pulsar: Verbose Version](single_pulsar_gwb/verbose_ver.ipynb)\n",
    "2. [Single Pulsar: `enterprise_extensions` Version](single_pulsar_gwb/extensions_ver.ipynb)"
   ]
  },
  {
   "cell_type": "markdown",
   "metadata": {},
   "source": [
    "## PTA Stochastic Background Search Tutorials\n",
    "1. [PTA Analysis Parameter Estimation: Verbose Version](full_pta/pe_verbose.ipynb)\n",
    "2. [PTA Analysis Parameter Estimation: `enterprise_extensions` Version](full_pta/pe_extensions.ipynb)\n",
    "3. [Model Selection: `model_1` vs `model_2a`](full_pta/ms_1vs2a.ipynb)\n",
    "4. [Model Selection: `model_2a` vs `model_3a`](full_pta/ms_2avs3a.ipynb)\n",
    "5. [Reproducing 12.5 Year Stochastic Analysis Plots](full_pta/12yr_chains.ipynb)"
   ]
  },
  {
   "cell_type": "code",
   "execution_count": null,
   "metadata": {},
   "outputs": [],
   "source": []
  }
 ],
 "metadata": {
  "kernelspec": {
   "display_name": "Python 3.7.10 64-bit ('enterprise': conda)",
   "language": "python",
   "name": "python3710jvsc74a57bd0913a1c0a8bc180c68be9ca280758699feb83bb17ca8df97de1bd02c95d5179f1"
  },
  "language_info": {
   "codemirror_mode": {
    "name": "ipython",
    "version": 3
   },
   "file_extension": ".py",
   "mimetype": "text/x-python",
   "name": "python",
   "nbconvert_exporter": "python",
   "pygments_lexer": "ipython3",
   "version": "3.9.5"
  }
 },
 "nbformat": 4,
 "nbformat_minor": 4
}
