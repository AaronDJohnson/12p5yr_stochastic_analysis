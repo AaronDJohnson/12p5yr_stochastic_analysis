{
 "metadata": {
  "language_info": {
   "codemirror_mode": {
    "name": "ipython",
    "version": 3
   },
   "file_extension": ".py",
   "mimetype": "text/x-python",
   "name": "python",
   "nbconvert_exporter": "python",
   "pygments_lexer": "ipython3",
   "version": 3
  },
  "orig_nbformat": 2
 },
 "nbformat": 4,
 "nbformat_minor": 2,
 "cells": [
  {
   "source": [
    "# 12.5 Year Stochastic Tutorials\n",
    "\n",
    "### by Steve Taylor, Sarah Vigeland, Joe Simon, Bence Becsy, and Aaron Johnson \n",
    "### on behalf of the NANOGrav Collaboration"
   ],
   "cell_type": "markdown",
   "metadata": {}
  },
  {
   "source": [
    "# Table of Contents\n",
    "\n",
    "## Bayesian Analyses\n"
   ],
   "cell_type": "markdown",
   "metadata": {}
  },
  {
   "source": [
    "## Single Pulsar Analysis\n",
    "1. [Parameter Estimation: Verbose Version]()\n",
    "2. [Parameter Estimation: Extensions Version]()"
   ],
   "cell_type": "markdown",
   "metadata": {}
  },
  {
   "source": [
    "## Full Pulsar Timing Array Analyses\n",
    "1. [Parameter Estimation: Verbose Version](full_pta/verbose_ver.ipynb)\n",
    "2. [Parameter Estimation: Extensions Version](full_pta/extensions_ver.ipynb)\n",
    "3. [Model Selection: `model_1` and `model_2a`](full_pta/model_selection.ipynb)\n",
    "4. [Reproducing 12.5 year Stochastic Background Plots](full_pta/12yr_chains.ipynb)"
   ],
   "cell_type": "markdown",
   "metadata": {}
  },
  {
   "cell_type": "code",
   "execution_count": null,
   "metadata": {},
   "outputs": [],
   "source": []
  }
 ]
}