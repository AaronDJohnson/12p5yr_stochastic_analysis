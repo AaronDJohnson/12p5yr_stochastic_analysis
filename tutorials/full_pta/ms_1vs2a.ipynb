{
 "cells": [
  {
   "cell_type": "markdown",
   "metadata": {},
   "source": [
    "# Model Selection\n",
    "## model_1 (intrinsic noise only) vs. model_2a (red noise + common red noise process)\n",
    "\n",
    "* In this file, we will discuss using a HyperModel (multi-model) object from `enterprise_extensions`,\n",
    "* and find odds ratios between two models: model_1 and model_2a."
   ]
  },
  {
   "cell_type": "code",
   "execution_count": 1,
   "metadata": {},
   "outputs": [
    {
     "name": "stderr",
     "output_type": "stream",
     "text": [
      "WARNING: AstropyDeprecationWarning: The private astropy._erfa module has been made into its own package, pyerfa, which is a dependency of astropy and can be imported directly using \"import erfa\" [astropy._erfa]\n"
     ]
    },
    {
     "name": "stdout",
     "output_type": "stream",
     "text": [
      "Do not have mpi4py package.\n"
     ]
    }
   ],
   "source": [
    "%matplotlib inline\n",
    "%config InlineBackend.figure_format = 'retina'\n",
    "%load_ext autoreload\n",
    "%autoreload 2\n",
    "\n",
    "import os, glob, json, pickle\n",
    "import matplotlib.pyplot as plt\n",
    "import numpy as np\n",
    "import scipy.linalg as sl\n",
    "\n",
    "import enterprise\n",
    "from enterprise.pulsar import Pulsar\n",
    "import enterprise.signals.parameter as parameter\n",
    "from enterprise.signals import utils\n",
    "from enterprise.signals import signal_base\n",
    "from enterprise.signals import selections\n",
    "from enterprise.signals.selections import Selection\n",
    "from enterprise.signals import white_signals\n",
    "from enterprise.signals import gp_signals\n",
    "from enterprise.signals import deterministic_signals\n",
    "import enterprise.constants as const\n",
    "\n",
    "import corner\n",
    "from PTMCMCSampler.PTMCMCSampler import PTSampler as ptmcmc\n",
    "\n",
    "import enterprise_extensions\n",
    "from enterprise_extensions import models, model_utils, hypermodel"
   ]
  },
  {
   "cell_type": "markdown",
   "metadata": {},
   "source": [
    "## Get par, tim, and noise files"
   ]
  },
  {
   "cell_type": "code",
   "execution_count": 2,
   "metadata": {},
   "outputs": [
    {
     "name": "stdout",
     "output_type": "stream",
     "text": [
      "datadir = ../../data\n"
     ]
    }
   ],
   "source": [
    "psrlist = None # define a list of pulsar name strings that can be used to filter.\n",
    "# set the data directory\n",
    "datadir = '../data'\n",
    "if not os.path.isdir(datadir):\n",
    "    datadir = '../../data'\n",
    "print('datadir =', datadir)"
   ]
  },
  {
   "cell_type": "code",
   "execution_count": 3,
   "metadata": {},
   "outputs": [],
   "source": [
    "# for the entire pta\n",
    "parfiles = sorted(glob.glob(datadir + '/par/*par'))\n",
    "timfiles = sorted(glob.glob(datadir + '/tim/*tim'))\n",
    "\n",
    "# filter\n",
    "if psrlist is not None:\n",
    "    parfiles = [x for x in parfiles if x.split('/')[-1].split('.')[0] in psrlist]\n",
    "    timfiles = [x for x in timfiles if x.split('/')[-1].split('.')[0] in psrlist]\n",
    "\n",
    "# Make sure you use the tempo2 parfile for J1713+0747!!\n",
    "# ...filtering out the tempo parfile... \n",
    "parfiles = [x for x in parfiles if 'J1713+0747_NANOGrav_12yv3.gls.par' not in x]"
   ]
  },
  {
   "cell_type": "code",
   "execution_count": 4,
   "metadata": {},
   "outputs": [],
   "source": [
    "# check for file and load pickle if it exists:\n",
    "pickle_loc = datadir + '/psrs.pkl'\n",
    "if os.path.exists(pickle_loc):\n",
    "    with open(pickle_loc, 'rb') as f:\n",
    "        psrs = pickle.load(f)\n",
    "\n",
    "# else: load them in slowly:\n",
    "else:\n",
    "    psrs = []\n",
    "    ephemeris = 'DE438'\n",
    "    for p, t in zip(parfiles, timfiles):\n",
    "        psr = Pulsar(p, t, ephem=ephemeris)\n",
    "        psrs.append(psr)"
   ]
  },
  {
   "cell_type": "code",
   "execution_count": 5,
   "metadata": {},
   "outputs": [],
   "source": [
    "## Get parameter noise dictionary\n",
    "noise_ng12 = datadir + '/channelized_12p5yr_v3_full_noisedict.json'\n",
    "\n",
    "params = {}\n",
    "with open(noise_ng12, 'r') as fp:\n",
    "    params.update(json.load(fp))"
   ]
  },
  {
   "cell_type": "markdown",
   "metadata": {},
   "source": [
    "* We want to compute the Bayesian odds for a signal in the data. This can be done using the `HyperModel` class, where we choose between a `model_2a` with a common (but uncorrelated) red process in the pulsars, and `model_1` with only intrinsic red noise in the model.\n",
    "\n",
    "* We typically perform detection-type analyses with uniform-in-log priors on all amplitude parameters for low-frequency processes. This is implemented below with the argument `upper_limit` set to `False`."
   ]
  },
  {
   "cell_type": "markdown",
   "metadata": {},
   "source": [
    "## Setup dictionary of PTA models\n",
    "* `model_1` consists of a PTA with only intrinsic red noise\n",
    "* `model_2a` includes a common red noise process where, for this analysis, we set the spectral index to 13/3\n",
    "* We also change `n_gwbfreqs` to only include the lowest 5 frequencies to match the 12.5 year stochastic gravitational wave background search\n",
    "* There are other model functions built into `enterprise_extensions`.\n",
    "* See the documentation of each function in the `models.py` file of `enterprise_extensions` for more information."
   ]
  },
  {
   "cell_type": "code",
   "execution_count": 7,
   "metadata": {},
   "outputs": [],
   "source": [
    "nmodels = 2\n",
    "mod_index = np.arange(nmodels)\n",
    "\n",
    "# Make dictionary of PTAs.\n",
    "pta = dict.fromkeys(mod_index)\n",
    "pta[0] = models.model_1(psrs, psd='powerlaw', noisedict=params)\n",
    "pta[1] = models.model_2a(psrs, psd='powerlaw', noisedict=params, n_gwbfreqs=5, gamma_common=13/3)"
   ]
  },
  {
   "cell_type": "markdown",
   "metadata": {},
   "source": [
    "* In setting up the `HyperModel` in the next cell, we set `log_weights` to make the models sample more evenly.\n",
    "* This will be taken into account when we compute the posterior odds ratio later.\n",
    "* `log_weights` is a list with the same length as the models, and each entry is added to the corresponding log-likelihood\n",
    "* To undo the weights, we will divide each fraction by the exponential of the `log_weights`\n",
    "* In this case, this corresponds to multiplying the odds ratio by $e^{10}$."
   ]
  },
  {
   "cell_type": "code",
   "execution_count": 8,
   "metadata": {},
   "outputs": [],
   "source": [
    "super_model = hypermodel.HyperModel(pta, log_weights=[10, 0])"
   ]
  },
  {
   "cell_type": "markdown",
   "metadata": {},
   "source": [
    "## Sample"
   ]
  },
  {
   "cell_type": "code",
   "execution_count": 9,
   "metadata": {},
   "outputs": [
    {
     "name": "stdout",
     "output_type": "stream",
     "text": [
      "Adding red noise prior draws...\n",
      "\n",
      "Adding GWB uniform distribution draws...\n",
      "\n",
      "Adding gw param prior draws...\n",
      "\n",
      "Adding nmodel uniform distribution draws...\n",
      "\n"
     ]
    },
    {
     "name": "stderr",
     "output_type": "stream",
     "text": [
      "/Users/aaron/opt/anaconda3/envs/enterprise/lib/python3.9/site-packages/numpy/lib/arraysetops.py:270: VisibleDeprecationWarning: Creating an ndarray from ragged nested sequences (which is a list-or-tuple of lists-or-tuples-or ndarrays with different lengths or shapes) is deprecated. If you meant to do this, you must specify 'dtype=object' when creating the ndarray.\n",
      "  ar = np.asanyarray(ar)\n"
     ]
    }
   ],
   "source": [
    "outDir = '../../chains/model_chains'\n",
    "sampler = super_model.setup_sampler(resume=False, outdir=outDir, sample_nmodel=True,)"
   ]
  },
  {
   "cell_type": "code",
   "execution_count": 10,
   "metadata": {},
   "outputs": [],
   "source": [
    "# This will take about an hour to sample\n",
    "# To sample it properly will take ~30 hours\n",
    "# sampler for N steps\n",
    "\n",
    "# Uncomment the final line here to sample.\n",
    "# Samples have been included with this tutorial set to save time and computation\n",
    "N = int(5e6)  # 5e6 is a good number for a real analysis \n",
    "x0 = super_model.initial_sample()\n",
    "# sampler.sample(x0, N, SCAMweight=30, AMweight=15, DEweight=50, )"
   ]
  },
  {
   "cell_type": "code",
   "execution_count": 14,
   "metadata": {},
   "outputs": [],
   "source": [
    "chain = np.loadtxt(outDir + '/chain_1.txt')\n",
    "burn = int(0.25 * chain.shape[0])\n",
    "pars = np.loadtxt(outDir + '/pars.txt', dtype=np.unicode_)"
   ]
  },
  {
   "cell_type": "code",
   "execution_count": 15,
   "metadata": {},
   "outputs": [
    {
     "data": {
      "text/plain": [
       "[<matplotlib.lines.Line2D at 0x7fe23a0a7190>]"
      ]
     },
     "execution_count": 15,
     "metadata": {},
     "output_type": "execute_result"
    },
    {
     "data": {
      "image/png": "[encoded data removed]",
      "text/plain": [
       "<Figure size 432x288 with 1 Axes>"
      ]
     },
     "metadata": {
      "image/png": {
       "height": 248,
       "width": 386
      },
      "needs_background": "light"
     },
     "output_type": "display_data"
    }
   ],
   "source": [
    "# Make trace-plot to diagnose sampling\n",
    "ind_model = list(pars).index('nmodel')\n",
    "plt.plot(chain[:, ind_model])"
   ]
  },
  {
   "cell_type": "code",
   "execution_count": 12,
   "metadata": {},
   "outputs": [
    {
     "ename": "NameError",
     "evalue": "name 'burn' is not defined",
     "output_type": "error",
     "traceback": [
      "\u001b[0;31m---------------------------------------------------------------------------\u001b[0m",
      "\u001b[0;31mNameError\u001b[0m                                 Traceback (most recent call last)",
      "\u001b[0;32m<ipython-input-12-c5bc93301477>\u001b[0m in \u001b[0;36m<module>\u001b[0;34m\u001b[0m\n\u001b[1;32m      1\u001b[0m \u001b[0;31m# Plot histgram for GW amplitude\u001b[0m\u001b[0;34m\u001b[0m\u001b[0;34m\u001b[0m\u001b[0;34m\u001b[0m\u001b[0m\n\u001b[0;32m----> 2\u001b[0;31m \u001b[0mchain_burn\u001b[0m \u001b[0;34m=\u001b[0m \u001b[0mchain\u001b[0m\u001b[0;34m[\u001b[0m\u001b[0mburn\u001b[0m\u001b[0;34m:\u001b[0m\u001b[0;34m,\u001b[0m\u001b[0;34m:\u001b[0m\u001b[0;34m]\u001b[0m\u001b[0;34m\u001b[0m\u001b[0;34m\u001b[0m\u001b[0m\n\u001b[0m\u001b[1;32m      3\u001b[0m \u001b[0;34m\u001b[0m\u001b[0m\n\u001b[1;32m      4\u001b[0m \u001b[0mind_model\u001b[0m \u001b[0;34m=\u001b[0m \u001b[0mlist\u001b[0m\u001b[0;34m(\u001b[0m\u001b[0mpars\u001b[0m\u001b[0;34m)\u001b[0m\u001b[0;34m.\u001b[0m\u001b[0mindex\u001b[0m\u001b[0;34m(\u001b[0m\u001b[0;34m'nmodel'\u001b[0m\u001b[0;34m)\u001b[0m\u001b[0;34m\u001b[0m\u001b[0;34m\u001b[0m\u001b[0m\n\u001b[1;32m      5\u001b[0m \u001b[0mind_gwamp\u001b[0m \u001b[0;34m=\u001b[0m \u001b[0mlist\u001b[0m\u001b[0;34m(\u001b[0m\u001b[0mpars\u001b[0m\u001b[0;34m)\u001b[0m\u001b[0;34m.\u001b[0m\u001b[0mindex\u001b[0m\u001b[0;34m(\u001b[0m\u001b[0;34m'gw_log10_A'\u001b[0m\u001b[0;34m)\u001b[0m\u001b[0;34m\u001b[0m\u001b[0;34m\u001b[0m\u001b[0m\n",
      "\u001b[0;31mNameError\u001b[0m: name 'burn' is not defined"
     ]
    }
   ],
   "source": [
    "# Plot histgram for GW amplitude\n",
    "chain_burn = chain[burn:,:]\n",
    "\n",
    "ind_model = list(pars).index('nmodel')\n",
    "ind_gwamp = list(pars).index('gw_log10_A')\n",
    "\n",
    "# ORF = None\n",
    "# plt.plot(chain_burn[chain_burn[:, ind_model] > 0.5, ind_gwamp])\n",
    "plt.hist(chain_burn[chain_burn[:, ind_model] > 0.5, ind_gwamp], bins=60);"
   ]
  },
  {
   "cell_type": "code",
   "execution_count": 17,
   "metadata": {},
   "outputs": [
    {
     "data": {
      "image/png": "[encoded data removed]",
      "text/plain": [
       "<Figure size 432x288 with 1 Axes>"
      ]
     },
     "metadata": {
      "image/png": {
       "height": 248,
       "width": 388
      },
      "needs_background": "light"
     },
     "output_type": "display_data"
    }
   ],
   "source": [
    "# Plot histogram for GWB model selection\n",
    "# This will tell us how much we have sampled for each model\n",
    "plt.hist(chain_burn[:, ind_model], bins=40);"
   ]
  },
  {
   "cell_type": "markdown",
   "metadata": {},
   "source": [
    "### Hypermodel\n",
    "* The hypermodel overwhelmingly favors the second model (nmodel > 0.5)"
   ]
  },
  {
   "cell_type": "markdown",
   "metadata": {},
   "source": [
    "### Posterior odds ratio\n",
    "\n",
    "* This gives the Bayesian odds between a model with no red process between pulsars (`model_1`), and a common (but uncorrelated) red process between pulsars (`model_2a`). \n",
    "* This will tell us if the pulsars prefer a common red noise term over no common term, but it will not tell us if this is the GWB.\n",
    "* We will return to this in the next section to compare between a common (uncorrelated) red noise term and a red noise term with Hellings and Downs (HD) correlations.\n",
    "* HD correlations would indicate that the common signal is a gravitational wave background.\n",
    "* The Bayes Factor here indicates that there is **strong** evidence for a common red noise signal among pulsars"
   ]
  },
  {
   "cell_type": "code",
   "execution_count": 18,
   "metadata": {},
   "outputs": [
    {
     "name": "stdout",
     "output_type": "stream",
     "text": [
      "2.910232383808096 0.34397760460409227\n"
     ]
    }
   ],
   "source": [
    "# The first number is the Bayes factor (BF) and the second number is the uncertainty on the BF\n",
    "bf, unc = model_utils.odds_ratio(chain_burn[:, ind_model], models=[0,1])\n",
    "print(bf, unc)"
   ]
  },
  {
   "cell_type": "code",
   "execution_count": 21,
   "metadata": {},
   "outputs": [
    {
     "name": "stdout",
     "output_type": "stream",
     "text": [
      "3.938283524272421\n"
     ]
    }
   ],
   "source": [
    "log10bf = np.log10(bf*np.exp(8))  # we multiply by exp(8) to undo the log_weight of 8\n",
    "print(log10bf)"
   ]
  },
  {
   "cell_type": "markdown",
   "metadata": {},
   "source": [
    "* Note that this Bayes factor is still a little low compared to the value found in the paper\n",
    "* With more pulsars in the data set, we could recover the full log10BF of 4.5 for the `DE438` ephemeris."
   ]
  },
  {
   "cell_type": "code",
   "execution_count": 10,
   "metadata": {},
   "outputs": [],
   "source": [
    "with open('../../chains_mortimer/model_chains/chain_1.0.txt', 'r') as f:\n",
    "    chain = np.loadtxt(f)"
   ]
  },
  {
   "cell_type": "code",
   "execution_count": 13,
   "metadata": {},
   "outputs": [
    {
     "name": "stdout",
     "output_type": "stream",
     "text": [
      "455400\n"
     ]
    }
   ],
   "source": [
    "print(len(chain))"
   ]
  },
  {
   "cell_type": "code",
   "execution_count": 14,
   "metadata": {},
   "outputs": [
    {
     "data": {
      "text/plain": [
       "[<matplotlib.lines.Line2D at 0x7fa52b63a710>]"
      ]
     },
     "execution_count": 14,
     "metadata": {},
     "output_type": "execute_result"
    },
    {
     "data": {
      "image/png": "[encoded data removed]",
      "text/plain": [
       "<Figure size 432x288 with 1 Axes>"
      ]
     },
     "metadata": {
      "image/png": {
       "height": 248,
       "width": 386
      },
      "needs_background": "light"
     },
     "output_type": "display_data"
    }
   ],
   "source": [
    "plt.plot(chain[:,-5])"
   ]
  },
  {
   "cell_type": "code",
   "execution_count": null,
   "metadata": {},
   "outputs": [],
   "source": []
  }
 ],
 "metadata": {
  "kernelspec": {
   "display_name": "Python 3.7.10 64-bit ('enterprise': conda)",
   "language": "python",
   "name": "python3710jvsc74a57bd0913a1c0a8bc180c68be9ca280758699feb83bb17ca8df97de1bd02c95d5179f1"
  },
  "language_info": {
   "codemirror_mode": {
    "name": "ipython",
    "version": 3
   },
   "file_extension": ".py",
   "mimetype": "text/x-python",
   "name": "python",
   "nbconvert_exporter": "python",
   "pygments_lexer": "ipython3",
   "version": "3.9.5"
  },
  "metadata": {
   "interpreter": {
    "hash": "913a1c0a8bc180c68be9ca280758699feb83bb17ca8df97de1bd02c95d5179f1"
   }
  }
 },
 "nbformat": 4,
 "nbformat_minor": 4
}
