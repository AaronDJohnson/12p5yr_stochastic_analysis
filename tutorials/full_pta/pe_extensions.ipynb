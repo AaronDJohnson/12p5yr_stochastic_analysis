{
 "metadata": {
  "language_info": {
   "codemirror_mode": {
    "name": "ipython",
    "version": 3
   },
   "file_extension": ".py",
   "mimetype": "text/x-python",
   "name": "python",
   "nbconvert_exporter": "python",
   "pygments_lexer": "ipython3",
   "version": "3.7.10"
  },
  "orig_nbformat": 2,
  "kernelspec": {
   "name": "python3710jvsc74a57bd0913a1c0a8bc180c68be9ca280758699feb83bb17ca8df97de1bd02c95d5179f1",
   "display_name": "Python 3.7.10 64-bit ('enterprise': conda)"
  },
  "metadata": {
   "interpreter": {
    "hash": "913a1c0a8bc180c68be9ca280758699feb83bb17ca8df97de1bd02c95d5179f1"
   }
  }
 },
 "nbformat": 4,
 "nbformat_minor": 2,
 "cells": [
  {
   "source": [
    "# Using enterprise to analyze PTA data\n",
    "\n",
    "In this notebook you will learn:\n",
    "* How to use `enterprise_extensions` to create `enterprise` models,\n",
    "* How to search in PTA data for GWs using multiple pulsars,\n",
    "* How to implement a HyperModel object to sample model_2a,\n",
    "* How to post-process your results."
   ],
   "cell_type": "markdown",
   "metadata": {}
  },
  {
   "cell_type": "code",
   "execution_count": 2,
   "metadata": {},
   "outputs": [],
   "source": [
    "%matplotlib inline\n",
    "%config InlineBackend.figure_format = 'retina'\n",
    "%load_ext autoreload\n",
    "%autoreload 2\n",
    "\n",
    "import os, glob, json, pickle\n",
    "import matplotlib.pyplot as plt\n",
    "import numpy as np\n",
    "import scipy.linalg as sl\n",
    "\n",
    "import enterprise\n",
    "from enterprise.pulsar import Pulsar\n",
    "import enterprise.signals.parameter as parameter\n",
    "from enterprise.signals import utils\n",
    "from enterprise.signals import signal_base\n",
    "from enterprise.signals import selections\n",
    "from enterprise.signals.selections import Selection\n",
    "from enterprise.signals import white_signals\n",
    "from enterprise.signals import gp_signals\n",
    "from enterprise.signals import deterministic_signals\n",
    "import enterprise.constants as const\n",
    "\n",
    "import corner\n",
    "from PTMCMCSampler.PTMCMCSampler import PTSampler as ptmcmc\n",
    "\n",
    "import enterprise_extensions\n",
    "from enterprise_extensions import models, model_utils, hypermodel"
   ]
  },
  {
   "source": [
    "## Get par, tim, and noise files"
   ],
   "cell_type": "markdown",
   "metadata": {}
  },
  {
   "cell_type": "code",
   "execution_count": 3,
   "metadata": {},
   "outputs": [
    {
     "output_type": "stream",
     "name": "stdout",
     "text": [
      "datadir = ../../data\n"
     ]
    }
   ],
   "source": [
    "psrlist = None # define a list of pulsar name strings that can be used to filter.\n",
    "# set the data directory\n",
    "datadir = '../data'\n",
    "if not os.path.isdir(datadir):\n",
    "    datadir = '../../data'\n",
    "print('datadir =', datadir)"
   ]
  },
  {
   "cell_type": "code",
   "execution_count": 4,
   "metadata": {},
   "outputs": [],
   "source": [
    "# for the entire pta\n",
    "parfiles = sorted(glob.glob(datadir + '/par/*par'))\n",
    "timfiles = sorted(glob.glob(datadir + '/tim/*tim'))\n",
    "\n",
    "# filter\n",
    "if psrlist is not None:\n",
    "    parfiles = [x for x in parfiles if x.split('/')[-1].split('.')[0] in psrlist]\n",
    "    timfiles = [x for x in timfiles if x.split('/')[-1].split('.')[0] in psrlist]\n",
    "\n",
    "# Make sure you use the tempo2 parfile for J1713+0747!!\n",
    "# ...filtering out the tempo parfile... \n",
    "parfiles = [x for x in parfiles if 'J1713+0747_NANOGrav_12yv3.gls.par' not in x]"
   ]
  },
  {
   "source": [
    "## Read par and tim files into `enterprise` `Pulsar` objects\n"
   ],
   "cell_type": "markdown",
   "metadata": {}
  },
  {
   "cell_type": "code",
   "execution_count": 5,
   "metadata": {},
   "outputs": [],
   "source": [
    "# check for file and load pickle if it exists:\n",
    "pickle_loc = datadir + '/psrs.pkl'\n",
    "if os.path.exists(pickle_loc):\n",
    "    with open(pickle_loc, 'rb') as f:\n",
    "        psrs = pickle.load(f)\n",
    "\n",
    "# else: load them in slowly:\n",
    "else:\n",
    "    psrs = []\n",
    "    ephemeris = 'DE438'\n",
    "    for p, t in zip(parfiles, timfiles):\n",
    "        psr = Pulsar(p, t, ephem=ephemeris)\n",
    "        psrs.append(psr)\n",
    "\n",
    "# Make your own pickle of these loaded objects to reduce load times significantly\n",
    "# at the cost of some space on your computer (~1.8 GB).\n",
    "with open(datadir + '/psrs.pkl', 'wb') as f:\n",
    "    pickle.dump(psrs, f)"
   ]
  },
  {
   "cell_type": "code",
   "execution_count": 6,
   "metadata": {},
   "outputs": [],
   "source": [
    "## Get parameter noise dictionary\n",
    "noise_ng12 = datadir + '/channelized_12p5yr_v3_full_noisedict.json'\n",
    "\n",
    "params = {}\n",
    "with open(noise_ng12, 'r') as fp:\n",
    "    params.update(json.load(fp))"
   ]
  },
  {
   "cell_type": "code",
   "execution_count": 7,
   "metadata": {},
   "outputs": [],
   "source": [
    "# this sets up the pta model (everything we did in the verbose version) all in one cell\n",
    "# this model 2a includes:\n",
    "#   fixed white noise parameters based on noisedict `params`\n",
    "#   common red noise signal (no correlation function) with 30 sampling frequencies\n",
    "#   and a spectral index of 13/3\n",
    "pta = models.model_2a(psrs,\n",
    "                      psd='powerlaw',\n",
    "                      noisedict=params,\n",
    "                      n_gwbfreqs=30,  # modify the number of common red noise frequencies used here\n",
    "                      gamma_common=13/3)  # remove this line for a varying spectral index"
   ]
  },
  {
   "cell_type": "code",
   "execution_count": 8,
   "metadata": {},
   "outputs": [],
   "source": [
    "# Setup an instance of a HyperModel.\n",
    "# This doesn't mean we are doing model selection (yet!), but the\n",
    "# hypermodel module gives access to some nifty sampling schemes.\n",
    "super_model = hypermodel.HyperModel({0: pta})"
   ]
  },
  {
   "cell_type": "code",
   "execution_count": 9,
   "metadata": {},
   "outputs": [
    {
     "output_type": "stream",
     "name": "stdout",
     "text": [
      "Adding red noise prior draws...\n",
      "\n",
      "Adding GWB uniform distribution draws...\n",
      "\n",
      "Adding gw param prior draws...\n",
      "\n",
      "/Users/aaron/opt/anaconda3/envs/enterprise/lib/python3.7/site-packages/numpy/core/_asarray.py:136: VisibleDeprecationWarning: Creating an ndarray from ragged nested sequences (which is a list-or-tuple of lists-or-tuples-or ndarrays with different lengths or shapes) is deprecated. If you meant to do this, you must specify 'dtype=object' when creating the ndarray\n",
      "  return array(a, dtype, copy=False, order=order, subok=True)\n"
     ]
    }
   ],
   "source": [
    "outDir = '../../chains/extensions_chains'\n",
    "\n",
    "sampler = super_model.setup_sampler(resume=True,\n",
    "                                    outdir=outDir,\n",
    "                                    sample_nmodel=False,)"
   ]
  },
  {
   "cell_type": "code",
   "execution_count": 10,
   "metadata": {},
   "outputs": [],
   "source": [
    "# sampler for N steps\n",
    "N = int(5e6)\n",
    "x0 = super_model.initial_sample()"
   ]
  },
  {
   "cell_type": "code",
   "execution_count": 17,
   "metadata": {},
   "outputs": [
    {
     "output_type": "stream",
     "name": "stdout",
     "text": [
      "Resuming run from chain file ../../chains/extensions_chains/chain_1.txt\n",
      "Adding DE jump with weight 50\n",
      "Finished 68.88 percent in 137869.570268 s Acceptance rate = 0.472548"
     ]
    }
   ],
   "source": [
    "# Sampling this will take a very long time. If you want to sample it yourself, uncomment the next line:\n",
    "# sampler.sample(x0, N, SCAMweight=30, AMweight=15, DEweight=50, )"
   ]
  },
  {
   "cell_type": "code",
   "execution_count": 37,
   "metadata": {},
   "outputs": [],
   "source": [
    "# REMOVE AFTER DONE\n",
    "fname = '/chain_1.npz'\n",
    "\n",
    "np.savez_compressed(outDir + fname, chain)"
   ]
  },
  {
   "cell_type": "code",
   "execution_count": 32,
   "metadata": {},
   "outputs": [],
   "source": [
    "# Uncomment this one to load the chain if you have sampled with PTMCMCSampler:\n",
    "# chain = np.loadtxt(os.path.join(outDir, 'chain_1.txt'))\n",
    "\n",
    "# This will load the chain that we have provided:\n",
    "chain = np.load(os.path.join(outDir, 'chain_1.npz'))['arr_0']\n",
    "burn = int(0.25 * chain.shape[0])  # remove burn in segment of sampling"
   ]
  },
  {
   "cell_type": "code",
   "execution_count": 33,
   "metadata": {},
   "outputs": [
    {
     "output_type": "stream",
     "name": "stdout",
     "text": [
      "37755\n"
     ]
    }
   ],
   "source": [
    "print(len(chain[burn:]))"
   ]
  },
  {
   "cell_type": "code",
   "execution_count": 34,
   "metadata": {},
   "outputs": [
    {
     "output_type": "execute_result",
     "data": {
      "text/plain": [
       "[<matplotlib.lines.Line2D at 0x7fb5e2911990>]"
      ]
     },
     "metadata": {},
     "execution_count": 34
    },
    {
     "output_type": "display_data",
     "data": {
      "text/plain": "<Figure size 432x288 with 1 Axes>",
      "image/png": "[encoded data removed]"
     },
     "metadata": {
      "image/png": {
       "width": 386,
       "height": 248
      },
      "needs_background": "light"
     }
    }
   ],
   "source": [
    "# Make trace-plot to diagnose sampling\n",
    "ind = list(pta.param_names).index('gw_log10_A')\n",
    "plt.plot(chain[burn:, ind])"
   ]
  },
  {
   "cell_type": "code",
   "execution_count": 35,
   "metadata": {},
   "outputs": [
    {
     "output_type": "display_data",
     "data": {
      "text/plain": "<Figure size 432x288 with 1 Axes>",
      "image/png": "[encoded data removed]"
     },
     "metadata": {
      "image/png": {
       "width": 385,
       "height": 248
      },
      "needs_background": "light"
     }
    }
   ],
   "source": [
    "# Plot GW amplitude posterior\n",
    "plt.hist(chain[burn:,ind], bins=60);"
   ]
  },
  {
   "cell_type": "code",
   "execution_count": 36,
   "metadata": {},
   "outputs": [
    {
     "output_type": "stream",
     "name": "stdout",
     "text": [
      "our_max = -14.667719567878876\n"
     ]
    }
   ],
   "source": [
    "# Compute maximum posterior value\n",
    "hist = np.histogram(chain[burn:, pta.param_names.index('gw_log10_A')],\n",
    "                          bins=60,\n",
    "                          density=False)\n",
    "max_ind = np.argmax(hist[0])\n",
    "print('our_max =', hist[1][max_ind])  # from our computation"
   ]
  },
  {
   "source": [
    "This analysis is consistent with the verbose version.\n",
    "Here we have introduced some convenient methods:\n",
    "* Using a HyperModel object for a single model,\n",
    "* Using `enterprise_extensions` to create the model,\n",
    "* Sampling a HyperModel with PTMCMCSampler."
   ],
   "cell_type": "markdown",
   "metadata": {}
  },
  {
   "cell_type": "code",
   "execution_count": null,
   "metadata": {},
   "outputs": [],
   "source": []
  }
 ]
}