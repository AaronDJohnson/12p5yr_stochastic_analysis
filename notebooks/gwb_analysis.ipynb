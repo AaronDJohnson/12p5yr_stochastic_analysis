{
 "cells": [
  {
   "cell_type": "markdown",
   "metadata": {},
   "source": [
    "# Using enterprise to analyze PTA data\n",
    "\n",
    "In this notebook you will learn:\n",
    "* How to use `enterprise` to interact with PTA data,\n",
    "* How to search in PTA data for GWs,\n",
    "* How to perform Bayesian model selection,\n",
    "* How to post-process your results.\n",
    "\n",
    "If you are interested in working through this notebook, but do not want to install the software, we have prepared a related Google Colab notebook: https://colab.research.google.com/drive/1-ya9wNbDP1wEHN-SX1LWzUdITgtyc020?usp=sharing\n",
    "\n",
    "By copying this notebook, you can install the software to your own Google Colab account and run the software without installation on your computer.\n",
    "\n",
    "**Warning**: Sampling in this notebook is computationally intensive. It will take hours to sample properly. We have tried to cut it down somewhat while also leaving robust results that are indicative of what is actually done with a real analysis."
   ]
  },
  {
   "cell_type": "markdown",
   "metadata": {},
   "source": [
    "# Load modules"
   ]
  },
  {
   "cell_type": "code",
   "execution_count": 1,
   "metadata": {
    "ExecuteTime": {
     "end_time": "2018-05-15T21:48:39.150382Z",
     "start_time": "2018-05-15T21:48:39.094542Z"
    }
   },
   "outputs": [],
   "source": [
    "from __future__ import division\n",
    "\n",
    "%matplotlib inline\n",
    "%config InlineBackend.figure_format = 'retina'\n",
    "%load_ext autoreload\n",
    "%autoreload 2\n",
    "\n",
    "import os, glob, json, pickle\n",
    "import matplotlib.pyplot as plt\n",
    "import numpy as np\n",
    "import scipy.linalg as sl\n",
    "\n",
    "import enterprise\n",
    "from enterprise.pulsar import Pulsar\n",
    "import enterprise.signals.parameter as parameter\n",
    "from enterprise.signals import utils\n",
    "from enterprise.signals import signal_base\n",
    "from enterprise.signals import selections\n",
    "from enterprise.signals.selections import Selection\n",
    "from enterprise.signals import white_signals\n",
    "from enterprise.signals import gp_signals\n",
    "from enterprise.signals import deterministic_signals\n",
    "import enterprise.constants as const\n",
    "\n",
    "import corner\n",
    "from PTMCMCSampler.PTMCMCSampler import PTSampler as ptmcmc"
   ]
  },
  {
   "cell_type": "markdown",
   "metadata": {},
   "source": [
    "## Get par, tim, and noise files (this is not the preferred method when we have supplied pickled enterprise Pulsar files; see below)\n",
    "Here we collect the tim and par files. "
   ]
  },
  {
   "cell_type": "code",
   "execution_count": 2,
   "metadata": {
    "ExecuteTime": {
     "end_time": "2018-05-15T21:48:42.658570Z",
     "start_time": "2018-05-15T21:48:42.631742Z"
    }
   },
   "outputs": [],
   "source": [
    "psrlist = None # define a list of pulsar name strings that can be used to filter."
   ]
  },
  {
   "cell_type": "code",
   "execution_count": 3,
   "metadata": {},
   "outputs": [
    {
     "output_type": "stream",
     "name": "stdout",
     "text": [
      "/Users/aaronjohnson/Documents/GitHub/12p5yr_stochastic_analysis/data\n"
     ]
    }
   ],
   "source": [
    "# some pathing to get to the data folder (this won't work if you change the parent folder name)\n",
    "foldername = os.path.basename(os.getcwd())\n",
    "if foldername != '12p5yr_stochastic_analysis':\n",
    "    os.chdir(os.path.pardir)\n",
    "datadir = os.path.join(os.getcwd(), 'data') # set your data directory\n",
    "print(datadir)"
   ]
  },
  {
   "cell_type": "code",
   "execution_count": 4,
   "metadata": {
    "ExecuteTime": {
     "end_time": "2018-05-15T21:48:43.043752Z",
     "start_time": "2018-05-15T21:48:43.007076Z"
    }
   },
   "outputs": [],
   "source": [
    "# for the entire pta\n",
    "parfiles = sorted(glob.glob(os.path.join(os.path.join(datadir, 'par'), '*par')))\n",
    "timfiles = sorted(glob.glob(os.path.join(os.path.join(datadir, 'tim'), '*tim')))\n",
    "\n",
    "# filter\n",
    "if psrlist is not None:\n",
    "    parfiles = [x for x in parfiles if x.split('/')[-1].split('.')[0] in psrlist]\n",
    "    timfiles = [x for x in timfiles if x.split('/')[-1].split('.')[0] in psrlist]\n",
    "\n",
    "# Make sure you use the tempo2 parfile for J1713+0747!!\n",
    "# ...filtering out the tempo parfile... \n",
    "parfiles = [x for x in parfiles if 'J1713+0747_NANOGrav_12yv3.gls.par' not in x]"
   ]
  },
  {
   "cell_type": "markdown",
   "metadata": {},
   "source": [
    "## Load into Pulsar class list"
   ]
  },
  {
   "cell_type": "markdown",
   "metadata": {},
   "source": [
    "* The `enterprise` Pulsar class uses `libstempo` to read in `par` and `tim` files, then stores all pulsar data into a `Pulsar` object. This object contains all data and meta-data needed for the ensuing pulsar and PTA analysis. You no longer to reference the `par` and `tim` files after this cell.\n",
    "* Note below that you can explicitly declare which version of the JPL solar-system ephemeris model that will be used to compute the Roemer delay between the geocenter and the barycenter (e.g. `DE438`). Otherwise the default values will be taken from the `par` files. Explicitly declaring the version here is good practice.\n",
    "* You can also explicitly set the clock file to a version of `BIPM`, e.g. `BIPM(2018)`. This is less important, and you can let the code take the value from the `par` file.\n",
    "* When you execute the following cell, you will get warnings like `WARNING: Could not find pulsar distance for PSR ...`. Don't worry! This is expected, and fine. Not all pulsars have well constrained distances, and will be set to `1 kpc` with a `20%` uncertainty."
   ]
  },
  {
   "cell_type": "markdown",
   "metadata": {},
   "source": [
    "### Read par and tim files into enterprise Pulsar objects"
   ]
  },
  {
   "cell_type": "code",
   "execution_count": 5,
   "metadata": {
    "ExecuteTime": {
     "end_time": "2018-05-15T21:49:00.790991Z",
     "start_time": "2018-05-15T21:48:53.703630Z"
    }
   },
   "outputs": [
    {
     "output_type": "stream",
     "name": "stderr",
     "text": [
      "WARNING: enterprise.pulsar: WARNING: Could not find pulsar distance for PSR J0023+0923. Setting value to 1 with 20% uncertainty.\n",
      "WARNING: enterprise.pulsar: WARNING: Could not find pulsar distance for PSR J0340+4130. Setting value to 1 with 20% uncertainty.\n",
      "WARNING: enterprise.pulsar: WARNING: Could not find pulsar distance for PSR J0636+5128. Setting value to 1 with 20% uncertainty.\n",
      "WARNING: enterprise.pulsar: WARNING: Could not find pulsar distance for PSR J0645+5158. Setting value to 1 with 20% uncertainty.\n",
      "WARNING: enterprise.pulsar: WARNING: Could not find pulsar distance for PSR J0740+6620. Setting value to 1 with 20% uncertainty.\n",
      "WARNING: enterprise.pulsar: WARNING: Could not find pulsar distance for PSR J0931-1902. Setting value to 1 with 20% uncertainty.\n",
      "WARNING: enterprise.pulsar: WARNING: Could not find pulsar distance for PSR J1125+7819. Setting value to 1 with 20% uncertainty.\n",
      "WARNING: enterprise.pulsar: WARNING: Could not find pulsar distance for PSR J1453+1902. Setting value to 1 with 20% uncertainty.\n",
      "WARNING: enterprise.pulsar: WARNING: Could not find pulsar distance for PSR J1614-2230. Setting value to 1 with 20% uncertainty.\n",
      "WARNING: enterprise.pulsar: WARNING: Could not find pulsar distance for PSR J1738+0333. Setting value to 1 with 20% uncertainty.\n",
      "WARNING: enterprise.pulsar: WARNING: Could not find pulsar distance for PSR J1741+1351. Setting value to 1 with 20% uncertainty.\n",
      "WARNING: enterprise.pulsar: WARNING: Could not find pulsar distance for PSR J1747-4036. Setting value to 1 with 20% uncertainty.\n",
      "WARNING: enterprise.pulsar: WARNING: Could not find pulsar distance for PSR J1832-0836. Setting value to 1 with 20% uncertainty.\n",
      "WARNING: enterprise.pulsar: WARNING: Could not find pulsar distance for PSR J1853+1303. Setting value to 1 with 20% uncertainty.\n",
      "WARNING: enterprise.pulsar: WARNING: Could not find pulsar distance for PSR J1903+0327. Setting value to 1 with 20% uncertainty.\n",
      "WARNING: enterprise.pulsar: WARNING: Could not find pulsar distance for PSR J1911+1347. Setting value to 1 with 20% uncertainty.\n",
      "WARNING: enterprise.pulsar: WARNING: Could not find pulsar distance for PSR J1923+2515. Setting value to 1 with 20% uncertainty.\n",
      "WARNING: enterprise.pulsar: WARNING: Could not find pulsar distance for PSR J1944+0907. Setting value to 1 with 20% uncertainty.\n",
      "WARNING: enterprise.pulsar: WARNING: Could not find pulsar distance for PSR J1946+3417. Setting value to 1 with 20% uncertainty.\n",
      "WARNING: enterprise.pulsar: WARNING: Could not find pulsar distance for PSR J2010-1323. Setting value to 1 with 20% uncertainty.\n",
      "WARNING: enterprise.pulsar: WARNING: Could not find pulsar distance for PSR J2017+0603. Setting value to 1 with 20% uncertainty.\n",
      "WARNING: enterprise.pulsar: WARNING: Could not find pulsar distance for PSR J2033+1734. Setting value to 1 with 20% uncertainty.\n",
      "WARNING: enterprise.pulsar: WARNING: Could not find pulsar distance for PSR J2043+1711. Setting value to 1 with 20% uncertainty.\n",
      "WARNING: enterprise.pulsar: WARNING: Could not find pulsar distance for PSR J2214+3000. Setting value to 1 with 20% uncertainty.\n",
      "WARNING: enterprise.pulsar: WARNING: Could not find pulsar distance for PSR J2229+2643. Setting value to 1 with 20% uncertainty.\n",
      "WARNING: enterprise.pulsar: WARNING: Could not find pulsar distance for PSR J2234+0611. Setting value to 1 with 20% uncertainty.\n",
      "WARNING: enterprise.pulsar: WARNING: Could not find pulsar distance for PSR J2234+0944. Setting value to 1 with 20% uncertainty.\n",
      "WARNING: enterprise.pulsar: WARNING: Could not find pulsar distance for PSR J2302+4442. Setting value to 1 with 20% uncertainty.\n",
      "WARNING: enterprise.pulsar: WARNING: Could not find pulsar distance for PSR J2322+2057. Setting value to 1 with 20% uncertainty.\n"
     ]
    }
   ],
   "source": [
    "psrs = []\n",
    "ephemeris = 'DE438'\n",
    "for p, t in zip(parfiles, timfiles):\n",
    "    psrname = parfiles[0].split('/')[-1].split('_')[0]\n",
    "    psr = Pulsar(p, t, ephem=ephemeris)\n",
    "    psrs.append(psr)"
   ]
  },
  {
   "cell_type": "markdown",
   "metadata": {},
   "source": [
    "* We can read-in some previously computed noise properties from single-pulsar analyses. These are things like `EFAC`, `EQUAD`, and (for `NANOGrav`) `ECORR`. \n",
    "* In practice, we set these white-noise properties as fixed in the low-frequency noise / GW searches.\n",
    "* The noise properties have been stored as `json` files, and are read in to a big parameter dictionary."
   ]
  },
  {
   "cell_type": "code",
   "execution_count": 6,
   "metadata": {},
   "outputs": [],
   "source": [
    "## Get parameter noise dictionary\n",
    "noise_ng12 = os.path.join(datadir, 'channelized_12p5yr_v3_full_noisedict.json')\n",
    "\n",
    "params = {}\n",
    "with open(noise_ng12, 'r') as fp:\n",
    "    params.update(json.load(fp))"
   ]
  },
  {
   "cell_type": "markdown",
   "metadata": {},
   "source": [
    "# PTA Parameter Estimation"
   ]
  },
  {
   "cell_type": "markdown",
   "metadata": {},
   "source": [
    "## Set up `enterprise` model for PTA upper-limit (*verbose version*)"
   ]
  },
  {
   "cell_type": "markdown",
   "metadata": {},
   "source": [
    "* Usually, in a full PTA analysis we fix all of the white noise (EFAC, EQUAD, and ECORR) parameters to the values obtained from the noise files. This is done by using `Constant` parameters. In this case we do not specify a default value for all instances of that parameter but instead will set them, based on their initialized pulsar and backend specific name, later via the `set_default_params` method of `PTA`. \n",
    "\n",
    "* We use the `Selection` object to define which noise parameters are assigned to which chunks of TOAs. This selection is based on unique combination of backends and receivers."
   ]
  },
  {
   "cell_type": "markdown",
   "metadata": {
    "ExecuteTime": {
     "end_time": "2018-05-11T16:39:50.133639Z",
     "start_time": "2018-05-11T16:39:50.102972Z"
    }
   },
   "source": [
    "* Another feature to notice is that **for upper limits** we do not use a uniform prior on the log of the red-noise or GWB amplitude. Instead we use a `LinearExp` prior (short for linear-exponent prior), that is a prior of the form $p(x)\\propto 10^x$. This is how we can still use the log of the parameter to sample but place a uniform prior on the parameter itself. We do this for both the red noise and GWB amplitude parameters. **For detection analyses** we still use a `Uniform` prior on the log of the GWB amplitude. \n",
    "\n",
    "* In order to save on computing time we do not include spatial correlations here. Instead we model the GWB as a common red process across all pulsars. In `enterprise` we can do this with a simple trick. We pre-initialize the parameters before passing them to the `Signal` model. In this way the *same* parameter instance is used for all pulsars. Lastly, we fix the spectral index of the GWB to be 13/3 (4.33) using the `Constant` parameter."
   ]
  },
  {
   "source": [
    "* The requirement for a pulsar to be used in the NANOGrav dataset is that the pulsar has at least three years of data. For the sake of saving some time, we will increase that limit to 6 years (cutting the number of pulsars in half). This will give us a good idea of what the process looks like, while also reducing the computation time."
   ],
   "cell_type": "markdown",
   "metadata": {}
  },
  {
   "cell_type": "code",
   "execution_count": 7,
   "metadata": {},
   "outputs": [
    {
     "output_type": "stream",
     "name": "stdout",
     "text": [
      "23 pulsars\n"
     ]
    }
   ],
   "source": [
    "YR_SEC = 525600 * 60  # number of seconds in a year\n",
    "YRS = 6  # number of years to cutoff the data at\n",
    "\n",
    "# cut pulsars < X years:\n",
    "new_psrs = []\n",
    "for p in psrs:\n",
    "    delta_t = p.toas.max() - p.toas.min()\n",
    "    delta_t_yrs = delta_t / YR_SEC\n",
    "    if delta_t_yrs > YRS:\n",
    "        new_psrs.append(p)\n",
    "        # print(p.name)\n",
    "psrs = new_psrs\n",
    "print(len(psrs), 'pulsars')"
   ]
  },
  {
   "cell_type": "code",
   "execution_count": 8,
   "metadata": {
    "ExecuteTime": {
     "end_time": "2018-05-15T21:49:45.238037Z",
     "start_time": "2018-05-15T21:49:45.209705Z"
    }
   },
   "outputs": [],
   "source": [
    "# find the maximum time span to set GW frequency sampling\n",
    "tmin = [p.toas.min() for p in psrs]\n",
    "tmax = [p.toas.max() for p in psrs]\n",
    "Tspan = np.max(tmax) - np.min(tmin)"
   ]
  },
  {
   "cell_type": "code",
   "execution_count": 9,
   "metadata": {
    "ExecuteTime": {
     "end_time": "2018-05-15T21:49:48.496954Z",
     "start_time": "2018-05-15T21:49:48.470085Z"
    }
   },
   "outputs": [],
   "source": [
    "# define selection by observing backend\n",
    "selection = selections.Selection(selections.by_backend)"
   ]
  },
  {
   "cell_type": "markdown",
   "metadata": {},
   "source": [
    "### Parameters"
   ]
  },
  {
   "cell_type": "code",
   "execution_count": 10,
   "metadata": {
    "ExecuteTime": {
     "end_time": "2018-05-15T21:49:50.042751Z",
     "start_time": "2018-05-15T21:49:50.005677Z"
    }
   },
   "outputs": [],
   "source": [
    "# white noise parameters\n",
    "efac = parameter.Constant() \n",
    "equad = parameter.Constant() \n",
    "ecorr = parameter.Constant() # we'll set these later with the params dictionary\n",
    "\n",
    "# red noise parameters\n",
    "log10_A = parameter.LinearExp(-20, -11)\n",
    "gamma = parameter.Uniform(0, 7)\n",
    "\n",
    "# dm-variation parameters\n",
    "log10_A_dm = parameter.LinearExp(-20, -11)\n",
    "gamma_dm = parameter.Uniform(0, 7)\n",
    "\n",
    "# GW parameters (initialize with names here to use parameters in common across pulsars)\n",
    "log10_A_gw = parameter.LinearExp(-18,-12)('log10_A_gw')\n",
    "gamma_gw = parameter.Constant(4.33)('gamma_gw')"
   ]
  },
  {
   "cell_type": "markdown",
   "metadata": {
    "ExecuteTime": {
     "end_time": "2018-05-11T16:44:44.713491Z",
     "start_time": "2018-05-11T16:44:44.685587Z"
    }
   },
   "source": [
    "### Signals"
   ]
  },
  {
   "cell_type": "code",
   "execution_count": 11,
   "metadata": {
    "ExecuteTime": {
     "end_time": "2018-05-15T21:49:51.557605Z",
     "start_time": "2018-05-15T21:49:51.499006Z"
    }
   },
   "outputs": [],
   "source": [
    "# white noise\n",
    "ef = white_signals.MeasurementNoise(efac=efac, selection=selection)\n",
    "eq = white_signals.EquadNoise(log10_equad=equad, selection=selection)\n",
    "ec = white_signals.EcorrKernelNoise(log10_ecorr=ecorr, selection=selection)\n",
    "\n",
    "# red noise (powerlaw with 30 frequencies)\n",
    "pl = utils.powerlaw(log10_A=log10_A, gamma=gamma)\n",
    "rn = gp_signals.FourierBasisGP(spectrum=pl, components=30, Tspan=Tspan)\n",
    "\n",
    "# gwb (no spatial correlations)\n",
    "cpl = utils.powerlaw(log10_A=log10_A_gw, gamma=gamma_gw)\n",
    "gw = gp_signals.FourierBasisGP(spectrum=cpl, components=30, Tspan=Tspan, name='gw')\n",
    "\n",
    "# for spatial correltions you can do...\n",
    "#orf = utils.hd_orf()\n",
    "#crn = gp_signals.FourierBasisCommonGP(cpl, orf, components=30, Tspan=Tspan, name='gw')\n",
    "\n",
    "# to add solar system ephemeris modeling...\n",
    "bayesephem=False\n",
    "if bayesephem:\n",
    "    eph = deterministic_signals.PhysicalEphemerisSignal(use_epoch_toas=True)\n",
    "\n",
    "# timing model\n",
    "tm = gp_signals.TimingModel(use_svd=True)"
   ]
  },
  {
   "cell_type": "code",
   "execution_count": 12,
   "metadata": {
    "ExecuteTime": {
     "end_time": "2018-05-15T21:49:52.662732Z",
     "start_time": "2018-05-15T21:49:52.638142Z"
    }
   },
   "outputs": [],
   "source": [
    "# full model\n",
    "if bayesephem:\n",
    "    s = ef + eq + ec + rn + tm + eph + gw\n",
    "else:\n",
    "    s = ef + eq + ec + rn + tm + gw"
   ]
  },
  {
   "cell_type": "code",
   "execution_count": 13,
   "metadata": {
    "ExecuteTime": {
     "end_time": "2018-05-15T21:49:55.063952Z",
     "start_time": "2018-05-15T21:49:53.602147Z"
    }
   },
   "outputs": [],
   "source": [
    "# intialize PTA\n",
    "models = []\n",
    "        \n",
    "for p in psrs:    \n",
    "    models.append(s(p))\n",
    "    \n",
    "pta = signal_base.PTA(models)"
   ]
  },
  {
   "cell_type": "code",
   "execution_count": 14,
   "metadata": {
    "ExecuteTime": {
     "end_time": "2018-05-15T21:49:56.940424Z",
     "start_time": "2018-05-15T21:49:56.910938Z"
    }
   },
   "outputs": [
    {
     "output_type": "stream",
     "name": "stdout",
     "text": [
      "47\n"
     ]
    }
   ],
   "source": [
    "print(len(pta.params))"
   ]
  },
  {
   "cell_type": "markdown",
   "metadata": {},
   "source": [
    "### Set white noise parameters"
   ]
  },
  {
   "cell_type": "code",
   "execution_count": 15,
   "metadata": {
    "ExecuteTime": {
     "end_time": "2018-05-15T21:50:00.319108Z",
     "start_time": "2018-05-15T21:50:00.244934Z"
    },
    "scrolled": true,
    "tags": []
   },
   "outputs": [
    {
     "output_type": "stream",
     "name": "stderr",
     "text": [
      "INFO: enterprise.signals.signal_base: Setting B1855+09_430_ASP_efac to 1.149036589204419\n",
      "INFO: enterprise.signals.signal_base: Setting B1855+09_430_PUPPI_efac to 1.0543836580555548\n",
      "INFO: enterprise.signals.signal_base: Setting B1855+09_L-wide_ASP_efac to 1.080749375878354\n",
      "INFO: enterprise.signals.signal_base: Setting B1855+09_L-wide_PUPPI_efac to 1.2429537099744354\n",
      "INFO: enterprise.signals.signal_base: Setting B1855+09_430_ASP_log10_equad to -7.379759355541006\n",
      "INFO: enterprise.signals.signal_base: Setting B1855+09_430_PUPPI_log10_equad to -6.348065001180634\n",
      "INFO: enterprise.signals.signal_base: Setting B1855+09_L-wide_ASP_log10_equad to -6.51289896375955\n",
      "INFO: enterprise.signals.signal_base: Setting B1855+09_L-wide_PUPPI_log10_equad to -7.821737281350602\n",
      "INFO: enterprise.signals.signal_base: Setting B1855+09_430_ASP_log10_ecorr to -7.415374510054153\n",
      "INFO: enterprise.signals.signal_base: Setting B1855+09_430_PUPPI_log10_ecorr to -5.671108063699219\n",
      "INFO: enterprise.signals.signal_base: Setting B1855+09_L-wide_ASP_log10_ecorr to -6.092899143243734\n",
      "INFO: enterprise.signals.signal_base: Setting B1855+09_L-wide_PUPPI_log10_ecorr to -6.641281263572077\n",
      "INFO: enterprise.signals.signal_base: Setting B1937+21_L-wide_ASP_efac to 2.048754020884262\n",
      "INFO: enterprise.signals.signal_base: Setting B1937+21_L-wide_PUPPI_efac to 2.12041666470792\n",
      "INFO: enterprise.signals.signal_base: Setting B1937+21_Rcvr1_2_GASP_efac to 1.1708200812403644\n",
      "INFO: enterprise.signals.signal_base: Setting B1937+21_Rcvr1_2_GUPPI_efac to 1.4415081390299156\n",
      "INFO: enterprise.signals.signal_base: Setting B1937+21_Rcvr_800_GASP_efac to 2.1333453783210095\n",
      "INFO: enterprise.signals.signal_base: Setting B1937+21_Rcvr_800_GUPPI_efac to 4.219838621260683\n",
      "INFO: enterprise.signals.signal_base: Setting B1937+21_S-wide_ASP_efac to 1.5159731379775645\n",
      "INFO: enterprise.signals.signal_base: Setting B1937+21_S-wide_PUPPI_efac to 1.2470571693911434\n",
      "INFO: enterprise.signals.signal_base: Setting B1937+21_L-wide_ASP_log10_equad to -6.785369742733748\n",
      "INFO: enterprise.signals.signal_base: Setting B1937+21_L-wide_PUPPI_log10_equad to -7.147037241326325\n",
      "INFO: enterprise.signals.signal_base: Setting B1937+21_Rcvr1_2_GASP_log10_equad to -7.028404298685201\n",
      "INFO: enterprise.signals.signal_base: Setting B1937+21_Rcvr1_2_GUPPI_log10_equad to -7.139419197676975\n",
      "INFO: enterprise.signals.signal_base: Setting B1937+21_Rcvr_800_GASP_log10_equad to -6.669528646515994\n",
      "INFO: enterprise.signals.signal_base: Setting B1937+21_Rcvr_800_GUPPI_log10_equad to -6.603208890098822\n",
      "INFO: enterprise.signals.signal_base: Setting B1937+21_S-wide_ASP_log10_equad to -6.781862531120971\n",
      "INFO: enterprise.signals.signal_base: Setting B1937+21_S-wide_PUPPI_log10_equad to -7.011196636087005\n",
      "INFO: enterprise.signals.signal_base: Setting B1937+21_L-wide_ASP_log10_ecorr to -6.940958996081342\n",
      "INFO: enterprise.signals.signal_base: Setting B1937+21_L-wide_PUPPI_log10_ecorr to -7.037572450266321\n",
      "INFO: enterprise.signals.signal_base: Setting B1937+21_Rcvr1_2_GASP_log10_ecorr to -6.9573181220861695\n",
      "INFO: enterprise.signals.signal_base: Setting B1937+21_Rcvr1_2_GUPPI_log10_ecorr to -6.873056983920257\n",
      "INFO: enterprise.signals.signal_base: Setting B1937+21_Rcvr_800_GASP_log10_ecorr to -8.024096164984243\n",
      "INFO: enterprise.signals.signal_base: Setting B1937+21_Rcvr_800_GUPPI_log10_ecorr to -6.441588828662218\n",
      "INFO: enterprise.signals.signal_base: Setting B1937+21_S-wide_ASP_log10_ecorr to -6.55920330997421\n",
      "INFO: enterprise.signals.signal_base: Setting B1937+21_S-wide_PUPPI_log10_ecorr to -6.867655505641185\n",
      "INFO: enterprise.signals.signal_base: Setting J0030+0451_430_ASP_efac to 1.178988376393598\n",
      "INFO: enterprise.signals.signal_base: Setting J0030+0451_430_PUPPI_efac to 1.0168220759726072\n",
      "INFO: enterprise.signals.signal_base: Setting J0030+0451_L-wide_ASP_efac to 1.1594082526710712\n",
      "INFO: enterprise.signals.signal_base: Setting J0030+0451_L-wide_PUPPI_efac to 1.1157243178133207\n",
      "INFO: enterprise.signals.signal_base: Setting J0030+0451_S-wide_PUPPI_efac to 0.991497940413971\n",
      "INFO: enterprise.signals.signal_base: Setting J0030+0451_430_ASP_log10_equad to -7.60151264056324\n",
      "INFO: enterprise.signals.signal_base: Setting J0030+0451_430_PUPPI_log10_equad to -7.8144222164663235\n",
      "INFO: enterprise.signals.signal_base: Setting J0030+0451_L-wide_ASP_log10_equad to -7.526120409087749\n",
      "INFO: enterprise.signals.signal_base: Setting J0030+0451_L-wide_PUPPI_log10_equad to -7.687444375922908\n",
      "INFO: enterprise.signals.signal_base: Setting J0030+0451_S-wide_PUPPI_log10_equad to -7.396119136419303\n",
      "INFO: enterprise.signals.signal_base: Setting J0030+0451_430_ASP_log10_ecorr to -7.637597883725108\n",
      "INFO: enterprise.signals.signal_base: Setting J0030+0451_430_PUPPI_log10_ecorr to -7.458377805782614\n",
      "INFO: enterprise.signals.signal_base: Setting J0030+0451_L-wide_ASP_log10_ecorr to -7.652790501212441\n",
      "INFO: enterprise.signals.signal_base: Setting J0030+0451_L-wide_PUPPI_log10_ecorr to -7.712152616003756\n",
      "INFO: enterprise.signals.signal_base: Setting J0030+0451_S-wide_PUPPI_log10_ecorr to -7.4855687647637446\n",
      "INFO: enterprise.signals.signal_base: Setting J0613-0200_Rcvr1_2_GASP_efac to 1.0670783724500694\n",
      "INFO: enterprise.signals.signal_base: Setting J0613-0200_Rcvr1_2_GUPPI_efac to 1.0430747567523209\n",
      "INFO: enterprise.signals.signal_base: Setting J0613-0200_Rcvr_800_GASP_efac to 1.0914149510171187\n",
      "INFO: enterprise.signals.signal_base: Setting J0613-0200_Rcvr_800_GUPPI_efac to 1.1066698572535434\n",
      "INFO: enterprise.signals.signal_base: Setting J0613-0200_Rcvr1_2_GASP_log10_equad to -7.5596546617250215\n",
      "INFO: enterprise.signals.signal_base: Setting J0613-0200_Rcvr1_2_GUPPI_log10_equad to -7.616764039524012\n",
      "INFO: enterprise.signals.signal_base: Setting J0613-0200_Rcvr_800_GASP_log10_equad to -7.6069868785882795\n",
      "INFO: enterprise.signals.signal_base: Setting J0613-0200_Rcvr_800_GUPPI_log10_equad to -6.650927606600988\n",
      "INFO: enterprise.signals.signal_base: Setting J0613-0200_Rcvr1_2_GASP_log10_ecorr to -7.518791621441214\n",
      "INFO: enterprise.signals.signal_base: Setting J0613-0200_Rcvr1_2_GUPPI_log10_ecorr to -6.783106192555926\n",
      "INFO: enterprise.signals.signal_base: Setting J0613-0200_Rcvr_800_GASP_log10_ecorr to -7.737621417529334\n",
      "INFO: enterprise.signals.signal_base: Setting J0613-0200_Rcvr_800_GUPPI_log10_ecorr to -6.785665911883737\n",
      "INFO: enterprise.signals.signal_base: Setting J0645+5158_Rcvr1_2_GUPPI_efac to 1.0435585167422876\n",
      "INFO: enterprise.signals.signal_base: Setting J0645+5158_Rcvr_800_GUPPI_efac to 0.978554109695437\n",
      "INFO: enterprise.signals.signal_base: Setting J0645+5158_Rcvr1_2_GUPPI_log10_equad to -7.513289178616864\n",
      "INFO: enterprise.signals.signal_base: Setting J0645+5158_Rcvr_800_GUPPI_log10_equad to -7.062675708760795\n",
      "INFO: enterprise.signals.signal_base: Setting J0645+5158_Rcvr1_2_GUPPI_log10_ecorr to -7.469787739972568\n",
      "INFO: enterprise.signals.signal_base: Setting J0645+5158_Rcvr_800_GUPPI_log10_ecorr to -7.21903125633763\n",
      "INFO: enterprise.signals.signal_base: Setting J1012+5307_Rcvr1_2_GASP_efac to 1.0591690736069472\n",
      "INFO: enterprise.signals.signal_base: Setting J1012+5307_Rcvr1_2_GUPPI_efac to 1.0062638587421908\n",
      "INFO: enterprise.signals.signal_base: Setting J1012+5307_Rcvr_800_GASP_efac to 1.134064401904284\n",
      "INFO: enterprise.signals.signal_base: Setting J1012+5307_Rcvr_800_GUPPI_efac to 1.062753909375921\n",
      "INFO: enterprise.signals.signal_base: Setting J1012+5307_Rcvr1_2_GASP_log10_equad to -7.337569048606985\n",
      "INFO: enterprise.signals.signal_base: Setting J1012+5307_Rcvr1_2_GUPPI_log10_equad to -7.777675843382624\n",
      "INFO: enterprise.signals.signal_base: Setting J1012+5307_Rcvr_800_GASP_log10_equad to -7.335838608622016\n",
      "INFO: enterprise.signals.signal_base: Setting J1012+5307_Rcvr_800_GUPPI_log10_equad to -6.506908723632507\n",
      "INFO: enterprise.signals.signal_base: Setting J1012+5307_Rcvr1_2_GASP_log10_ecorr to -6.520878820970742\n",
      "INFO: enterprise.signals.signal_base: Setting J1012+5307_Rcvr1_2_GUPPI_log10_ecorr to -6.39401084619692\n",
      "INFO: enterprise.signals.signal_base: Setting J1012+5307_Rcvr_800_GASP_log10_ecorr to -7.672411945457032\n",
      "INFO: enterprise.signals.signal_base: Setting J1012+5307_Rcvr_800_GUPPI_log10_ecorr to -7.741968522547623\n",
      "INFO: enterprise.signals.signal_base: Setting J1024-0719_Rcvr1_2_GASP_efac to 0.910756763515209\n",
      "INFO: enterprise.signals.signal_base: Setting J1024-0719_Rcvr1_2_GUPPI_efac to 1.0291119595206812\n",
      "INFO: enterprise.signals.signal_base: Setting J1024-0719_Rcvr_800_GASP_efac to 0.9894501502567977\n",
      "INFO: enterprise.signals.signal_base: Setting J1024-0719_Rcvr_800_GUPPI_efac to 1.0271589257321567\n",
      "INFO: enterprise.signals.signal_base: Setting J1024-0719_Rcvr1_2_GASP_log10_equad to -6.739263270711485\n",
      "INFO: enterprise.signals.signal_base: Setting J1024-0719_Rcvr1_2_GUPPI_log10_equad to -7.7609576526780275\n",
      "INFO: enterprise.signals.signal_base: Setting J1024-0719_Rcvr_800_GASP_log10_equad to -7.194552724916308\n",
      "INFO: enterprise.signals.signal_base: Setting J1024-0719_Rcvr_800_GUPPI_log10_equad to -7.836287384896643\n",
      "INFO: enterprise.signals.signal_base: Setting J1024-0719_Rcvr1_2_GASP_log10_ecorr to -7.131954410884169\n",
      "INFO: enterprise.signals.signal_base: Setting J1024-0719_Rcvr1_2_GUPPI_log10_ecorr to -6.700450821263385\n",
      "INFO: enterprise.signals.signal_base: Setting J1024-0719_Rcvr_800_GASP_log10_ecorr to -7.066941892042146\n",
      "INFO: enterprise.signals.signal_base: Setting J1024-0719_Rcvr_800_GUPPI_log10_ecorr to -7.348793203212565\n",
      "INFO: enterprise.signals.signal_base: Setting J1455-3330_Rcvr1_2_GASP_efac to 1.1400870761562596\n",
      "INFO: enterprise.signals.signal_base: Setting J1455-3330_Rcvr1_2_GUPPI_efac to 1.082303099576083\n",
      "INFO: enterprise.signals.signal_base: Setting J1455-3330_Rcvr_800_GASP_efac to 1.2328191470185799\n",
      "INFO: enterprise.signals.signal_base: Setting J1455-3330_Rcvr_800_GUPPI_efac to 1.0054353177825495\n",
      "INFO: enterprise.signals.signal_base: Setting J1455-3330_Rcvr1_2_GASP_log10_equad to -7.192520761470676\n",
      "INFO: enterprise.signals.signal_base: Setting J1455-3330_Rcvr1_2_GUPPI_log10_equad to -7.524353545826194\n",
      "INFO: enterprise.signals.signal_base: Setting J1455-3330_Rcvr_800_GASP_log10_equad to -7.050869987259775\n",
      "INFO: enterprise.signals.signal_base: Setting J1455-3330_Rcvr_800_GUPPI_log10_equad to -7.558835853872056\n",
      "INFO: enterprise.signals.signal_base: Setting J1455-3330_Rcvr1_2_GASP_log10_ecorr to -5.860332688998369\n",
      "INFO: enterprise.signals.signal_base: Setting J1455-3330_Rcvr1_2_GUPPI_log10_ecorr to -7.629255580321534\n",
      "INFO: enterprise.signals.signal_base: Setting J1455-3330_Rcvr_800_GASP_log10_ecorr to -7.085458304995403\n",
      "INFO: enterprise.signals.signal_base: Setting J1455-3330_Rcvr_800_GUPPI_log10_ecorr to -6.526567653068877\n",
      "INFO: enterprise.signals.signal_base: Setting J1600-3053_Rcvr1_2_GASP_efac to 1.134993789980654\n",
      "INFO: enterprise.signals.signal_base: Setting J1600-3053_Rcvr1_2_GUPPI_efac to 1.0521556985294778\n",
      "INFO: enterprise.signals.signal_base: Setting J1600-3053_Rcvr_800_GASP_efac to 1.1935927243559799\n",
      "INFO: enterprise.signals.signal_base: Setting J1600-3053_Rcvr_800_GUPPI_efac to 1.120996265055496\n",
      "INFO: enterprise.signals.signal_base: Setting J1600-3053_Rcvr1_2_GASP_log10_equad to -6.960586084616913\n",
      "INFO: enterprise.signals.signal_base: Setting J1600-3053_Rcvr1_2_GUPPI_log10_equad to -7.761043891506745\n",
      "INFO: enterprise.signals.signal_base: Setting J1600-3053_Rcvr_800_GASP_log10_equad to -7.311693997685966\n",
      "INFO: enterprise.signals.signal_base: Setting J1600-3053_Rcvr_800_GUPPI_log10_equad to -7.374528725467375\n",
      "INFO: enterprise.signals.signal_base: Setting J1600-3053_Rcvr1_2_GASP_log10_ecorr to -7.134558712552095\n",
      "INFO: enterprise.signals.signal_base: Setting J1600-3053_Rcvr1_2_GUPPI_log10_ecorr to -6.899208552923536\n",
      "INFO: enterprise.signals.signal_base: Setting J1600-3053_Rcvr_800_GASP_log10_ecorr to -7.407293847566683\n",
      "INFO: enterprise.signals.signal_base: Setting J1600-3053_Rcvr_800_GUPPI_log10_ecorr to -6.288542964735563\n",
      "INFO: enterprise.signals.signal_base: Setting J1614-2230_Rcvr1_2_GASP_efac to 1.1369056644435913\n",
      "INFO: enterprise.signals.signal_base: Setting J1614-2230_Rcvr1_2_GUPPI_efac to 1.0636501302858106\n",
      "INFO: enterprise.signals.signal_base: Setting J1614-2230_Rcvr_800_GASP_efac to 0.9178765720365575\n",
      "INFO: enterprise.signals.signal_base: Setting J1614-2230_Rcvr_800_GUPPI_efac to 1.0115241685032286\n",
      "INFO: enterprise.signals.signal_base: Setting J1614-2230_Rcvr1_2_GASP_log10_equad to -7.32067533880299\n",
      "INFO: enterprise.signals.signal_base: Setting J1614-2230_Rcvr1_2_GUPPI_log10_equad to -7.784678758801305\n",
      "INFO: enterprise.signals.signal_base: Setting J1614-2230_Rcvr_800_GASP_log10_equad to -7.2577825388006305\n",
      "INFO: enterprise.signals.signal_base: Setting J1614-2230_Rcvr_800_GUPPI_log10_equad to -7.627864180562532\n",
      "INFO: enterprise.signals.signal_base: Setting J1614-2230_Rcvr1_2_GASP_log10_ecorr to -7.448625358285439\n",
      "INFO: enterprise.signals.signal_base: Setting J1614-2230_Rcvr1_2_GUPPI_log10_ecorr to -7.655859629011535\n",
      "INFO: enterprise.signals.signal_base: Setting J1614-2230_Rcvr_800_GASP_log10_ecorr to -7.299611199085039\n",
      "INFO: enterprise.signals.signal_base: Setting J1614-2230_Rcvr_800_GUPPI_log10_ecorr to -7.4080289590963355\n",
      "INFO: enterprise.signals.signal_base: Setting J1640+2224_430_ASP_efac to 1.143081359459332\n",
      "INFO: enterprise.signals.signal_base: Setting J1640+2224_430_PUPPI_efac to 1.0573767076899483\n",
      "INFO: enterprise.signals.signal_base: Setting J1640+2224_L-wide_ASP_efac to 1.06394287552814\n",
      "INFO: enterprise.signals.signal_base: Setting J1640+2224_L-wide_PUPPI_efac to 1.1457585235526273\n",
      "INFO: enterprise.signals.signal_base: Setting J1640+2224_430_ASP_log10_equad to -6.240784825369144\n",
      "INFO: enterprise.signals.signal_base: Setting J1640+2224_430_PUPPI_log10_equad to -6.9445789284154085\n",
      "INFO: enterprise.signals.signal_base: Setting J1640+2224_L-wide_ASP_log10_equad to -7.649274979312211\n",
      "INFO: enterprise.signals.signal_base: Setting J1640+2224_L-wide_PUPPI_log10_equad to -8.075008065199082\n",
      "INFO: enterprise.signals.signal_base: Setting J1640+2224_430_ASP_log10_ecorr to -7.788811673814794\n",
      "INFO: enterprise.signals.signal_base: Setting J1640+2224_430_PUPPI_log10_ecorr to -6.901622491949263\n",
      "INFO: enterprise.signals.signal_base: Setting J1640+2224_L-wide_ASP_log10_ecorr to -6.275572665649051\n",
      "INFO: enterprise.signals.signal_base: Setting J1640+2224_L-wide_PUPPI_log10_ecorr to -6.4079933035010095\n",
      "INFO: enterprise.signals.signal_base: Setting J1643-1224_Rcvr1_2_GASP_efac to 1.0071858015273707\n",
      "INFO: enterprise.signals.signal_base: Setting J1643-1224_Rcvr1_2_GUPPI_efac to 1.1247022811624827\n",
      "INFO: enterprise.signals.signal_base: Setting J1643-1224_Rcvr_800_GASP_efac to 1.493816799359807\n",
      "INFO: enterprise.signals.signal_base: Setting J1643-1224_Rcvr_800_GUPPI_efac to 1.1921609687505945\n",
      "INFO: enterprise.signals.signal_base: Setting J1643-1224_Rcvr1_2_GASP_log10_equad to -7.277156122921472\n",
      "INFO: enterprise.signals.signal_base: Setting J1643-1224_Rcvr1_2_GUPPI_log10_equad to -7.138128067645691\n",
      "INFO: enterprise.signals.signal_base: Setting J1643-1224_Rcvr_800_GASP_log10_equad to -7.115627957850879\n",
      "INFO: enterprise.signals.signal_base: Setting J1643-1224_Rcvr_800_GUPPI_log10_equad to -5.9780473533853655\n",
      "INFO: enterprise.signals.signal_base: Setting J1643-1224_Rcvr1_2_GASP_log10_ecorr to -7.503311141343279\n",
      "INFO: enterprise.signals.signal_base: Setting J1643-1224_Rcvr1_2_GUPPI_log10_ecorr to -6.042898081068246\n",
      "INFO: enterprise.signals.signal_base: Setting J1643-1224_Rcvr_800_GASP_log10_ecorr to -6.822037374515338\n",
      "INFO: enterprise.signals.signal_base: Setting J1643-1224_Rcvr_800_GUPPI_log10_ecorr to -5.544475232494147\n",
      "INFO: enterprise.signals.signal_base: Setting J1713+0747_L-wide_ASP_efac to 1.0524302344416032\n",
      "INFO: enterprise.signals.signal_base: Setting J1713+0747_L-wide_PUPPI_efac to 0.9796026604137508\n",
      "INFO: enterprise.signals.signal_base: Setting J1713+0747_Rcvr1_2_GASP_efac to 1.084307149708116\n",
      "INFO: enterprise.signals.signal_base: Setting J1713+0747_Rcvr1_2_GUPPI_efac to 1.017213088587959\n",
      "INFO: enterprise.signals.signal_base: Setting J1713+0747_Rcvr_800_GASP_efac to 1.117529091199639\n",
      "INFO: enterprise.signals.signal_base: Setting J1713+0747_Rcvr_800_GUPPI_efac to 1.0500383710337968\n",
      "INFO: enterprise.signals.signal_base: Setting J1713+0747_S-wide_ASP_efac to 1.1139598766607257\n",
      "INFO: enterprise.signals.signal_base: Setting J1713+0747_S-wide_PUPPI_efac to 1.0889710082237398\n",
      "INFO: enterprise.signals.signal_base: Setting J1713+0747_L-wide_ASP_log10_equad to -7.58206720746206\n",
      "INFO: enterprise.signals.signal_base: Setting J1713+0747_L-wide_PUPPI_log10_equad to -8.377098873197399\n",
      "INFO: enterprise.signals.signal_base: Setting J1713+0747_Rcvr1_2_GASP_log10_equad to -7.423897862687164\n",
      "INFO: enterprise.signals.signal_base: Setting J1713+0747_Rcvr1_2_GUPPI_log10_equad to -8.357193830632392\n",
      "INFO: enterprise.signals.signal_base: Setting J1713+0747_Rcvr_800_GASP_log10_equad to -7.251839650442933\n",
      "INFO: enterprise.signals.signal_base: Setting J1713+0747_Rcvr_800_GUPPI_log10_equad to -7.614933520652966\n",
      "INFO: enterprise.signals.signal_base: Setting J1713+0747_S-wide_ASP_log10_equad to -8.027710747783962\n",
      "INFO: enterprise.signals.signal_base: Setting J1713+0747_S-wide_PUPPI_log10_equad to -8.186781270775445\n",
      "INFO: enterprise.signals.signal_base: Setting J1713+0747_L-wide_ASP_log10_ecorr to -7.029000061406403\n",
      "INFO: enterprise.signals.signal_base: Setting J1713+0747_L-wide_PUPPI_log10_ecorr to -7.142663306094692\n",
      "INFO: enterprise.signals.signal_base: Setting J1713+0747_Rcvr1_2_GASP_log10_ecorr to -7.299970815145262\n",
      "INFO: enterprise.signals.signal_base: Setting J1713+0747_Rcvr1_2_GUPPI_log10_ecorr to -7.131010248150742\n",
      "INFO: enterprise.signals.signal_base: Setting J1713+0747_Rcvr_800_GASP_log10_ecorr to -7.788837849013025\n",
      "INFO: enterprise.signals.signal_base: Setting J1713+0747_Rcvr_800_GUPPI_log10_ecorr to -6.730867845961182\n",
      "INFO: enterprise.signals.signal_base: Setting J1713+0747_S-wide_ASP_log10_ecorr to -6.876597410265874\n",
      "INFO: enterprise.signals.signal_base: Setting J1713+0747_S-wide_PUPPI_log10_ecorr to -7.305157969602163\n",
      "INFO: enterprise.signals.signal_base: Setting J1738+0333_L-wide_ASP_efac to 1.1479069042742471\n",
      "INFO: enterprise.signals.signal_base: Setting J1738+0333_L-wide_PUPPI_efac to 1.0710506604701162\n",
      "INFO: enterprise.signals.signal_base: Setting J1738+0333_S-wide_ASP_efac to 0.9465373677964157\n",
      "INFO: enterprise.signals.signal_base: Setting J1738+0333_S-wide_PUPPI_efac to 0.8845264245078953\n",
      "INFO: enterprise.signals.signal_base: Setting J1738+0333_L-wide_ASP_log10_equad to -7.579720669663646\n",
      "INFO: enterprise.signals.signal_base: Setting J1738+0333_L-wide_PUPPI_log10_equad to -7.886362963443982\n",
      "INFO: enterprise.signals.signal_base: Setting J1738+0333_S-wide_ASP_log10_equad to -7.565578005221636\n",
      "INFO: enterprise.signals.signal_base: Setting J1738+0333_S-wide_PUPPI_log10_equad to -7.767394128812992\n",
      "INFO: enterprise.signals.signal_base: Setting J1738+0333_L-wide_ASP_log10_ecorr to -7.060532309258772\n",
      "INFO: enterprise.signals.signal_base: Setting J1738+0333_L-wide_PUPPI_log10_ecorr to -7.019786250261518\n",
      "INFO: enterprise.signals.signal_base: Setting J1738+0333_S-wide_ASP_log10_ecorr to -7.381958762803754\n",
      "INFO: enterprise.signals.signal_base: Setting J1738+0333_S-wide_PUPPI_log10_ecorr to -7.7411812625497936\n",
      "INFO: enterprise.signals.signal_base: Setting J1744-1134_Rcvr1_2_GASP_efac to 0.9978514871735024\n",
      "INFO: enterprise.signals.signal_base: Setting J1744-1134_Rcvr1_2_GUPPI_efac to 1.053362947622705\n",
      "INFO: enterprise.signals.signal_base: Setting J1744-1134_Rcvr_800_GASP_efac to 1.1285830055400954\n",
      "INFO: enterprise.signals.signal_base: Setting J1744-1134_Rcvr_800_GUPPI_efac to 1.0350590534568576\n",
      "INFO: enterprise.signals.signal_base: Setting J1744-1134_Rcvr1_2_GASP_log10_equad to -6.381411751584569\n",
      "INFO: enterprise.signals.signal_base: Setting J1744-1134_Rcvr1_2_GUPPI_log10_equad to -7.003305288540264\n",
      "INFO: enterprise.signals.signal_base: Setting J1744-1134_Rcvr_800_GASP_log10_equad to -6.4572271715342175\n",
      "INFO: enterprise.signals.signal_base: Setting J1744-1134_Rcvr_800_GUPPI_log10_equad to -6.613992229078914\n",
      "INFO: enterprise.signals.signal_base: Setting J1744-1134_Rcvr1_2_GASP_log10_ecorr to -6.292180076314258\n",
      "INFO: enterprise.signals.signal_base: Setting J1744-1134_Rcvr1_2_GUPPI_log10_ecorr to -6.537490178263718\n",
      "INFO: enterprise.signals.signal_base: Setting J1744-1134_Rcvr_800_GASP_log10_ecorr to -6.61724561091565\n",
      "INFO: enterprise.signals.signal_base: Setting J1744-1134_Rcvr_800_GUPPI_log10_ecorr to -6.396301881001724\n",
      "INFO: enterprise.signals.signal_base: Setting J1903+0327_L-wide_ASP_efac to 1.179706924996803\n",
      "INFO: enterprise.signals.signal_base: Setting J1903+0327_L-wide_PUPPI_efac to 1.168460641474899\n",
      "INFO: enterprise.signals.signal_base: Setting J1903+0327_S-wide_ASP_efac to 0.8321334329815202\n",
      "INFO: enterprise.signals.signal_base: Setting J1903+0327_S-wide_PUPPI_efac to 1.1095637896315254\n",
      "INFO: enterprise.signals.signal_base: Setting J1903+0327_L-wide_ASP_log10_equad to -7.158390864212146\n",
      "INFO: enterprise.signals.signal_base: Setting J1903+0327_L-wide_PUPPI_log10_equad to -7.759288526577286\n",
      "INFO: enterprise.signals.signal_base: Setting J1903+0327_S-wide_ASP_log10_equad to -6.16963651015452\n",
      "INFO: enterprise.signals.signal_base: Setting J1903+0327_S-wide_PUPPI_log10_equad to -7.574001886389685\n",
      "INFO: enterprise.signals.signal_base: Setting J1903+0327_L-wide_ASP_log10_ecorr to -7.172149108226772\n",
      "INFO: enterprise.signals.signal_base: Setting J1903+0327_L-wide_PUPPI_log10_ecorr to -5.636329138486162\n",
      "INFO: enterprise.signals.signal_base: Setting J1903+0327_S-wide_ASP_log10_ecorr to -7.364742895573575\n",
      "INFO: enterprise.signals.signal_base: Setting J1903+0327_S-wide_PUPPI_log10_ecorr to -7.45437286784459\n",
      "INFO: enterprise.signals.signal_base: Setting J1909-3744_Rcvr1_2_GASP_efac to 0.9505606759311833\n",
      "INFO: enterprise.signals.signal_base: Setting J1909-3744_Rcvr1_2_GUPPI_efac to 1.0339776268866265\n",
      "INFO: enterprise.signals.signal_base: Setting J1909-3744_Rcvr_800_GASP_efac to 1.0504080629362422\n",
      "INFO: enterprise.signals.signal_base: Setting J1909-3744_Rcvr_800_GUPPI_efac to 1.0313779800296294\n",
      "INFO: enterprise.signals.signal_base: Setting J1909-3744_Rcvr1_2_GASP_log10_equad to -7.456278210493956\n",
      "INFO: enterprise.signals.signal_base: Setting J1909-3744_Rcvr1_2_GUPPI_log10_equad to -8.171553179171445\n",
      "INFO: enterprise.signals.signal_base: Setting J1909-3744_Rcvr_800_GASP_log10_equad to -7.037406290351743\n",
      "INFO: enterprise.signals.signal_base: Setting J1909-3744_Rcvr_800_GUPPI_log10_equad to -7.365322642903795\n",
      "INFO: enterprise.signals.signal_base: Setting J1909-3744_Rcvr1_2_GASP_log10_ecorr to -8.078816887958723\n",
      "INFO: enterprise.signals.signal_base: Setting J1909-3744_Rcvr1_2_GUPPI_log10_ecorr to -7.137638201510413\n",
      "INFO: enterprise.signals.signal_base: Setting J1909-3744_Rcvr_800_GASP_log10_ecorr to -7.871774784575877\n",
      "INFO: enterprise.signals.signal_base: Setting J1909-3744_Rcvr_800_GUPPI_log10_ecorr to -7.269816370154123\n",
      "INFO: enterprise.signals.signal_base: Setting J1910+1256_L-wide_ASP_efac to 1.063590147073229\n",
      "INFO: enterprise.signals.signal_base: Setting J1910+1256_L-wide_PUPPI_efac to 1.0931136416030962\n",
      "INFO: enterprise.signals.signal_base: Setting J1910+1256_S-wide_ASP_efac to 0.9661536934887565\n",
      "INFO: enterprise.signals.signal_base: Setting J1910+1256_S-wide_PUPPI_efac to 1.0982792255110136\n",
      "INFO: enterprise.signals.signal_base: Setting J1910+1256_L-wide_ASP_log10_equad to -7.516992859042785\n",
      "INFO: enterprise.signals.signal_base: Setting J1910+1256_L-wide_PUPPI_log10_equad to -7.585087262800533\n",
      "INFO: enterprise.signals.signal_base: Setting J1910+1256_S-wide_ASP_log10_equad to -6.218657154174941\n",
      "INFO: enterprise.signals.signal_base: Setting J1910+1256_S-wide_PUPPI_log10_equad to -7.401958120896809\n",
      "INFO: enterprise.signals.signal_base: Setting J1910+1256_L-wide_ASP_log10_ecorr to -7.259684055387137\n",
      "INFO: enterprise.signals.signal_base: Setting J1910+1256_L-wide_PUPPI_log10_ecorr to -7.403550254322336\n",
      "INFO: enterprise.signals.signal_base: Setting J1910+1256_S-wide_ASP_log10_ecorr to -7.195615972473434\n",
      "INFO: enterprise.signals.signal_base: Setting J1910+1256_S-wide_PUPPI_log10_ecorr to -6.218612073150832\n",
      "INFO: enterprise.signals.signal_base: Setting J1918-0642_Rcvr1_2_GASP_efac to 1.0272847294363423\n",
      "INFO: enterprise.signals.signal_base: Setting J1918-0642_Rcvr1_2_GUPPI_efac to 1.035664184009173\n",
      "INFO: enterprise.signals.signal_base: Setting J1918-0642_Rcvr_800_GASP_efac to 1.0557165923306966\n",
      "INFO: enterprise.signals.signal_base: Setting J1918-0642_Rcvr_800_GUPPI_efac to 1.034910727323206\n",
      "INFO: enterprise.signals.signal_base: Setting J1918-0642_Rcvr1_2_GASP_log10_equad to -7.67322161371427\n",
      "INFO: enterprise.signals.signal_base: Setting J1918-0642_Rcvr1_2_GUPPI_log10_equad to -7.3696863188027075\n",
      "INFO: enterprise.signals.signal_base: Setting J1918-0642_Rcvr_800_GASP_log10_equad to -7.105797415440444\n",
      "INFO: enterprise.signals.signal_base: Setting J1918-0642_Rcvr_800_GUPPI_log10_equad to -7.086564536955872\n",
      "INFO: enterprise.signals.signal_base: Setting J1918-0642_Rcvr1_2_GASP_log10_ecorr to -7.37828526123227\n",
      "INFO: enterprise.signals.signal_base: Setting J1918-0642_Rcvr1_2_GUPPI_log10_ecorr to -7.4935011859866485\n",
      "INFO: enterprise.signals.signal_base: Setting J1918-0642_Rcvr_800_GASP_log10_ecorr to -7.559243560441317\n",
      "INFO: enterprise.signals.signal_base: Setting J1918-0642_Rcvr_800_GUPPI_log10_ecorr to -6.525389492066881\n",
      "INFO: enterprise.signals.signal_base: Setting J1944+0907_430_ASP_efac to 1.0814498126291534\n",
      "INFO: enterprise.signals.signal_base: Setting J1944+0907_430_PUPPI_efac to 1.0727024023469869\n",
      "INFO: enterprise.signals.signal_base: Setting J1944+0907_L-wide_ASP_efac to 1.5390588569396464\n",
      "INFO: enterprise.signals.signal_base: Setting J1944+0907_L-wide_PUPPI_efac to 1.1696155596603073\n",
      "INFO: enterprise.signals.signal_base: Setting J1944+0907_430_ASP_log10_equad to -7.243114059446985\n",
      "INFO: enterprise.signals.signal_base: Setting J1944+0907_430_PUPPI_log10_equad to -6.926315089238918\n",
      "INFO: enterprise.signals.signal_base: Setting J1944+0907_L-wide_ASP_log10_equad to -7.238241222764401\n",
      "INFO: enterprise.signals.signal_base: Setting J1944+0907_L-wide_PUPPI_log10_equad to -7.693354205218862\n",
      "INFO: enterprise.signals.signal_base: Setting J1944+0907_430_ASP_log10_ecorr to -6.8879174105358185\n",
      "INFO: enterprise.signals.signal_base: Setting J1944+0907_430_PUPPI_log10_ecorr to -7.1306299212575945\n",
      "INFO: enterprise.signals.signal_base: Setting J1944+0907_L-wide_ASP_log10_ecorr to -7.104483772896318\n",
      "INFO: enterprise.signals.signal_base: Setting J1944+0907_L-wide_PUPPI_log10_ecorr to -6.546284570029579\n",
      "INFO: enterprise.signals.signal_base: Setting J2010-1323_Rcvr1_2_GASP_efac to 1.0179865222180375\n",
      "INFO: enterprise.signals.signal_base: Setting J2010-1323_Rcvr1_2_GUPPI_efac to 1.046213434079912\n",
      "INFO: enterprise.signals.signal_base: Setting J2010-1323_Rcvr_800_GASP_efac to 1.0631310225900652\n",
      "INFO: enterprise.signals.signal_base: Setting J2010-1323_Rcvr_800_GUPPI_efac to 0.9946706739052781\n",
      "INFO: enterprise.signals.signal_base: Setting J2010-1323_Rcvr1_2_GASP_log10_equad to -7.170459137166772\n",
      "INFO: enterprise.signals.signal_base: Setting J2010-1323_Rcvr1_2_GUPPI_log10_equad to -7.676454828722258\n",
      "INFO: enterprise.signals.signal_base: Setting J2010-1323_Rcvr_800_GASP_log10_equad to -7.260685669109653\n",
      "INFO: enterprise.signals.signal_base: Setting J2010-1323_Rcvr_800_GUPPI_log10_equad to -7.2177759208361\n",
      "INFO: enterprise.signals.signal_base: Setting J2010-1323_Rcvr1_2_GASP_log10_ecorr to -7.182315425909628\n",
      "INFO: enterprise.signals.signal_base: Setting J2010-1323_Rcvr1_2_GUPPI_log10_ecorr to -7.686560497366312\n",
      "INFO: enterprise.signals.signal_base: Setting J2010-1323_Rcvr_800_GASP_log10_ecorr to -7.241412604014393\n",
      "INFO: enterprise.signals.signal_base: Setting J2010-1323_Rcvr_800_GUPPI_log10_ecorr to -7.580143294343043\n",
      "INFO: enterprise.signals.signal_base: Setting J2145-0750_Rcvr1_2_GASP_efac to 1.0110230422869044\n",
      "INFO: enterprise.signals.signal_base: Setting J2145-0750_Rcvr1_2_GUPPI_efac to 1.0265447460207069\n",
      "INFO: enterprise.signals.signal_base: Setting J2145-0750_Rcvr_800_GASP_efac to 1.2601984171075302\n",
      "INFO: enterprise.signals.signal_base: Setting J2145-0750_Rcvr_800_GUPPI_efac to 1.0476740581711277\n",
      "INFO: enterprise.signals.signal_base: Setting J2145-0750_Rcvr1_2_GASP_log10_equad to -5.705026109830131\n",
      "INFO: enterprise.signals.signal_base: Setting J2145-0750_Rcvr1_2_GUPPI_log10_equad to -7.938817552005569\n",
      "INFO: enterprise.signals.signal_base: Setting J2145-0750_Rcvr_800_GASP_log10_equad to -6.513203859186709\n",
      "INFO: enterprise.signals.signal_base: Setting J2145-0750_Rcvr_800_GUPPI_log10_equad to -6.4184191843741445\n",
      "INFO: enterprise.signals.signal_base: Setting J2145-0750_Rcvr1_2_GASP_log10_ecorr to -6.243824665782128\n",
      "INFO: enterprise.signals.signal_base: Setting J2145-0750_Rcvr1_2_GUPPI_log10_ecorr to -6.355906738653193\n",
      "INFO: enterprise.signals.signal_base: Setting J2145-0750_Rcvr_800_GASP_log10_ecorr to -6.233581141499856\n",
      "INFO: enterprise.signals.signal_base: Setting J2145-0750_Rcvr_800_GUPPI_log10_ecorr to -6.598154829313346\n",
      "INFO: enterprise.signals.signal_base: Setting J2317+1439_327_ASP_efac to 1.0823722500112272\n",
      "INFO: enterprise.signals.signal_base: Setting J2317+1439_327_PUPPI_efac to 1.17384139990156\n",
      "INFO: enterprise.signals.signal_base: Setting J2317+1439_430_ASP_efac to 1.2574511773494976\n",
      "INFO: enterprise.signals.signal_base: Setting J2317+1439_430_PUPPI_efac to 1.0163851726761812\n",
      "INFO: enterprise.signals.signal_base: Setting J2317+1439_L-wide_PUPPI_efac to 1.1163982326548925\n",
      "INFO: enterprise.signals.signal_base: Setting J2317+1439_327_ASP_log10_equad to -6.457911273619141\n",
      "INFO: enterprise.signals.signal_base: Setting J2317+1439_327_PUPPI_log10_equad to -6.462306002360743\n",
      "INFO: enterprise.signals.signal_base: Setting J2317+1439_430_ASP_log10_equad to -7.3732139102446626\n",
      "INFO: enterprise.signals.signal_base: Setting J2317+1439_430_PUPPI_log10_equad to -6.535705196682452\n",
      "INFO: enterprise.signals.signal_base: Setting J2317+1439_L-wide_PUPPI_log10_equad to -7.463944437178126\n",
      "INFO: enterprise.signals.signal_base: Setting J2317+1439_327_ASP_log10_ecorr to -7.706187896212512\n",
      "INFO: enterprise.signals.signal_base: Setting J2317+1439_327_PUPPI_log10_ecorr to -6.392284847303101\n",
      "INFO: enterprise.signals.signal_base: Setting J2317+1439_430_ASP_log10_ecorr to -6.509624616624109\n",
      "INFO: enterprise.signals.signal_base: Setting J2317+1439_430_PUPPI_log10_ecorr to -6.87918040058842\n",
      "INFO: enterprise.signals.signal_base: Setting J2317+1439_L-wide_PUPPI_log10_ecorr to -6.6463560361584975\n"
     ]
    }
   ],
   "source": [
    "pta.set_default_params(params)"
   ]
  },
  {
   "cell_type": "markdown",
   "metadata": {},
   "source": [
    "### Set initial parameters drawn from prior"
   ]
  },
  {
   "cell_type": "code",
   "execution_count": 16,
   "metadata": {
    "ExecuteTime": {
     "end_time": "2018-05-15T21:50:03.822379Z",
     "start_time": "2018-05-15T21:50:03.788843Z"
    }
   },
   "outputs": [],
   "source": [
    "x0 = np.hstack([p.sample() for p in pta.params])\n",
    "ndim = len(x0)"
   ]
  },
  {
   "cell_type": "markdown",
   "metadata": {},
   "source": [
    "### Set up sampler"
   ]
  },
  {
   "cell_type": "code",
   "execution_count": 17,
   "metadata": {
    "ExecuteTime": {
     "end_time": "2018-05-15T21:50:06.902347Z",
     "start_time": "2018-05-15T21:50:06.866018Z"
    }
   },
   "outputs": [],
   "source": [
    "# initial jump covariance matrix\n",
    "cov = np.diag(np.ones(ndim) * 0.01**2)\n",
    "outDir = os.path.join(os.getcwd(), 'chains_pta_test')\n",
    "\n",
    "sampler = ptmcmc(ndim, pta.get_lnlikelihood, pta.get_lnprior, cov, \n",
    "                 outDir=outDir, resume=False)"
   ]
  },
  {
   "cell_type": "markdown",
   "metadata": {},
   "source": [
    "### Sample!\n",
    "\n",
    "This should take about 3.5 hours to sample. Note that a normal analysis would include from 1e6 to 5e6 samples. Here we would like it to finish a little faster, so we only look for 5e5 samples for about half the number of pulsars in the NANOGrav dataset. This should be enough to get an idea of what the posterior looks like."
   ]
  },
  {
   "cell_type": "code",
   "execution_count": 19,
   "metadata": {
    "ExecuteTime": {
     "end_time": "2018-05-15T21:51:39.157421Z",
     "start_time": "2018-05-15T21:50:07.962002Z"
    }
   },
   "outputs": [
    {
     "output_type": "stream",
     "name": "stdout",
     "text": [
      "Finished 2.00 percent in 242.351337 s Acceptance rate = 0.5898Adding DE jump with weight 50\n",
      "Finished 99.80 percent in 8681.117901 s Acceptance rate = 0.273146\n",
      "Run Complete\n"
     ]
    }
   ],
   "source": [
    "# sampler for N steps\n",
    "N = int(5e5)  # normally, we would use 5e6 samples (this will save time)\n",
    "x0 = np.hstack([p.sample() for p in pta.params])\n",
    "sampler.sample(x0, N, SCAMweight=30, AMweight=15, DEweight=50, )"
   ]
  },
  {
   "cell_type": "markdown",
   "metadata": {},
   "source": [
    "### Plot output"
   ]
  },
  {
   "cell_type": "code",
   "execution_count": 18,
   "metadata": {
    "ExecuteTime": {
     "end_time": "2018-05-15T21:51:44.119807Z",
     "start_time": "2018-05-15T21:51:44.060350Z"
    }
   },
   "outputs": [],
   "source": [
    "chain = np.loadtxt(os.path.join(outDir, 'chain_1.txt'))\n",
    "burn = int(0.25 * chain.shape[0])"
   ]
  },
  {
   "cell_type": "code",
   "execution_count": 19,
   "metadata": {},
   "outputs": [],
   "source": [
    "ind = list(pta.param_names).index('log10_A_gw')"
   ]
  },
  {
   "cell_type": "code",
   "execution_count": 26,
   "metadata": {},
   "outputs": [
    {
     "output_type": "execute_result",
     "data": {
      "text/plain": [
       "[<matplotlib.lines.Line2D at 0x7fe528417790>]"
      ]
     },
     "metadata": {},
     "execution_count": 26
    },
    {
     "output_type": "display_data",
     "data": {
      "text/plain": "<Figure size 432x288 with 1 Axes>",
      "image/png": "[encoded data removed]"
     },
     "metadata": {
      "image/png": {
       "width": 386,
       "height": 248
      },
      "needs_background": "light"
     }
    }
   ],
   "source": [
    "# Make trace-plot to diagnose sampling\n",
    "plt.plot(chain[burn:, ind])"
   ]
  },
  {
   "cell_type": "code",
   "execution_count": 27,
   "metadata": {
    "ExecuteTime": {
     "end_time": "2018-05-15T21:51:46.102261Z",
     "start_time": "2018-05-15T21:51:45.927388Z"
    }
   },
   "outputs": [
    {
     "output_type": "execute_result",
     "data": {
      "text/plain": [
       "Text(0, 0.5, 'PDF')"
      ]
     },
     "metadata": {},
     "execution_count": 27
    },
    {
     "output_type": "display_data",
     "data": {
      "text/plain": "<Figure size 432x288 with 1 Axes>",
      "image/png": "[encoded data removed]"
     },
     "metadata": {
      "image/png": {
       "width": 398,
       "height": 262
      },
      "needs_background": "light"
     }
    }
   ],
   "source": [
    "# Plot a histogram of the marginalized posterior distribution\n",
    "plt.hist(chain[burn:,ind], 50, histtype='stepfilled', \n",
    "         lw=2, color='C0', alpha=0.5)\n",
    "plt.xlabel('log10_A_gw')\n",
    "plt.ylabel('PDF')"
   ]
  },
  {
   "cell_type": "markdown",
   "metadata": {},
   "source": [
    "## Discussion\n",
    "\n",
    "* The posterior shows the amplitude of a common red noise process is supported by the data to be between about 1e-15.2 and 1e-14.5 with a spectral index of 4.33."
   ]
  },
  {
   "cell_type": "markdown",
   "metadata": {
    "collapsed": true
   },
   "source": [
    "### Upper limit value"
   ]
  },
  {
   "cell_type": "code",
   "execution_count": 21,
   "metadata": {
    "ExecuteTime": {
     "end_time": "2018-05-15T21:51:49.718217Z",
     "start_time": "2018-05-15T21:51:49.682886Z"
    }
   },
   "outputs": [
    {
     "output_type": "stream",
     "name": "stdout",
     "text": [
      "2.391579658004618e-15\n"
     ]
    }
   ],
   "source": [
    "upper = 10**np.percentile(chain[burn:, -5], q=95)\n",
    "print(upper)"
   ]
  },
  {
   "cell_type": "markdown",
   "metadata": {},
   "source": [
    "## Now, the easy way to do all of this...\n",
    "\n",
    "Many of the steps above have been consolidated into convenient functions that do them all at once inside the `enterprise_extensions` package. In this section, we will show the process using these covenient functions."
   ]
  },
  {
   "cell_type": "code",
   "execution_count": 22,
   "metadata": {
    "ExecuteTime": {
     "end_time": "2018-05-15T21:53:11.676320Z",
     "start_time": "2018-05-15T21:53:11.629096Z"
    }
   },
   "outputs": [],
   "source": [
    "import enterprise_extensions\n",
    "from enterprise_extensions import models, model_utils, hypermodel"
   ]
  },
  {
   "cell_type": "code",
   "execution_count": 35,
   "metadata": {},
   "outputs": [
    {
     "output_type": "stream",
     "name": "stdout",
     "text": [
      "/Users/aaronjohnson/Documents/GitHub/12p5yr_stochastic_analysis/data\n"
     ]
    }
   ],
   "source": [
    "psrlist = None  # define a list of pulsar name strings that can be used to filter.\n",
    "# some pathing to get to the data folder (this won't work if you change the parent folder name)\n",
    "foldername = os.path.basename(os.getcwd())\n",
    "if foldername != '12p5yr_stochastic_analysis':\n",
    "    os.chdir(os.path.pardir)\n",
    "datadir = os.path.join(os.getcwd(), 'data') # set your data directory\n",
    "print(datadir)"
   ]
  },
  {
   "cell_type": "code",
   "execution_count": 36,
   "metadata": {},
   "outputs": [],
   "source": [
    "# for the entire pta\n",
    "parfiles = sorted(glob.glob(os.path.join(os.path.join(datadir, 'par'), '*par')))\n",
    "timfiles = sorted(glob.glob(os.path.join(os.path.join(datadir, 'tim'), '*tim')))\n",
    "\n",
    "# filter\n",
    "if psrlist is not None:\n",
    "    parfiles = [x for x in parfiles if x.split('/')[-1].split('.')[0] in psrlist]\n",
    "    timfiles = [x for x in timfiles if x.split('/')[-1].split('.')[0] in psrlist]\n",
    "\n",
    "# Make sure you use the tempo2 parfile for J1713+0747!!\n",
    "# ...filtering out the tempo parfile...\n",
    "parfiles = [x for x in parfiles if 'J1713+0747_NANOGrav_12yv3.gls.par' not in x]"
   ]
  },
  {
   "cell_type": "code",
   "execution_count": 48,
   "metadata": {},
   "outputs": [
    {
     "output_type": "stream",
     "name": "stderr",
     "text": [
      "WARNING: enterprise.pulsar: WARNING: Could not find pulsar distance for PSR J0023+0923. Setting value to 1 with 20% uncertainty.\n",
      "WARNING: enterprise.pulsar: WARNING: Could not find pulsar distance for PSR J0340+4130. Setting value to 1 with 20% uncertainty.\n",
      "WARNING: enterprise.pulsar: WARNING: Could not find pulsar distance for PSR J0636+5128. Setting value to 1 with 20% uncertainty.\n",
      "WARNING: enterprise.pulsar: WARNING: Could not find pulsar distance for PSR J0645+5158. Setting value to 1 with 20% uncertainty.\n",
      "WARNING: enterprise.pulsar: WARNING: Could not find pulsar distance for PSR J0740+6620. Setting value to 1 with 20% uncertainty.\n",
      "WARNING: enterprise.pulsar: WARNING: Could not find pulsar distance for PSR J0931-1902. Setting value to 1 with 20% uncertainty.\n",
      "WARNING: enterprise.pulsar: WARNING: Could not find pulsar distance for PSR J1125+7819. Setting value to 1 with 20% uncertainty.\n",
      "WARNING: enterprise.pulsar: WARNING: Could not find pulsar distance for PSR J1453+1902. Setting value to 1 with 20% uncertainty.\n",
      "WARNING: enterprise.pulsar: WARNING: Could not find pulsar distance for PSR J1614-2230. Setting value to 1 with 20% uncertainty.\n",
      "WARNING: enterprise.pulsar: WARNING: Could not find pulsar distance for PSR J1738+0333. Setting value to 1 with 20% uncertainty.\n",
      "WARNING: enterprise.pulsar: WARNING: Could not find pulsar distance for PSR J1741+1351. Setting value to 1 with 20% uncertainty.\n",
      "WARNING: enterprise.pulsar: WARNING: Could not find pulsar distance for PSR J1747-4036. Setting value to 1 with 20% uncertainty.\n",
      "WARNING: enterprise.pulsar: WARNING: Could not find pulsar distance for PSR J1832-0836. Setting value to 1 with 20% uncertainty.\n",
      "WARNING: enterprise.pulsar: WARNING: Could not find pulsar distance for PSR J1853+1303. Setting value to 1 with 20% uncertainty.\n",
      "WARNING: enterprise.pulsar: WARNING: Could not find pulsar distance for PSR J1903+0327. Setting value to 1 with 20% uncertainty.\n",
      "WARNING: enterprise.pulsar: WARNING: Could not find pulsar distance for PSR J1911+1347. Setting value to 1 with 20% uncertainty.\n",
      "WARNING: enterprise.pulsar: WARNING: Could not find pulsar distance for PSR J1923+2515. Setting value to 1 with 20% uncertainty.\n",
      "WARNING: enterprise.pulsar: WARNING: Could not find pulsar distance for PSR J1944+0907. Setting value to 1 with 20% uncertainty.\n",
      "WARNING: enterprise.pulsar: WARNING: Could not find pulsar distance for PSR J1946+3417. Setting value to 1 with 20% uncertainty.\n",
      "WARNING: enterprise.pulsar: WARNING: Could not find pulsar distance for PSR J2010-1323. Setting value to 1 with 20% uncertainty.\n",
      "WARNING: enterprise.pulsar: WARNING: Could not find pulsar distance for PSR J2017+0603. Setting value to 1 with 20% uncertainty.\n",
      "WARNING: enterprise.pulsar: WARNING: Could not find pulsar distance for PSR J2033+1734. Setting value to 1 with 20% uncertainty.\n",
      "WARNING: enterprise.pulsar: WARNING: Could not find pulsar distance for PSR J2043+1711. Setting value to 1 with 20% uncertainty.\n",
      "WARNING: enterprise.pulsar: WARNING: Could not find pulsar distance for PSR J2214+3000. Setting value to 1 with 20% uncertainty.\n",
      "WARNING: enterprise.pulsar: WARNING: Could not find pulsar distance for PSR J2229+2643. Setting value to 1 with 20% uncertainty.\n",
      "WARNING: enterprise.pulsar: WARNING: Could not find pulsar distance for PSR J2234+0611. Setting value to 1 with 20% uncertainty.\n",
      "WARNING: enterprise.pulsar: WARNING: Could not find pulsar distance for PSR J2234+0944. Setting value to 1 with 20% uncertainty.\n",
      "WARNING: enterprise.pulsar: WARNING: Could not find pulsar distance for PSR J2302+4442. Setting value to 1 with 20% uncertainty.\n",
      "WARNING: enterprise.pulsar: WARNING: Could not find pulsar distance for PSR J2322+2057. Setting value to 1 with 20% uncertainty.\n"
     ]
    }
   ],
   "source": [
    "psrs = []\n",
    "ephemeris = 'DE438'\n",
    "for p, t in zip(parfiles, timfiles):\n",
    "    psrname = parfiles[0].split('/')[-1].split('_')[0]\n",
    "    psr = Pulsar(p, t, ephem=ephemeris)\n",
    "    psrs.append(psr)"
   ]
  },
  {
   "cell_type": "code",
   "execution_count": 49,
   "metadata": {},
   "outputs": [
    {
     "output_type": "stream",
     "name": "stdout",
     "text": [
      "23 pulsars\n"
     ]
    }
   ],
   "source": [
    "YR_SEC = 525600 * 60  # number of seconds in a year\n",
    "YRS = 6  # number of years to cutoff the data at\n",
    "\n",
    "# cut pulsars < X years:\n",
    "new_psrs = []\n",
    "for p in psrs:\n",
    "    delta_t = p.toas.max() - p.toas.min()\n",
    "    delta_t_yrs = delta_t / YR_SEC\n",
    "    if delta_t_yrs > YRS:\n",
    "        new_psrs.append(p)\n",
    "        # print(p.name)\n",
    "psrs = new_psrs\n",
    "print(len(psrs), 'pulsars')"
   ]
  },
  {
   "cell_type": "code",
   "execution_count": 50,
   "metadata": {},
   "outputs": [],
   "source": [
    "## Get parameter noise dictionary\n",
    "noise_ng12 = os.path.join(datadir, 'channelized_12p5yr_v3_full_noisedict.json')\n",
    "\n",
    "params = {}\n",
    "with open(noise_ng12, 'r') as fp:\n",
    "    params.update(json.load(fp))"
   ]
  },
  {
   "cell_type": "code",
   "execution_count": null,
   "metadata": {
    "ExecuteTime": {
     "end_time": "2018-05-15T21:56:18.738032Z",
     "start_time": "2018-05-15T21:56:17.309346Z"
    }
   },
   "outputs": [],
   "source": [
    "pta = models.model_general(psrs, red_psd='powerlaw', common_psd='powerlaw', \n",
    "                           red_components=30, common_components=30, \n",
    "                           white_vary=False, noisedict=params, tm_svd=True, \n",
    "                           gamma_common=4.33, upper_limit_red=True, \n",
    "                           upper_limit_common=False, bayesephem=False)"
   ]
  },
  {
   "cell_type": "code",
   "execution_count": null,
   "metadata": {
    "ExecuteTime": {
     "end_time": "2018-05-15T21:56:20.663093Z",
     "start_time": "2018-05-15T21:56:20.632086Z"
    }
   },
   "outputs": [],
   "source": [
    "# Setup an instance of a HyperModel.\n",
    "# This doesn't mean we are doing model selection (yet!), but the \n",
    "# hypermodel module gives access to some nifty sampling schemes.\n",
    "super_model = hypermodel.HyperModel({0: pta})"
   ]
  },
  {
   "cell_type": "code",
   "execution_count": null,
   "metadata": {
    "ExecuteTime": {
     "end_time": "2018-05-15T21:56:20.823333Z",
     "start_time": "2018-05-15T21:56:20.790108Z"
    }
   },
   "outputs": [],
   "source": [
    "outDir = os.path.join(os.getcwd(), 'chains_pta_test')\n",
    "sampler = super_model.setup_sampler(resume=False, outdir=outDir, sample_nmodel=False)"
   ]
  },
  {
   "cell_type": "code",
   "execution_count": null,
   "metadata": {
    "ExecuteTime": {
     "end_time": "2018-05-15T21:56:21.506309Z",
     "start_time": "2018-05-15T21:56:21.474529Z"
    }
   },
   "outputs": [],
   "source": [
    "# sampler for N steps\n",
    "N = int(1e6)\n",
    "x0 = super_model.initial_sample()"
   ]
  },
  {
   "cell_type": "code",
   "execution_count": null,
   "metadata": {
    "ExecuteTime": {
     "end_time": "2018-05-15T21:58:54.315884Z",
     "start_time": "2018-05-15T21:56:25.820406Z"
    }
   },
   "outputs": [],
   "source": [
    "# sample\n",
    "sampler.sample(x0, N, SCAMweight=30, AMweight=15, DEweight=50, )"
   ]
  },
  {
   "cell_type": "code",
   "execution_count": null,
   "metadata": {
    "ExecuteTime": {
     "end_time": "2018-05-15T21:58:58.146382Z",
     "start_time": "2018-05-15T21:58:58.013143Z"
    }
   },
   "outputs": [],
   "source": [
    "# Read in chains and parameters\n",
    "\n",
    "chain = np.loadtxt(outdir + '/chain_1.txt')\n",
    "burn = int(0.25*chain.shape[0])\n",
    "pars = np.loadtxt(outdir + '/pars.txt', dtype=np.unicode_)\n",
    "\n",
    "pp = model_utils.PostProcessing(chain, pars)"
   ]
  },
  {
   "cell_type": "code",
   "execution_count": null,
   "metadata": {
    "ExecuteTime": {
     "end_time": "2018-05-15T21:58:58.777011Z",
     "start_time": "2018-05-15T21:58:58.555011Z"
    }
   },
   "outputs": [],
   "source": [
    "# Plot GW amplitude posterior\n",
    "ind = list(pars).index('gw_log10_A')\n",
    "plt.hist(chain[burn:,ind], bins=40);"
   ]
  },
  {
   "cell_type": "code",
   "execution_count": null,
   "metadata": {
    "ExecuteTime": {
     "end_time": "2018-05-15T21:59:00.397744Z",
     "start_time": "2018-05-15T21:59:00.366793Z"
    }
   },
   "outputs": [],
   "source": [
    "# Compute upper limit\n",
    "print(model_utils.ul(chain[burn:, ind], q=95.0))"
   ]
  },
  {
   "cell_type": "markdown",
   "metadata": {},
   "source": [
    "* Now that we're done with a basic analysis for the GWB, let's move on to model selection"
   ]
  },
  {
   "cell_type": "markdown",
   "metadata": {},
   "source": [
    "# PTA Model Selection\n",
    "\n",
    "We want to be able to compute the Bayesian odds for a GWB in the data. This can be done using the hypermodel class, where we choose between a model with a common (but uncorrelated) red process in the pulsars, and a GWB affecting all pulsars.\n",
    "\n",
    "We typically perform detection-type analyses with uniform-in-log priors on all amplitude parameters for low-frequency processes. This is implemented below whenever we switch `upper_limit` to be equal to `False`."
   ]
  },
  {
   "cell_type": "markdown",
   "metadata": {},
   "source": [
    "## Setup dictionary of PTA models"
   ]
  },
  {
   "source": [
    "## **Warning**\n",
    "\n",
    "* Running the hypermodel for the pulsar set used above will take several hours"
   ],
   "cell_type": "markdown",
   "metadata": {}
  },
  {
   "cell_type": "code",
   "execution_count": 51,
   "metadata": {
    "ExecuteTime": {
     "end_time": "2018-05-15T21:59:25.363204Z",
     "start_time": "2018-05-15T21:59:22.414521Z"
    }
   },
   "outputs": [
    {
     "output_type": "stream",
     "name": "stderr",
     "text": [
      "INFO: enterprise.signals.signal_base: Setting B1855+09_430_ASP_efac to 1.149036589204419\n",
      "INFO: enterprise.signals.signal_base: Setting B1855+09_430_PUPPI_efac to 1.0543836580555548\n",
      "INFO: enterprise.signals.signal_base: Setting B1855+09_L-wide_ASP_efac to 1.080749375878354\n",
      "INFO: enterprise.signals.signal_base: Setting B1855+09_L-wide_PUPPI_efac to 1.2429537099744354\n",
      "INFO: enterprise.signals.signal_base: Setting B1855+09_430_ASP_log10_equad to -7.379759355541006\n",
      "INFO: enterprise.signals.signal_base: Setting B1855+09_430_PUPPI_log10_equad to -6.348065001180634\n",
      "INFO: enterprise.signals.signal_base: Setting B1855+09_L-wide_ASP_log10_equad to -6.51289896375955\n",
      "INFO: enterprise.signals.signal_base: Setting B1855+09_L-wide_PUPPI_log10_equad to -7.821737281350602\n",
      "INFO: enterprise.signals.signal_base: Setting B1855+09_430_ASP_log10_ecorr to -7.415374510054153\n",
      "INFO: enterprise.signals.signal_base: Setting B1855+09_430_PUPPI_log10_ecorr to -5.671108063699219\n",
      "INFO: enterprise.signals.signal_base: Setting B1855+09_L-wide_ASP_log10_ecorr to -6.092899143243734\n",
      "INFO: enterprise.signals.signal_base: Setting B1855+09_L-wide_PUPPI_log10_ecorr to -6.641281263572077\n",
      "INFO: enterprise.signals.signal_base: Setting B1937+21_L-wide_ASP_efac to 2.048754020884262\n",
      "INFO: enterprise.signals.signal_base: Setting B1937+21_L-wide_PUPPI_efac to 2.12041666470792\n",
      "INFO: enterprise.signals.signal_base: Setting B1937+21_Rcvr1_2_GASP_efac to 1.1708200812403644\n",
      "INFO: enterprise.signals.signal_base: Setting B1937+21_Rcvr1_2_GUPPI_efac to 1.4415081390299156\n",
      "INFO: enterprise.signals.signal_base: Setting B1937+21_Rcvr_800_GASP_efac to 2.1333453783210095\n",
      "INFO: enterprise.signals.signal_base: Setting B1937+21_Rcvr_800_GUPPI_efac to 4.219838621260683\n",
      "INFO: enterprise.signals.signal_base: Setting B1937+21_S-wide_ASP_efac to 1.5159731379775645\n",
      "INFO: enterprise.signals.signal_base: Setting B1937+21_S-wide_PUPPI_efac to 1.2470571693911434\n",
      "INFO: enterprise.signals.signal_base: Setting B1937+21_L-wide_ASP_log10_equad to -6.785369742733748\n",
      "INFO: enterprise.signals.signal_base: Setting B1937+21_L-wide_PUPPI_log10_equad to -7.147037241326325\n",
      "INFO: enterprise.signals.signal_base: Setting B1937+21_Rcvr1_2_GASP_log10_equad to -7.028404298685201\n",
      "INFO: enterprise.signals.signal_base: Setting B1937+21_Rcvr1_2_GUPPI_log10_equad to -7.139419197676975\n",
      "INFO: enterprise.signals.signal_base: Setting B1937+21_Rcvr_800_GASP_log10_equad to -6.669528646515994\n",
      "INFO: enterprise.signals.signal_base: Setting B1937+21_Rcvr_800_GUPPI_log10_equad to -6.603208890098822\n",
      "INFO: enterprise.signals.signal_base: Setting B1937+21_S-wide_ASP_log10_equad to -6.781862531120971\n",
      "INFO: enterprise.signals.signal_base: Setting B1937+21_S-wide_PUPPI_log10_equad to -7.011196636087005\n",
      "INFO: enterprise.signals.signal_base: Setting B1937+21_L-wide_ASP_log10_ecorr to -6.940958996081342\n",
      "INFO: enterprise.signals.signal_base: Setting B1937+21_L-wide_PUPPI_log10_ecorr to -7.037572450266321\n",
      "INFO: enterprise.signals.signal_base: Setting B1937+21_Rcvr1_2_GASP_log10_ecorr to -6.9573181220861695\n",
      "INFO: enterprise.signals.signal_base: Setting B1937+21_Rcvr1_2_GUPPI_log10_ecorr to -6.873056983920257\n",
      "INFO: enterprise.signals.signal_base: Setting B1937+21_Rcvr_800_GASP_log10_ecorr to -8.024096164984243\n",
      "INFO: enterprise.signals.signal_base: Setting B1937+21_Rcvr_800_GUPPI_log10_ecorr to -6.441588828662218\n",
      "INFO: enterprise.signals.signal_base: Setting B1937+21_S-wide_ASP_log10_ecorr to -6.55920330997421\n",
      "INFO: enterprise.signals.signal_base: Setting B1937+21_S-wide_PUPPI_log10_ecorr to -6.867655505641185\n",
      "INFO: enterprise.signals.signal_base: Setting J0030+0451_430_ASP_efac to 1.178988376393598\n",
      "INFO: enterprise.signals.signal_base: Setting J0030+0451_430_PUPPI_efac to 1.0168220759726072\n",
      "INFO: enterprise.signals.signal_base: Setting J0030+0451_L-wide_ASP_efac to 1.1594082526710712\n",
      "INFO: enterprise.signals.signal_base: Setting J0030+0451_L-wide_PUPPI_efac to 1.1157243178133207\n",
      "INFO: enterprise.signals.signal_base: Setting J0030+0451_S-wide_PUPPI_efac to 0.991497940413971\n",
      "INFO: enterprise.signals.signal_base: Setting J0030+0451_430_ASP_log10_equad to -7.60151264056324\n",
      "INFO: enterprise.signals.signal_base: Setting J0030+0451_430_PUPPI_log10_equad to -7.8144222164663235\n",
      "INFO: enterprise.signals.signal_base: Setting J0030+0451_L-wide_ASP_log10_equad to -7.526120409087749\n",
      "INFO: enterprise.signals.signal_base: Setting J0030+0451_L-wide_PUPPI_log10_equad to -7.687444375922908\n",
      "INFO: enterprise.signals.signal_base: Setting J0030+0451_S-wide_PUPPI_log10_equad to -7.396119136419303\n",
      "INFO: enterprise.signals.signal_base: Setting J0030+0451_430_ASP_log10_ecorr to -7.637597883725108\n",
      "INFO: enterprise.signals.signal_base: Setting J0030+0451_430_PUPPI_log10_ecorr to -7.458377805782614\n",
      "INFO: enterprise.signals.signal_base: Setting J0030+0451_L-wide_ASP_log10_ecorr to -7.652790501212441\n",
      "INFO: enterprise.signals.signal_base: Setting J0030+0451_L-wide_PUPPI_log10_ecorr to -7.712152616003756\n",
      "INFO: enterprise.signals.signal_base: Setting J0030+0451_S-wide_PUPPI_log10_ecorr to -7.4855687647637446\n",
      "INFO: enterprise.signals.signal_base: Setting J0613-0200_Rcvr1_2_GASP_efac to 1.0670783724500694\n",
      "INFO: enterprise.signals.signal_base: Setting J0613-0200_Rcvr1_2_GUPPI_efac to 1.0430747567523209\n",
      "INFO: enterprise.signals.signal_base: Setting J0613-0200_Rcvr_800_GASP_efac to 1.0914149510171187\n",
      "INFO: enterprise.signals.signal_base: Setting J0613-0200_Rcvr_800_GUPPI_efac to 1.1066698572535434\n",
      "INFO: enterprise.signals.signal_base: Setting J0613-0200_Rcvr1_2_GASP_log10_equad to -7.5596546617250215\n",
      "INFO: enterprise.signals.signal_base: Setting J0613-0200_Rcvr1_2_GUPPI_log10_equad to -7.616764039524012\n",
      "INFO: enterprise.signals.signal_base: Setting J0613-0200_Rcvr_800_GASP_log10_equad to -7.6069868785882795\n",
      "INFO: enterprise.signals.signal_base: Setting J0613-0200_Rcvr_800_GUPPI_log10_equad to -6.650927606600988\n",
      "INFO: enterprise.signals.signal_base: Setting J0613-0200_Rcvr1_2_GASP_log10_ecorr to -7.518791621441214\n",
      "INFO: enterprise.signals.signal_base: Setting J0613-0200_Rcvr1_2_GUPPI_log10_ecorr to -6.783106192555926\n",
      "INFO: enterprise.signals.signal_base: Setting J0613-0200_Rcvr_800_GASP_log10_ecorr to -7.737621417529334\n",
      "INFO: enterprise.signals.signal_base: Setting J0613-0200_Rcvr_800_GUPPI_log10_ecorr to -6.785665911883737\n",
      "INFO: enterprise.signals.signal_base: Setting J0645+5158_Rcvr1_2_GUPPI_efac to 1.0435585167422876\n",
      "INFO: enterprise.signals.signal_base: Setting J0645+5158_Rcvr_800_GUPPI_efac to 0.978554109695437\n",
      "INFO: enterprise.signals.signal_base: Setting J0645+5158_Rcvr1_2_GUPPI_log10_equad to -7.513289178616864\n",
      "INFO: enterprise.signals.signal_base: Setting J0645+5158_Rcvr_800_GUPPI_log10_equad to -7.062675708760795\n",
      "INFO: enterprise.signals.signal_base: Setting J0645+5158_Rcvr1_2_GUPPI_log10_ecorr to -7.469787739972568\n",
      "INFO: enterprise.signals.signal_base: Setting J0645+5158_Rcvr_800_GUPPI_log10_ecorr to -7.21903125633763\n",
      "INFO: enterprise.signals.signal_base: Setting J1012+5307_Rcvr1_2_GASP_efac to 1.0591690736069472\n",
      "INFO: enterprise.signals.signal_base: Setting J1012+5307_Rcvr1_2_GUPPI_efac to 1.0062638587421908\n",
      "INFO: enterprise.signals.signal_base: Setting J1012+5307_Rcvr_800_GASP_efac to 1.134064401904284\n",
      "INFO: enterprise.signals.signal_base: Setting J1012+5307_Rcvr_800_GUPPI_efac to 1.062753909375921\n",
      "INFO: enterprise.signals.signal_base: Setting J1012+5307_Rcvr1_2_GASP_log10_equad to -7.337569048606985\n",
      "INFO: enterprise.signals.signal_base: Setting J1012+5307_Rcvr1_2_GUPPI_log10_equad to -7.777675843382624\n",
      "INFO: enterprise.signals.signal_base: Setting J1012+5307_Rcvr_800_GASP_log10_equad to -7.335838608622016\n",
      "INFO: enterprise.signals.signal_base: Setting J1012+5307_Rcvr_800_GUPPI_log10_equad to -6.506908723632507\n",
      "INFO: enterprise.signals.signal_base: Setting J1012+5307_Rcvr1_2_GASP_log10_ecorr to -6.520878820970742\n",
      "INFO: enterprise.signals.signal_base: Setting J1012+5307_Rcvr1_2_GUPPI_log10_ecorr to -6.39401084619692\n",
      "INFO: enterprise.signals.signal_base: Setting J1012+5307_Rcvr_800_GASP_log10_ecorr to -7.672411945457032\n",
      "INFO: enterprise.signals.signal_base: Setting J1012+5307_Rcvr_800_GUPPI_log10_ecorr to -7.741968522547623\n",
      "INFO: enterprise.signals.signal_base: Setting J1024-0719_Rcvr1_2_GASP_efac to 0.910756763515209\n",
      "INFO: enterprise.signals.signal_base: Setting J1024-0719_Rcvr1_2_GUPPI_efac to 1.0291119595206812\n",
      "INFO: enterprise.signals.signal_base: Setting J1024-0719_Rcvr_800_GASP_efac to 0.9894501502567977\n",
      "INFO: enterprise.signals.signal_base: Setting J1024-0719_Rcvr_800_GUPPI_efac to 1.0271589257321567\n",
      "INFO: enterprise.signals.signal_base: Setting J1024-0719_Rcvr1_2_GASP_log10_equad to -6.739263270711485\n",
      "INFO: enterprise.signals.signal_base: Setting J1024-0719_Rcvr1_2_GUPPI_log10_equad to -7.7609576526780275\n",
      "INFO: enterprise.signals.signal_base: Setting J1024-0719_Rcvr_800_GASP_log10_equad to -7.194552724916308\n",
      "INFO: enterprise.signals.signal_base: Setting J1024-0719_Rcvr_800_GUPPI_log10_equad to -7.836287384896643\n",
      "INFO: enterprise.signals.signal_base: Setting J1024-0719_Rcvr1_2_GASP_log10_ecorr to -7.131954410884169\n",
      "INFO: enterprise.signals.signal_base: Setting J1024-0719_Rcvr1_2_GUPPI_log10_ecorr to -6.700450821263385\n",
      "INFO: enterprise.signals.signal_base: Setting J1024-0719_Rcvr_800_GASP_log10_ecorr to -7.066941892042146\n",
      "INFO: enterprise.signals.signal_base: Setting J1024-0719_Rcvr_800_GUPPI_log10_ecorr to -7.348793203212565\n",
      "INFO: enterprise.signals.signal_base: Setting J1455-3330_Rcvr1_2_GASP_efac to 1.1400870761562596\n",
      "INFO: enterprise.signals.signal_base: Setting J1455-3330_Rcvr1_2_GUPPI_efac to 1.082303099576083\n",
      "INFO: enterprise.signals.signal_base: Setting J1455-3330_Rcvr_800_GASP_efac to 1.2328191470185799\n",
      "INFO: enterprise.signals.signal_base: Setting J1455-3330_Rcvr_800_GUPPI_efac to 1.0054353177825495\n",
      "INFO: enterprise.signals.signal_base: Setting J1455-3330_Rcvr1_2_GASP_log10_equad to -7.192520761470676\n",
      "INFO: enterprise.signals.signal_base: Setting J1455-3330_Rcvr1_2_GUPPI_log10_equad to -7.524353545826194\n",
      "INFO: enterprise.signals.signal_base: Setting J1455-3330_Rcvr_800_GASP_log10_equad to -7.050869987259775\n",
      "INFO: enterprise.signals.signal_base: Setting J1455-3330_Rcvr_800_GUPPI_log10_equad to -7.558835853872056\n",
      "INFO: enterprise.signals.signal_base: Setting J1455-3330_Rcvr1_2_GASP_log10_ecorr to -5.860332688998369\n",
      "INFO: enterprise.signals.signal_base: Setting J1455-3330_Rcvr1_2_GUPPI_log10_ecorr to -7.629255580321534\n",
      "INFO: enterprise.signals.signal_base: Setting J1455-3330_Rcvr_800_GASP_log10_ecorr to -7.085458304995403\n",
      "INFO: enterprise.signals.signal_base: Setting J1455-3330_Rcvr_800_GUPPI_log10_ecorr to -6.526567653068877\n",
      "INFO: enterprise.signals.signal_base: Setting J1600-3053_Rcvr1_2_GASP_efac to 1.134993789980654\n",
      "INFO: enterprise.signals.signal_base: Setting J1600-3053_Rcvr1_2_GUPPI_efac to 1.0521556985294778\n",
      "INFO: enterprise.signals.signal_base: Setting J1600-3053_Rcvr_800_GASP_efac to 1.1935927243559799\n",
      "INFO: enterprise.signals.signal_base: Setting J1600-3053_Rcvr_800_GUPPI_efac to 1.120996265055496\n",
      "INFO: enterprise.signals.signal_base: Setting J1600-3053_Rcvr1_2_GASP_log10_equad to -6.960586084616913\n",
      "INFO: enterprise.signals.signal_base: Setting J1600-3053_Rcvr1_2_GUPPI_log10_equad to -7.761043891506745\n",
      "INFO: enterprise.signals.signal_base: Setting J1600-3053_Rcvr_800_GASP_log10_equad to -7.311693997685966\n",
      "INFO: enterprise.signals.signal_base: Setting J1600-3053_Rcvr_800_GUPPI_log10_equad to -7.374528725467375\n",
      "INFO: enterprise.signals.signal_base: Setting J1600-3053_Rcvr1_2_GASP_log10_ecorr to -7.134558712552095\n",
      "INFO: enterprise.signals.signal_base: Setting J1600-3053_Rcvr1_2_GUPPI_log10_ecorr to -6.899208552923536\n",
      "INFO: enterprise.signals.signal_base: Setting J1600-3053_Rcvr_800_GASP_log10_ecorr to -7.407293847566683\n",
      "INFO: enterprise.signals.signal_base: Setting J1600-3053_Rcvr_800_GUPPI_log10_ecorr to -6.288542964735563\n",
      "INFO: enterprise.signals.signal_base: Setting J1614-2230_Rcvr1_2_GASP_efac to 1.1369056644435913\n",
      "INFO: enterprise.signals.signal_base: Setting J1614-2230_Rcvr1_2_GUPPI_efac to 1.0636501302858106\n",
      "INFO: enterprise.signals.signal_base: Setting J1614-2230_Rcvr_800_GASP_efac to 0.9178765720365575\n",
      "INFO: enterprise.signals.signal_base: Setting J1614-2230_Rcvr_800_GUPPI_efac to 1.0115241685032286\n",
      "INFO: enterprise.signals.signal_base: Setting J1614-2230_Rcvr1_2_GASP_log10_equad to -7.32067533880299\n",
      "INFO: enterprise.signals.signal_base: Setting J1614-2230_Rcvr1_2_GUPPI_log10_equad to -7.784678758801305\n",
      "INFO: enterprise.signals.signal_base: Setting J1614-2230_Rcvr_800_GASP_log10_equad to -7.2577825388006305\n",
      "INFO: enterprise.signals.signal_base: Setting J1614-2230_Rcvr_800_GUPPI_log10_equad to -7.627864180562532\n",
      "INFO: enterprise.signals.signal_base: Setting J1614-2230_Rcvr1_2_GASP_log10_ecorr to -7.448625358285439\n",
      "INFO: enterprise.signals.signal_base: Setting J1614-2230_Rcvr1_2_GUPPI_log10_ecorr to -7.655859629011535\n",
      "INFO: enterprise.signals.signal_base: Setting J1614-2230_Rcvr_800_GASP_log10_ecorr to -7.299611199085039\n",
      "INFO: enterprise.signals.signal_base: Setting J1614-2230_Rcvr_800_GUPPI_log10_ecorr to -7.4080289590963355\n",
      "INFO: enterprise.signals.signal_base: Setting J1640+2224_430_ASP_efac to 1.143081359459332\n",
      "INFO: enterprise.signals.signal_base: Setting J1640+2224_430_PUPPI_efac to 1.0573767076899483\n",
      "INFO: enterprise.signals.signal_base: Setting J1640+2224_L-wide_ASP_efac to 1.06394287552814\n",
      "INFO: enterprise.signals.signal_base: Setting J1640+2224_L-wide_PUPPI_efac to 1.1457585235526273\n",
      "INFO: enterprise.signals.signal_base: Setting J1640+2224_430_ASP_log10_equad to -6.240784825369144\n",
      "INFO: enterprise.signals.signal_base: Setting J1640+2224_430_PUPPI_log10_equad to -6.9445789284154085\n",
      "INFO: enterprise.signals.signal_base: Setting J1640+2224_L-wide_ASP_log10_equad to -7.649274979312211\n",
      "INFO: enterprise.signals.signal_base: Setting J1640+2224_L-wide_PUPPI_log10_equad to -8.075008065199082\n",
      "INFO: enterprise.signals.signal_base: Setting J1640+2224_430_ASP_log10_ecorr to -7.788811673814794\n",
      "INFO: enterprise.signals.signal_base: Setting J1640+2224_430_PUPPI_log10_ecorr to -6.901622491949263\n",
      "INFO: enterprise.signals.signal_base: Setting J1640+2224_L-wide_ASP_log10_ecorr to -6.275572665649051\n",
      "INFO: enterprise.signals.signal_base: Setting J1640+2224_L-wide_PUPPI_log10_ecorr to -6.4079933035010095\n",
      "INFO: enterprise.signals.signal_base: Setting J1643-1224_Rcvr1_2_GASP_efac to 1.0071858015273707\n",
      "INFO: enterprise.signals.signal_base: Setting J1643-1224_Rcvr1_2_GUPPI_efac to 1.1247022811624827\n",
      "INFO: enterprise.signals.signal_base: Setting J1643-1224_Rcvr_800_GASP_efac to 1.493816799359807\n",
      "INFO: enterprise.signals.signal_base: Setting J1643-1224_Rcvr_800_GUPPI_efac to 1.1921609687505945\n",
      "INFO: enterprise.signals.signal_base: Setting J1643-1224_Rcvr1_2_GASP_log10_equad to -7.277156122921472\n",
      "INFO: enterprise.signals.signal_base: Setting J1643-1224_Rcvr1_2_GUPPI_log10_equad to -7.138128067645691\n",
      "INFO: enterprise.signals.signal_base: Setting J1643-1224_Rcvr_800_GASP_log10_equad to -7.115627957850879\n",
      "INFO: enterprise.signals.signal_base: Setting J1643-1224_Rcvr_800_GUPPI_log10_equad to -5.9780473533853655\n",
      "INFO: enterprise.signals.signal_base: Setting J1643-1224_Rcvr1_2_GASP_log10_ecorr to -7.503311141343279\n",
      "INFO: enterprise.signals.signal_base: Setting J1643-1224_Rcvr1_2_GUPPI_log10_ecorr to -6.042898081068246\n",
      "INFO: enterprise.signals.signal_base: Setting J1643-1224_Rcvr_800_GASP_log10_ecorr to -6.822037374515338\n",
      "INFO: enterprise.signals.signal_base: Setting J1643-1224_Rcvr_800_GUPPI_log10_ecorr to -5.544475232494147\n",
      "INFO: enterprise.signals.signal_base: Setting J1713+0747_L-wide_ASP_efac to 1.0524302344416032\n",
      "INFO: enterprise.signals.signal_base: Setting J1713+0747_L-wide_PUPPI_efac to 0.9796026604137508\n",
      "INFO: enterprise.signals.signal_base: Setting J1713+0747_Rcvr1_2_GASP_efac to 1.084307149708116\n",
      "INFO: enterprise.signals.signal_base: Setting J1713+0747_Rcvr1_2_GUPPI_efac to 1.017213088587959\n",
      "INFO: enterprise.signals.signal_base: Setting J1713+0747_Rcvr_800_GASP_efac to 1.117529091199639\n",
      "INFO: enterprise.signals.signal_base: Setting J1713+0747_Rcvr_800_GUPPI_efac to 1.0500383710337968\n",
      "INFO: enterprise.signals.signal_base: Setting J1713+0747_S-wide_ASP_efac to 1.1139598766607257\n",
      "INFO: enterprise.signals.signal_base: Setting J1713+0747_S-wide_PUPPI_efac to 1.0889710082237398\n",
      "INFO: enterprise.signals.signal_base: Setting J1713+0747_L-wide_ASP_log10_equad to -7.58206720746206\n",
      "INFO: enterprise.signals.signal_base: Setting J1713+0747_L-wide_PUPPI_log10_equad to -8.377098873197399\n",
      "INFO: enterprise.signals.signal_base: Setting J1713+0747_Rcvr1_2_GASP_log10_equad to -7.423897862687164\n",
      "INFO: enterprise.signals.signal_base: Setting J1713+0747_Rcvr1_2_GUPPI_log10_equad to -8.357193830632392\n",
      "INFO: enterprise.signals.signal_base: Setting J1713+0747_Rcvr_800_GASP_log10_equad to -7.251839650442933\n",
      "INFO: enterprise.signals.signal_base: Setting J1713+0747_Rcvr_800_GUPPI_log10_equad to -7.614933520652966\n",
      "INFO: enterprise.signals.signal_base: Setting J1713+0747_S-wide_ASP_log10_equad to -8.027710747783962\n",
      "INFO: enterprise.signals.signal_base: Setting J1713+0747_S-wide_PUPPI_log10_equad to -8.186781270775445\n",
      "INFO: enterprise.signals.signal_base: Setting J1713+0747_L-wide_ASP_log10_ecorr to -7.029000061406403\n",
      "INFO: enterprise.signals.signal_base: Setting J1713+0747_L-wide_PUPPI_log10_ecorr to -7.142663306094692\n",
      "INFO: enterprise.signals.signal_base: Setting J1713+0747_Rcvr1_2_GASP_log10_ecorr to -7.299970815145262\n",
      "INFO: enterprise.signals.signal_base: Setting J1713+0747_Rcvr1_2_GUPPI_log10_ecorr to -7.131010248150742\n",
      "INFO: enterprise.signals.signal_base: Setting J1713+0747_Rcvr_800_GASP_log10_ecorr to -7.788837849013025\n",
      "INFO: enterprise.signals.signal_base: Setting J1713+0747_Rcvr_800_GUPPI_log10_ecorr to -6.730867845961182\n",
      "INFO: enterprise.signals.signal_base: Setting J1713+0747_S-wide_ASP_log10_ecorr to -6.876597410265874\n",
      "INFO: enterprise.signals.signal_base: Setting J1713+0747_S-wide_PUPPI_log10_ecorr to -7.305157969602163\n",
      "INFO: enterprise.signals.signal_base: Setting J1738+0333_L-wide_ASP_efac to 1.1479069042742471\n",
      "INFO: enterprise.signals.signal_base: Setting J1738+0333_L-wide_PUPPI_efac to 1.0710506604701162\n",
      "INFO: enterprise.signals.signal_base: Setting J1738+0333_S-wide_ASP_efac to 0.9465373677964157\n",
      "INFO: enterprise.signals.signal_base: Setting J1738+0333_S-wide_PUPPI_efac to 0.8845264245078953\n",
      "INFO: enterprise.signals.signal_base: Setting J1738+0333_L-wide_ASP_log10_equad to -7.579720669663646\n",
      "INFO: enterprise.signals.signal_base: Setting J1738+0333_L-wide_PUPPI_log10_equad to -7.886362963443982\n",
      "INFO: enterprise.signals.signal_base: Setting J1738+0333_S-wide_ASP_log10_equad to -7.565578005221636\n",
      "INFO: enterprise.signals.signal_base: Setting J1738+0333_S-wide_PUPPI_log10_equad to -7.767394128812992\n",
      "INFO: enterprise.signals.signal_base: Setting J1738+0333_L-wide_ASP_log10_ecorr to -7.060532309258772\n",
      "INFO: enterprise.signals.signal_base: Setting J1738+0333_L-wide_PUPPI_log10_ecorr to -7.019786250261518\n",
      "INFO: enterprise.signals.signal_base: Setting J1738+0333_S-wide_ASP_log10_ecorr to -7.381958762803754\n",
      "INFO: enterprise.signals.signal_base: Setting J1738+0333_S-wide_PUPPI_log10_ecorr to -7.7411812625497936\n",
      "INFO: enterprise.signals.signal_base: Setting J1744-1134_Rcvr1_2_GASP_efac to 0.9978514871735024\n",
      "INFO: enterprise.signals.signal_base: Setting J1744-1134_Rcvr1_2_GUPPI_efac to 1.053362947622705\n",
      "INFO: enterprise.signals.signal_base: Setting J1744-1134_Rcvr_800_GASP_efac to 1.1285830055400954\n",
      "INFO: enterprise.signals.signal_base: Setting J1744-1134_Rcvr_800_GUPPI_efac to 1.0350590534568576\n",
      "INFO: enterprise.signals.signal_base: Setting J1744-1134_Rcvr1_2_GASP_log10_equad to -6.381411751584569\n",
      "INFO: enterprise.signals.signal_base: Setting J1744-1134_Rcvr1_2_GUPPI_log10_equad to -7.003305288540264\n",
      "INFO: enterprise.signals.signal_base: Setting J1744-1134_Rcvr_800_GASP_log10_equad to -6.4572271715342175\n",
      "INFO: enterprise.signals.signal_base: Setting J1744-1134_Rcvr_800_GUPPI_log10_equad to -6.613992229078914\n",
      "INFO: enterprise.signals.signal_base: Setting J1744-1134_Rcvr1_2_GASP_log10_ecorr to -6.292180076314258\n",
      "INFO: enterprise.signals.signal_base: Setting J1744-1134_Rcvr1_2_GUPPI_log10_ecorr to -6.537490178263718\n",
      "INFO: enterprise.signals.signal_base: Setting J1744-1134_Rcvr_800_GASP_log10_ecorr to -6.61724561091565\n",
      "INFO: enterprise.signals.signal_base: Setting J1744-1134_Rcvr_800_GUPPI_log10_ecorr to -6.396301881001724\n",
      "INFO: enterprise.signals.signal_base: Setting J1903+0327_L-wide_ASP_efac to 1.179706924996803\n",
      "INFO: enterprise.signals.signal_base: Setting J1903+0327_L-wide_PUPPI_efac to 1.168460641474899\n",
      "INFO: enterprise.signals.signal_base: Setting J1903+0327_S-wide_ASP_efac to 0.8321334329815202\n",
      "INFO: enterprise.signals.signal_base: Setting J1903+0327_S-wide_PUPPI_efac to 1.1095637896315254\n",
      "INFO: enterprise.signals.signal_base: Setting J1903+0327_L-wide_ASP_log10_equad to -7.158390864212146\n",
      "INFO: enterprise.signals.signal_base: Setting J1903+0327_L-wide_PUPPI_log10_equad to -7.759288526577286\n",
      "INFO: enterprise.signals.signal_base: Setting J1903+0327_S-wide_ASP_log10_equad to -6.16963651015452\n",
      "INFO: enterprise.signals.signal_base: Setting J1903+0327_S-wide_PUPPI_log10_equad to -7.574001886389685\n",
      "INFO: enterprise.signals.signal_base: Setting J1903+0327_L-wide_ASP_log10_ecorr to -7.172149108226772\n",
      "INFO: enterprise.signals.signal_base: Setting J1903+0327_L-wide_PUPPI_log10_ecorr to -5.636329138486162\n",
      "INFO: enterprise.signals.signal_base: Setting J1903+0327_S-wide_ASP_log10_ecorr to -7.364742895573575\n",
      "INFO: enterprise.signals.signal_base: Setting J1903+0327_S-wide_PUPPI_log10_ecorr to -7.45437286784459\n",
      "INFO: enterprise.signals.signal_base: Setting J1909-3744_Rcvr1_2_GASP_efac to 0.9505606759311833\n",
      "INFO: enterprise.signals.signal_base: Setting J1909-3744_Rcvr1_2_GUPPI_efac to 1.0339776268866265\n",
      "INFO: enterprise.signals.signal_base: Setting J1909-3744_Rcvr_800_GASP_efac to 1.0504080629362422\n",
      "INFO: enterprise.signals.signal_base: Setting J1909-3744_Rcvr_800_GUPPI_efac to 1.0313779800296294\n",
      "INFO: enterprise.signals.signal_base: Setting J1909-3744_Rcvr1_2_GASP_log10_equad to -7.456278210493956\n",
      "INFO: enterprise.signals.signal_base: Setting J1909-3744_Rcvr1_2_GUPPI_log10_equad to -8.171553179171445\n",
      "INFO: enterprise.signals.signal_base: Setting J1909-3744_Rcvr_800_GASP_log10_equad to -7.037406290351743\n",
      "INFO: enterprise.signals.signal_base: Setting J1909-3744_Rcvr_800_GUPPI_log10_equad to -7.365322642903795\n",
      "INFO: enterprise.signals.signal_base: Setting J1909-3744_Rcvr1_2_GASP_log10_ecorr to -8.078816887958723\n",
      "INFO: enterprise.signals.signal_base: Setting J1909-3744_Rcvr1_2_GUPPI_log10_ecorr to -7.137638201510413\n",
      "INFO: enterprise.signals.signal_base: Setting J1909-3744_Rcvr_800_GASP_log10_ecorr to -7.871774784575877\n",
      "INFO: enterprise.signals.signal_base: Setting J1909-3744_Rcvr_800_GUPPI_log10_ecorr to -7.269816370154123\n",
      "INFO: enterprise.signals.signal_base: Setting J1910+1256_L-wide_ASP_efac to 1.063590147073229\n",
      "INFO: enterprise.signals.signal_base: Setting J1910+1256_L-wide_PUPPI_efac to 1.0931136416030962\n",
      "INFO: enterprise.signals.signal_base: Setting J1910+1256_S-wide_ASP_efac to 0.9661536934887565\n",
      "INFO: enterprise.signals.signal_base: Setting J1910+1256_S-wide_PUPPI_efac to 1.0982792255110136\n",
      "INFO: enterprise.signals.signal_base: Setting J1910+1256_L-wide_ASP_log10_equad to -7.516992859042785\n",
      "INFO: enterprise.signals.signal_base: Setting J1910+1256_L-wide_PUPPI_log10_equad to -7.585087262800533\n",
      "INFO: enterprise.signals.signal_base: Setting J1910+1256_S-wide_ASP_log10_equad to -6.218657154174941\n",
      "INFO: enterprise.signals.signal_base: Setting J1910+1256_S-wide_PUPPI_log10_equad to -7.401958120896809\n",
      "INFO: enterprise.signals.signal_base: Setting J1910+1256_L-wide_ASP_log10_ecorr to -7.259684055387137\n",
      "INFO: enterprise.signals.signal_base: Setting J1910+1256_L-wide_PUPPI_log10_ecorr to -7.403550254322336\n",
      "INFO: enterprise.signals.signal_base: Setting J1910+1256_S-wide_ASP_log10_ecorr to -7.195615972473434\n",
      "INFO: enterprise.signals.signal_base: Setting J1910+1256_S-wide_PUPPI_log10_ecorr to -6.218612073150832\n",
      "INFO: enterprise.signals.signal_base: Setting J1918-0642_Rcvr1_2_GASP_efac to 1.0272847294363423\n",
      "INFO: enterprise.signals.signal_base: Setting J1918-0642_Rcvr1_2_GUPPI_efac to 1.035664184009173\n",
      "INFO: enterprise.signals.signal_base: Setting J1918-0642_Rcvr_800_GASP_efac to 1.0557165923306966\n",
      "INFO: enterprise.signals.signal_base: Setting J1918-0642_Rcvr_800_GUPPI_efac to 1.034910727323206\n",
      "INFO: enterprise.signals.signal_base: Setting J1918-0642_Rcvr1_2_GASP_log10_equad to -7.67322161371427\n",
      "INFO: enterprise.signals.signal_base: Setting J1918-0642_Rcvr1_2_GUPPI_log10_equad to -7.3696863188027075\n",
      "INFO: enterprise.signals.signal_base: Setting J1918-0642_Rcvr_800_GASP_log10_equad to -7.105797415440444\n",
      "INFO: enterprise.signals.signal_base: Setting J1918-0642_Rcvr_800_GUPPI_log10_equad to -7.086564536955872\n",
      "INFO: enterprise.signals.signal_base: Setting J1918-0642_Rcvr1_2_GASP_log10_ecorr to -7.37828526123227\n",
      "INFO: enterprise.signals.signal_base: Setting J1918-0642_Rcvr1_2_GUPPI_log10_ecorr to -7.4935011859866485\n",
      "INFO: enterprise.signals.signal_base: Setting J1918-0642_Rcvr_800_GASP_log10_ecorr to -7.559243560441317\n",
      "INFO: enterprise.signals.signal_base: Setting J1918-0642_Rcvr_800_GUPPI_log10_ecorr to -6.525389492066881\n",
      "INFO: enterprise.signals.signal_base: Setting J1944+0907_430_ASP_efac to 1.0814498126291534\n",
      "INFO: enterprise.signals.signal_base: Setting J1944+0907_430_PUPPI_efac to 1.0727024023469869\n",
      "INFO: enterprise.signals.signal_base: Setting J1944+0907_L-wide_ASP_efac to 1.5390588569396464\n",
      "INFO: enterprise.signals.signal_base: Setting J1944+0907_L-wide_PUPPI_efac to 1.1696155596603073\n",
      "INFO: enterprise.signals.signal_base: Setting J1944+0907_430_ASP_log10_equad to -7.243114059446985\n",
      "INFO: enterprise.signals.signal_base: Setting J1944+0907_430_PUPPI_log10_equad to -6.926315089238918\n",
      "INFO: enterprise.signals.signal_base: Setting J1944+0907_L-wide_ASP_log10_equad to -7.238241222764401\n",
      "INFO: enterprise.signals.signal_base: Setting J1944+0907_L-wide_PUPPI_log10_equad to -7.693354205218862\n",
      "INFO: enterprise.signals.signal_base: Setting J1944+0907_430_ASP_log10_ecorr to -6.8879174105358185\n",
      "INFO: enterprise.signals.signal_base: Setting J1944+0907_430_PUPPI_log10_ecorr to -7.1306299212575945\n",
      "INFO: enterprise.signals.signal_base: Setting J1944+0907_L-wide_ASP_log10_ecorr to -7.104483772896318\n",
      "INFO: enterprise.signals.signal_base: Setting J1944+0907_L-wide_PUPPI_log10_ecorr to -6.546284570029579\n",
      "INFO: enterprise.signals.signal_base: Setting J2010-1323_Rcvr1_2_GASP_efac to 1.0179865222180375\n",
      "INFO: enterprise.signals.signal_base: Setting J2010-1323_Rcvr1_2_GUPPI_efac to 1.046213434079912\n",
      "INFO: enterprise.signals.signal_base: Setting J2010-1323_Rcvr_800_GASP_efac to 1.0631310225900652\n",
      "INFO: enterprise.signals.signal_base: Setting J2010-1323_Rcvr_800_GUPPI_efac to 0.9946706739052781\n",
      "INFO: enterprise.signals.signal_base: Setting J2010-1323_Rcvr1_2_GASP_log10_equad to -7.170459137166772\n",
      "INFO: enterprise.signals.signal_base: Setting J2010-1323_Rcvr1_2_GUPPI_log10_equad to -7.676454828722258\n",
      "INFO: enterprise.signals.signal_base: Setting J2010-1323_Rcvr_800_GASP_log10_equad to -7.260685669109653\n",
      "INFO: enterprise.signals.signal_base: Setting J2010-1323_Rcvr_800_GUPPI_log10_equad to -7.2177759208361\n",
      "INFO: enterprise.signals.signal_base: Setting J2010-1323_Rcvr1_2_GASP_log10_ecorr to -7.182315425909628\n",
      "INFO: enterprise.signals.signal_base: Setting J2010-1323_Rcvr1_2_GUPPI_log10_ecorr to -7.686560497366312\n",
      "INFO: enterprise.signals.signal_base: Setting J2010-1323_Rcvr_800_GASP_log10_ecorr to -7.241412604014393\n",
      "INFO: enterprise.signals.signal_base: Setting J2010-1323_Rcvr_800_GUPPI_log10_ecorr to -7.580143294343043\n",
      "INFO: enterprise.signals.signal_base: Setting J2145-0750_Rcvr1_2_GASP_efac to 1.0110230422869044\n",
      "INFO: enterprise.signals.signal_base: Setting J2145-0750_Rcvr1_2_GUPPI_efac to 1.0265447460207069\n",
      "INFO: enterprise.signals.signal_base: Setting J2145-0750_Rcvr_800_GASP_efac to 1.2601984171075302\n",
      "INFO: enterprise.signals.signal_base: Setting J2145-0750_Rcvr_800_GUPPI_efac to 1.0476740581711277\n",
      "INFO: enterprise.signals.signal_base: Setting J2145-0750_Rcvr1_2_GASP_log10_equad to -5.705026109830131\n",
      "INFO: enterprise.signals.signal_base: Setting J2145-0750_Rcvr1_2_GUPPI_log10_equad to -7.938817552005569\n",
      "INFO: enterprise.signals.signal_base: Setting J2145-0750_Rcvr_800_GASP_log10_equad to -6.513203859186709\n",
      "INFO: enterprise.signals.signal_base: Setting J2145-0750_Rcvr_800_GUPPI_log10_equad to -6.4184191843741445\n",
      "INFO: enterprise.signals.signal_base: Setting J2145-0750_Rcvr1_2_GASP_log10_ecorr to -6.243824665782128\n",
      "INFO: enterprise.signals.signal_base: Setting J2145-0750_Rcvr1_2_GUPPI_log10_ecorr to -6.355906738653193\n",
      "INFO: enterprise.signals.signal_base: Setting J2145-0750_Rcvr_800_GASP_log10_ecorr to -6.233581141499856\n",
      "INFO: enterprise.signals.signal_base: Setting J2145-0750_Rcvr_800_GUPPI_log10_ecorr to -6.598154829313346\n",
      "INFO: enterprise.signals.signal_base: Setting J2317+1439_327_ASP_efac to 1.0823722500112272\n",
      "INFO: enterprise.signals.signal_base: Setting J2317+1439_327_PUPPI_efac to 1.17384139990156\n",
      "INFO: enterprise.signals.signal_base: Setting J2317+1439_430_ASP_efac to 1.2574511773494976\n",
      "INFO: enterprise.signals.signal_base: Setting J2317+1439_430_PUPPI_efac to 1.0163851726761812\n",
      "INFO: enterprise.signals.signal_base: Setting J2317+1439_L-wide_PUPPI_efac to 1.1163982326548925\n",
      "INFO: enterprise.signals.signal_base: Setting J2317+1439_327_ASP_log10_equad to -6.457911273619141\n",
      "INFO: enterprise.signals.signal_base: Setting J2317+1439_327_PUPPI_log10_equad to -6.462306002360743\n",
      "INFO: enterprise.signals.signal_base: Setting J2317+1439_430_ASP_log10_equad to -7.3732139102446626\n",
      "INFO: enterprise.signals.signal_base: Setting J2317+1439_430_PUPPI_log10_equad to -6.535705196682452\n",
      "INFO: enterprise.signals.signal_base: Setting J2317+1439_L-wide_PUPPI_log10_equad to -7.463944437178126\n",
      "INFO: enterprise.signals.signal_base: Setting J2317+1439_327_ASP_log10_ecorr to -7.706187896212512\n",
      "INFO: enterprise.signals.signal_base: Setting J2317+1439_327_PUPPI_log10_ecorr to -6.392284847303101\n",
      "INFO: enterprise.signals.signal_base: Setting J2317+1439_430_ASP_log10_ecorr to -6.509624616624109\n",
      "INFO: enterprise.signals.signal_base: Setting J2317+1439_430_PUPPI_log10_ecorr to -6.87918040058842\n",
      "INFO: enterprise.signals.signal_base: Setting J2317+1439_L-wide_PUPPI_log10_ecorr to -6.6463560361584975\n",
      "INFO: enterprise.signals.signal_base: Setting B1855+09_430_ASP_efac to 1.149036589204419\n",
      "INFO: enterprise.signals.signal_base: Setting B1855+09_430_PUPPI_efac to 1.0543836580555548\n",
      "INFO: enterprise.signals.signal_base: Setting B1855+09_L-wide_ASP_efac to 1.080749375878354\n",
      "INFO: enterprise.signals.signal_base: Setting B1855+09_L-wide_PUPPI_efac to 1.2429537099744354\n",
      "INFO: enterprise.signals.signal_base: Setting B1855+09_430_ASP_log10_equad to -7.379759355541006\n",
      "INFO: enterprise.signals.signal_base: Setting B1855+09_430_PUPPI_log10_equad to -6.348065001180634\n",
      "INFO: enterprise.signals.signal_base: Setting B1855+09_L-wide_ASP_log10_equad to -6.51289896375955\n",
      "INFO: enterprise.signals.signal_base: Setting B1855+09_L-wide_PUPPI_log10_equad to -7.821737281350602\n",
      "INFO: enterprise.signals.signal_base: Setting B1855+09_430_ASP_log10_ecorr to -7.415374510054153\n",
      "INFO: enterprise.signals.signal_base: Setting B1855+09_430_PUPPI_log10_ecorr to -5.671108063699219\n",
      "INFO: enterprise.signals.signal_base: Setting B1855+09_L-wide_ASP_log10_ecorr to -6.092899143243734\n",
      "INFO: enterprise.signals.signal_base: Setting B1855+09_L-wide_PUPPI_log10_ecorr to -6.641281263572077\n",
      "INFO: enterprise.signals.signal_base: Setting B1937+21_L-wide_ASP_efac to 2.048754020884262\n",
      "INFO: enterprise.signals.signal_base: Setting B1937+21_L-wide_PUPPI_efac to 2.12041666470792\n",
      "INFO: enterprise.signals.signal_base: Setting B1937+21_Rcvr1_2_GASP_efac to 1.1708200812403644\n",
      "INFO: enterprise.signals.signal_base: Setting B1937+21_Rcvr1_2_GUPPI_efac to 1.4415081390299156\n",
      "INFO: enterprise.signals.signal_base: Setting B1937+21_Rcvr_800_GASP_efac to 2.1333453783210095\n",
      "INFO: enterprise.signals.signal_base: Setting B1937+21_Rcvr_800_GUPPI_efac to 4.219838621260683\n",
      "INFO: enterprise.signals.signal_base: Setting B1937+21_S-wide_ASP_efac to 1.5159731379775645\n",
      "INFO: enterprise.signals.signal_base: Setting B1937+21_S-wide_PUPPI_efac to 1.2470571693911434\n",
      "INFO: enterprise.signals.signal_base: Setting B1937+21_L-wide_ASP_log10_equad to -6.785369742733748\n",
      "INFO: enterprise.signals.signal_base: Setting B1937+21_L-wide_PUPPI_log10_equad to -7.147037241326325\n",
      "INFO: enterprise.signals.signal_base: Setting B1937+21_Rcvr1_2_GASP_log10_equad to -7.028404298685201\n",
      "INFO: enterprise.signals.signal_base: Setting B1937+21_Rcvr1_2_GUPPI_log10_equad to -7.139419197676975\n",
      "INFO: enterprise.signals.signal_base: Setting B1937+21_Rcvr_800_GASP_log10_equad to -6.669528646515994\n",
      "INFO: enterprise.signals.signal_base: Setting B1937+21_Rcvr_800_GUPPI_log10_equad to -6.603208890098822\n",
      "INFO: enterprise.signals.signal_base: Setting B1937+21_S-wide_ASP_log10_equad to -6.781862531120971\n",
      "INFO: enterprise.signals.signal_base: Setting B1937+21_S-wide_PUPPI_log10_equad to -7.011196636087005\n",
      "INFO: enterprise.signals.signal_base: Setting B1937+21_L-wide_ASP_log10_ecorr to -6.940958996081342\n",
      "INFO: enterprise.signals.signal_base: Setting B1937+21_L-wide_PUPPI_log10_ecorr to -7.037572450266321\n",
      "INFO: enterprise.signals.signal_base: Setting B1937+21_Rcvr1_2_GASP_log10_ecorr to -6.9573181220861695\n",
      "INFO: enterprise.signals.signal_base: Setting B1937+21_Rcvr1_2_GUPPI_log10_ecorr to -6.873056983920257\n",
      "INFO: enterprise.signals.signal_base: Setting B1937+21_Rcvr_800_GASP_log10_ecorr to -8.024096164984243\n",
      "INFO: enterprise.signals.signal_base: Setting B1937+21_Rcvr_800_GUPPI_log10_ecorr to -6.441588828662218\n",
      "INFO: enterprise.signals.signal_base: Setting B1937+21_S-wide_ASP_log10_ecorr to -6.55920330997421\n",
      "INFO: enterprise.signals.signal_base: Setting B1937+21_S-wide_PUPPI_log10_ecorr to -6.867655505641185\n",
      "INFO: enterprise.signals.signal_base: Setting J0030+0451_430_ASP_efac to 1.178988376393598\n",
      "INFO: enterprise.signals.signal_base: Setting J0030+0451_430_PUPPI_efac to 1.0168220759726072\n",
      "INFO: enterprise.signals.signal_base: Setting J0030+0451_L-wide_ASP_efac to 1.1594082526710712\n",
      "INFO: enterprise.signals.signal_base: Setting J0030+0451_L-wide_PUPPI_efac to 1.1157243178133207\n",
      "INFO: enterprise.signals.signal_base: Setting J0030+0451_S-wide_PUPPI_efac to 0.991497940413971\n",
      "INFO: enterprise.signals.signal_base: Setting J0030+0451_430_ASP_log10_equad to -7.60151264056324\n",
      "INFO: enterprise.signals.signal_base: Setting J0030+0451_430_PUPPI_log10_equad to -7.8144222164663235\n",
      "INFO: enterprise.signals.signal_base: Setting J0030+0451_L-wide_ASP_log10_equad to -7.526120409087749\n",
      "INFO: enterprise.signals.signal_base: Setting J0030+0451_L-wide_PUPPI_log10_equad to -7.687444375922908\n",
      "INFO: enterprise.signals.signal_base: Setting J0030+0451_S-wide_PUPPI_log10_equad to -7.396119136419303\n",
      "INFO: enterprise.signals.signal_base: Setting J0030+0451_430_ASP_log10_ecorr to -7.637597883725108\n",
      "INFO: enterprise.signals.signal_base: Setting J0030+0451_430_PUPPI_log10_ecorr to -7.458377805782614\n",
      "INFO: enterprise.signals.signal_base: Setting J0030+0451_L-wide_ASP_log10_ecorr to -7.652790501212441\n",
      "INFO: enterprise.signals.signal_base: Setting J0030+0451_L-wide_PUPPI_log10_ecorr to -7.712152616003756\n",
      "INFO: enterprise.signals.signal_base: Setting J0030+0451_S-wide_PUPPI_log10_ecorr to -7.4855687647637446\n",
      "INFO: enterprise.signals.signal_base: Setting J0613-0200_Rcvr1_2_GASP_efac to 1.0670783724500694\n",
      "INFO: enterprise.signals.signal_base: Setting J0613-0200_Rcvr1_2_GUPPI_efac to 1.0430747567523209\n",
      "INFO: enterprise.signals.signal_base: Setting J0613-0200_Rcvr_800_GASP_efac to 1.0914149510171187\n",
      "INFO: enterprise.signals.signal_base: Setting J0613-0200_Rcvr_800_GUPPI_efac to 1.1066698572535434\n",
      "INFO: enterprise.signals.signal_base: Setting J0613-0200_Rcvr1_2_GASP_log10_equad to -7.5596546617250215\n",
      "INFO: enterprise.signals.signal_base: Setting J0613-0200_Rcvr1_2_GUPPI_log10_equad to -7.616764039524012\n",
      "INFO: enterprise.signals.signal_base: Setting J0613-0200_Rcvr_800_GASP_log10_equad to -7.6069868785882795\n",
      "INFO: enterprise.signals.signal_base: Setting J0613-0200_Rcvr_800_GUPPI_log10_equad to -6.650927606600988\n",
      "INFO: enterprise.signals.signal_base: Setting J0613-0200_Rcvr1_2_GASP_log10_ecorr to -7.518791621441214\n",
      "INFO: enterprise.signals.signal_base: Setting J0613-0200_Rcvr1_2_GUPPI_log10_ecorr to -6.783106192555926\n",
      "INFO: enterprise.signals.signal_base: Setting J0613-0200_Rcvr_800_GASP_log10_ecorr to -7.737621417529334\n",
      "INFO: enterprise.signals.signal_base: Setting J0613-0200_Rcvr_800_GUPPI_log10_ecorr to -6.785665911883737\n",
      "INFO: enterprise.signals.signal_base: Setting J0645+5158_Rcvr1_2_GUPPI_efac to 1.0435585167422876\n",
      "INFO: enterprise.signals.signal_base: Setting J0645+5158_Rcvr_800_GUPPI_efac to 0.978554109695437\n",
      "INFO: enterprise.signals.signal_base: Setting J0645+5158_Rcvr1_2_GUPPI_log10_equad to -7.513289178616864\n",
      "INFO: enterprise.signals.signal_base: Setting J0645+5158_Rcvr_800_GUPPI_log10_equad to -7.062675708760795\n",
      "INFO: enterprise.signals.signal_base: Setting J0645+5158_Rcvr1_2_GUPPI_log10_ecorr to -7.469787739972568\n",
      "INFO: enterprise.signals.signal_base: Setting J0645+5158_Rcvr_800_GUPPI_log10_ecorr to -7.21903125633763\n",
      "INFO: enterprise.signals.signal_base: Setting J1012+5307_Rcvr1_2_GASP_efac to 1.0591690736069472\n",
      "INFO: enterprise.signals.signal_base: Setting J1012+5307_Rcvr1_2_GUPPI_efac to 1.0062638587421908\n",
      "INFO: enterprise.signals.signal_base: Setting J1012+5307_Rcvr_800_GASP_efac to 1.134064401904284\n",
      "INFO: enterprise.signals.signal_base: Setting J1012+5307_Rcvr_800_GUPPI_efac to 1.062753909375921\n",
      "INFO: enterprise.signals.signal_base: Setting J1012+5307_Rcvr1_2_GASP_log10_equad to -7.337569048606985\n",
      "INFO: enterprise.signals.signal_base: Setting J1012+5307_Rcvr1_2_GUPPI_log10_equad to -7.777675843382624\n",
      "INFO: enterprise.signals.signal_base: Setting J1012+5307_Rcvr_800_GASP_log10_equad to -7.335838608622016\n",
      "INFO: enterprise.signals.signal_base: Setting J1012+5307_Rcvr_800_GUPPI_log10_equad to -6.506908723632507\n",
      "INFO: enterprise.signals.signal_base: Setting J1012+5307_Rcvr1_2_GASP_log10_ecorr to -6.520878820970742\n",
      "INFO: enterprise.signals.signal_base: Setting J1012+5307_Rcvr1_2_GUPPI_log10_ecorr to -6.39401084619692\n",
      "INFO: enterprise.signals.signal_base: Setting J1012+5307_Rcvr_800_GASP_log10_ecorr to -7.672411945457032\n",
      "INFO: enterprise.signals.signal_base: Setting J1012+5307_Rcvr_800_GUPPI_log10_ecorr to -7.741968522547623\n",
      "INFO: enterprise.signals.signal_base: Setting J1024-0719_Rcvr1_2_GASP_efac to 0.910756763515209\n",
      "INFO: enterprise.signals.signal_base: Setting J1024-0719_Rcvr1_2_GUPPI_efac to 1.0291119595206812\n",
      "INFO: enterprise.signals.signal_base: Setting J1024-0719_Rcvr_800_GASP_efac to 0.9894501502567977\n",
      "INFO: enterprise.signals.signal_base: Setting J1024-0719_Rcvr_800_GUPPI_efac to 1.0271589257321567\n",
      "INFO: enterprise.signals.signal_base: Setting J1024-0719_Rcvr1_2_GASP_log10_equad to -6.739263270711485\n",
      "INFO: enterprise.signals.signal_base: Setting J1024-0719_Rcvr1_2_GUPPI_log10_equad to -7.7609576526780275\n",
      "INFO: enterprise.signals.signal_base: Setting J1024-0719_Rcvr_800_GASP_log10_equad to -7.194552724916308\n",
      "INFO: enterprise.signals.signal_base: Setting J1024-0719_Rcvr_800_GUPPI_log10_equad to -7.836287384896643\n",
      "INFO: enterprise.signals.signal_base: Setting J1024-0719_Rcvr1_2_GASP_log10_ecorr to -7.131954410884169\n",
      "INFO: enterprise.signals.signal_base: Setting J1024-0719_Rcvr1_2_GUPPI_log10_ecorr to -6.700450821263385\n",
      "INFO: enterprise.signals.signal_base: Setting J1024-0719_Rcvr_800_GASP_log10_ecorr to -7.066941892042146\n",
      "INFO: enterprise.signals.signal_base: Setting J1024-0719_Rcvr_800_GUPPI_log10_ecorr to -7.348793203212565\n",
      "INFO: enterprise.signals.signal_base: Setting J1455-3330_Rcvr1_2_GASP_efac to 1.1400870761562596\n",
      "INFO: enterprise.signals.signal_base: Setting J1455-3330_Rcvr1_2_GUPPI_efac to 1.082303099576083\n",
      "INFO: enterprise.signals.signal_base: Setting J1455-3330_Rcvr_800_GASP_efac to 1.2328191470185799\n",
      "INFO: enterprise.signals.signal_base: Setting J1455-3330_Rcvr_800_GUPPI_efac to 1.0054353177825495\n",
      "INFO: enterprise.signals.signal_base: Setting J1455-3330_Rcvr1_2_GASP_log10_equad to -7.192520761470676\n",
      "INFO: enterprise.signals.signal_base: Setting J1455-3330_Rcvr1_2_GUPPI_log10_equad to -7.524353545826194\n",
      "INFO: enterprise.signals.signal_base: Setting J1455-3330_Rcvr_800_GASP_log10_equad to -7.050869987259775\n",
      "INFO: enterprise.signals.signal_base: Setting J1455-3330_Rcvr_800_GUPPI_log10_equad to -7.558835853872056\n",
      "INFO: enterprise.signals.signal_base: Setting J1455-3330_Rcvr1_2_GASP_log10_ecorr to -5.860332688998369\n",
      "INFO: enterprise.signals.signal_base: Setting J1455-3330_Rcvr1_2_GUPPI_log10_ecorr to -7.629255580321534\n",
      "INFO: enterprise.signals.signal_base: Setting J1455-3330_Rcvr_800_GASP_log10_ecorr to -7.085458304995403\n",
      "INFO: enterprise.signals.signal_base: Setting J1455-3330_Rcvr_800_GUPPI_log10_ecorr to -6.526567653068877\n",
      "INFO: enterprise.signals.signal_base: Setting J1600-3053_Rcvr1_2_GASP_efac to 1.134993789980654\n",
      "INFO: enterprise.signals.signal_base: Setting J1600-3053_Rcvr1_2_GUPPI_efac to 1.0521556985294778\n",
      "INFO: enterprise.signals.signal_base: Setting J1600-3053_Rcvr_800_GASP_efac to 1.1935927243559799\n",
      "INFO: enterprise.signals.signal_base: Setting J1600-3053_Rcvr_800_GUPPI_efac to 1.120996265055496\n",
      "INFO: enterprise.signals.signal_base: Setting J1600-3053_Rcvr1_2_GASP_log10_equad to -6.960586084616913\n",
      "INFO: enterprise.signals.signal_base: Setting J1600-3053_Rcvr1_2_GUPPI_log10_equad to -7.761043891506745\n",
      "INFO: enterprise.signals.signal_base: Setting J1600-3053_Rcvr_800_GASP_log10_equad to -7.311693997685966\n",
      "INFO: enterprise.signals.signal_base: Setting J1600-3053_Rcvr_800_GUPPI_log10_equad to -7.374528725467375\n",
      "INFO: enterprise.signals.signal_base: Setting J1600-3053_Rcvr1_2_GASP_log10_ecorr to -7.134558712552095\n",
      "INFO: enterprise.signals.signal_base: Setting J1600-3053_Rcvr1_2_GUPPI_log10_ecorr to -6.899208552923536\n",
      "INFO: enterprise.signals.signal_base: Setting J1600-3053_Rcvr_800_GASP_log10_ecorr to -7.407293847566683\n",
      "INFO: enterprise.signals.signal_base: Setting J1600-3053_Rcvr_800_GUPPI_log10_ecorr to -6.288542964735563\n",
      "INFO: enterprise.signals.signal_base: Setting J1614-2230_Rcvr1_2_GASP_efac to 1.1369056644435913\n",
      "INFO: enterprise.signals.signal_base: Setting J1614-2230_Rcvr1_2_GUPPI_efac to 1.0636501302858106\n",
      "INFO: enterprise.signals.signal_base: Setting J1614-2230_Rcvr_800_GASP_efac to 0.9178765720365575\n",
      "INFO: enterprise.signals.signal_base: Setting J1614-2230_Rcvr_800_GUPPI_efac to 1.0115241685032286\n",
      "INFO: enterprise.signals.signal_base: Setting J1614-2230_Rcvr1_2_GASP_log10_equad to -7.32067533880299\n",
      "INFO: enterprise.signals.signal_base: Setting J1614-2230_Rcvr1_2_GUPPI_log10_equad to -7.784678758801305\n",
      "INFO: enterprise.signals.signal_base: Setting J1614-2230_Rcvr_800_GASP_log10_equad to -7.2577825388006305\n",
      "INFO: enterprise.signals.signal_base: Setting J1614-2230_Rcvr_800_GUPPI_log10_equad to -7.627864180562532\n",
      "INFO: enterprise.signals.signal_base: Setting J1614-2230_Rcvr1_2_GASP_log10_ecorr to -7.448625358285439\n",
      "INFO: enterprise.signals.signal_base: Setting J1614-2230_Rcvr1_2_GUPPI_log10_ecorr to -7.655859629011535\n",
      "INFO: enterprise.signals.signal_base: Setting J1614-2230_Rcvr_800_GASP_log10_ecorr to -7.299611199085039\n",
      "INFO: enterprise.signals.signal_base: Setting J1614-2230_Rcvr_800_GUPPI_log10_ecorr to -7.4080289590963355\n",
      "INFO: enterprise.signals.signal_base: Setting J1640+2224_430_ASP_efac to 1.143081359459332\n",
      "INFO: enterprise.signals.signal_base: Setting J1640+2224_430_PUPPI_efac to 1.0573767076899483\n",
      "INFO: enterprise.signals.signal_base: Setting J1640+2224_L-wide_ASP_efac to 1.06394287552814\n",
      "INFO: enterprise.signals.signal_base: Setting J1640+2224_L-wide_PUPPI_efac to 1.1457585235526273\n",
      "INFO: enterprise.signals.signal_base: Setting J1640+2224_430_ASP_log10_equad to -6.240784825369144\n",
      "INFO: enterprise.signals.signal_base: Setting J1640+2224_430_PUPPI_log10_equad to -6.9445789284154085\n",
      "INFO: enterprise.signals.signal_base: Setting J1640+2224_L-wide_ASP_log10_equad to -7.649274979312211\n",
      "INFO: enterprise.signals.signal_base: Setting J1640+2224_L-wide_PUPPI_log10_equad to -8.075008065199082\n",
      "INFO: enterprise.signals.signal_base: Setting J1640+2224_430_ASP_log10_ecorr to -7.788811673814794\n",
      "INFO: enterprise.signals.signal_base: Setting J1640+2224_430_PUPPI_log10_ecorr to -6.901622491949263\n",
      "INFO: enterprise.signals.signal_base: Setting J1640+2224_L-wide_ASP_log10_ecorr to -6.275572665649051\n",
      "INFO: enterprise.signals.signal_base: Setting J1640+2224_L-wide_PUPPI_log10_ecorr to -6.4079933035010095\n",
      "INFO: enterprise.signals.signal_base: Setting J1643-1224_Rcvr1_2_GASP_efac to 1.0071858015273707\n",
      "INFO: enterprise.signals.signal_base: Setting J1643-1224_Rcvr1_2_GUPPI_efac to 1.1247022811624827\n",
      "INFO: enterprise.signals.signal_base: Setting J1643-1224_Rcvr_800_GASP_efac to 1.493816799359807\n",
      "INFO: enterprise.signals.signal_base: Setting J1643-1224_Rcvr_800_GUPPI_efac to 1.1921609687505945\n",
      "INFO: enterprise.signals.signal_base: Setting J1643-1224_Rcvr1_2_GASP_log10_equad to -7.277156122921472\n",
      "INFO: enterprise.signals.signal_base: Setting J1643-1224_Rcvr1_2_GUPPI_log10_equad to -7.138128067645691\n",
      "INFO: enterprise.signals.signal_base: Setting J1643-1224_Rcvr_800_GASP_log10_equad to -7.115627957850879\n",
      "INFO: enterprise.signals.signal_base: Setting J1643-1224_Rcvr_800_GUPPI_log10_equad to -5.9780473533853655\n",
      "INFO: enterprise.signals.signal_base: Setting J1643-1224_Rcvr1_2_GASP_log10_ecorr to -7.503311141343279\n",
      "INFO: enterprise.signals.signal_base: Setting J1643-1224_Rcvr1_2_GUPPI_log10_ecorr to -6.042898081068246\n",
      "INFO: enterprise.signals.signal_base: Setting J1643-1224_Rcvr_800_GASP_log10_ecorr to -6.822037374515338\n",
      "INFO: enterprise.signals.signal_base: Setting J1643-1224_Rcvr_800_GUPPI_log10_ecorr to -5.544475232494147\n",
      "INFO: enterprise.signals.signal_base: Setting J1713+0747_L-wide_ASP_efac to 1.0524302344416032\n",
      "INFO: enterprise.signals.signal_base: Setting J1713+0747_L-wide_PUPPI_efac to 0.9796026604137508\n",
      "INFO: enterprise.signals.signal_base: Setting J1713+0747_Rcvr1_2_GASP_efac to 1.084307149708116\n",
      "INFO: enterprise.signals.signal_base: Setting J1713+0747_Rcvr1_2_GUPPI_efac to 1.017213088587959\n",
      "INFO: enterprise.signals.signal_base: Setting J1713+0747_Rcvr_800_GASP_efac to 1.117529091199639\n",
      "INFO: enterprise.signals.signal_base: Setting J1713+0747_Rcvr_800_GUPPI_efac to 1.0500383710337968\n",
      "INFO: enterprise.signals.signal_base: Setting J1713+0747_S-wide_ASP_efac to 1.1139598766607257\n",
      "INFO: enterprise.signals.signal_base: Setting J1713+0747_S-wide_PUPPI_efac to 1.0889710082237398\n",
      "INFO: enterprise.signals.signal_base: Setting J1713+0747_L-wide_ASP_log10_equad to -7.58206720746206\n",
      "INFO: enterprise.signals.signal_base: Setting J1713+0747_L-wide_PUPPI_log10_equad to -8.377098873197399\n",
      "INFO: enterprise.signals.signal_base: Setting J1713+0747_Rcvr1_2_GASP_log10_equad to -7.423897862687164\n",
      "INFO: enterprise.signals.signal_base: Setting J1713+0747_Rcvr1_2_GUPPI_log10_equad to -8.357193830632392\n",
      "INFO: enterprise.signals.signal_base: Setting J1713+0747_Rcvr_800_GASP_log10_equad to -7.251839650442933\n",
      "INFO: enterprise.signals.signal_base: Setting J1713+0747_Rcvr_800_GUPPI_log10_equad to -7.614933520652966\n",
      "INFO: enterprise.signals.signal_base: Setting J1713+0747_S-wide_ASP_log10_equad to -8.027710747783962\n",
      "INFO: enterprise.signals.signal_base: Setting J1713+0747_S-wide_PUPPI_log10_equad to -8.186781270775445\n",
      "INFO: enterprise.signals.signal_base: Setting J1713+0747_L-wide_ASP_log10_ecorr to -7.029000061406403\n",
      "INFO: enterprise.signals.signal_base: Setting J1713+0747_L-wide_PUPPI_log10_ecorr to -7.142663306094692\n",
      "INFO: enterprise.signals.signal_base: Setting J1713+0747_Rcvr1_2_GASP_log10_ecorr to -7.299970815145262\n",
      "INFO: enterprise.signals.signal_base: Setting J1713+0747_Rcvr1_2_GUPPI_log10_ecorr to -7.131010248150742\n",
      "INFO: enterprise.signals.signal_base: Setting J1713+0747_Rcvr_800_GASP_log10_ecorr to -7.788837849013025\n",
      "INFO: enterprise.signals.signal_base: Setting J1713+0747_Rcvr_800_GUPPI_log10_ecorr to -6.730867845961182\n",
      "INFO: enterprise.signals.signal_base: Setting J1713+0747_S-wide_ASP_log10_ecorr to -6.876597410265874\n",
      "INFO: enterprise.signals.signal_base: Setting J1713+0747_S-wide_PUPPI_log10_ecorr to -7.305157969602163\n",
      "INFO: enterprise.signals.signal_base: Setting J1738+0333_L-wide_ASP_efac to 1.1479069042742471\n",
      "INFO: enterprise.signals.signal_base: Setting J1738+0333_L-wide_PUPPI_efac to 1.0710506604701162\n",
      "INFO: enterprise.signals.signal_base: Setting J1738+0333_S-wide_ASP_efac to 0.9465373677964157\n",
      "INFO: enterprise.signals.signal_base: Setting J1738+0333_S-wide_PUPPI_efac to 0.8845264245078953\n",
      "INFO: enterprise.signals.signal_base: Setting J1738+0333_L-wide_ASP_log10_equad to -7.579720669663646\n",
      "INFO: enterprise.signals.signal_base: Setting J1738+0333_L-wide_PUPPI_log10_equad to -7.886362963443982\n",
      "INFO: enterprise.signals.signal_base: Setting J1738+0333_S-wide_ASP_log10_equad to -7.565578005221636\n",
      "INFO: enterprise.signals.signal_base: Setting J1738+0333_S-wide_PUPPI_log10_equad to -7.767394128812992\n",
      "INFO: enterprise.signals.signal_base: Setting J1738+0333_L-wide_ASP_log10_ecorr to -7.060532309258772\n",
      "INFO: enterprise.signals.signal_base: Setting J1738+0333_L-wide_PUPPI_log10_ecorr to -7.019786250261518\n",
      "INFO: enterprise.signals.signal_base: Setting J1738+0333_S-wide_ASP_log10_ecorr to -7.381958762803754\n",
      "INFO: enterprise.signals.signal_base: Setting J1738+0333_S-wide_PUPPI_log10_ecorr to -7.7411812625497936\n",
      "INFO: enterprise.signals.signal_base: Setting J1744-1134_Rcvr1_2_GASP_efac to 0.9978514871735024\n",
      "INFO: enterprise.signals.signal_base: Setting J1744-1134_Rcvr1_2_GUPPI_efac to 1.053362947622705\n",
      "INFO: enterprise.signals.signal_base: Setting J1744-1134_Rcvr_800_GASP_efac to 1.1285830055400954\n",
      "INFO: enterprise.signals.signal_base: Setting J1744-1134_Rcvr_800_GUPPI_efac to 1.0350590534568576\n",
      "INFO: enterprise.signals.signal_base: Setting J1744-1134_Rcvr1_2_GASP_log10_equad to -6.381411751584569\n",
      "INFO: enterprise.signals.signal_base: Setting J1744-1134_Rcvr1_2_GUPPI_log10_equad to -7.003305288540264\n",
      "INFO: enterprise.signals.signal_base: Setting J1744-1134_Rcvr_800_GASP_log10_equad to -6.4572271715342175\n",
      "INFO: enterprise.signals.signal_base: Setting J1744-1134_Rcvr_800_GUPPI_log10_equad to -6.613992229078914\n",
      "INFO: enterprise.signals.signal_base: Setting J1744-1134_Rcvr1_2_GASP_log10_ecorr to -6.292180076314258\n",
      "INFO: enterprise.signals.signal_base: Setting J1744-1134_Rcvr1_2_GUPPI_log10_ecorr to -6.537490178263718\n",
      "INFO: enterprise.signals.signal_base: Setting J1744-1134_Rcvr_800_GASP_log10_ecorr to -6.61724561091565\n",
      "INFO: enterprise.signals.signal_base: Setting J1744-1134_Rcvr_800_GUPPI_log10_ecorr to -6.396301881001724\n",
      "INFO: enterprise.signals.signal_base: Setting J1903+0327_L-wide_ASP_efac to 1.179706924996803\n",
      "INFO: enterprise.signals.signal_base: Setting J1903+0327_L-wide_PUPPI_efac to 1.168460641474899\n",
      "INFO: enterprise.signals.signal_base: Setting J1903+0327_S-wide_ASP_efac to 0.8321334329815202\n",
      "INFO: enterprise.signals.signal_base: Setting J1903+0327_S-wide_PUPPI_efac to 1.1095637896315254\n",
      "INFO: enterprise.signals.signal_base: Setting J1903+0327_L-wide_ASP_log10_equad to -7.158390864212146\n",
      "INFO: enterprise.signals.signal_base: Setting J1903+0327_L-wide_PUPPI_log10_equad to -7.759288526577286\n",
      "INFO: enterprise.signals.signal_base: Setting J1903+0327_S-wide_ASP_log10_equad to -6.16963651015452\n",
      "INFO: enterprise.signals.signal_base: Setting J1903+0327_S-wide_PUPPI_log10_equad to -7.574001886389685\n",
      "INFO: enterprise.signals.signal_base: Setting J1903+0327_L-wide_ASP_log10_ecorr to -7.172149108226772\n",
      "INFO: enterprise.signals.signal_base: Setting J1903+0327_L-wide_PUPPI_log10_ecorr to -5.636329138486162\n",
      "INFO: enterprise.signals.signal_base: Setting J1903+0327_S-wide_ASP_log10_ecorr to -7.364742895573575\n",
      "INFO: enterprise.signals.signal_base: Setting J1903+0327_S-wide_PUPPI_log10_ecorr to -7.45437286784459\n",
      "INFO: enterprise.signals.signal_base: Setting J1909-3744_Rcvr1_2_GASP_efac to 0.9505606759311833\n",
      "INFO: enterprise.signals.signal_base: Setting J1909-3744_Rcvr1_2_GUPPI_efac to 1.0339776268866265\n",
      "INFO: enterprise.signals.signal_base: Setting J1909-3744_Rcvr_800_GASP_efac to 1.0504080629362422\n",
      "INFO: enterprise.signals.signal_base: Setting J1909-3744_Rcvr_800_GUPPI_efac to 1.0313779800296294\n",
      "INFO: enterprise.signals.signal_base: Setting J1909-3744_Rcvr1_2_GASP_log10_equad to -7.456278210493956\n",
      "INFO: enterprise.signals.signal_base: Setting J1909-3744_Rcvr1_2_GUPPI_log10_equad to -8.171553179171445\n",
      "INFO: enterprise.signals.signal_base: Setting J1909-3744_Rcvr_800_GASP_log10_equad to -7.037406290351743\n",
      "INFO: enterprise.signals.signal_base: Setting J1909-3744_Rcvr_800_GUPPI_log10_equad to -7.365322642903795\n",
      "INFO: enterprise.signals.signal_base: Setting J1909-3744_Rcvr1_2_GASP_log10_ecorr to -8.078816887958723\n",
      "INFO: enterprise.signals.signal_base: Setting J1909-3744_Rcvr1_2_GUPPI_log10_ecorr to -7.137638201510413\n",
      "INFO: enterprise.signals.signal_base: Setting J1909-3744_Rcvr_800_GASP_log10_ecorr to -7.871774784575877\n",
      "INFO: enterprise.signals.signal_base: Setting J1909-3744_Rcvr_800_GUPPI_log10_ecorr to -7.269816370154123\n",
      "INFO: enterprise.signals.signal_base: Setting J1910+1256_L-wide_ASP_efac to 1.063590147073229\n",
      "INFO: enterprise.signals.signal_base: Setting J1910+1256_L-wide_PUPPI_efac to 1.0931136416030962\n",
      "INFO: enterprise.signals.signal_base: Setting J1910+1256_S-wide_ASP_efac to 0.9661536934887565\n",
      "INFO: enterprise.signals.signal_base: Setting J1910+1256_S-wide_PUPPI_efac to 1.0982792255110136\n",
      "INFO: enterprise.signals.signal_base: Setting J1910+1256_L-wide_ASP_log10_equad to -7.516992859042785\n",
      "INFO: enterprise.signals.signal_base: Setting J1910+1256_L-wide_PUPPI_log10_equad to -7.585087262800533\n",
      "INFO: enterprise.signals.signal_base: Setting J1910+1256_S-wide_ASP_log10_equad to -6.218657154174941\n",
      "INFO: enterprise.signals.signal_base: Setting J1910+1256_S-wide_PUPPI_log10_equad to -7.401958120896809\n",
      "INFO: enterprise.signals.signal_base: Setting J1910+1256_L-wide_ASP_log10_ecorr to -7.259684055387137\n",
      "INFO: enterprise.signals.signal_base: Setting J1910+1256_L-wide_PUPPI_log10_ecorr to -7.403550254322336\n",
      "INFO: enterprise.signals.signal_base: Setting J1910+1256_S-wide_ASP_log10_ecorr to -7.195615972473434\n",
      "INFO: enterprise.signals.signal_base: Setting J1910+1256_S-wide_PUPPI_log10_ecorr to -6.218612073150832\n",
      "INFO: enterprise.signals.signal_base: Setting J1918-0642_Rcvr1_2_GASP_efac to 1.0272847294363423\n",
      "INFO: enterprise.signals.signal_base: Setting J1918-0642_Rcvr1_2_GUPPI_efac to 1.035664184009173\n",
      "INFO: enterprise.signals.signal_base: Setting J1918-0642_Rcvr_800_GASP_efac to 1.0557165923306966\n",
      "INFO: enterprise.signals.signal_base: Setting J1918-0642_Rcvr_800_GUPPI_efac to 1.034910727323206\n",
      "INFO: enterprise.signals.signal_base: Setting J1918-0642_Rcvr1_2_GASP_log10_equad to -7.67322161371427\n",
      "INFO: enterprise.signals.signal_base: Setting J1918-0642_Rcvr1_2_GUPPI_log10_equad to -7.3696863188027075\n",
      "INFO: enterprise.signals.signal_base: Setting J1918-0642_Rcvr_800_GASP_log10_equad to -7.105797415440444\n",
      "INFO: enterprise.signals.signal_base: Setting J1918-0642_Rcvr_800_GUPPI_log10_equad to -7.086564536955872\n",
      "INFO: enterprise.signals.signal_base: Setting J1918-0642_Rcvr1_2_GASP_log10_ecorr to -7.37828526123227\n",
      "INFO: enterprise.signals.signal_base: Setting J1918-0642_Rcvr1_2_GUPPI_log10_ecorr to -7.4935011859866485\n",
      "INFO: enterprise.signals.signal_base: Setting J1918-0642_Rcvr_800_GASP_log10_ecorr to -7.559243560441317\n",
      "INFO: enterprise.signals.signal_base: Setting J1918-0642_Rcvr_800_GUPPI_log10_ecorr to -6.525389492066881\n",
      "INFO: enterprise.signals.signal_base: Setting J1944+0907_430_ASP_efac to 1.0814498126291534\n",
      "INFO: enterprise.signals.signal_base: Setting J1944+0907_430_PUPPI_efac to 1.0727024023469869\n",
      "INFO: enterprise.signals.signal_base: Setting J1944+0907_L-wide_ASP_efac to 1.5390588569396464\n",
      "INFO: enterprise.signals.signal_base: Setting J1944+0907_L-wide_PUPPI_efac to 1.1696155596603073\n",
      "INFO: enterprise.signals.signal_base: Setting J1944+0907_430_ASP_log10_equad to -7.243114059446985\n",
      "INFO: enterprise.signals.signal_base: Setting J1944+0907_430_PUPPI_log10_equad to -6.926315089238918\n",
      "INFO: enterprise.signals.signal_base: Setting J1944+0907_L-wide_ASP_log10_equad to -7.238241222764401\n",
      "INFO: enterprise.signals.signal_base: Setting J1944+0907_L-wide_PUPPI_log10_equad to -7.693354205218862\n",
      "INFO: enterprise.signals.signal_base: Setting J1944+0907_430_ASP_log10_ecorr to -6.8879174105358185\n",
      "INFO: enterprise.signals.signal_base: Setting J1944+0907_430_PUPPI_log10_ecorr to -7.1306299212575945\n",
      "INFO: enterprise.signals.signal_base: Setting J1944+0907_L-wide_ASP_log10_ecorr to -7.104483772896318\n",
      "INFO: enterprise.signals.signal_base: Setting J1944+0907_L-wide_PUPPI_log10_ecorr to -6.546284570029579\n",
      "INFO: enterprise.signals.signal_base: Setting J2010-1323_Rcvr1_2_GASP_efac to 1.0179865222180375\n",
      "INFO: enterprise.signals.signal_base: Setting J2010-1323_Rcvr1_2_GUPPI_efac to 1.046213434079912\n",
      "INFO: enterprise.signals.signal_base: Setting J2010-1323_Rcvr_800_GASP_efac to 1.0631310225900652\n",
      "INFO: enterprise.signals.signal_base: Setting J2010-1323_Rcvr_800_GUPPI_efac to 0.9946706739052781\n",
      "INFO: enterprise.signals.signal_base: Setting J2010-1323_Rcvr1_2_GASP_log10_equad to -7.170459137166772\n",
      "INFO: enterprise.signals.signal_base: Setting J2010-1323_Rcvr1_2_GUPPI_log10_equad to -7.676454828722258\n",
      "INFO: enterprise.signals.signal_base: Setting J2010-1323_Rcvr_800_GASP_log10_equad to -7.260685669109653\n",
      "INFO: enterprise.signals.signal_base: Setting J2010-1323_Rcvr_800_GUPPI_log10_equad to -7.2177759208361\n",
      "INFO: enterprise.signals.signal_base: Setting J2010-1323_Rcvr1_2_GASP_log10_ecorr to -7.182315425909628\n",
      "INFO: enterprise.signals.signal_base: Setting J2010-1323_Rcvr1_2_GUPPI_log10_ecorr to -7.686560497366312\n",
      "INFO: enterprise.signals.signal_base: Setting J2010-1323_Rcvr_800_GASP_log10_ecorr to -7.241412604014393\n",
      "INFO: enterprise.signals.signal_base: Setting J2010-1323_Rcvr_800_GUPPI_log10_ecorr to -7.580143294343043\n",
      "INFO: enterprise.signals.signal_base: Setting J2145-0750_Rcvr1_2_GASP_efac to 1.0110230422869044\n",
      "INFO: enterprise.signals.signal_base: Setting J2145-0750_Rcvr1_2_GUPPI_efac to 1.0265447460207069\n",
      "INFO: enterprise.signals.signal_base: Setting J2145-0750_Rcvr_800_GASP_efac to 1.2601984171075302\n",
      "INFO: enterprise.signals.signal_base: Setting J2145-0750_Rcvr_800_GUPPI_efac to 1.0476740581711277\n",
      "INFO: enterprise.signals.signal_base: Setting J2145-0750_Rcvr1_2_GASP_log10_equad to -5.705026109830131\n",
      "INFO: enterprise.signals.signal_base: Setting J2145-0750_Rcvr1_2_GUPPI_log10_equad to -7.938817552005569\n",
      "INFO: enterprise.signals.signal_base: Setting J2145-0750_Rcvr_800_GASP_log10_equad to -6.513203859186709\n",
      "INFO: enterprise.signals.signal_base: Setting J2145-0750_Rcvr_800_GUPPI_log10_equad to -6.4184191843741445\n",
      "INFO: enterprise.signals.signal_base: Setting J2145-0750_Rcvr1_2_GASP_log10_ecorr to -6.243824665782128\n",
      "INFO: enterprise.signals.signal_base: Setting J2145-0750_Rcvr1_2_GUPPI_log10_ecorr to -6.355906738653193\n",
      "INFO: enterprise.signals.signal_base: Setting J2145-0750_Rcvr_800_GASP_log10_ecorr to -6.233581141499856\n",
      "INFO: enterprise.signals.signal_base: Setting J2145-0750_Rcvr_800_GUPPI_log10_ecorr to -6.598154829313346\n",
      "INFO: enterprise.signals.signal_base: Setting J2317+1439_327_ASP_efac to 1.0823722500112272\n",
      "INFO: enterprise.signals.signal_base: Setting J2317+1439_327_PUPPI_efac to 1.17384139990156\n",
      "INFO: enterprise.signals.signal_base: Setting J2317+1439_430_ASP_efac to 1.2574511773494976\n",
      "INFO: enterprise.signals.signal_base: Setting J2317+1439_430_PUPPI_efac to 1.0163851726761812\n",
      "INFO: enterprise.signals.signal_base: Setting J2317+1439_L-wide_PUPPI_efac to 1.1163982326548925\n",
      "INFO: enterprise.signals.signal_base: Setting J2317+1439_327_ASP_log10_equad to -6.457911273619141\n",
      "INFO: enterprise.signals.signal_base: Setting J2317+1439_327_PUPPI_log10_equad to -6.462306002360743\n",
      "INFO: enterprise.signals.signal_base: Setting J2317+1439_430_ASP_log10_equad to -7.3732139102446626\n",
      "INFO: enterprise.signals.signal_base: Setting J2317+1439_430_PUPPI_log10_equad to -6.535705196682452\n",
      "INFO: enterprise.signals.signal_base: Setting J2317+1439_L-wide_PUPPI_log10_equad to -7.463944437178126\n",
      "INFO: enterprise.signals.signal_base: Setting J2317+1439_327_ASP_log10_ecorr to -7.706187896212512\n",
      "INFO: enterprise.signals.signal_base: Setting J2317+1439_327_PUPPI_log10_ecorr to -6.392284847303101\n",
      "INFO: enterprise.signals.signal_base: Setting J2317+1439_430_ASP_log10_ecorr to -6.509624616624109\n",
      "INFO: enterprise.signals.signal_base: Setting J2317+1439_430_PUPPI_log10_ecorr to -6.87918040058842\n",
      "INFO: enterprise.signals.signal_base: Setting J2317+1439_L-wide_PUPPI_log10_ecorr to -6.6463560361584975\n"
     ]
    }
   ],
   "source": [
    "nmodels = 2\n",
    "mod_index = np.arange(nmodels)\n",
    "\n",
    "# Make dictionary of PTAs.\n",
    "pta = dict.fromkeys(mod_index)\n",
    "pta[0] = models.model_general(psrs, red_psd='powerlaw', common_psd='powerlaw', \n",
    "                           red_components=30, common_components=30, \n",
    "                           white_vary=False, noisedict=params, tm_svd=True, \n",
    "                           gamma_common=4.33, upper_limit_red=False, \n",
    "                           upper_limit_common=False, bayesephem=False, orf=None)\n",
    "pta[1] = models.model_general(psrs, red_psd='powerlaw', common_psd='powerlaw', \n",
    "                           red_components=30, common_components=30, \n",
    "                           white_vary=False, noisedict=params, tm_svd=True, \n",
    "                           gamma_common=4.33, upper_limit_red=False, \n",
    "                           upper_limit_common=False, bayesephem=False, orf='hd')"
   ]
  },
  {
   "cell_type": "code",
   "execution_count": 52,
   "metadata": {
    "ExecuteTime": {
     "end_time": "2018-05-15T21:59:38.043468Z",
     "start_time": "2018-05-15T21:59:38.006027Z"
    }
   },
   "outputs": [],
   "source": [
    "super_model = hypermodel.HyperModel(pta)"
   ]
  },
  {
   "cell_type": "markdown",
   "metadata": {},
   "source": [
    "## Sample"
   ]
  },
  {
   "cell_type": "code",
   "execution_count": 53,
   "metadata": {
    "ExecuteTime": {
     "end_time": "2018-05-15T21:59:40.020837Z",
     "start_time": "2018-05-15T21:59:39.985755Z"
    }
   },
   "outputs": [
    {
     "output_type": "stream",
     "name": "stdout",
     "text": [
      "Adding red noise prior draws...\n\nAdding GWB uniform distribution draws...\n\nAdding nmodel uniform distribution draws...\n\n"
     ]
    }
   ],
   "source": [
    "sampler = super_model.setup_sampler(resume=False, outdir=outDir, sample_nmodel=True)"
   ]
  },
  {
   "cell_type": "code",
   "execution_count": 54,
   "metadata": {
    "ExecuteTime": {
     "end_time": "2018-05-15T21:59:40.335389Z",
     "start_time": "2018-05-15T21:59:40.301829Z"
    }
   },
   "outputs": [],
   "source": [
    "# sampler for N steps\n",
    "N = int(5e6)\n",
    "x0 = super_model.initial_sample()"
   ]
  },
  {
   "cell_type": "code",
   "execution_count": 46,
   "metadata": {
    "ExecuteTime": {
     "end_time": "2018-05-15T22:07:38.858293Z",
     "start_time": "2018-05-15T21:59:41.689205Z"
    }
   },
   "outputs": [
    {
     "output_type": "stream",
     "name": "stdout",
     "text": [
      "Finished 0.20 percent in 26.339144 s Acceptance rate = 0.5242Adding DE jump with weight 50\n",
      "Finished 16.60 percent in 2390.718504 s Acceptance rate = 0.481364"
     ]
    },
    {
     "output_type": "error",
     "ename": "KeyboardInterrupt",
     "evalue": "",
     "traceback": [
      "\u001b[0;31m---------------------------------------------------------------------------\u001b[0m",
      "\u001b[0;31mKeyboardInterrupt\u001b[0m                         Traceback (most recent call last)",
      "\u001b[0;32m<ipython-input-46-e83d5011ce9a>\u001b[0m in \u001b[0;36m<module>\u001b[0;34m\u001b[0m\n\u001b[1;32m      1\u001b[0m \u001b[0;31m# sample\u001b[0m\u001b[0;34m\u001b[0m\u001b[0;34m\u001b[0m\u001b[0;34m\u001b[0m\u001b[0m\n\u001b[0;32m----> 2\u001b[0;31m \u001b[0msampler\u001b[0m\u001b[0;34m.\u001b[0m\u001b[0msample\u001b[0m\u001b[0;34m(\u001b[0m\u001b[0mx0\u001b[0m\u001b[0;34m,\u001b[0m \u001b[0mN\u001b[0m\u001b[0;34m,\u001b[0m \u001b[0mSCAMweight\u001b[0m\u001b[0;34m=\u001b[0m\u001b[0;36m30\u001b[0m\u001b[0;34m,\u001b[0m \u001b[0mAMweight\u001b[0m\u001b[0;34m=\u001b[0m\u001b[0;36m15\u001b[0m\u001b[0;34m,\u001b[0m \u001b[0mDEweight\u001b[0m\u001b[0;34m=\u001b[0m\u001b[0;36m50\u001b[0m\u001b[0;34m,\u001b[0m \u001b[0;34m)\u001b[0m\u001b[0;34m\u001b[0m\u001b[0;34m\u001b[0m\u001b[0m\n\u001b[0m",
      "\u001b[0;32m~/opt/anaconda3/envs/pta_software/lib/python3.8/site-packages/PTMCMCSampler/PTMCMCSampler.py\u001b[0m in \u001b[0;36msample\u001b[0;34m(self, p0, Niter, ladder, Tmin, Tmax, Tskip, isave, covUpdate, SCAMweight, AMweight, DEweight, NUTSweight, MALAweight, HMCweight, burn, HMCstepsize, HMCsteps, maxIter, thin, i0, neff, writeHotChains, hotChain)\u001b[0m\n\u001b[1;32m    359\u001b[0m \u001b[0;34m\u001b[0m\u001b[0m\n\u001b[1;32m    360\u001b[0m             \u001b[0;31m# call PTMCMCOneStep\u001b[0m\u001b[0;34m\u001b[0m\u001b[0;34m\u001b[0m\u001b[0;34m\u001b[0m\u001b[0m\n\u001b[0;32m--> 361\u001b[0;31m             p0, lnlike0, lnprob0 = self.PTMCMCOneStep(\n\u001b[0m\u001b[1;32m    362\u001b[0m                 p0, lnlike0, lnprob0, iter)\n\u001b[1;32m    363\u001b[0m \u001b[0;34m\u001b[0m\u001b[0m\n",
      "\u001b[0;32m~/opt/anaconda3/envs/pta_software/lib/python3.8/site-packages/PTMCMCSampler/PTMCMCSampler.py\u001b[0m in \u001b[0;36mPTMCMCOneStep\u001b[0;34m(self, p0, lnlike0, lnprob0, iter)\u001b[0m\n\u001b[1;32m    480\u001b[0m \u001b[0;34m\u001b[0m\u001b[0m\n\u001b[1;32m    481\u001b[0m             \u001b[0;31m# compute prior and likelihood\u001b[0m\u001b[0;34m\u001b[0m\u001b[0;34m\u001b[0m\u001b[0;34m\u001b[0m\u001b[0m\n\u001b[0;32m--> 482\u001b[0;31m             \u001b[0mlp\u001b[0m \u001b[0;34m=\u001b[0m \u001b[0mself\u001b[0m\u001b[0;34m.\u001b[0m\u001b[0mlogp\u001b[0m\u001b[0;34m(\u001b[0m\u001b[0my\u001b[0m\u001b[0;34m)\u001b[0m\u001b[0;34m\u001b[0m\u001b[0;34m\u001b[0m\u001b[0m\n\u001b[0m\u001b[1;32m    483\u001b[0m \u001b[0;34m\u001b[0m\u001b[0m\n\u001b[1;32m    484\u001b[0m             \u001b[0;32mif\u001b[0m \u001b[0mlp\u001b[0m \u001b[0;34m==\u001b[0m \u001b[0;34m-\u001b[0m\u001b[0mnp\u001b[0m\u001b[0;34m.\u001b[0m\u001b[0minf\u001b[0m\u001b[0;34m:\u001b[0m\u001b[0;34m\u001b[0m\u001b[0;34m\u001b[0m\u001b[0m\n",
      "\u001b[0;32m~/opt/anaconda3/envs/pta_software/lib/python3.8/site-packages/PTMCMCSampler/PTMCMCSampler.py\u001b[0m in \u001b[0;36m__call__\u001b[0;34m(self, x)\u001b[0m\n\u001b[1;32m   1024\u001b[0m \u001b[0;34m\u001b[0m\u001b[0m\n\u001b[1;32m   1025\u001b[0m     \u001b[0;32mdef\u001b[0m \u001b[0m__call__\u001b[0m\u001b[0;34m(\u001b[0m\u001b[0mself\u001b[0m\u001b[0;34m,\u001b[0m \u001b[0mx\u001b[0m\u001b[0;34m)\u001b[0m\u001b[0;34m:\u001b[0m\u001b[0;34m\u001b[0m\u001b[0;34m\u001b[0m\u001b[0m\n\u001b[0;32m-> 1026\u001b[0;31m         \u001b[0;32mreturn\u001b[0m \u001b[0mself\u001b[0m\u001b[0;34m.\u001b[0m\u001b[0mf\u001b[0m\u001b[0;34m(\u001b[0m\u001b[0mx\u001b[0m\u001b[0;34m,\u001b[0m \u001b[0;34m*\u001b[0m\u001b[0mself\u001b[0m\u001b[0;34m.\u001b[0m\u001b[0margs\u001b[0m\u001b[0;34m,\u001b[0m \u001b[0;34m**\u001b[0m\u001b[0mself\u001b[0m\u001b[0;34m.\u001b[0m\u001b[0mkwargs\u001b[0m\u001b[0;34m)\u001b[0m\u001b[0;34m\u001b[0m\u001b[0;34m\u001b[0m\u001b[0m\n\u001b[0m",
      "\u001b[0;32m~/opt/anaconda3/envs/pta_software/lib/python3.8/site-packages/enterprise_extensions/hypermodel.py\u001b[0m in \u001b[0;36mget_lnprior\u001b[0;34m(self, x)\u001b[0m\n\u001b[1;32m    109\u001b[0m                     \u001b[0midx\u001b[0m \u001b[0;34m=\u001b[0m \u001b[0mself\u001b[0m\u001b[0;34m.\u001b[0m\u001b[0mparam_names\u001b[0m\u001b[0;34m.\u001b[0m\u001b[0mindex\u001b[0m\u001b[0;34m(\u001b[0m\u001b[0mpar\u001b[0m\u001b[0;34m)\u001b[0m\u001b[0;34m\u001b[0m\u001b[0;34m\u001b[0m\u001b[0m\n\u001b[1;32m    110\u001b[0m                     \u001b[0mq\u001b[0m\u001b[0;34m.\u001b[0m\u001b[0mappend\u001b[0m\u001b[0;34m(\u001b[0m\u001b[0mx\u001b[0m\u001b[0;34m[\u001b[0m\u001b[0midx\u001b[0m\u001b[0;34m]\u001b[0m\u001b[0;34m)\u001b[0m\u001b[0;34m\u001b[0m\u001b[0;34m\u001b[0m\u001b[0m\n\u001b[0;32m--> 111\u001b[0;31m                 \u001b[0mlnP\u001b[0m \u001b[0;34m+=\u001b[0m \u001b[0mp\u001b[0m\u001b[0;34m.\u001b[0m\u001b[0mget_lnprior\u001b[0m\u001b[0;34m(\u001b[0m\u001b[0mnp\u001b[0m\u001b[0;34m.\u001b[0m\u001b[0marray\u001b[0m\u001b[0;34m(\u001b[0m\u001b[0mq\u001b[0m\u001b[0;34m)\u001b[0m\u001b[0;34m)\u001b[0m\u001b[0;34m\u001b[0m\u001b[0;34m\u001b[0m\u001b[0m\n\u001b[0m\u001b[1;32m    112\u001b[0m \u001b[0;34m\u001b[0m\u001b[0m\n\u001b[1;32m    113\u001b[0m             \u001b[0;32mreturn\u001b[0m \u001b[0mlnP\u001b[0m\u001b[0;34m\u001b[0m\u001b[0;34m\u001b[0m\u001b[0m\n",
      "\u001b[0;32m~/opt/anaconda3/envs/pta_software/lib/python3.8/site-packages/enterprise/enterprise/signals/signal_base.py\u001b[0m in \u001b[0;36mget_lnprior\u001b[0;34m(self, params)\u001b[0m\n\u001b[1;32m    615\u001b[0m         \u001b[0mparams\u001b[0m \u001b[0;34m=\u001b[0m \u001b[0mparams\u001b[0m \u001b[0;32mif\u001b[0m \u001b[0misinstance\u001b[0m\u001b[0;34m(\u001b[0m\u001b[0mparams\u001b[0m\u001b[0;34m,\u001b[0m \u001b[0mdict\u001b[0m\u001b[0;34m)\u001b[0m \u001b[0;32melse\u001b[0m \u001b[0mself\u001b[0m\u001b[0;34m.\u001b[0m\u001b[0mmap_params\u001b[0m\u001b[0;34m(\u001b[0m\u001b[0mparams\u001b[0m\u001b[0;34m)\u001b[0m\u001b[0;34m\u001b[0m\u001b[0;34m\u001b[0m\u001b[0m\n\u001b[1;32m    616\u001b[0m \u001b[0;34m\u001b[0m\u001b[0m\n\u001b[0;32m--> 617\u001b[0;31m         \u001b[0;32mreturn\u001b[0m \u001b[0mnp\u001b[0m\u001b[0;34m.\u001b[0m\u001b[0msum\u001b[0m\u001b[0;34m(\u001b[0m\u001b[0;34m[\u001b[0m\u001b[0mp\u001b[0m\u001b[0;34m.\u001b[0m\u001b[0mget_logpdf\u001b[0m\u001b[0;34m(\u001b[0m\u001b[0mparams\u001b[0m\u001b[0;34m=\u001b[0m\u001b[0mparams\u001b[0m\u001b[0;34m)\u001b[0m \u001b[0;32mfor\u001b[0m \u001b[0mp\u001b[0m \u001b[0;32min\u001b[0m \u001b[0mself\u001b[0m\u001b[0;34m.\u001b[0m\u001b[0mparams\u001b[0m\u001b[0;34m]\u001b[0m\u001b[0;34m)\u001b[0m\u001b[0;34m\u001b[0m\u001b[0;34m\u001b[0m\u001b[0m\n\u001b[0m\u001b[1;32m    618\u001b[0m \u001b[0;34m\u001b[0m\u001b[0m\n\u001b[1;32m    619\u001b[0m     \u001b[0;34m@\u001b[0m\u001b[0mproperty\u001b[0m\u001b[0;34m\u001b[0m\u001b[0;34m\u001b[0m\u001b[0m\n",
      "\u001b[0;32m~/opt/anaconda3/envs/pta_software/lib/python3.8/site-packages/enterprise/enterprise/signals/signal_base.py\u001b[0m in \u001b[0;36m<listcomp>\u001b[0;34m(.0)\u001b[0m\n\u001b[1;32m    615\u001b[0m         \u001b[0mparams\u001b[0m \u001b[0;34m=\u001b[0m \u001b[0mparams\u001b[0m \u001b[0;32mif\u001b[0m \u001b[0misinstance\u001b[0m\u001b[0;34m(\u001b[0m\u001b[0mparams\u001b[0m\u001b[0;34m,\u001b[0m \u001b[0mdict\u001b[0m\u001b[0;34m)\u001b[0m \u001b[0;32melse\u001b[0m \u001b[0mself\u001b[0m\u001b[0;34m.\u001b[0m\u001b[0mmap_params\u001b[0m\u001b[0;34m(\u001b[0m\u001b[0mparams\u001b[0m\u001b[0;34m)\u001b[0m\u001b[0;34m\u001b[0m\u001b[0;34m\u001b[0m\u001b[0m\n\u001b[1;32m    616\u001b[0m \u001b[0;34m\u001b[0m\u001b[0m\n\u001b[0;32m--> 617\u001b[0;31m         \u001b[0;32mreturn\u001b[0m \u001b[0mnp\u001b[0m\u001b[0;34m.\u001b[0m\u001b[0msum\u001b[0m\u001b[0;34m(\u001b[0m\u001b[0;34m[\u001b[0m\u001b[0mp\u001b[0m\u001b[0;34m.\u001b[0m\u001b[0mget_logpdf\u001b[0m\u001b[0;34m(\u001b[0m\u001b[0mparams\u001b[0m\u001b[0;34m=\u001b[0m\u001b[0mparams\u001b[0m\u001b[0;34m)\u001b[0m \u001b[0;32mfor\u001b[0m \u001b[0mp\u001b[0m \u001b[0;32min\u001b[0m \u001b[0mself\u001b[0m\u001b[0;34m.\u001b[0m\u001b[0mparams\u001b[0m\u001b[0;34m]\u001b[0m\u001b[0;34m)\u001b[0m\u001b[0;34m\u001b[0m\u001b[0;34m\u001b[0m\u001b[0m\n\u001b[0m\u001b[1;32m    618\u001b[0m \u001b[0;34m\u001b[0m\u001b[0m\n\u001b[1;32m    619\u001b[0m     \u001b[0;34m@\u001b[0m\u001b[0mproperty\u001b[0m\u001b[0;34m\u001b[0m\u001b[0;34m\u001b[0m\u001b[0m\n",
      "\u001b[0;32m~/opt/anaconda3/envs/pta_software/lib/python3.8/site-packages/enterprise/enterprise/signals/parameter.py\u001b[0m in \u001b[0;36mget_logpdf\u001b[0;34m(self, value, **kwargs)\u001b[0m\n\u001b[1;32m     60\u001b[0m \u001b[0;34m\u001b[0m\u001b[0m\n\u001b[1;32m     61\u001b[0m         \u001b[0;32mif\u001b[0m \u001b[0mhasattr\u001b[0m\u001b[0;34m(\u001b[0m\u001b[0mself\u001b[0m\u001b[0;34m,\u001b[0m \u001b[0;34m\"prior\"\u001b[0m\u001b[0;34m)\u001b[0m\u001b[0;34m:\u001b[0m\u001b[0;34m\u001b[0m\u001b[0;34m\u001b[0m\u001b[0m\n\u001b[0;32m---> 62\u001b[0;31m             \u001b[0mlogpdf\u001b[0m \u001b[0;34m=\u001b[0m \u001b[0mnp\u001b[0m\u001b[0;34m.\u001b[0m\u001b[0mlog\u001b[0m\u001b[0;34m(\u001b[0m\u001b[0mself\u001b[0m\u001b[0;34m.\u001b[0m\u001b[0mprior\u001b[0m\u001b[0;34m(\u001b[0m\u001b[0mvalue\u001b[0m\u001b[0;34m,\u001b[0m \u001b[0;34m**\u001b[0m\u001b[0mkwargs\u001b[0m\u001b[0;34m)\u001b[0m\u001b[0;34m)\u001b[0m\u001b[0;34m\u001b[0m\u001b[0;34m\u001b[0m\u001b[0m\n\u001b[0m\u001b[1;32m     63\u001b[0m         \u001b[0;32melse\u001b[0m\u001b[0;34m:\u001b[0m\u001b[0;34m\u001b[0m\u001b[0;34m\u001b[0m\u001b[0m\n\u001b[1;32m     64\u001b[0m             \u001b[0mlogpdf\u001b[0m \u001b[0;34m=\u001b[0m \u001b[0mself\u001b[0m\u001b[0;34m.\u001b[0m\u001b[0mlogprior\u001b[0m\u001b[0;34m(\u001b[0m\u001b[0mvalue\u001b[0m\u001b[0;34m,\u001b[0m \u001b[0;34m**\u001b[0m\u001b[0mkwargs\u001b[0m\u001b[0;34m)\u001b[0m\u001b[0;34m\u001b[0m\u001b[0;34m\u001b[0m\u001b[0m\n",
      "\u001b[0;32m~/opt/anaconda3/envs/pta_software/lib/python3.8/site-packages/enterprise/enterprise/signals/parameter.py\u001b[0m in \u001b[0;36m__call__\u001b[0;34m(self, *args, **kwargs)\u001b[0m\n\u001b[1;32m    462\u001b[0m             }\n\u001b[1;32m    463\u001b[0m \u001b[0;34m\u001b[0m\u001b[0m\n\u001b[0;32m--> 464\u001b[0;31m             \u001b[0;32mreturn\u001b[0m \u001b[0mfunc\u001b[0m\u001b[0;34m(\u001b[0m\u001b[0;34m*\u001b[0m\u001b[0margs\u001b[0m\u001b[0;34m,\u001b[0m \u001b[0;34m**\u001b[0m\u001b[0mkwargs\u001b[0m\u001b[0;34m)\u001b[0m\u001b[0;34m\u001b[0m\u001b[0;34m\u001b[0m\u001b[0m\n\u001b[0m\u001b[1;32m    465\u001b[0m \u001b[0;34m\u001b[0m\u001b[0m\n\u001b[1;32m    466\u001b[0m         \u001b[0;32mdef\u001b[0m \u001b[0madd_kwarg\u001b[0m\u001b[0;34m(\u001b[0m\u001b[0mself\u001b[0m\u001b[0;34m,\u001b[0m \u001b[0;34m**\u001b[0m\u001b[0mkwargs\u001b[0m\u001b[0;34m)\u001b[0m\u001b[0;34m:\u001b[0m\u001b[0;34m\u001b[0m\u001b[0;34m\u001b[0m\u001b[0m\n",
      "\u001b[0;32m~/opt/anaconda3/envs/pta_software/lib/python3.8/site-packages/enterprise/enterprise/signals/selections.py\u001b[0m in \u001b[0;36mwrapper\u001b[0;34m(*args, **kwargs)\u001b[0m\n\u001b[1;32m     48\u001b[0m             \u001b[0;32mdel\u001b[0m \u001b[0mkwargs\u001b[0m\u001b[0;34m[\u001b[0m\u001b[0;34m\"psr\"\u001b[0m\u001b[0;34m]\u001b[0m\u001b[0;34m\u001b[0m\u001b[0;34m\u001b[0m\u001b[0m\n\u001b[1;32m     49\u001b[0m \u001b[0;34m\u001b[0m\u001b[0m\n\u001b[0;32m---> 50\u001b[0;31m         \u001b[0;32mreturn\u001b[0m \u001b[0mfunc\u001b[0m\u001b[0;34m(\u001b[0m\u001b[0;34m*\u001b[0m\u001b[0mtargs\u001b[0m\u001b[0;34m,\u001b[0m \u001b[0;34m**\u001b[0m\u001b[0mkwargs\u001b[0m\u001b[0;34m)\u001b[0m\u001b[0;34m\u001b[0m\u001b[0;34m\u001b[0m\u001b[0m\n\u001b[0m\u001b[1;32m     51\u001b[0m \u001b[0;34m\u001b[0m\u001b[0m\n\u001b[1;32m     52\u001b[0m     \u001b[0;32mreturn\u001b[0m \u001b[0mwrapper\u001b[0m\u001b[0;34m\u001b[0m\u001b[0;34m\u001b[0m\u001b[0m\n",
      "\u001b[0;32m~/opt/anaconda3/envs/pta_software/lib/python3.8/site-packages/enterprise/enterprise/signals/parameter.py\u001b[0m in \u001b[0;36mUniformPrior\u001b[0;34m(value, pmin, pmax)\u001b[0m\n\u001b[1;32m    183\u001b[0m     \u001b[0;31m# this handles vectors correctly, if pmin and pmax are scalars,\u001b[0m\u001b[0;34m\u001b[0m\u001b[0;34m\u001b[0m\u001b[0;34m\u001b[0m\u001b[0m\n\u001b[1;32m    184\u001b[0m     \u001b[0;31m# or if len(value) = len(pmin) = len(pmax)\u001b[0m\u001b[0;34m\u001b[0m\u001b[0;34m\u001b[0m\u001b[0;34m\u001b[0m\u001b[0m\n\u001b[0;32m--> 185\u001b[0;31m     \u001b[0;32mreturn\u001b[0m \u001b[0mscipy\u001b[0m\u001b[0;34m.\u001b[0m\u001b[0mstats\u001b[0m\u001b[0;34m.\u001b[0m\u001b[0muniform\u001b[0m\u001b[0;34m.\u001b[0m\u001b[0mpdf\u001b[0m\u001b[0;34m(\u001b[0m\u001b[0mvalue\u001b[0m\u001b[0;34m,\u001b[0m \u001b[0mpmin\u001b[0m\u001b[0;34m,\u001b[0m \u001b[0mpmax\u001b[0m \u001b[0;34m-\u001b[0m \u001b[0mpmin\u001b[0m\u001b[0;34m)\u001b[0m\u001b[0;34m\u001b[0m\u001b[0;34m\u001b[0m\u001b[0m\n\u001b[0m\u001b[1;32m    186\u001b[0m \u001b[0;34m\u001b[0m\u001b[0m\n\u001b[1;32m    187\u001b[0m \u001b[0;34m\u001b[0m\u001b[0m\n",
      "\u001b[0;32m~/opt/anaconda3/envs/pta_software/lib/python3.8/site-packages/scipy/stats/_distn_infrastructure.py\u001b[0m in \u001b[0;36mpdf\u001b[0;34m(self, x, *args, **kwds)\u001b[0m\n\u001b[1;32m   1764\u001b[0m         \u001b[0moutput\u001b[0m \u001b[0;34m=\u001b[0m \u001b[0mzeros\u001b[0m\u001b[0;34m(\u001b[0m\u001b[0mshape\u001b[0m\u001b[0;34m(\u001b[0m\u001b[0mcond\u001b[0m\u001b[0;34m)\u001b[0m\u001b[0;34m,\u001b[0m \u001b[0mdtyp\u001b[0m\u001b[0;34m)\u001b[0m\u001b[0;34m\u001b[0m\u001b[0;34m\u001b[0m\u001b[0m\n\u001b[1;32m   1765\u001b[0m         \u001b[0mputmask\u001b[0m\u001b[0;34m(\u001b[0m\u001b[0moutput\u001b[0m\u001b[0;34m,\u001b[0m \u001b[0;34m(\u001b[0m\u001b[0;36m1\u001b[0m\u001b[0;34m-\u001b[0m\u001b[0mcond0\u001b[0m\u001b[0;34m)\u001b[0m\u001b[0;34m+\u001b[0m\u001b[0mnp\u001b[0m\u001b[0;34m.\u001b[0m\u001b[0misnan\u001b[0m\u001b[0;34m(\u001b[0m\u001b[0mx\u001b[0m\u001b[0;34m)\u001b[0m\u001b[0;34m,\u001b[0m \u001b[0mself\u001b[0m\u001b[0;34m.\u001b[0m\u001b[0mbadvalue\u001b[0m\u001b[0;34m)\u001b[0m\u001b[0;34m\u001b[0m\u001b[0;34m\u001b[0m\u001b[0m\n\u001b[0;32m-> 1766\u001b[0;31m         \u001b[0;32mif\u001b[0m \u001b[0mnp\u001b[0m\u001b[0;34m.\u001b[0m\u001b[0many\u001b[0m\u001b[0;34m(\u001b[0m\u001b[0mcond\u001b[0m\u001b[0;34m)\u001b[0m\u001b[0;34m:\u001b[0m\u001b[0;34m\u001b[0m\u001b[0;34m\u001b[0m\u001b[0m\n\u001b[0m\u001b[1;32m   1767\u001b[0m             \u001b[0mgoodargs\u001b[0m \u001b[0;34m=\u001b[0m \u001b[0margsreduce\u001b[0m\u001b[0;34m(\u001b[0m\u001b[0mcond\u001b[0m\u001b[0;34m,\u001b[0m \u001b[0;34m*\u001b[0m\u001b[0;34m(\u001b[0m\u001b[0;34m(\u001b[0m\u001b[0mx\u001b[0m\u001b[0;34m,\u001b[0m\u001b[0;34m)\u001b[0m\u001b[0;34m+\u001b[0m\u001b[0margs\u001b[0m\u001b[0;34m+\u001b[0m\u001b[0;34m(\u001b[0m\u001b[0mscale\u001b[0m\u001b[0;34m,\u001b[0m\u001b[0;34m)\u001b[0m\u001b[0;34m)\u001b[0m\u001b[0;34m)\u001b[0m\u001b[0;34m\u001b[0m\u001b[0;34m\u001b[0m\u001b[0m\n\u001b[1;32m   1768\u001b[0m             \u001b[0mscale\u001b[0m\u001b[0;34m,\u001b[0m \u001b[0mgoodargs\u001b[0m \u001b[0;34m=\u001b[0m \u001b[0mgoodargs\u001b[0m\u001b[0;34m[\u001b[0m\u001b[0;34m-\u001b[0m\u001b[0;36m1\u001b[0m\u001b[0;34m]\u001b[0m\u001b[0;34m,\u001b[0m \u001b[0mgoodargs\u001b[0m\u001b[0;34m[\u001b[0m\u001b[0;34m:\u001b[0m\u001b[0;34m-\u001b[0m\u001b[0;36m1\u001b[0m\u001b[0;34m]\u001b[0m\u001b[0;34m\u001b[0m\u001b[0;34m\u001b[0m\u001b[0m\n",
      "\u001b[0;32m<__array_function__ internals>\u001b[0m in \u001b[0;36many\u001b[0;34m(*args, **kwargs)\u001b[0m\n",
      "\u001b[0;32m~/opt/anaconda3/envs/pta_software/lib/python3.8/site-packages/numpy/core/fromnumeric.py\u001b[0m in \u001b[0;36many\u001b[0;34m(a, axis, out, keepdims)\u001b[0m\n\u001b[1;32m   2328\u001b[0m \u001b[0;34m\u001b[0m\u001b[0m\n\u001b[1;32m   2329\u001b[0m     \"\"\"\n\u001b[0;32m-> 2330\u001b[0;31m     \u001b[0;32mreturn\u001b[0m \u001b[0m_wrapreduction\u001b[0m\u001b[0;34m(\u001b[0m\u001b[0ma\u001b[0m\u001b[0;34m,\u001b[0m \u001b[0mnp\u001b[0m\u001b[0;34m.\u001b[0m\u001b[0mlogical_or\u001b[0m\u001b[0;34m,\u001b[0m \u001b[0;34m'any'\u001b[0m\u001b[0;34m,\u001b[0m \u001b[0maxis\u001b[0m\u001b[0;34m,\u001b[0m \u001b[0;32mNone\u001b[0m\u001b[0;34m,\u001b[0m \u001b[0mout\u001b[0m\u001b[0;34m,\u001b[0m \u001b[0mkeepdims\u001b[0m\u001b[0;34m=\u001b[0m\u001b[0mkeepdims\u001b[0m\u001b[0;34m)\u001b[0m\u001b[0;34m\u001b[0m\u001b[0;34m\u001b[0m\u001b[0m\n\u001b[0m\u001b[1;32m   2331\u001b[0m \u001b[0;34m\u001b[0m\u001b[0m\n\u001b[1;32m   2332\u001b[0m \u001b[0;34m\u001b[0m\u001b[0m\n",
      "\u001b[0;32m~/opt/anaconda3/envs/pta_software/lib/python3.8/site-packages/numpy/core/fromnumeric.py\u001b[0m in \u001b[0;36m_wrapreduction\u001b[0;34m(obj, ufunc, method, axis, dtype, out, **kwargs)\u001b[0m\n\u001b[1;32m     83\u001b[0m                 \u001b[0;32mreturn\u001b[0m \u001b[0mreduction\u001b[0m\u001b[0;34m(\u001b[0m\u001b[0maxis\u001b[0m\u001b[0;34m=\u001b[0m\u001b[0maxis\u001b[0m\u001b[0;34m,\u001b[0m \u001b[0mdtype\u001b[0m\u001b[0;34m=\u001b[0m\u001b[0mdtype\u001b[0m\u001b[0;34m,\u001b[0m \u001b[0mout\u001b[0m\u001b[0;34m=\u001b[0m\u001b[0mout\u001b[0m\u001b[0;34m,\u001b[0m \u001b[0;34m**\u001b[0m\u001b[0mpasskwargs\u001b[0m\u001b[0;34m)\u001b[0m\u001b[0;34m\u001b[0m\u001b[0;34m\u001b[0m\u001b[0m\n\u001b[1;32m     84\u001b[0m             \u001b[0;32melse\u001b[0m\u001b[0;34m:\u001b[0m\u001b[0;34m\u001b[0m\u001b[0;34m\u001b[0m\u001b[0m\n\u001b[0;32m---> 85\u001b[0;31m                 \u001b[0;32mreturn\u001b[0m \u001b[0mreduction\u001b[0m\u001b[0;34m(\u001b[0m\u001b[0maxis\u001b[0m\u001b[0;34m=\u001b[0m\u001b[0maxis\u001b[0m\u001b[0;34m,\u001b[0m \u001b[0mout\u001b[0m\u001b[0;34m=\u001b[0m\u001b[0mout\u001b[0m\u001b[0;34m,\u001b[0m \u001b[0;34m**\u001b[0m\u001b[0mpasskwargs\u001b[0m\u001b[0;34m)\u001b[0m\u001b[0;34m\u001b[0m\u001b[0;34m\u001b[0m\u001b[0m\n\u001b[0m\u001b[1;32m     86\u001b[0m \u001b[0;34m\u001b[0m\u001b[0m\n\u001b[1;32m     87\u001b[0m     \u001b[0;32mreturn\u001b[0m \u001b[0mufunc\u001b[0m\u001b[0;34m.\u001b[0m\u001b[0mreduce\u001b[0m\u001b[0;34m(\u001b[0m\u001b[0mobj\u001b[0m\u001b[0;34m,\u001b[0m \u001b[0maxis\u001b[0m\u001b[0;34m,\u001b[0m \u001b[0mdtype\u001b[0m\u001b[0;34m,\u001b[0m \u001b[0mout\u001b[0m\u001b[0;34m,\u001b[0m \u001b[0;34m**\u001b[0m\u001b[0mpasskwargs\u001b[0m\u001b[0;34m)\u001b[0m\u001b[0;34m\u001b[0m\u001b[0;34m\u001b[0m\u001b[0m\n",
      "\u001b[0;31mKeyboardInterrupt\u001b[0m: "
     ]
    }
   ],
   "source": [
    "# sample\n",
    "sampler.sample(x0, N, SCAMweight=30, AMweight=15, DEweight=50, )"
   ]
  },
  {
   "cell_type": "markdown",
   "metadata": {},
   "source": [
    "## Post-process"
   ]
  },
  {
   "cell_type": "code",
   "execution_count": null,
   "metadata": {
    "ExecuteTime": {
     "end_time": "2018-05-15T22:07:42.274771Z",
     "start_time": "2018-05-15T22:07:41.979583Z"
    }
   },
   "outputs": [],
   "source": [
    "chain = np.loadtxt(outdir + '/chain_1.txt')\n",
    "burn = int(0.25*chain.shape[0])\n",
    "pars = np.loadtxt(outdir + '/pars.txt', dtype=np.unicode_)\n",
    "\n",
    "pp = model_utils.PostProcessing(chain, pars)"
   ]
  },
  {
   "cell_type": "code",
   "execution_count": null,
   "metadata": {},
   "outputs": [],
   "source": [
    "print(pars)"
   ]
  },
  {
   "cell_type": "code",
   "execution_count": null,
   "metadata": {
    "ExecuteTime": {
     "end_time": "2018-05-15T22:07:44.047020Z",
     "start_time": "2018-05-15T22:07:43.807128Z"
    }
   },
   "outputs": [],
   "source": [
    "# Plot histgram for GW amplitude\n",
    "chain_burn = chain[burn:,:]\n",
    "\n",
    "ind_model = list(pars).index('nmodel')\n",
    "ind_gwamp = list(pars).index('gw_log10_A')\n",
    "\n",
    "# ORF = None\n",
    "#plt.hist(chain_burn[chain_burn[:, ind_model] < 0.5, ind_gwamp], bins=40);\n",
    "\n",
    "# ORF = Hellings & Downs\n",
    "plt.hist(chain_burn[chain_burn[:, ind_model] > 0.5, ind_gwamp], bins=40);"
   ]
  },
  {
   "cell_type": "code",
   "execution_count": null,
   "metadata": {
    "ExecuteTime": {
     "end_time": "2018-05-15T22:07:46.481391Z",
     "start_time": "2018-05-15T22:07:46.244859Z"
    }
   },
   "outputs": [],
   "source": [
    "# Plot histogram for GWB model selection\n",
    "plt.hist(chain_burn[:, ind_model], bins=40);"
   ]
  },
  {
   "cell_type": "markdown",
   "metadata": {},
   "source": [
    "## Bayes factors"
   ]
  },
  {
   "cell_type": "markdown",
   "metadata": {},
   "source": [
    "### Savage-Dickey Bayes factor\n",
    "\n",
    "This gives the signal-vs-noise Bayes factor for a common red process in the pulsars plus intrisnc noise, versus intrinsic noise alone."
   ]
  },
  {
   "cell_type": "code",
   "execution_count": null,
   "metadata": {
    "ExecuteTime": {
     "end_time": "2018-05-15T22:08:38.949894Z",
     "start_time": "2018-05-15T22:08:38.920953Z"
    }
   },
   "outputs": [],
   "source": [
    "print(model_utils.bayes_fac(chain_burn[chain_burn[:, ind_model] < 0.5, ind_gwamp], ntol=1))"
   ]
  },
  {
   "cell_type": "markdown",
   "metadata": {},
   "source": [
    "### Posterior odds ratio\n",
    "\n",
    "This gives the Bayesian odds between a model with a Hellings & Downs correlated red process between pulsars, and a common (but uncorrelated) red process between pulsars. This is the smoking-gun detection statsitic for a GWB signal."
   ]
  },
  {
   "cell_type": "code",
   "execution_count": null,
   "metadata": {
    "ExecuteTime": {
     "end_time": "2018-05-15T22:08:40.590729Z",
     "start_time": "2018-05-15T22:08:40.559995Z"
    }
   },
   "outputs": [],
   "source": [
    "print(model_utils.odds_ratio(chain_burn[:, ind_model], models=[0,1]))"
   ]
  },
  {
   "cell_type": "code",
   "execution_count": null,
   "metadata": {},
   "outputs": [],
   "source": []
  }
 ],
 "metadata": {
  "anaconda-cloud": {},
  "kernelspec": {
   "display_name": "pta_software",
   "language": "python",
   "name": "pta_software"
  },
  "language_info": {
   "codemirror_mode": {
    "name": "ipython",
    "version": 3
   },
   "file_extension": ".py",
   "mimetype": "text/x-python",
   "name": "python",
   "nbconvert_exporter": "python",
   "pygments_lexer": "ipython3",
   "version": "3.8.5-final"
  },
  "toc": {
   "nav_menu": {},
   "number_sections": true,
   "sideBar": true,
   "skip_h1_title": false,
   "toc_cell": false,
   "toc_position": {
    "height": "743px",
    "left": "0px",
    "right": "1458px",
    "top": "107px",
    "width": "212px"
   },
   "toc_section_display": "block",
   "toc_window_display": true
  }
 },
 "nbformat": 4,
 "nbformat_minor": 2
}