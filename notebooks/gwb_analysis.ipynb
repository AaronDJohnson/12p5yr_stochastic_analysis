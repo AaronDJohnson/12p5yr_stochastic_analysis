{
 "cells": [
  {
   "cell_type": "markdown",
   "metadata": {},
   "source": [
    "# Using enterprise to analyze PTA data\n",
    "\n",
    "In this notebook you will learn:\n",
    "* How to use `enterprise` to interact with PTA data,\n",
    "* How to search in PTA data for GWs,\n",
    "* How to perform Bayesian model selection,\n",
    "* How to post-process your results.\n",
    "\n",
    "If you are interested in working through this notebook, but do not want to install the software, we have prepared a related Google Colab notebook: https://colab.research.google.com/drive/1-ya9wNbDP1wEHN-SX1LWzUdITgtyc020?usp=sharing\n",
    "\n",
    "By copying this notebook, you can install the software to your own Google Colab account and run the software without installation on your computer.\n",
    "\n",
    "**Warning**: Sampling in this notebook is computationally intensive. It will take hours to sample properly. We have tried to cut it down somewhat while also leaving robust results that are indicative of what is actually done with a real analysis."
   ]
  },
  {
   "cell_type": "markdown",
   "metadata": {},
   "source": [
    "# Load modules"
   ]
  },
  {
   "cell_type": "code",
   "execution_count": 1,
   "metadata": {
    "ExecuteTime": {
     "end_time": "2018-05-15T21:48:39.150382Z",
     "start_time": "2018-05-15T21:48:39.094542Z"
    }
   },
   "outputs": [],
   "source": [
    "from __future__ import division\n",
    "\n",
    "%matplotlib inline\n",
    "%config InlineBackend.figure_format = 'retina'\n",
    "%load_ext autoreload\n",
    "%autoreload 2\n",
    "\n",
    "import os, glob, json, pickle\n",
    "import matplotlib.pyplot as plt\n",
    "import numpy as np\n",
    "import scipy.linalg as sl\n",
    "\n",
    "import enterprise\n",
    "from enterprise.pulsar import Pulsar\n",
    "import enterprise.signals.parameter as parameter\n",
    "from enterprise.signals import utils\n",
    "from enterprise.signals import signal_base\n",
    "from enterprise.signals import selections\n",
    "from enterprise.signals.selections import Selection\n",
    "from enterprise.signals import white_signals\n",
    "from enterprise.signals import gp_signals\n",
    "from enterprise.signals import deterministic_signals\n",
    "import enterprise.constants as const\n",
    "\n",
    "import corner\n",
    "from PTMCMCSampler.PTMCMCSampler import PTSampler as ptmcmc"
   ]
  },
  {
   "cell_type": "markdown",
   "metadata": {},
   "source": [
    "## Get par, tim, and noise files"
   ]
  },
  {
   "cell_type": "code",
   "execution_count": 47,
   "metadata": {
    "ExecuteTime": {
     "end_time": "2018-05-15T21:48:42.658570Z",
     "start_time": "2018-05-15T21:48:42.631742Z"
    }
   },
   "outputs": [],
   "source": [
    "psrlist = None # define a list of pulsar name strings that can be used to filter."
   ]
  },
  {
   "cell_type": "code",
   "execution_count": 48,
   "metadata": {},
   "outputs": [
    {
     "output_type": "stream",
     "name": "stdout",
     "text": [
      "/Users/aaron/Documents/GitHub/12p5yr_stochastic_analysis/data\n"
     ]
    }
   ],
   "source": [
    "# set the data directory\n",
    "foldername = '../data'\n",
    "print(datadir)"
   ]
  },
  {
   "cell_type": "code",
   "execution_count": 49,
   "metadata": {
    "ExecuteTime": {
     "end_time": "2018-05-15T21:48:43.043752Z",
     "start_time": "2018-05-15T21:48:43.007076Z"
    }
   },
   "outputs": [],
   "source": [
    "# for the entire pta\n",
    "parfiles = sorted(glob.glob(datadir + '/par/*par'))\n",
    "timfiles = sorted(glob.glob(datadir + '/tim/*tim'))\n",
    "\n",
    "# filter\n",
    "if psrlist is not None:\n",
    "    parfiles = [x for x in parfiles if x.split('/')[-1].split('.')[0] in psrlist]\n",
    "    timfiles = [x for x in timfiles if x.split('/')[-1].split('.')[0] in psrlist]\n",
    "\n",
    "# Make sure you use the tempo2 parfile for J1713+0747!!\n",
    "# ...filtering out the tempo parfile... \n",
    "parfiles = [x for x in parfiles if 'J1713+0747_NANOGrav_12yv3.gls.par' not in x]"
   ]
  },
  {
   "cell_type": "markdown",
   "metadata": {},
   "source": [
    "## Load into Pulsar class list"
   ]
  },
  {
   "cell_type": "markdown",
   "metadata": {},
   "source": [
    "* The `enterprise` Pulsar class uses `libstempo` to read in `par` and `tim` files, then stores all pulsar data into a `Pulsar` object. This object contains all data and meta-data needed for the ensuing pulsar and PTA analysis. You no longer to reference the `par` and `tim` files after this cell.\n",
    "* Note below that you can explicitly declare which version of the JPL solar-system ephemeris model that will be used to compute the Roemer delay between the geocenter and the barycenter (e.g. `DE438`). Otherwise the default values will be taken from the `par` files. Explicitly declaring the version here is good practice.\n",
    "* You can also explicitly set the clock file to a version of `BIPM`, e.g. `BIPM(2018)`. This is less important, and you can let the code take the value from the `par` file.\n",
    "* When you execute the following cell, you will get warnings like `WARNING: Could not find pulsar distance for PSR ...`. Don't worry! This is expected, and fine. Not all pulsars have well constrained distances, and will be set to `1 kpc` with a `20%` uncertainty."
   ]
  },
  {
   "cell_type": "markdown",
   "metadata": {},
   "source": [
    "## Read par and tim files into `enterprise` `Pulsar` objects\n",
    "\n",
    "Note: This cell will take a few minutes to run."
   ]
  },
  {
   "cell_type": "code",
   "execution_count": 50,
   "metadata": {
    "ExecuteTime": {
     "end_time": "2018-05-15T21:49:00.790991Z",
     "start_time": "2018-05-15T21:48:53.703630Z"
    }
   },
   "outputs": [
    {
     "output_type": "stream",
     "name": "stderr",
     "text": [
      "WARNING: enterprise.pulsar: WARNING: Could not find pulsar distance for PSR J0023+0923. Setting value to 1 with 20% uncertainty.\n",
      "WARNING: enterprise.pulsar: WARNING: Could not find pulsar distance for PSR J0340+4130. Setting value to 1 with 20% uncertainty.\n",
      "WARNING: enterprise.pulsar: WARNING: Could not find pulsar distance for PSR J0636+5128. Setting value to 1 with 20% uncertainty.\n",
      "WARNING: enterprise.pulsar: WARNING: Could not find pulsar distance for PSR J0645+5158. Setting value to 1 with 20% uncertainty.\n",
      "WARNING: enterprise.pulsar: WARNING: Could not find pulsar distance for PSR J0740+6620. Setting value to 1 with 20% uncertainty.\n",
      "WARNING: enterprise.pulsar: WARNING: Could not find pulsar distance for PSR J0931-1902. Setting value to 1 with 20% uncertainty.\n",
      "WARNING: enterprise.pulsar: WARNING: Could not find pulsar distance for PSR J1125+7819. Setting value to 1 with 20% uncertainty.\n",
      "WARNING: enterprise.pulsar: WARNING: Could not find pulsar distance for PSR J1453+1902. Setting value to 1 with 20% uncertainty.\n",
      "WARNING: enterprise.pulsar: WARNING: Could not find pulsar distance for PSR J1614-2230. Setting value to 1 with 20% uncertainty.\n",
      "WARNING: enterprise.pulsar: WARNING: Could not find pulsar distance for PSR J1738+0333. Setting value to 1 with 20% uncertainty.\n",
      "WARNING: enterprise.pulsar: WARNING: Could not find pulsar distance for PSR J1741+1351. Setting value to 1 with 20% uncertainty.\n",
      "WARNING: enterprise.pulsar: WARNING: Could not find pulsar distance for PSR J1747-4036. Setting value to 1 with 20% uncertainty.\n",
      "WARNING: enterprise.pulsar: WARNING: Could not find pulsar distance for PSR J1832-0836. Setting value to 1 with 20% uncertainty.\n",
      "WARNING: enterprise.pulsar: WARNING: Could not find pulsar distance for PSR J1853+1303. Setting value to 1 with 20% uncertainty.\n",
      "WARNING: enterprise.pulsar: WARNING: Could not find pulsar distance for PSR J1903+0327. Setting value to 1 with 20% uncertainty.\n",
      "WARNING: enterprise.pulsar: WARNING: Could not find pulsar distance for PSR J1911+1347. Setting value to 1 with 20% uncertainty.\n",
      "WARNING: enterprise.pulsar: WARNING: Could not find pulsar distance for PSR J1923+2515. Setting value to 1 with 20% uncertainty.\n",
      "WARNING: enterprise.pulsar: WARNING: Could not find pulsar distance for PSR J1944+0907. Setting value to 1 with 20% uncertainty.\n",
      "WARNING: enterprise.pulsar: WARNING: Could not find pulsar distance for PSR J1946+3417. Setting value to 1 with 20% uncertainty.\n",
      "WARNING: enterprise.pulsar: WARNING: Could not find pulsar distance for PSR J2010-1323. Setting value to 1 with 20% uncertainty.\n",
      "WARNING: enterprise.pulsar: WARNING: Could not find pulsar distance for PSR J2017+0603. Setting value to 1 with 20% uncertainty.\n",
      "WARNING: enterprise.pulsar: WARNING: Could not find pulsar distance for PSR J2033+1734. Setting value to 1 with 20% uncertainty.\n",
      "WARNING: enterprise.pulsar: WARNING: Could not find pulsar distance for PSR J2043+1711. Setting value to 1 with 20% uncertainty.\n",
      "WARNING: enterprise.pulsar: WARNING: Could not find pulsar distance for PSR J2214+3000. Setting value to 1 with 20% uncertainty.\n",
      "WARNING: enterprise.pulsar: WARNING: Could not find pulsar distance for PSR J2229+2643. Setting value to 1 with 20% uncertainty.\n",
      "WARNING: enterprise.pulsar: WARNING: Could not find pulsar distance for PSR J2234+0611. Setting value to 1 with 20% uncertainty.\n",
      "WARNING: enterprise.pulsar: WARNING: Could not find pulsar distance for PSR J2234+0944. Setting value to 1 with 20% uncertainty.\n",
      "WARNING: enterprise.pulsar: WARNING: Could not find pulsar distance for PSR J2302+4442. Setting value to 1 with 20% uncertainty.\n",
      "WARNING: enterprise.pulsar: WARNING: Could not find pulsar distance for PSR J2322+2057. Setting value to 1 with 20% uncertainty.\n"
     ]
    }
   ],
   "source": [
    "psrs = []\n",
    "ephemeris = 'DE438'\n",
    "for p, t in zip(parfiles, timfiles):\n",
    "    psr = Pulsar(p, t, ephem=ephemeris)\n",
    "    psrs.append(psr)"
   ]
  },
  {
   "cell_type": "markdown",
   "metadata": {},
   "source": [
    "* We can read-in some previously computed noise properties from single-pulsar analyses. These are things like `EFAC`, `EQUAD`, and (for `NANOGrav`) `ECORR`. \n",
    "* In practice, we set these white-noise properties as fixed in the low-frequency noise / GW searches.\n",
    "* See `pulsar_noise_analysis.ipynb` to see the methods used to find these values.\n",
    "* The noise properties have been stored as `json` files, and are read in to a big parameter dictionary."
   ]
  },
  {
   "cell_type": "code",
   "execution_count": 51,
   "metadata": {},
   "outputs": [],
   "source": [
    "## Get parameter noise dictionary\n",
    "noise_ng12 = datadir + '/channelized_12p5yr_v3_full_noisedict.json'\n",
    "\n",
    "params = {}\n",
    "with open(noise_ng12, 'r') as fp:\n",
    "    params.update(json.load(fp))"
   ]
  },
  {
   "cell_type": "markdown",
   "metadata": {},
   "source": [
    "## Set up `enterprise` model for PTA upper-limit (*verbose version*)"
   ]
  },
  {
   "cell_type": "markdown",
   "metadata": {},
   "source": [
    "* Usually, in a full PTA analysis we fix all of the white noise (EFAC, EQUAD, and ECORR) parameters to the values obtained from the noise files. This is done by using `Constant` parameters. In this case we do not specify a default value for all instances of that parameter but instead will set them, based on their initialized pulsar and backend specific name, later via the `set_default_params` method of `PTA`. \n",
    "\n",
    "* We use the `Selection` object to define which noise parameters are assigned to which chunks of TOAs. This selection is based on unique combination of backends and receivers."
   ]
  },
  {
   "cell_type": "markdown",
   "metadata": {
    "ExecuteTime": {
     "end_time": "2018-05-11T16:39:50.133639Z",
     "start_time": "2018-05-11T16:39:50.102972Z"
    }
   },
   "source": [
    "* Another feature to notice is that **for upper limits** we do not use a `Uniform` prior on the log of the red-noise or GWB amplitude. Instead we use a `LinearExp` prior (short for linear-exponent prior), that is a prior of the form $p(x)\\propto 10^x$. This is how we can still use the log of the parameter to sample but place a uniform prior on the parameter itself. We do this for both the red noise and GWB amplitude parameters. **For detection analyses** we still use a `Uniform` prior on the log of the GWB amplitude. \n",
    "\n",
    "* In order to save on computing time we do not include spatial correlations here. Instead we model the GWB as a common red process across all pulsars. In `enterprise` we can do this with a simple trick. We pre-initialize the parameters before passing them to the `Signal` model. In this way the *same* parameter instance is used for all pulsars. Lastly, we fix the spectral index of the GWB to be 13/3 (4.33) using the `Constant` parameter."
   ]
  },
  {
   "source": [
    "* The requirement for a pulsar to be used in the NANOGrav dataset is that the pulsar has at least three years of data. For the sake of saving some time, we will increase that limit to 6 years (cutting the number of pulsars in half). This will give us a good idea of what the process of analyzing a PTA looks like, while also reducing the computation time."
   ],
   "cell_type": "markdown",
   "metadata": {}
  },
  {
   "cell_type": "code",
   "execution_count": 57,
   "metadata": {},
   "outputs": [
    {
     "output_type": "stream",
     "name": "stdout",
     "text": [
      "23 pulsars\n"
     ]
    }
   ],
   "source": [
    "YR_SEC = 525600 * 60  # number of seconds in a year\n",
    "YRS = 6  # number of years to cutoff the data at\n",
    "\n",
    "# cut pulsars < X years:\n",
    "new_psrs = []\n",
    "for p in psrs:\n",
    "    delta_t = p.toas.max() - p.toas.min()\n",
    "    delta_t_yrs = delta_t / YR_SEC\n",
    "    if delta_t_yrs > YRS:\n",
    "        new_psrs.append(p)\n",
    "        # print(p.name)\n",
    "psrs = new_psrs\n",
    "print(len(psrs), 'pulsars')"
   ]
  },
  {
   "cell_type": "code",
   "execution_count": 17,
   "metadata": {
    "ExecuteTime": {
     "end_time": "2018-05-15T21:49:45.238037Z",
     "start_time": "2018-05-15T21:49:45.209705Z"
    }
   },
   "outputs": [],
   "source": [
    "# find the maximum time span to set GW frequency sampling\n",
    "tmin = [p.toas.min() for p in psrs]\n",
    "tmax = [p.toas.max() for p in psrs]\n",
    "Tspan = np.max(tmax) - np.min(tmin)"
   ]
  },
  {
   "cell_type": "code",
   "execution_count": 18,
   "metadata": {
    "ExecuteTime": {
     "end_time": "2018-05-15T21:49:48.496954Z",
     "start_time": "2018-05-15T21:49:48.470085Z"
    }
   },
   "outputs": [],
   "source": [
    "# define selection by observing backend\n",
    "selection = selections.Selection(selections.by_backend)"
   ]
  },
  {
   "cell_type": "markdown",
   "metadata": {},
   "source": [
    "### Parameters"
   ]
  },
  {
   "cell_type": "code",
   "execution_count": 19,
   "metadata": {
    "ExecuteTime": {
     "end_time": "2018-05-15T21:49:50.042751Z",
     "start_time": "2018-05-15T21:49:50.005677Z"
    }
   },
   "outputs": [],
   "source": [
    "# white noise parameters\n",
    "efac = parameter.Constant() \n",
    "equad = parameter.Constant() \n",
    "ecorr = parameter.Constant() # we'll set these later with the params dictionary\n",
    "\n",
    "# red noise parameters\n",
    "log10_A = parameter.LinearExp(-20, -11)\n",
    "gamma = parameter.Uniform(0, 7)\n",
    "\n",
    "# dm-variation parameters\n",
    "log10_A_dm = parameter.LinearExp(-20, -11)\n",
    "gamma_dm = parameter.Uniform(0, 7)\n",
    "\n",
    "# GW parameters (initialize with names here to use parameters in common across pulsars)\n",
    "log10_A_gw = parameter.LinearExp(-18,-12)('log10_A_gw')\n",
    "gamma_gw = parameter.Constant(4.33)('gamma_gw')"
   ]
  },
  {
   "cell_type": "markdown",
   "metadata": {
    "ExecuteTime": {
     "end_time": "2018-05-11T16:44:44.713491Z",
     "start_time": "2018-05-11T16:44:44.685587Z"
    }
   },
   "source": [
    "### Signals"
   ]
  },
  {
   "cell_type": "code",
   "execution_count": 20,
   "metadata": {
    "ExecuteTime": {
     "end_time": "2018-05-15T21:49:51.557605Z",
     "start_time": "2018-05-15T21:49:51.499006Z"
    }
   },
   "outputs": [],
   "source": [
    "# white noise\n",
    "ef = white_signals.MeasurementNoise(efac=efac, selection=selection)\n",
    "eq = white_signals.EquadNoise(log10_equad=equad, selection=selection)\n",
    "ec = white_signals.EcorrKernelNoise(log10_ecorr=ecorr, selection=selection)\n",
    "\n",
    "# red noise (powerlaw with 30 frequencies)\n",
    "pl = utils.powerlaw(log10_A=log10_A, gamma=gamma)\n",
    "rn = gp_signals.FourierBasisGP(spectrum=pl, components=30, Tspan=Tspan)\n",
    "\n",
    "# gwb (no spatial correlations)\n",
    "cpl = utils.powerlaw(log10_A=log10_A_gw, gamma=gamma_gw)\n",
    "gw = gp_signals.FourierBasisGP(spectrum=cpl, components=30, Tspan=Tspan, name='gw')\n",
    "\n",
    "# for spatial correltions you can do...\n",
    "#orf = utils.hd_orf()\n",
    "#crn = gp_signals.FourierBasisCommonGP(cpl, orf, components=30, Tspan=Tspan, name='gw')\n",
    "\n",
    "# to add solar system ephemeris modeling...\n",
    "bayesephem=False\n",
    "if bayesephem:\n",
    "    eph = deterministic_signals.PhysicalEphemerisSignal(use_epoch_toas=True)\n",
    "\n",
    "# timing model\n",
    "tm = gp_signals.TimingModel(use_svd=True)"
   ]
  },
  {
   "cell_type": "code",
   "execution_count": 21,
   "metadata": {
    "ExecuteTime": {
     "end_time": "2018-05-15T21:49:52.662732Z",
     "start_time": "2018-05-15T21:49:52.638142Z"
    }
   },
   "outputs": [],
   "source": [
    "# full model\n",
    "if bayesephem:\n",
    "    s = ef + eq + ec + rn + tm + eph + gw\n",
    "else:\n",
    "    s = ef + eq + ec + rn + tm + gw"
   ]
  },
  {
   "cell_type": "code",
   "execution_count": 22,
   "metadata": {
    "ExecuteTime": {
     "end_time": "2018-05-15T21:49:55.063952Z",
     "start_time": "2018-05-15T21:49:53.602147Z"
    }
   },
   "outputs": [],
   "source": [
    "# intialize PTA\n",
    "models = []\n",
    "        \n",
    "for p in psrs:    \n",
    "    models.append(s(p))\n",
    "    \n",
    "pta = signal_base.PTA(models)"
   ]
  },
  {
   "cell_type": "code",
   "execution_count": 23,
   "metadata": {
    "ExecuteTime": {
     "end_time": "2018-05-15T21:49:56.940424Z",
     "start_time": "2018-05-15T21:49:56.910938Z"
    }
   },
   "outputs": [
    {
     "output_type": "stream",
     "name": "stdout",
     "text": [
      "47\n"
     ]
    }
   ],
   "source": [
    "print(len(pta.params))"
   ]
  },
  {
   "cell_type": "code",
   "execution_count": 24,
   "metadata": {
    "ExecuteTime": {
     "end_time": "2018-05-15T21:50:00.319108Z",
     "start_time": "2018-05-15T21:50:00.244934Z"
    },
    "scrolled": true,
    "tags": [
     "outputPrepend"
    ]
   },
   "outputs": [
    {
     "output_type": "stream",
     "name": "stderr",
     "text": [
      "orr to -7.629255580321534\n",
      "INFO: enterprise.signals.signal_base: Setting J1455-3330_Rcvr_800_GASP_log10_ecorr to -7.085458304995403\n",
      "INFO: enterprise.signals.signal_base: Setting J1455-3330_Rcvr_800_GUPPI_log10_ecorr to -6.526567653068877\n",
      "INFO: enterprise.signals.signal_base: Setting J1600-3053_Rcvr1_2_GASP_efac to 1.134993789980654\n",
      "INFO: enterprise.signals.signal_base: Setting J1600-3053_Rcvr1_2_GUPPI_efac to 1.0521556985294778\n",
      "INFO: enterprise.signals.signal_base: Setting J1600-3053_Rcvr_800_GASP_efac to 1.1935927243559799\n",
      "INFO: enterprise.signals.signal_base: Setting J1600-3053_Rcvr_800_GUPPI_efac to 1.120996265055496\n",
      "INFO: enterprise.signals.signal_base: Setting J1600-3053_Rcvr1_2_GASP_log10_equad to -6.960586084616913\n",
      "INFO: enterprise.signals.signal_base: Setting J1600-3053_Rcvr1_2_GUPPI_log10_equad to -7.761043891506745\n",
      "INFO: enterprise.signals.signal_base: Setting J1600-3053_Rcvr_800_GASP_log10_equad to -7.311693997685966\n",
      "INFO: enterprise.signals.signal_base: Setting J1600-3053_Rcvr_800_GUPPI_log10_equad to -7.374528725467375\n",
      "INFO: enterprise.signals.signal_base: Setting J1600-3053_Rcvr1_2_GASP_log10_ecorr to -7.134558712552095\n",
      "INFO: enterprise.signals.signal_base: Setting J1600-3053_Rcvr1_2_GUPPI_log10_ecorr to -6.899208552923536\n",
      "INFO: enterprise.signals.signal_base: Setting J1600-3053_Rcvr_800_GASP_log10_ecorr to -7.407293847566683\n",
      "INFO: enterprise.signals.signal_base: Setting J1600-3053_Rcvr_800_GUPPI_log10_ecorr to -6.288542964735563\n",
      "INFO: enterprise.signals.signal_base: Setting J1614-2230_Rcvr1_2_GASP_efac to 1.1369056644435913\n",
      "INFO: enterprise.signals.signal_base: Setting J1614-2230_Rcvr1_2_GUPPI_efac to 1.0636501302858106\n",
      "INFO: enterprise.signals.signal_base: Setting J1614-2230_Rcvr_800_GASP_efac to 0.9178765720365575\n",
      "INFO: enterprise.signals.signal_base: Setting J1614-2230_Rcvr_800_GUPPI_efac to 1.0115241685032286\n",
      "INFO: enterprise.signals.signal_base: Setting J1614-2230_Rcvr1_2_GASP_log10_equad to -7.32067533880299\n",
      "INFO: enterprise.signals.signal_base: Setting J1614-2230_Rcvr1_2_GUPPI_log10_equad to -7.784678758801305\n",
      "INFO: enterprise.signals.signal_base: Setting J1614-2230_Rcvr_800_GASP_log10_equad to -7.2577825388006305\n",
      "INFO: enterprise.signals.signal_base: Setting J1614-2230_Rcvr_800_GUPPI_log10_equad to -7.627864180562532\n",
      "INFO: enterprise.signals.signal_base: Setting J1614-2230_Rcvr1_2_GASP_log10_ecorr to -7.448625358285439\n",
      "INFO: enterprise.signals.signal_base: Setting J1614-2230_Rcvr1_2_GUPPI_log10_ecorr to -7.655859629011535\n",
      "INFO: enterprise.signals.signal_base: Setting J1614-2230_Rcvr_800_GASP_log10_ecorr to -7.299611199085039\n",
      "INFO: enterprise.signals.signal_base: Setting J1614-2230_Rcvr_800_GUPPI_log10_ecorr to -7.4080289590963355\n",
      "INFO: enterprise.signals.signal_base: Setting J1640+2224_430_ASP_efac to 1.143081359459332\n",
      "INFO: enterprise.signals.signal_base: Setting J1640+2224_430_PUPPI_efac to 1.0573767076899483\n",
      "INFO: enterprise.signals.signal_base: Setting J1640+2224_L-wide_ASP_efac to 1.06394287552814\n",
      "INFO: enterprise.signals.signal_base: Setting J1640+2224_L-wide_PUPPI_efac to 1.1457585235526273\n",
      "INFO: enterprise.signals.signal_base: Setting J1640+2224_430_ASP_log10_equad to -6.240784825369144\n",
      "INFO: enterprise.signals.signal_base: Setting J1640+2224_430_PUPPI_log10_equad to -6.9445789284154085\n",
      "INFO: enterprise.signals.signal_base: Setting J1640+2224_L-wide_ASP_log10_equad to -7.649274979312211\n",
      "INFO: enterprise.signals.signal_base: Setting J1640+2224_L-wide_PUPPI_log10_equad to -8.075008065199082\n",
      "INFO: enterprise.signals.signal_base: Setting J1640+2224_430_ASP_log10_ecorr to -7.788811673814794\n",
      "INFO: enterprise.signals.signal_base: Setting J1640+2224_430_PUPPI_log10_ecorr to -6.901622491949263\n",
      "INFO: enterprise.signals.signal_base: Setting J1640+2224_L-wide_ASP_log10_ecorr to -6.275572665649051\n",
      "INFO: enterprise.signals.signal_base: Setting J1640+2224_L-wide_PUPPI_log10_ecorr to -6.4079933035010095\n",
      "INFO: enterprise.signals.signal_base: Setting J1643-1224_Rcvr1_2_GASP_efac to 1.0071858015273707\n",
      "INFO: enterprise.signals.signal_base: Setting J1643-1224_Rcvr1_2_GUPPI_efac to 1.1247022811624827\n",
      "INFO: enterprise.signals.signal_base: Setting J1643-1224_Rcvr_800_GASP_efac to 1.493816799359807\n",
      "INFO: enterprise.signals.signal_base: Setting J1643-1224_Rcvr_800_GUPPI_efac to 1.1921609687505945\n",
      "INFO: enterprise.signals.signal_base: Setting J1643-1224_Rcvr1_2_GASP_log10_equad to -7.277156122921472\n",
      "INFO: enterprise.signals.signal_base: Setting J1643-1224_Rcvr1_2_GUPPI_log10_equad to -7.138128067645691\n",
      "INFO: enterprise.signals.signal_base: Setting J1643-1224_Rcvr_800_GASP_log10_equad to -7.115627957850879\n",
      "INFO: enterprise.signals.signal_base: Setting J1643-1224_Rcvr_800_GUPPI_log10_equad to -5.9780473533853655\n",
      "INFO: enterprise.signals.signal_base: Setting J1643-1224_Rcvr1_2_GASP_log10_ecorr to -7.503311141343279\n",
      "INFO: enterprise.signals.signal_base: Setting J1643-1224_Rcvr1_2_GUPPI_log10_ecorr to -6.042898081068246\n",
      "INFO: enterprise.signals.signal_base: Setting J1643-1224_Rcvr_800_GASP_log10_ecorr to -6.822037374515338\n",
      "INFO: enterprise.signals.signal_base: Setting J1643-1224_Rcvr_800_GUPPI_log10_ecorr to -5.544475232494147\n",
      "INFO: enterprise.signals.signal_base: Setting J1713+0747_L-wide_ASP_efac to 1.0524302344416032\n",
      "INFO: enterprise.signals.signal_base: Setting J1713+0747_L-wide_PUPPI_efac to 0.9796026604137508\n",
      "INFO: enterprise.signals.signal_base: Setting J1713+0747_Rcvr1_2_GASP_efac to 1.084307149708116\n",
      "INFO: enterprise.signals.signal_base: Setting J1713+0747_Rcvr1_2_GUPPI_efac to 1.017213088587959\n",
      "INFO: enterprise.signals.signal_base: Setting J1713+0747_Rcvr_800_GASP_efac to 1.117529091199639\n",
      "INFO: enterprise.signals.signal_base: Setting J1713+0747_Rcvr_800_GUPPI_efac to 1.0500383710337968\n",
      "INFO: enterprise.signals.signal_base: Setting J1713+0747_S-wide_ASP_efac to 1.1139598766607257\n",
      "INFO: enterprise.signals.signal_base: Setting J1713+0747_S-wide_PUPPI_efac to 1.0889710082237398\n",
      "INFO: enterprise.signals.signal_base: Setting J1713+0747_L-wide_ASP_log10_equad to -7.58206720746206\n",
      "INFO: enterprise.signals.signal_base: Setting J1713+0747_L-wide_PUPPI_log10_equad to -8.377098873197399\n",
      "INFO: enterprise.signals.signal_base: Setting J1713+0747_Rcvr1_2_GASP_log10_equad to -7.423897862687164\n",
      "INFO: enterprise.signals.signal_base: Setting J1713+0747_Rcvr1_2_GUPPI_log10_equad to -8.357193830632392\n",
      "INFO: enterprise.signals.signal_base: Setting J1713+0747_Rcvr_800_GASP_log10_equad to -7.251839650442933\n",
      "INFO: enterprise.signals.signal_base: Setting J1713+0747_Rcvr_800_GUPPI_log10_equad to -7.614933520652966\n",
      "INFO: enterprise.signals.signal_base: Setting J1713+0747_S-wide_ASP_log10_equad to -8.027710747783962\n",
      "INFO: enterprise.signals.signal_base: Setting J1713+0747_S-wide_PUPPI_log10_equad to -8.186781270775445\n",
      "INFO: enterprise.signals.signal_base: Setting J1713+0747_L-wide_ASP_log10_ecorr to -7.029000061406403\n",
      "INFO: enterprise.signals.signal_base: Setting J1713+0747_L-wide_PUPPI_log10_ecorr to -7.142663306094692\n",
      "INFO: enterprise.signals.signal_base: Setting J1713+0747_Rcvr1_2_GASP_log10_ecorr to -7.299970815145262\n",
      "INFO: enterprise.signals.signal_base: Setting J1713+0747_Rcvr1_2_GUPPI_log10_ecorr to -7.131010248150742\n",
      "INFO: enterprise.signals.signal_base: Setting J1713+0747_Rcvr_800_GASP_log10_ecorr to -7.788837849013025\n",
      "INFO: enterprise.signals.signal_base: Setting J1713+0747_Rcvr_800_GUPPI_log10_ecorr to -6.730867845961182\n",
      "INFO: enterprise.signals.signal_base: Setting J1713+0747_S-wide_ASP_log10_ecorr to -6.876597410265874\n",
      "INFO: enterprise.signals.signal_base: Setting J1713+0747_S-wide_PUPPI_log10_ecorr to -7.305157969602163\n",
      "INFO: enterprise.signals.signal_base: Setting J1738+0333_L-wide_ASP_efac to 1.1479069042742471\n",
      "INFO: enterprise.signals.signal_base: Setting J1738+0333_L-wide_PUPPI_efac to 1.0710506604701162\n",
      "INFO: enterprise.signals.signal_base: Setting J1738+0333_S-wide_ASP_efac to 0.9465373677964157\n",
      "INFO: enterprise.signals.signal_base: Setting J1738+0333_S-wide_PUPPI_efac to 0.8845264245078953\n",
      "INFO: enterprise.signals.signal_base: Setting J1738+0333_L-wide_ASP_log10_equad to -7.579720669663646\n",
      "INFO: enterprise.signals.signal_base: Setting J1738+0333_L-wide_PUPPI_log10_equad to -7.886362963443982\n",
      "INFO: enterprise.signals.signal_base: Setting J1738+0333_S-wide_ASP_log10_equad to -7.565578005221636\n",
      "INFO: enterprise.signals.signal_base: Setting J1738+0333_S-wide_PUPPI_log10_equad to -7.767394128812992\n",
      "INFO: enterprise.signals.signal_base: Setting J1738+0333_L-wide_ASP_log10_ecorr to -7.060532309258772\n",
      "INFO: enterprise.signals.signal_base: Setting J1738+0333_L-wide_PUPPI_log10_ecorr to -7.019786250261518\n",
      "INFO: enterprise.signals.signal_base: Setting J1738+0333_S-wide_ASP_log10_ecorr to -7.381958762803754\n",
      "INFO: enterprise.signals.signal_base: Setting J1738+0333_S-wide_PUPPI_log10_ecorr to -7.7411812625497936\n",
      "INFO: enterprise.signals.signal_base: Setting J1744-1134_Rcvr1_2_GASP_efac to 0.9978514871735024\n",
      "INFO: enterprise.signals.signal_base: Setting J1744-1134_Rcvr1_2_GUPPI_efac to 1.053362947622705\n",
      "INFO: enterprise.signals.signal_base: Setting J1744-1134_Rcvr_800_GASP_efac to 1.1285830055400954\n",
      "INFO: enterprise.signals.signal_base: Setting J1744-1134_Rcvr_800_GUPPI_efac to 1.0350590534568576\n",
      "INFO: enterprise.signals.signal_base: Setting J1744-1134_Rcvr1_2_GASP_log10_equad to -6.381411751584569\n",
      "INFO: enterprise.signals.signal_base: Setting J1744-1134_Rcvr1_2_GUPPI_log10_equad to -7.003305288540264\n",
      "INFO: enterprise.signals.signal_base: Setting J1744-1134_Rcvr_800_GASP_log10_equad to -6.4572271715342175\n",
      "INFO: enterprise.signals.signal_base: Setting J1744-1134_Rcvr_800_GUPPI_log10_equad to -6.613992229078914\n",
      "INFO: enterprise.signals.signal_base: Setting J1744-1134_Rcvr1_2_GASP_log10_ecorr to -6.292180076314258\n",
      "INFO: enterprise.signals.signal_base: Setting J1744-1134_Rcvr1_2_GUPPI_log10_ecorr to -6.537490178263718\n",
      "INFO: enterprise.signals.signal_base: Setting J1744-1134_Rcvr_800_GASP_log10_ecorr to -6.61724561091565\n",
      "INFO: enterprise.signals.signal_base: Setting J1744-1134_Rcvr_800_GUPPI_log10_ecorr to -6.396301881001724\n",
      "INFO: enterprise.signals.signal_base: Setting J1903+0327_L-wide_ASP_efac to 1.179706924996803\n",
      "INFO: enterprise.signals.signal_base: Setting J1903+0327_L-wide_PUPPI_efac to 1.168460641474899\n",
      "INFO: enterprise.signals.signal_base: Setting J1903+0327_S-wide_ASP_efac to 0.8321334329815202\n",
      "INFO: enterprise.signals.signal_base: Setting J1903+0327_S-wide_PUPPI_efac to 1.1095637896315254\n",
      "INFO: enterprise.signals.signal_base: Setting J1903+0327_L-wide_ASP_log10_equad to -7.158390864212146\n",
      "INFO: enterprise.signals.signal_base: Setting J1903+0327_L-wide_PUPPI_log10_equad to -7.759288526577286\n",
      "INFO: enterprise.signals.signal_base: Setting J1903+0327_S-wide_ASP_log10_equad to -6.16963651015452\n",
      "INFO: enterprise.signals.signal_base: Setting J1903+0327_S-wide_PUPPI_log10_equad to -7.574001886389685\n",
      "INFO: enterprise.signals.signal_base: Setting J1903+0327_L-wide_ASP_log10_ecorr to -7.172149108226772\n",
      "INFO: enterprise.signals.signal_base: Setting J1903+0327_L-wide_PUPPI_log10_ecorr to -5.636329138486162\n",
      "INFO: enterprise.signals.signal_base: Setting J1903+0327_S-wide_ASP_log10_ecorr to -7.364742895573575\n",
      "INFO: enterprise.signals.signal_base: Setting J1903+0327_S-wide_PUPPI_log10_ecorr to -7.45437286784459\n",
      "INFO: enterprise.signals.signal_base: Setting J1909-3744_Rcvr1_2_GASP_efac to 0.9505606759311833\n",
      "INFO: enterprise.signals.signal_base: Setting J1909-3744_Rcvr1_2_GUPPI_efac to 1.0339776268866265\n",
      "INFO: enterprise.signals.signal_base: Setting J1909-3744_Rcvr_800_GASP_efac to 1.0504080629362422\n",
      "INFO: enterprise.signals.signal_base: Setting J1909-3744_Rcvr_800_GUPPI_efac to 1.0313779800296294\n",
      "INFO: enterprise.signals.signal_base: Setting J1909-3744_Rcvr1_2_GASP_log10_equad to -7.456278210493956\n",
      "INFO: enterprise.signals.signal_base: Setting J1909-3744_Rcvr1_2_GUPPI_log10_equad to -8.171553179171445\n",
      "INFO: enterprise.signals.signal_base: Setting J1909-3744_Rcvr_800_GASP_log10_equad to -7.037406290351743\n",
      "INFO: enterprise.signals.signal_base: Setting J1909-3744_Rcvr_800_GUPPI_log10_equad to -7.365322642903795\n",
      "INFO: enterprise.signals.signal_base: Setting J1909-3744_Rcvr1_2_GASP_log10_ecorr to -8.078816887958723\n",
      "INFO: enterprise.signals.signal_base: Setting J1909-3744_Rcvr1_2_GUPPI_log10_ecorr to -7.137638201510413\n",
      "INFO: enterprise.signals.signal_base: Setting J1909-3744_Rcvr_800_GASP_log10_ecorr to -7.871774784575877\n",
      "INFO: enterprise.signals.signal_base: Setting J1909-3744_Rcvr_800_GUPPI_log10_ecorr to -7.269816370154123\n",
      "INFO: enterprise.signals.signal_base: Setting J1910+1256_L-wide_ASP_efac to 1.063590147073229\n",
      "INFO: enterprise.signals.signal_base: Setting J1910+1256_L-wide_PUPPI_efac to 1.0931136416030962\n",
      "INFO: enterprise.signals.signal_base: Setting J1910+1256_S-wide_ASP_efac to 0.9661536934887565\n",
      "INFO: enterprise.signals.signal_base: Setting J1910+1256_S-wide_PUPPI_efac to 1.0982792255110136\n",
      "INFO: enterprise.signals.signal_base: Setting J1910+1256_L-wide_ASP_log10_equad to -7.516992859042785\n",
      "INFO: enterprise.signals.signal_base: Setting J1910+1256_L-wide_PUPPI_log10_equad to -7.585087262800533\n",
      "INFO: enterprise.signals.signal_base: Setting J1910+1256_S-wide_ASP_log10_equad to -6.218657154174941\n",
      "INFO: enterprise.signals.signal_base: Setting J1910+1256_S-wide_PUPPI_log10_equad to -7.401958120896809\n",
      "INFO: enterprise.signals.signal_base: Setting J1910+1256_L-wide_ASP_log10_ecorr to -7.259684055387137\n",
      "INFO: enterprise.signals.signal_base: Setting J1910+1256_L-wide_PUPPI_log10_ecorr to -7.403550254322336\n",
      "INFO: enterprise.signals.signal_base: Setting J1910+1256_S-wide_ASP_log10_ecorr to -7.195615972473434\n",
      "INFO: enterprise.signals.signal_base: Setting J1910+1256_S-wide_PUPPI_log10_ecorr to -6.218612073150832\n",
      "INFO: enterprise.signals.signal_base: Setting J1918-0642_Rcvr1_2_GASP_efac to 1.0272847294363423\n",
      "INFO: enterprise.signals.signal_base: Setting J1918-0642_Rcvr1_2_GUPPI_efac to 1.035664184009173\n",
      "INFO: enterprise.signals.signal_base: Setting J1918-0642_Rcvr_800_GASP_efac to 1.0557165923306966\n",
      "INFO: enterprise.signals.signal_base: Setting J1918-0642_Rcvr_800_GUPPI_efac to 1.034910727323206\n",
      "INFO: enterprise.signals.signal_base: Setting J1918-0642_Rcvr1_2_GASP_log10_equad to -7.67322161371427\n",
      "INFO: enterprise.signals.signal_base: Setting J1918-0642_Rcvr1_2_GUPPI_log10_equad to -7.3696863188027075\n",
      "INFO: enterprise.signals.signal_base: Setting J1918-0642_Rcvr_800_GASP_log10_equad to -7.105797415440444\n",
      "INFO: enterprise.signals.signal_base: Setting J1918-0642_Rcvr_800_GUPPI_log10_equad to -7.086564536955872\n",
      "INFO: enterprise.signals.signal_base: Setting J1918-0642_Rcvr1_2_GASP_log10_ecorr to -7.37828526123227\n",
      "INFO: enterprise.signals.signal_base: Setting J1918-0642_Rcvr1_2_GUPPI_log10_ecorr to -7.4935011859866485\n",
      "INFO: enterprise.signals.signal_base: Setting J1918-0642_Rcvr_800_GASP_log10_ecorr to -7.559243560441317\n",
      "INFO: enterprise.signals.signal_base: Setting J1918-0642_Rcvr_800_GUPPI_log10_ecorr to -6.525389492066881\n",
      "INFO: enterprise.signals.signal_base: Setting J1944+0907_430_ASP_efac to 1.0814498126291534\n",
      "INFO: enterprise.signals.signal_base: Setting J1944+0907_430_PUPPI_efac to 1.0727024023469869\n",
      "INFO: enterprise.signals.signal_base: Setting J1944+0907_L-wide_ASP_efac to 1.5390588569396464\n",
      "INFO: enterprise.signals.signal_base: Setting J1944+0907_L-wide_PUPPI_efac to 1.1696155596603073\n",
      "INFO: enterprise.signals.signal_base: Setting J1944+0907_430_ASP_log10_equad to -7.243114059446985\n",
      "INFO: enterprise.signals.signal_base: Setting J1944+0907_430_PUPPI_log10_equad to -6.926315089238918\n",
      "INFO: enterprise.signals.signal_base: Setting J1944+0907_L-wide_ASP_log10_equad to -7.238241222764401\n",
      "INFO: enterprise.signals.signal_base: Setting J1944+0907_L-wide_PUPPI_log10_equad to -7.693354205218862\n",
      "INFO: enterprise.signals.signal_base: Setting J1944+0907_430_ASP_log10_ecorr to -6.8879174105358185\n",
      "INFO: enterprise.signals.signal_base: Setting J1944+0907_430_PUPPI_log10_ecorr to -7.1306299212575945\n",
      "INFO: enterprise.signals.signal_base: Setting J1944+0907_L-wide_ASP_log10_ecorr to -7.104483772896318\n",
      "INFO: enterprise.signals.signal_base: Setting J1944+0907_L-wide_PUPPI_log10_ecorr to -6.546284570029579\n",
      "INFO: enterprise.signals.signal_base: Setting J2010-1323_Rcvr1_2_GASP_efac to 1.0179865222180375\n",
      "INFO: enterprise.signals.signal_base: Setting J2010-1323_Rcvr1_2_GUPPI_efac to 1.046213434079912\n",
      "INFO: enterprise.signals.signal_base: Setting J2010-1323_Rcvr_800_GASP_efac to 1.0631310225900652\n",
      "INFO: enterprise.signals.signal_base: Setting J2010-1323_Rcvr_800_GUPPI_efac to 0.9946706739052781\n",
      "INFO: enterprise.signals.signal_base: Setting J2010-1323_Rcvr1_2_GASP_log10_equad to -7.170459137166772\n",
      "INFO: enterprise.signals.signal_base: Setting J2010-1323_Rcvr1_2_GUPPI_log10_equad to -7.676454828722258\n",
      "INFO: enterprise.signals.signal_base: Setting J2010-1323_Rcvr_800_GASP_log10_equad to -7.260685669109653\n",
      "INFO: enterprise.signals.signal_base: Setting J2010-1323_Rcvr_800_GUPPI_log10_equad to -7.2177759208361\n",
      "INFO: enterprise.signals.signal_base: Setting J2010-1323_Rcvr1_2_GASP_log10_ecorr to -7.182315425909628\n",
      "INFO: enterprise.signals.signal_base: Setting J2010-1323_Rcvr1_2_GUPPI_log10_ecorr to -7.686560497366312\n",
      "INFO: enterprise.signals.signal_base: Setting J2010-1323_Rcvr_800_GASP_log10_ecorr to -7.241412604014393\n",
      "INFO: enterprise.signals.signal_base: Setting J2010-1323_Rcvr_800_GUPPI_log10_ecorr to -7.580143294343043\n",
      "INFO: enterprise.signals.signal_base: Setting J2145-0750_Rcvr1_2_GASP_efac to 1.0110230422869044\n",
      "INFO: enterprise.signals.signal_base: Setting J2145-0750_Rcvr1_2_GUPPI_efac to 1.0265447460207069\n",
      "INFO: enterprise.signals.signal_base: Setting J2145-0750_Rcvr_800_GASP_efac to 1.2601984171075302\n",
      "INFO: enterprise.signals.signal_base: Setting J2145-0750_Rcvr_800_GUPPI_efac to 1.0476740581711277\n",
      "INFO: enterprise.signals.signal_base: Setting J2145-0750_Rcvr1_2_GASP_log10_equad to -5.705026109830131\n",
      "INFO: enterprise.signals.signal_base: Setting J2145-0750_Rcvr1_2_GUPPI_log10_equad to -7.938817552005569\n",
      "INFO: enterprise.signals.signal_base: Setting J2145-0750_Rcvr_800_GASP_log10_equad to -6.513203859186709\n",
      "INFO: enterprise.signals.signal_base: Setting J2145-0750_Rcvr_800_GUPPI_log10_equad to -6.4184191843741445\n",
      "INFO: enterprise.signals.signal_base: Setting J2145-0750_Rcvr1_2_GASP_log10_ecorr to -6.243824665782128\n",
      "INFO: enterprise.signals.signal_base: Setting J2145-0750_Rcvr1_2_GUPPI_log10_ecorr to -6.355906738653193\n",
      "INFO: enterprise.signals.signal_base: Setting J2145-0750_Rcvr_800_GASP_log10_ecorr to -6.233581141499856\n",
      "INFO: enterprise.signals.signal_base: Setting J2145-0750_Rcvr_800_GUPPI_log10_ecorr to -6.598154829313346\n",
      "INFO: enterprise.signals.signal_base: Setting J2317+1439_327_ASP_efac to 1.0823722500112272\n",
      "INFO: enterprise.signals.signal_base: Setting J2317+1439_327_PUPPI_efac to 1.17384139990156\n",
      "INFO: enterprise.signals.signal_base: Setting J2317+1439_430_ASP_efac to 1.2574511773494976\n",
      "INFO: enterprise.signals.signal_base: Setting J2317+1439_430_PUPPI_efac to 1.0163851726761812\n",
      "INFO: enterprise.signals.signal_base: Setting J2317+1439_L-wide_PUPPI_efac to 1.1163982326548925\n",
      "INFO: enterprise.signals.signal_base: Setting J2317+1439_327_ASP_log10_equad to -6.457911273619141\n",
      "INFO: enterprise.signals.signal_base: Setting J2317+1439_327_PUPPI_log10_equad to -6.462306002360743\n",
      "INFO: enterprise.signals.signal_base: Setting J2317+1439_430_ASP_log10_equad to -7.3732139102446626\n",
      "INFO: enterprise.signals.signal_base: Setting J2317+1439_430_PUPPI_log10_equad to -6.535705196682452\n",
      "INFO: enterprise.signals.signal_base: Setting J2317+1439_L-wide_PUPPI_log10_equad to -7.463944437178126\n",
      "INFO: enterprise.signals.signal_base: Setting J2317+1439_327_ASP_log10_ecorr to -7.706187896212512\n",
      "INFO: enterprise.signals.signal_base: Setting J2317+1439_327_PUPPI_log10_ecorr to -6.392284847303101\n",
      "INFO: enterprise.signals.signal_base: Setting J2317+1439_430_ASP_log10_ecorr to -6.509624616624109\n",
      "INFO: enterprise.signals.signal_base: Setting J2317+1439_430_PUPPI_log10_ecorr to -6.87918040058842\n",
      "INFO: enterprise.signals.signal_base: Setting J2317+1439_L-wide_PUPPI_log10_ecorr to -6.6463560361584975\n"
     ]
    }
   ],
   "source": [
    "# set white noise parameters with dictionary\n",
    "pta.set_default_params(params)"
   ]
  },
  {
   "cell_type": "code",
   "execution_count": 26,
   "metadata": {
    "ExecuteTime": {
     "end_time": "2018-05-15T21:50:03.822379Z",
     "start_time": "2018-05-15T21:50:03.788843Z"
    }
   },
   "outputs": [],
   "source": [
    "# set initial parameters drawn from prior\n",
    "x0 = np.hstack([p.sample() for p in pta.params])\n",
    "ndim = len(x0)"
   ]
  },
  {
   "cell_type": "code",
   "execution_count": 29,
   "metadata": {
    "ExecuteTime": {
     "end_time": "2018-05-15T21:50:06.902347Z",
     "start_time": "2018-05-15T21:50:06.866018Z"
    }
   },
   "outputs": [],
   "source": [
    "# set up the sampler:\n",
    "# initial jump covariance matrix\n",
    "cov = np.diag(np.ones(ndim) * 0.01**2)\n",
    "outDir = '/chains_pta_test'\n",
    "\n",
    "sampler = ptmcmc(ndim, pta.get_lnlikelihood, pta.get_lnprior, cov, \n",
    "                 outDir=outDir, resume=False)"
   ]
  },
  {
   "cell_type": "markdown",
   "metadata": {},
   "source": [
    "### Sample!\n",
    "\n",
    "This should take about 30 minutes to sample. Note that a normal analysis would include from 1e6 to 5e6 samples. Here we would like it to finish a little faster, so we only look for 1e5 samples for about half the number of pulsars in the NANOGrav dataset. This should be enough to get an idea of what the posterior looks like."
   ]
  },
  {
   "cell_type": "code",
   "execution_count": 36,
   "metadata": {
    "ExecuteTime": {
     "end_time": "2018-05-15T21:51:39.157421Z",
     "start_time": "2018-05-15T21:50:07.962002Z"
    }
   },
   "outputs": [
    {
     "output_type": "stream",
     "name": "stdout",
     "text": [
      "Finished 6.67 percent in 154.400984 s Acceptance rate = 0.7148Adding DE jump with weight 50\n",
      "Finished 99.33 percent in 1768.112467 s Acceptance rate = 0.380651\n",
      "Run Complete\n"
     ]
    }
   ],
   "source": [
    "# sampler for N steps\n",
    "N = int(1.5e5)  # normally, we would use 5e6 samples (this will save time)\n",
    "x0 = np.hstack([p.sample() for p in pta.params])\n",
    "sampler.sample(x0, N, SCAMweight=30, AMweight=15, DEweight=50, )"
   ]
  },
  {
   "cell_type": "markdown",
   "metadata": {},
   "source": [
    "## Plot output"
   ]
  },
  {
   "cell_type": "code",
   "execution_count": 37,
   "metadata": {
    "ExecuteTime": {
     "end_time": "2018-05-15T21:51:44.119807Z",
     "start_time": "2018-05-15T21:51:44.060350Z"
    }
   },
   "outputs": [],
   "source": [
    "chain = np.loadtxt(os.path.join(outDir, 'chain_1.txt'))\n",
    "burn = int(0.25 * chain.shape[0])"
   ]
  },
  {
   "cell_type": "code",
   "execution_count": 38,
   "metadata": {},
   "outputs": [],
   "source": [
    "ind = list(pta.param_names).index('log10_A_gw')"
   ]
  },
  {
   "cell_type": "code",
   "execution_count": 39,
   "metadata": {},
   "outputs": [
    {
     "output_type": "execute_result",
     "data": {
      "text/plain": [
       "[<matplotlib.lines.Line2D at 0x7fc2f2045710>]"
      ]
     },
     "metadata": {},
     "execution_count": 39
    },
    {
     "output_type": "display_data",
     "data": {
      "text/plain": "<Figure size 432x288 with 1 Axes>",
      "image/png": "[encoded data removed]"
     },
     "metadata": {
      "image/png": {
       "width": 386,
       "height": 248
      },
      "needs_background": "light"
     }
    }
   ],
   "source": [
    "# Make trace-plot to diagnose sampling\n",
    "plt.plot(chain[burn:, ind])"
   ]
  },
  {
   "cell_type": "code",
   "execution_count": 40,
   "metadata": {
    "ExecuteTime": {
     "end_time": "2018-05-15T21:51:46.102261Z",
     "start_time": "2018-05-15T21:51:45.927388Z"
    }
   },
   "outputs": [
    {
     "output_type": "execute_result",
     "data": {
      "text/plain": [
       "Text(0, 0.5, 'PDF')"
      ]
     },
     "metadata": {},
     "execution_count": 40
    },
    {
     "output_type": "display_data",
     "data": {
      "text/plain": "<Figure size 432x288 with 1 Axes>",
      "image/png": "[encoded data removed]"
     },
     "metadata": {
      "image/png": {
       "width": 388,
       "height": 262
      },
      "needs_background": "light"
     }
    }
   ],
   "source": [
    "# Plot a histogram of the marginalized posterior distribution\n",
    "plt.hist(chain[burn:,ind], 50, histtype='stepfilled', \n",
    "         lw=2, color='C0', alpha=0.5)\n",
    "plt.xlabel('log10_A_gw')\n",
    "plt.ylabel('PDF')"
   ]
  },
  {
   "cell_type": "markdown",
   "metadata": {},
   "source": [
    "## Discussion\n",
    "\n",
    "* The posterior shows that there is a signal in the data. We can see this by examining the left side of the plot. If there were no signal here, the posterior would have a tail extending to the left as far as our prior extends."
   ]
  },
  {
   "source": [
    "### Upper limit:\n",
    "* For an upper limit analysis, we would use a `Uniform` prior on the amplitudes of the GWB and the red noise.\n",
    "* In this case we are doing a detection analysis, so the upper limit here is not as well sampled as it would be with a `Uniform` prior."
   ],
   "cell_type": "markdown",
   "metadata": {}
  },
  {
   "cell_type": "code",
   "execution_count": 41,
   "metadata": {
    "ExecuteTime": {
     "end_time": "2018-05-15T21:51:49.718217Z",
     "start_time": "2018-05-15T21:51:49.682886Z"
    }
   },
   "outputs": [
    {
     "output_type": "stream",
     "name": "stdout",
     "text": [
      "2.2715365613001967e-15\n"
     ]
    }
   ],
   "source": [
    "# Upper limit value\n",
    "upper = 10**np.percentile(chain[burn:, -5], q=95)\n",
    "print(upper)"
   ]
  },
  {
   "cell_type": "markdown",
   "metadata": {},
   "source": [
    "## Now, the easy way to do all of this...\n",
    "\n",
    "* Many of the steps above have been consolidated into convenient functions inside the `enterprise_extensions` package. In this section, we will show how to use these covenient functions."
   ]
  },
  {
   "cell_type": "code",
   "execution_count": 42,
   "metadata": {
    "ExecuteTime": {
     "end_time": "2018-05-15T21:53:11.676320Z",
     "start_time": "2018-05-15T21:53:11.629096Z"
    }
   },
   "outputs": [],
   "source": [
    "import enterprise_extensions\n",
    "from enterprise_extensions import models, model_utils, hypermodel"
   ]
  },
  {
   "source": [
    "### Import `par` and `tim` files here and put them in a `Pulsar` class\n",
    "* If you are running this after the above section, you do not need to do this."
   ],
   "cell_type": "markdown",
   "metadata": {}
  },
  {
   "cell_type": "code",
   "execution_count": 58,
   "metadata": {
    "ExecuteTime": {
     "end_time": "2018-05-15T21:56:18.738032Z",
     "start_time": "2018-05-15T21:56:17.309346Z"
    },
    "tags": [
     "outputPrepend"
    ]
   },
   "outputs": [
    {
     "output_type": "stream",
     "name": "stderr",
     "text": [
      "orr to -7.629255580321534\n",
      "INFO: enterprise.signals.signal_base: Setting J1455-3330_Rcvr_800_GASP_log10_ecorr to -7.085458304995403\n",
      "INFO: enterprise.signals.signal_base: Setting J1455-3330_Rcvr_800_GUPPI_log10_ecorr to -6.526567653068877\n",
      "INFO: enterprise.signals.signal_base: Setting J1600-3053_Rcvr1_2_GASP_efac to 1.134993789980654\n",
      "INFO: enterprise.signals.signal_base: Setting J1600-3053_Rcvr1_2_GUPPI_efac to 1.0521556985294778\n",
      "INFO: enterprise.signals.signal_base: Setting J1600-3053_Rcvr_800_GASP_efac to 1.1935927243559799\n",
      "INFO: enterprise.signals.signal_base: Setting J1600-3053_Rcvr_800_GUPPI_efac to 1.120996265055496\n",
      "INFO: enterprise.signals.signal_base: Setting J1600-3053_Rcvr1_2_GASP_log10_equad to -6.960586084616913\n",
      "INFO: enterprise.signals.signal_base: Setting J1600-3053_Rcvr1_2_GUPPI_log10_equad to -7.761043891506745\n",
      "INFO: enterprise.signals.signal_base: Setting J1600-3053_Rcvr_800_GASP_log10_equad to -7.311693997685966\n",
      "INFO: enterprise.signals.signal_base: Setting J1600-3053_Rcvr_800_GUPPI_log10_equad to -7.374528725467375\n",
      "INFO: enterprise.signals.signal_base: Setting J1600-3053_Rcvr1_2_GASP_log10_ecorr to -7.134558712552095\n",
      "INFO: enterprise.signals.signal_base: Setting J1600-3053_Rcvr1_2_GUPPI_log10_ecorr to -6.899208552923536\n",
      "INFO: enterprise.signals.signal_base: Setting J1600-3053_Rcvr_800_GASP_log10_ecorr to -7.407293847566683\n",
      "INFO: enterprise.signals.signal_base: Setting J1600-3053_Rcvr_800_GUPPI_log10_ecorr to -6.288542964735563\n",
      "INFO: enterprise.signals.signal_base: Setting J1614-2230_Rcvr1_2_GASP_efac to 1.1369056644435913\n",
      "INFO: enterprise.signals.signal_base: Setting J1614-2230_Rcvr1_2_GUPPI_efac to 1.0636501302858106\n",
      "INFO: enterprise.signals.signal_base: Setting J1614-2230_Rcvr_800_GASP_efac to 0.9178765720365575\n",
      "INFO: enterprise.signals.signal_base: Setting J1614-2230_Rcvr_800_GUPPI_efac to 1.0115241685032286\n",
      "INFO: enterprise.signals.signal_base: Setting J1614-2230_Rcvr1_2_GASP_log10_equad to -7.32067533880299\n",
      "INFO: enterprise.signals.signal_base: Setting J1614-2230_Rcvr1_2_GUPPI_log10_equad to -7.784678758801305\n",
      "INFO: enterprise.signals.signal_base: Setting J1614-2230_Rcvr_800_GASP_log10_equad to -7.2577825388006305\n",
      "INFO: enterprise.signals.signal_base: Setting J1614-2230_Rcvr_800_GUPPI_log10_equad to -7.627864180562532\n",
      "INFO: enterprise.signals.signal_base: Setting J1614-2230_Rcvr1_2_GASP_log10_ecorr to -7.448625358285439\n",
      "INFO: enterprise.signals.signal_base: Setting J1614-2230_Rcvr1_2_GUPPI_log10_ecorr to -7.655859629011535\n",
      "INFO: enterprise.signals.signal_base: Setting J1614-2230_Rcvr_800_GASP_log10_ecorr to -7.299611199085039\n",
      "INFO: enterprise.signals.signal_base: Setting J1614-2230_Rcvr_800_GUPPI_log10_ecorr to -7.4080289590963355\n",
      "INFO: enterprise.signals.signal_base: Setting J1640+2224_430_ASP_efac to 1.143081359459332\n",
      "INFO: enterprise.signals.signal_base: Setting J1640+2224_430_PUPPI_efac to 1.0573767076899483\n",
      "INFO: enterprise.signals.signal_base: Setting J1640+2224_L-wide_ASP_efac to 1.06394287552814\n",
      "INFO: enterprise.signals.signal_base: Setting J1640+2224_L-wide_PUPPI_efac to 1.1457585235526273\n",
      "INFO: enterprise.signals.signal_base: Setting J1640+2224_430_ASP_log10_equad to -6.240784825369144\n",
      "INFO: enterprise.signals.signal_base: Setting J1640+2224_430_PUPPI_log10_equad to -6.9445789284154085\n",
      "INFO: enterprise.signals.signal_base: Setting J1640+2224_L-wide_ASP_log10_equad to -7.649274979312211\n",
      "INFO: enterprise.signals.signal_base: Setting J1640+2224_L-wide_PUPPI_log10_equad to -8.075008065199082\n",
      "INFO: enterprise.signals.signal_base: Setting J1640+2224_430_ASP_log10_ecorr to -7.788811673814794\n",
      "INFO: enterprise.signals.signal_base: Setting J1640+2224_430_PUPPI_log10_ecorr to -6.901622491949263\n",
      "INFO: enterprise.signals.signal_base: Setting J1640+2224_L-wide_ASP_log10_ecorr to -6.275572665649051\n",
      "INFO: enterprise.signals.signal_base: Setting J1640+2224_L-wide_PUPPI_log10_ecorr to -6.4079933035010095\n",
      "INFO: enterprise.signals.signal_base: Setting J1643-1224_Rcvr1_2_GASP_efac to 1.0071858015273707\n",
      "INFO: enterprise.signals.signal_base: Setting J1643-1224_Rcvr1_2_GUPPI_efac to 1.1247022811624827\n",
      "INFO: enterprise.signals.signal_base: Setting J1643-1224_Rcvr_800_GASP_efac to 1.493816799359807\n",
      "INFO: enterprise.signals.signal_base: Setting J1643-1224_Rcvr_800_GUPPI_efac to 1.1921609687505945\n",
      "INFO: enterprise.signals.signal_base: Setting J1643-1224_Rcvr1_2_GASP_log10_equad to -7.277156122921472\n",
      "INFO: enterprise.signals.signal_base: Setting J1643-1224_Rcvr1_2_GUPPI_log10_equad to -7.138128067645691\n",
      "INFO: enterprise.signals.signal_base: Setting J1643-1224_Rcvr_800_GASP_log10_equad to -7.115627957850879\n",
      "INFO: enterprise.signals.signal_base: Setting J1643-1224_Rcvr_800_GUPPI_log10_equad to -5.9780473533853655\n",
      "INFO: enterprise.signals.signal_base: Setting J1643-1224_Rcvr1_2_GASP_log10_ecorr to -7.503311141343279\n",
      "INFO: enterprise.signals.signal_base: Setting J1643-1224_Rcvr1_2_GUPPI_log10_ecorr to -6.042898081068246\n",
      "INFO: enterprise.signals.signal_base: Setting J1643-1224_Rcvr_800_GASP_log10_ecorr to -6.822037374515338\n",
      "INFO: enterprise.signals.signal_base: Setting J1643-1224_Rcvr_800_GUPPI_log10_ecorr to -5.544475232494147\n",
      "INFO: enterprise.signals.signal_base: Setting J1713+0747_L-wide_ASP_efac to 1.0524302344416032\n",
      "INFO: enterprise.signals.signal_base: Setting J1713+0747_L-wide_PUPPI_efac to 0.9796026604137508\n",
      "INFO: enterprise.signals.signal_base: Setting J1713+0747_Rcvr1_2_GASP_efac to 1.084307149708116\n",
      "INFO: enterprise.signals.signal_base: Setting J1713+0747_Rcvr1_2_GUPPI_efac to 1.017213088587959\n",
      "INFO: enterprise.signals.signal_base: Setting J1713+0747_Rcvr_800_GASP_efac to 1.117529091199639\n",
      "INFO: enterprise.signals.signal_base: Setting J1713+0747_Rcvr_800_GUPPI_efac to 1.0500383710337968\n",
      "INFO: enterprise.signals.signal_base: Setting J1713+0747_S-wide_ASP_efac to 1.1139598766607257\n",
      "INFO: enterprise.signals.signal_base: Setting J1713+0747_S-wide_PUPPI_efac to 1.0889710082237398\n",
      "INFO: enterprise.signals.signal_base: Setting J1713+0747_L-wide_ASP_log10_equad to -7.58206720746206\n",
      "INFO: enterprise.signals.signal_base: Setting J1713+0747_L-wide_PUPPI_log10_equad to -8.377098873197399\n",
      "INFO: enterprise.signals.signal_base: Setting J1713+0747_Rcvr1_2_GASP_log10_equad to -7.423897862687164\n",
      "INFO: enterprise.signals.signal_base: Setting J1713+0747_Rcvr1_2_GUPPI_log10_equad to -8.357193830632392\n",
      "INFO: enterprise.signals.signal_base: Setting J1713+0747_Rcvr_800_GASP_log10_equad to -7.251839650442933\n",
      "INFO: enterprise.signals.signal_base: Setting J1713+0747_Rcvr_800_GUPPI_log10_equad to -7.614933520652966\n",
      "INFO: enterprise.signals.signal_base: Setting J1713+0747_S-wide_ASP_log10_equad to -8.027710747783962\n",
      "INFO: enterprise.signals.signal_base: Setting J1713+0747_S-wide_PUPPI_log10_equad to -8.186781270775445\n",
      "INFO: enterprise.signals.signal_base: Setting J1713+0747_L-wide_ASP_log10_ecorr to -7.029000061406403\n",
      "INFO: enterprise.signals.signal_base: Setting J1713+0747_L-wide_PUPPI_log10_ecorr to -7.142663306094692\n",
      "INFO: enterprise.signals.signal_base: Setting J1713+0747_Rcvr1_2_GASP_log10_ecorr to -7.299970815145262\n",
      "INFO: enterprise.signals.signal_base: Setting J1713+0747_Rcvr1_2_GUPPI_log10_ecorr to -7.131010248150742\n",
      "INFO: enterprise.signals.signal_base: Setting J1713+0747_Rcvr_800_GASP_log10_ecorr to -7.788837849013025\n",
      "INFO: enterprise.signals.signal_base: Setting J1713+0747_Rcvr_800_GUPPI_log10_ecorr to -6.730867845961182\n",
      "INFO: enterprise.signals.signal_base: Setting J1713+0747_S-wide_ASP_log10_ecorr to -6.876597410265874\n",
      "INFO: enterprise.signals.signal_base: Setting J1713+0747_S-wide_PUPPI_log10_ecorr to -7.305157969602163\n",
      "INFO: enterprise.signals.signal_base: Setting J1738+0333_L-wide_ASP_efac to 1.1479069042742471\n",
      "INFO: enterprise.signals.signal_base: Setting J1738+0333_L-wide_PUPPI_efac to 1.0710506604701162\n",
      "INFO: enterprise.signals.signal_base: Setting J1738+0333_S-wide_ASP_efac to 0.9465373677964157\n",
      "INFO: enterprise.signals.signal_base: Setting J1738+0333_S-wide_PUPPI_efac to 0.8845264245078953\n",
      "INFO: enterprise.signals.signal_base: Setting J1738+0333_L-wide_ASP_log10_equad to -7.579720669663646\n",
      "INFO: enterprise.signals.signal_base: Setting J1738+0333_L-wide_PUPPI_log10_equad to -7.886362963443982\n",
      "INFO: enterprise.signals.signal_base: Setting J1738+0333_S-wide_ASP_log10_equad to -7.565578005221636\n",
      "INFO: enterprise.signals.signal_base: Setting J1738+0333_S-wide_PUPPI_log10_equad to -7.767394128812992\n",
      "INFO: enterprise.signals.signal_base: Setting J1738+0333_L-wide_ASP_log10_ecorr to -7.060532309258772\n",
      "INFO: enterprise.signals.signal_base: Setting J1738+0333_L-wide_PUPPI_log10_ecorr to -7.019786250261518\n",
      "INFO: enterprise.signals.signal_base: Setting J1738+0333_S-wide_ASP_log10_ecorr to -7.381958762803754\n",
      "INFO: enterprise.signals.signal_base: Setting J1738+0333_S-wide_PUPPI_log10_ecorr to -7.7411812625497936\n",
      "INFO: enterprise.signals.signal_base: Setting J1744-1134_Rcvr1_2_GASP_efac to 0.9978514871735024\n",
      "INFO: enterprise.signals.signal_base: Setting J1744-1134_Rcvr1_2_GUPPI_efac to 1.053362947622705\n",
      "INFO: enterprise.signals.signal_base: Setting J1744-1134_Rcvr_800_GASP_efac to 1.1285830055400954\n",
      "INFO: enterprise.signals.signal_base: Setting J1744-1134_Rcvr_800_GUPPI_efac to 1.0350590534568576\n",
      "INFO: enterprise.signals.signal_base: Setting J1744-1134_Rcvr1_2_GASP_log10_equad to -6.381411751584569\n",
      "INFO: enterprise.signals.signal_base: Setting J1744-1134_Rcvr1_2_GUPPI_log10_equad to -7.003305288540264\n",
      "INFO: enterprise.signals.signal_base: Setting J1744-1134_Rcvr_800_GASP_log10_equad to -6.4572271715342175\n",
      "INFO: enterprise.signals.signal_base: Setting J1744-1134_Rcvr_800_GUPPI_log10_equad to -6.613992229078914\n",
      "INFO: enterprise.signals.signal_base: Setting J1744-1134_Rcvr1_2_GASP_log10_ecorr to -6.292180076314258\n",
      "INFO: enterprise.signals.signal_base: Setting J1744-1134_Rcvr1_2_GUPPI_log10_ecorr to -6.537490178263718\n",
      "INFO: enterprise.signals.signal_base: Setting J1744-1134_Rcvr_800_GASP_log10_ecorr to -6.61724561091565\n",
      "INFO: enterprise.signals.signal_base: Setting J1744-1134_Rcvr_800_GUPPI_log10_ecorr to -6.396301881001724\n",
      "INFO: enterprise.signals.signal_base: Setting J1903+0327_L-wide_ASP_efac to 1.179706924996803\n",
      "INFO: enterprise.signals.signal_base: Setting J1903+0327_L-wide_PUPPI_efac to 1.168460641474899\n",
      "INFO: enterprise.signals.signal_base: Setting J1903+0327_S-wide_ASP_efac to 0.8321334329815202\n",
      "INFO: enterprise.signals.signal_base: Setting J1903+0327_S-wide_PUPPI_efac to 1.1095637896315254\n",
      "INFO: enterprise.signals.signal_base: Setting J1903+0327_L-wide_ASP_log10_equad to -7.158390864212146\n",
      "INFO: enterprise.signals.signal_base: Setting J1903+0327_L-wide_PUPPI_log10_equad to -7.759288526577286\n",
      "INFO: enterprise.signals.signal_base: Setting J1903+0327_S-wide_ASP_log10_equad to -6.16963651015452\n",
      "INFO: enterprise.signals.signal_base: Setting J1903+0327_S-wide_PUPPI_log10_equad to -7.574001886389685\n",
      "INFO: enterprise.signals.signal_base: Setting J1903+0327_L-wide_ASP_log10_ecorr to -7.172149108226772\n",
      "INFO: enterprise.signals.signal_base: Setting J1903+0327_L-wide_PUPPI_log10_ecorr to -5.636329138486162\n",
      "INFO: enterprise.signals.signal_base: Setting J1903+0327_S-wide_ASP_log10_ecorr to -7.364742895573575\n",
      "INFO: enterprise.signals.signal_base: Setting J1903+0327_S-wide_PUPPI_log10_ecorr to -7.45437286784459\n",
      "INFO: enterprise.signals.signal_base: Setting J1909-3744_Rcvr1_2_GASP_efac to 0.9505606759311833\n",
      "INFO: enterprise.signals.signal_base: Setting J1909-3744_Rcvr1_2_GUPPI_efac to 1.0339776268866265\n",
      "INFO: enterprise.signals.signal_base: Setting J1909-3744_Rcvr_800_GASP_efac to 1.0504080629362422\n",
      "INFO: enterprise.signals.signal_base: Setting J1909-3744_Rcvr_800_GUPPI_efac to 1.0313779800296294\n",
      "INFO: enterprise.signals.signal_base: Setting J1909-3744_Rcvr1_2_GASP_log10_equad to -7.456278210493956\n",
      "INFO: enterprise.signals.signal_base: Setting J1909-3744_Rcvr1_2_GUPPI_log10_equad to -8.171553179171445\n",
      "INFO: enterprise.signals.signal_base: Setting J1909-3744_Rcvr_800_GASP_log10_equad to -7.037406290351743\n",
      "INFO: enterprise.signals.signal_base: Setting J1909-3744_Rcvr_800_GUPPI_log10_equad to -7.365322642903795\n",
      "INFO: enterprise.signals.signal_base: Setting J1909-3744_Rcvr1_2_GASP_log10_ecorr to -8.078816887958723\n",
      "INFO: enterprise.signals.signal_base: Setting J1909-3744_Rcvr1_2_GUPPI_log10_ecorr to -7.137638201510413\n",
      "INFO: enterprise.signals.signal_base: Setting J1909-3744_Rcvr_800_GASP_log10_ecorr to -7.871774784575877\n",
      "INFO: enterprise.signals.signal_base: Setting J1909-3744_Rcvr_800_GUPPI_log10_ecorr to -7.269816370154123\n",
      "INFO: enterprise.signals.signal_base: Setting J1910+1256_L-wide_ASP_efac to 1.063590147073229\n",
      "INFO: enterprise.signals.signal_base: Setting J1910+1256_L-wide_PUPPI_efac to 1.0931136416030962\n",
      "INFO: enterprise.signals.signal_base: Setting J1910+1256_S-wide_ASP_efac to 0.9661536934887565\n",
      "INFO: enterprise.signals.signal_base: Setting J1910+1256_S-wide_PUPPI_efac to 1.0982792255110136\n",
      "INFO: enterprise.signals.signal_base: Setting J1910+1256_L-wide_ASP_log10_equad to -7.516992859042785\n",
      "INFO: enterprise.signals.signal_base: Setting J1910+1256_L-wide_PUPPI_log10_equad to -7.585087262800533\n",
      "INFO: enterprise.signals.signal_base: Setting J1910+1256_S-wide_ASP_log10_equad to -6.218657154174941\n",
      "INFO: enterprise.signals.signal_base: Setting J1910+1256_S-wide_PUPPI_log10_equad to -7.401958120896809\n",
      "INFO: enterprise.signals.signal_base: Setting J1910+1256_L-wide_ASP_log10_ecorr to -7.259684055387137\n",
      "INFO: enterprise.signals.signal_base: Setting J1910+1256_L-wide_PUPPI_log10_ecorr to -7.403550254322336\n",
      "INFO: enterprise.signals.signal_base: Setting J1910+1256_S-wide_ASP_log10_ecorr to -7.195615972473434\n",
      "INFO: enterprise.signals.signal_base: Setting J1910+1256_S-wide_PUPPI_log10_ecorr to -6.218612073150832\n",
      "INFO: enterprise.signals.signal_base: Setting J1918-0642_Rcvr1_2_GASP_efac to 1.0272847294363423\n",
      "INFO: enterprise.signals.signal_base: Setting J1918-0642_Rcvr1_2_GUPPI_efac to 1.035664184009173\n",
      "INFO: enterprise.signals.signal_base: Setting J1918-0642_Rcvr_800_GASP_efac to 1.0557165923306966\n",
      "INFO: enterprise.signals.signal_base: Setting J1918-0642_Rcvr_800_GUPPI_efac to 1.034910727323206\n",
      "INFO: enterprise.signals.signal_base: Setting J1918-0642_Rcvr1_2_GASP_log10_equad to -7.67322161371427\n",
      "INFO: enterprise.signals.signal_base: Setting J1918-0642_Rcvr1_2_GUPPI_log10_equad to -7.3696863188027075\n",
      "INFO: enterprise.signals.signal_base: Setting J1918-0642_Rcvr_800_GASP_log10_equad to -7.105797415440444\n",
      "INFO: enterprise.signals.signal_base: Setting J1918-0642_Rcvr_800_GUPPI_log10_equad to -7.086564536955872\n",
      "INFO: enterprise.signals.signal_base: Setting J1918-0642_Rcvr1_2_GASP_log10_ecorr to -7.37828526123227\n",
      "INFO: enterprise.signals.signal_base: Setting J1918-0642_Rcvr1_2_GUPPI_log10_ecorr to -7.4935011859866485\n",
      "INFO: enterprise.signals.signal_base: Setting J1918-0642_Rcvr_800_GASP_log10_ecorr to -7.559243560441317\n",
      "INFO: enterprise.signals.signal_base: Setting J1918-0642_Rcvr_800_GUPPI_log10_ecorr to -6.525389492066881\n",
      "INFO: enterprise.signals.signal_base: Setting J1944+0907_430_ASP_efac to 1.0814498126291534\n",
      "INFO: enterprise.signals.signal_base: Setting J1944+0907_430_PUPPI_efac to 1.0727024023469869\n",
      "INFO: enterprise.signals.signal_base: Setting J1944+0907_L-wide_ASP_efac to 1.5390588569396464\n",
      "INFO: enterprise.signals.signal_base: Setting J1944+0907_L-wide_PUPPI_efac to 1.1696155596603073\n",
      "INFO: enterprise.signals.signal_base: Setting J1944+0907_430_ASP_log10_equad to -7.243114059446985\n",
      "INFO: enterprise.signals.signal_base: Setting J1944+0907_430_PUPPI_log10_equad to -6.926315089238918\n",
      "INFO: enterprise.signals.signal_base: Setting J1944+0907_L-wide_ASP_log10_equad to -7.238241222764401\n",
      "INFO: enterprise.signals.signal_base: Setting J1944+0907_L-wide_PUPPI_log10_equad to -7.693354205218862\n",
      "INFO: enterprise.signals.signal_base: Setting J1944+0907_430_ASP_log10_ecorr to -6.8879174105358185\n",
      "INFO: enterprise.signals.signal_base: Setting J1944+0907_430_PUPPI_log10_ecorr to -7.1306299212575945\n",
      "INFO: enterprise.signals.signal_base: Setting J1944+0907_L-wide_ASP_log10_ecorr to -7.104483772896318\n",
      "INFO: enterprise.signals.signal_base: Setting J1944+0907_L-wide_PUPPI_log10_ecorr to -6.546284570029579\n",
      "INFO: enterprise.signals.signal_base: Setting J2010-1323_Rcvr1_2_GASP_efac to 1.0179865222180375\n",
      "INFO: enterprise.signals.signal_base: Setting J2010-1323_Rcvr1_2_GUPPI_efac to 1.046213434079912\n",
      "INFO: enterprise.signals.signal_base: Setting J2010-1323_Rcvr_800_GASP_efac to 1.0631310225900652\n",
      "INFO: enterprise.signals.signal_base: Setting J2010-1323_Rcvr_800_GUPPI_efac to 0.9946706739052781\n",
      "INFO: enterprise.signals.signal_base: Setting J2010-1323_Rcvr1_2_GASP_log10_equad to -7.170459137166772\n",
      "INFO: enterprise.signals.signal_base: Setting J2010-1323_Rcvr1_2_GUPPI_log10_equad to -7.676454828722258\n",
      "INFO: enterprise.signals.signal_base: Setting J2010-1323_Rcvr_800_GASP_log10_equad to -7.260685669109653\n",
      "INFO: enterprise.signals.signal_base: Setting J2010-1323_Rcvr_800_GUPPI_log10_equad to -7.2177759208361\n",
      "INFO: enterprise.signals.signal_base: Setting J2010-1323_Rcvr1_2_GASP_log10_ecorr to -7.182315425909628\n",
      "INFO: enterprise.signals.signal_base: Setting J2010-1323_Rcvr1_2_GUPPI_log10_ecorr to -7.686560497366312\n",
      "INFO: enterprise.signals.signal_base: Setting J2010-1323_Rcvr_800_GASP_log10_ecorr to -7.241412604014393\n",
      "INFO: enterprise.signals.signal_base: Setting J2010-1323_Rcvr_800_GUPPI_log10_ecorr to -7.580143294343043\n",
      "INFO: enterprise.signals.signal_base: Setting J2145-0750_Rcvr1_2_GASP_efac to 1.0110230422869044\n",
      "INFO: enterprise.signals.signal_base: Setting J2145-0750_Rcvr1_2_GUPPI_efac to 1.0265447460207069\n",
      "INFO: enterprise.signals.signal_base: Setting J2145-0750_Rcvr_800_GASP_efac to 1.2601984171075302\n",
      "INFO: enterprise.signals.signal_base: Setting J2145-0750_Rcvr_800_GUPPI_efac to 1.0476740581711277\n",
      "INFO: enterprise.signals.signal_base: Setting J2145-0750_Rcvr1_2_GASP_log10_equad to -5.705026109830131\n",
      "INFO: enterprise.signals.signal_base: Setting J2145-0750_Rcvr1_2_GUPPI_log10_equad to -7.938817552005569\n",
      "INFO: enterprise.signals.signal_base: Setting J2145-0750_Rcvr_800_GASP_log10_equad to -6.513203859186709\n",
      "INFO: enterprise.signals.signal_base: Setting J2145-0750_Rcvr_800_GUPPI_log10_equad to -6.4184191843741445\n",
      "INFO: enterprise.signals.signal_base: Setting J2145-0750_Rcvr1_2_GASP_log10_ecorr to -6.243824665782128\n",
      "INFO: enterprise.signals.signal_base: Setting J2145-0750_Rcvr1_2_GUPPI_log10_ecorr to -6.355906738653193\n",
      "INFO: enterprise.signals.signal_base: Setting J2145-0750_Rcvr_800_GASP_log10_ecorr to -6.233581141499856\n",
      "INFO: enterprise.signals.signal_base: Setting J2145-0750_Rcvr_800_GUPPI_log10_ecorr to -6.598154829313346\n",
      "INFO: enterprise.signals.signal_base: Setting J2317+1439_327_ASP_efac to 1.0823722500112272\n",
      "INFO: enterprise.signals.signal_base: Setting J2317+1439_327_PUPPI_efac to 1.17384139990156\n",
      "INFO: enterprise.signals.signal_base: Setting J2317+1439_430_ASP_efac to 1.2574511773494976\n",
      "INFO: enterprise.signals.signal_base: Setting J2317+1439_430_PUPPI_efac to 1.0163851726761812\n",
      "INFO: enterprise.signals.signal_base: Setting J2317+1439_L-wide_PUPPI_efac to 1.1163982326548925\n",
      "INFO: enterprise.signals.signal_base: Setting J2317+1439_327_ASP_log10_equad to -6.457911273619141\n",
      "INFO: enterprise.signals.signal_base: Setting J2317+1439_327_PUPPI_log10_equad to -6.462306002360743\n",
      "INFO: enterprise.signals.signal_base: Setting J2317+1439_430_ASP_log10_equad to -7.3732139102446626\n",
      "INFO: enterprise.signals.signal_base: Setting J2317+1439_430_PUPPI_log10_equad to -6.535705196682452\n",
      "INFO: enterprise.signals.signal_base: Setting J2317+1439_L-wide_PUPPI_log10_equad to -7.463944437178126\n",
      "INFO: enterprise.signals.signal_base: Setting J2317+1439_327_ASP_log10_ecorr to -7.706187896212512\n",
      "INFO: enterprise.signals.signal_base: Setting J2317+1439_327_PUPPI_log10_ecorr to -6.392284847303101\n",
      "INFO: enterprise.signals.signal_base: Setting J2317+1439_430_ASP_log10_ecorr to -6.509624616624109\n",
      "INFO: enterprise.signals.signal_base: Setting J2317+1439_430_PUPPI_log10_ecorr to -6.87918040058842\n",
      "INFO: enterprise.signals.signal_base: Setting J2317+1439_L-wide_PUPPI_log10_ecorr to -6.6463560361584975\n"
     ]
    }
   ],
   "source": [
    "# this sets up the pta model all in one cell\n",
    "pta = models.model_general(psrs, red_psd='powerlaw', common_psd='powerlaw', \n",
    "                           red_components=30, common_components=30, \n",
    "                           white_vary=False, noisedict=params, tm_svd=True, \n",
    "                           gamma_common=4.33, upper_limit_red=False, \n",
    "                           upper_limit_common=False, bayesephem=False)"
   ]
  },
  {
   "cell_type": "code",
   "execution_count": 59,
   "metadata": {
    "ExecuteTime": {
     "end_time": "2018-05-15T21:56:20.663093Z",
     "start_time": "2018-05-15T21:56:20.632086Z"
    }
   },
   "outputs": [],
   "source": [
    "# Setup an instance of a HyperModel.\n",
    "# This doesn't mean we are doing model selection (yet!), but the \n",
    "# hypermodel module gives access to some nifty sampling schemes.\n",
    "super_model = hypermodel.HyperModel({0: pta})"
   ]
  },
  {
   "cell_type": "code",
   "execution_count": 60,
   "metadata": {
    "ExecuteTime": {
     "end_time": "2018-05-15T21:56:20.823333Z",
     "start_time": "2018-05-15T21:56:20.790108Z"
    }
   },
   "outputs": [
    {
     "output_type": "stream",
     "name": "stdout",
     "text": [
      "Adding red noise prior draws...\n\nAdding GWB uniform distribution draws...\n\nAdding gw param prior draws...\n\n"
     ]
    }
   ],
   "source": [
    "outDir = '/chains_pta_test'\n",
    "sampler = super_model.setup_sampler(resume=False, outdir=outDir, sample_nmodel=False)"
   ]
  },
  {
   "cell_type": "code",
   "execution_count": 61,
   "metadata": {
    "ExecuteTime": {
     "end_time": "2018-05-15T21:56:21.506309Z",
     "start_time": "2018-05-15T21:56:21.474529Z"
    }
   },
   "outputs": [],
   "source": [
    "# sampler for N steps\n",
    "N = int(1.5e5)  # normally this would be 5e6, but this saves time\n",
    "x0 = super_model.initial_sample()"
   ]
  },
  {
   "cell_type": "code",
   "execution_count": 62,
   "metadata": {
    "ExecuteTime": {
     "end_time": "2018-05-15T21:58:54.315884Z",
     "start_time": "2018-05-15T21:56:25.820406Z"
    }
   },
   "outputs": [
    {
     "output_type": "stream",
     "name": "stdout",
     "text": [
      "Finished 6.67 percent in 160.634056 s Acceptance rate = 0.3522Adding DE jump with weight 50\n",
      "Finished 99.33 percent in 2402.327416 s Acceptance rate = 0.410644\n",
      "Run Complete\n"
     ]
    }
   ],
   "source": [
    "# sample: this should take about 40 minutes\n",
    "sampler.sample(x0, N, SCAMweight=30, AMweight=15, DEweight=50, )"
   ]
  },
  {
   "cell_type": "code",
   "execution_count": 65,
   "metadata": {
    "ExecuteTime": {
     "end_time": "2018-05-15T21:58:58.146382Z",
     "start_time": "2018-05-15T21:58:58.013143Z"
    }
   },
   "outputs": [],
   "source": [
    "# Read in chains and parameters\n",
    "\n",
    "chain = np.loadtxt(outDir + '/chain_1.txt')\n",
    "burn = int(0.25*chain.shape[0])\n",
    "pars = np.loadtxt(outDir + '/pars.txt', dtype=np.unicode_)\n",
    "\n",
    "pp = model_utils.PostProcessing(chain, pars)"
   ]
  },
  {
   "cell_type": "code",
   "execution_count": 66,
   "metadata": {
    "ExecuteTime": {
     "end_time": "2018-05-15T21:58:58.777011Z",
     "start_time": "2018-05-15T21:58:58.555011Z"
    }
   },
   "outputs": [
    {
     "output_type": "display_data",
     "data": {
      "text/plain": "<Figure size 432x288 with 1 Axes>",
      "image/png": "[encoded data removed]"
     },
     "metadata": {
      "image/png": {
       "width": 381,
       "height": 248
      },
      "needs_background": "light"
     }
    }
   ],
   "source": [
    "# Plot GW amplitude posterior\n",
    "ind = list(pars).index('gw_log10_A')\n",
    "plt.hist(chain[burn:,ind], bins=40);"
   ]
  },
  {
   "cell_type": "code",
   "execution_count": 67,
   "metadata": {
    "ExecuteTime": {
     "end_time": "2018-05-15T21:59:00.397744Z",
     "start_time": "2018-05-15T21:59:00.366793Z"
    }
   },
   "outputs": [
    {
     "output_type": "stream",
     "name": "stdout",
     "text": [
      "(2.9528689433672078e-15, 4.10830424871685e-17)\n"
     ]
    }
   ],
   "source": [
    "# Compute upper limit\n",
    "print(model_utils.ul(chain[burn:, ind], q=95.0))"
   ]
  },
  {
   "cell_type": "markdown",
   "metadata": {},
   "source": [
    "* We want to be able to compute the Bayesian odds for a GWB in the data. This can be done using the hypermodel class, where we choose between a model with a common (but uncorrelated) red process in the pulsars, and a GWB affecting all pulsars.\n",
    "\n",
    "* We typically perform detection-type analyses with uniform-in-log priors on all amplitude parameters for low-frequency processes. This is implemented below whenever we switch `upper_limit` to be equal to `False`."
   ]
  },
  {
   "cell_type": "markdown",
   "metadata": {},
   "source": [
    "## Setup dictionary of PTA models"
   ]
  },
  {
   "source": [
    "* `model_1` consists of a PTA with only intrinsic red noise\n",
    "* `model_2a` includes a GWB term where we set the spectral index to 13/3\n",
    "* In both cases, it is not necessary to include all of the keyword arguments but they are included here to show the different options that are available\n",
    "* There are other model functions built into `enterprise_extensions`. Check out the documentation for more information."
   ],
   "cell_type": "markdown",
   "metadata": {}
  },
  {
   "cell_type": "code",
   "execution_count": 86,
   "metadata": {
    "ExecuteTime": {
     "end_time": "2018-05-15T21:59:25.363204Z",
     "start_time": "2018-05-15T21:59:22.414521Z"
    },
    "tags": [
     "outputPrepend"
    ]
   },
   "outputs": [
    {
     "output_type": "stream",
     "name": "stderr",
     "text": [
      "orr to -7.629255580321534\n",
      "INFO: enterprise.signals.signal_base: Setting J1455-3330_Rcvr_800_GASP_log10_ecorr to -7.085458304995403\n",
      "INFO: enterprise.signals.signal_base: Setting J1455-3330_Rcvr_800_GUPPI_log10_ecorr to -6.526567653068877\n",
      "INFO: enterprise.signals.signal_base: Setting J1600-3053_Rcvr1_2_GASP_efac to 1.134993789980654\n",
      "INFO: enterprise.signals.signal_base: Setting J1600-3053_Rcvr1_2_GUPPI_efac to 1.0521556985294778\n",
      "INFO: enterprise.signals.signal_base: Setting J1600-3053_Rcvr_800_GASP_efac to 1.1935927243559799\n",
      "INFO: enterprise.signals.signal_base: Setting J1600-3053_Rcvr_800_GUPPI_efac to 1.120996265055496\n",
      "INFO: enterprise.signals.signal_base: Setting J1600-3053_Rcvr1_2_GASP_log10_equad to -6.960586084616913\n",
      "INFO: enterprise.signals.signal_base: Setting J1600-3053_Rcvr1_2_GUPPI_log10_equad to -7.761043891506745\n",
      "INFO: enterprise.signals.signal_base: Setting J1600-3053_Rcvr_800_GASP_log10_equad to -7.311693997685966\n",
      "INFO: enterprise.signals.signal_base: Setting J1600-3053_Rcvr_800_GUPPI_log10_equad to -7.374528725467375\n",
      "INFO: enterprise.signals.signal_base: Setting J1600-3053_Rcvr1_2_GASP_log10_ecorr to -7.134558712552095\n",
      "INFO: enterprise.signals.signal_base: Setting J1600-3053_Rcvr1_2_GUPPI_log10_ecorr to -6.899208552923536\n",
      "INFO: enterprise.signals.signal_base: Setting J1600-3053_Rcvr_800_GASP_log10_ecorr to -7.407293847566683\n",
      "INFO: enterprise.signals.signal_base: Setting J1600-3053_Rcvr_800_GUPPI_log10_ecorr to -6.288542964735563\n",
      "INFO: enterprise.signals.signal_base: Setting J1614-2230_Rcvr1_2_GASP_efac to 1.1369056644435913\n",
      "INFO: enterprise.signals.signal_base: Setting J1614-2230_Rcvr1_2_GUPPI_efac to 1.0636501302858106\n",
      "INFO: enterprise.signals.signal_base: Setting J1614-2230_Rcvr_800_GASP_efac to 0.9178765720365575\n",
      "INFO: enterprise.signals.signal_base: Setting J1614-2230_Rcvr_800_GUPPI_efac to 1.0115241685032286\n",
      "INFO: enterprise.signals.signal_base: Setting J1614-2230_Rcvr1_2_GASP_log10_equad to -7.32067533880299\n",
      "INFO: enterprise.signals.signal_base: Setting J1614-2230_Rcvr1_2_GUPPI_log10_equad to -7.784678758801305\n",
      "INFO: enterprise.signals.signal_base: Setting J1614-2230_Rcvr_800_GASP_log10_equad to -7.2577825388006305\n",
      "INFO: enterprise.signals.signal_base: Setting J1614-2230_Rcvr_800_GUPPI_log10_equad to -7.627864180562532\n",
      "INFO: enterprise.signals.signal_base: Setting J1614-2230_Rcvr1_2_GASP_log10_ecorr to -7.448625358285439\n",
      "INFO: enterprise.signals.signal_base: Setting J1614-2230_Rcvr1_2_GUPPI_log10_ecorr to -7.655859629011535\n",
      "INFO: enterprise.signals.signal_base: Setting J1614-2230_Rcvr_800_GASP_log10_ecorr to -7.299611199085039\n",
      "INFO: enterprise.signals.signal_base: Setting J1614-2230_Rcvr_800_GUPPI_log10_ecorr to -7.4080289590963355\n",
      "INFO: enterprise.signals.signal_base: Setting J1640+2224_430_ASP_efac to 1.143081359459332\n",
      "INFO: enterprise.signals.signal_base: Setting J1640+2224_430_PUPPI_efac to 1.0573767076899483\n",
      "INFO: enterprise.signals.signal_base: Setting J1640+2224_L-wide_ASP_efac to 1.06394287552814\n",
      "INFO: enterprise.signals.signal_base: Setting J1640+2224_L-wide_PUPPI_efac to 1.1457585235526273\n",
      "INFO: enterprise.signals.signal_base: Setting J1640+2224_430_ASP_log10_equad to -6.240784825369144\n",
      "INFO: enterprise.signals.signal_base: Setting J1640+2224_430_PUPPI_log10_equad to -6.9445789284154085\n",
      "INFO: enterprise.signals.signal_base: Setting J1640+2224_L-wide_ASP_log10_equad to -7.649274979312211\n",
      "INFO: enterprise.signals.signal_base: Setting J1640+2224_L-wide_PUPPI_log10_equad to -8.075008065199082\n",
      "INFO: enterprise.signals.signal_base: Setting J1640+2224_430_ASP_log10_ecorr to -7.788811673814794\n",
      "INFO: enterprise.signals.signal_base: Setting J1640+2224_430_PUPPI_log10_ecorr to -6.901622491949263\n",
      "INFO: enterprise.signals.signal_base: Setting J1640+2224_L-wide_ASP_log10_ecorr to -6.275572665649051\n",
      "INFO: enterprise.signals.signal_base: Setting J1640+2224_L-wide_PUPPI_log10_ecorr to -6.4079933035010095\n",
      "INFO: enterprise.signals.signal_base: Setting J1643-1224_Rcvr1_2_GASP_efac to 1.0071858015273707\n",
      "INFO: enterprise.signals.signal_base: Setting J1643-1224_Rcvr1_2_GUPPI_efac to 1.1247022811624827\n",
      "INFO: enterprise.signals.signal_base: Setting J1643-1224_Rcvr_800_GASP_efac to 1.493816799359807\n",
      "INFO: enterprise.signals.signal_base: Setting J1643-1224_Rcvr_800_GUPPI_efac to 1.1921609687505945\n",
      "INFO: enterprise.signals.signal_base: Setting J1643-1224_Rcvr1_2_GASP_log10_equad to -7.277156122921472\n",
      "INFO: enterprise.signals.signal_base: Setting J1643-1224_Rcvr1_2_GUPPI_log10_equad to -7.138128067645691\n",
      "INFO: enterprise.signals.signal_base: Setting J1643-1224_Rcvr_800_GASP_log10_equad to -7.115627957850879\n",
      "INFO: enterprise.signals.signal_base: Setting J1643-1224_Rcvr_800_GUPPI_log10_equad to -5.9780473533853655\n",
      "INFO: enterprise.signals.signal_base: Setting J1643-1224_Rcvr1_2_GASP_log10_ecorr to -7.503311141343279\n",
      "INFO: enterprise.signals.signal_base: Setting J1643-1224_Rcvr1_2_GUPPI_log10_ecorr to -6.042898081068246\n",
      "INFO: enterprise.signals.signal_base: Setting J1643-1224_Rcvr_800_GASP_log10_ecorr to -6.822037374515338\n",
      "INFO: enterprise.signals.signal_base: Setting J1643-1224_Rcvr_800_GUPPI_log10_ecorr to -5.544475232494147\n",
      "INFO: enterprise.signals.signal_base: Setting J1713+0747_L-wide_ASP_efac to 1.0524302344416032\n",
      "INFO: enterprise.signals.signal_base: Setting J1713+0747_L-wide_PUPPI_efac to 0.9796026604137508\n",
      "INFO: enterprise.signals.signal_base: Setting J1713+0747_Rcvr1_2_GASP_efac to 1.084307149708116\n",
      "INFO: enterprise.signals.signal_base: Setting J1713+0747_Rcvr1_2_GUPPI_efac to 1.017213088587959\n",
      "INFO: enterprise.signals.signal_base: Setting J1713+0747_Rcvr_800_GASP_efac to 1.117529091199639\n",
      "INFO: enterprise.signals.signal_base: Setting J1713+0747_Rcvr_800_GUPPI_efac to 1.0500383710337968\n",
      "INFO: enterprise.signals.signal_base: Setting J1713+0747_S-wide_ASP_efac to 1.1139598766607257\n",
      "INFO: enterprise.signals.signal_base: Setting J1713+0747_S-wide_PUPPI_efac to 1.0889710082237398\n",
      "INFO: enterprise.signals.signal_base: Setting J1713+0747_L-wide_ASP_log10_equad to -7.58206720746206\n",
      "INFO: enterprise.signals.signal_base: Setting J1713+0747_L-wide_PUPPI_log10_equad to -8.377098873197399\n",
      "INFO: enterprise.signals.signal_base: Setting J1713+0747_Rcvr1_2_GASP_log10_equad to -7.423897862687164\n",
      "INFO: enterprise.signals.signal_base: Setting J1713+0747_Rcvr1_2_GUPPI_log10_equad to -8.357193830632392\n",
      "INFO: enterprise.signals.signal_base: Setting J1713+0747_Rcvr_800_GASP_log10_equad to -7.251839650442933\n",
      "INFO: enterprise.signals.signal_base: Setting J1713+0747_Rcvr_800_GUPPI_log10_equad to -7.614933520652966\n",
      "INFO: enterprise.signals.signal_base: Setting J1713+0747_S-wide_ASP_log10_equad to -8.027710747783962\n",
      "INFO: enterprise.signals.signal_base: Setting J1713+0747_S-wide_PUPPI_log10_equad to -8.186781270775445\n",
      "INFO: enterprise.signals.signal_base: Setting J1713+0747_L-wide_ASP_log10_ecorr to -7.029000061406403\n",
      "INFO: enterprise.signals.signal_base: Setting J1713+0747_L-wide_PUPPI_log10_ecorr to -7.142663306094692\n",
      "INFO: enterprise.signals.signal_base: Setting J1713+0747_Rcvr1_2_GASP_log10_ecorr to -7.299970815145262\n",
      "INFO: enterprise.signals.signal_base: Setting J1713+0747_Rcvr1_2_GUPPI_log10_ecorr to -7.131010248150742\n",
      "INFO: enterprise.signals.signal_base: Setting J1713+0747_Rcvr_800_GASP_log10_ecorr to -7.788837849013025\n",
      "INFO: enterprise.signals.signal_base: Setting J1713+0747_Rcvr_800_GUPPI_log10_ecorr to -6.730867845961182\n",
      "INFO: enterprise.signals.signal_base: Setting J1713+0747_S-wide_ASP_log10_ecorr to -6.876597410265874\n",
      "INFO: enterprise.signals.signal_base: Setting J1713+0747_S-wide_PUPPI_log10_ecorr to -7.305157969602163\n",
      "INFO: enterprise.signals.signal_base: Setting J1738+0333_L-wide_ASP_efac to 1.1479069042742471\n",
      "INFO: enterprise.signals.signal_base: Setting J1738+0333_L-wide_PUPPI_efac to 1.0710506604701162\n",
      "INFO: enterprise.signals.signal_base: Setting J1738+0333_S-wide_ASP_efac to 0.9465373677964157\n",
      "INFO: enterprise.signals.signal_base: Setting J1738+0333_S-wide_PUPPI_efac to 0.8845264245078953\n",
      "INFO: enterprise.signals.signal_base: Setting J1738+0333_L-wide_ASP_log10_equad to -7.579720669663646\n",
      "INFO: enterprise.signals.signal_base: Setting J1738+0333_L-wide_PUPPI_log10_equad to -7.886362963443982\n",
      "INFO: enterprise.signals.signal_base: Setting J1738+0333_S-wide_ASP_log10_equad to -7.565578005221636\n",
      "INFO: enterprise.signals.signal_base: Setting J1738+0333_S-wide_PUPPI_log10_equad to -7.767394128812992\n",
      "INFO: enterprise.signals.signal_base: Setting J1738+0333_L-wide_ASP_log10_ecorr to -7.060532309258772\n",
      "INFO: enterprise.signals.signal_base: Setting J1738+0333_L-wide_PUPPI_log10_ecorr to -7.019786250261518\n",
      "INFO: enterprise.signals.signal_base: Setting J1738+0333_S-wide_ASP_log10_ecorr to -7.381958762803754\n",
      "INFO: enterprise.signals.signal_base: Setting J1738+0333_S-wide_PUPPI_log10_ecorr to -7.7411812625497936\n",
      "INFO: enterprise.signals.signal_base: Setting J1744-1134_Rcvr1_2_GASP_efac to 0.9978514871735024\n",
      "INFO: enterprise.signals.signal_base: Setting J1744-1134_Rcvr1_2_GUPPI_efac to 1.053362947622705\n",
      "INFO: enterprise.signals.signal_base: Setting J1744-1134_Rcvr_800_GASP_efac to 1.1285830055400954\n",
      "INFO: enterprise.signals.signal_base: Setting J1744-1134_Rcvr_800_GUPPI_efac to 1.0350590534568576\n",
      "INFO: enterprise.signals.signal_base: Setting J1744-1134_Rcvr1_2_GASP_log10_equad to -6.381411751584569\n",
      "INFO: enterprise.signals.signal_base: Setting J1744-1134_Rcvr1_2_GUPPI_log10_equad to -7.003305288540264\n",
      "INFO: enterprise.signals.signal_base: Setting J1744-1134_Rcvr_800_GASP_log10_equad to -6.4572271715342175\n",
      "INFO: enterprise.signals.signal_base: Setting J1744-1134_Rcvr_800_GUPPI_log10_equad to -6.613992229078914\n",
      "INFO: enterprise.signals.signal_base: Setting J1744-1134_Rcvr1_2_GASP_log10_ecorr to -6.292180076314258\n",
      "INFO: enterprise.signals.signal_base: Setting J1744-1134_Rcvr1_2_GUPPI_log10_ecorr to -6.537490178263718\n",
      "INFO: enterprise.signals.signal_base: Setting J1744-1134_Rcvr_800_GASP_log10_ecorr to -6.61724561091565\n",
      "INFO: enterprise.signals.signal_base: Setting J1744-1134_Rcvr_800_GUPPI_log10_ecorr to -6.396301881001724\n",
      "INFO: enterprise.signals.signal_base: Setting J1903+0327_L-wide_ASP_efac to 1.179706924996803\n",
      "INFO: enterprise.signals.signal_base: Setting J1903+0327_L-wide_PUPPI_efac to 1.168460641474899\n",
      "INFO: enterprise.signals.signal_base: Setting J1903+0327_S-wide_ASP_efac to 0.8321334329815202\n",
      "INFO: enterprise.signals.signal_base: Setting J1903+0327_S-wide_PUPPI_efac to 1.1095637896315254\n",
      "INFO: enterprise.signals.signal_base: Setting J1903+0327_L-wide_ASP_log10_equad to -7.158390864212146\n",
      "INFO: enterprise.signals.signal_base: Setting J1903+0327_L-wide_PUPPI_log10_equad to -7.759288526577286\n",
      "INFO: enterprise.signals.signal_base: Setting J1903+0327_S-wide_ASP_log10_equad to -6.16963651015452\n",
      "INFO: enterprise.signals.signal_base: Setting J1903+0327_S-wide_PUPPI_log10_equad to -7.574001886389685\n",
      "INFO: enterprise.signals.signal_base: Setting J1903+0327_L-wide_ASP_log10_ecorr to -7.172149108226772\n",
      "INFO: enterprise.signals.signal_base: Setting J1903+0327_L-wide_PUPPI_log10_ecorr to -5.636329138486162\n",
      "INFO: enterprise.signals.signal_base: Setting J1903+0327_S-wide_ASP_log10_ecorr to -7.364742895573575\n",
      "INFO: enterprise.signals.signal_base: Setting J1903+0327_S-wide_PUPPI_log10_ecorr to -7.45437286784459\n",
      "INFO: enterprise.signals.signal_base: Setting J1909-3744_Rcvr1_2_GASP_efac to 0.9505606759311833\n",
      "INFO: enterprise.signals.signal_base: Setting J1909-3744_Rcvr1_2_GUPPI_efac to 1.0339776268866265\n",
      "INFO: enterprise.signals.signal_base: Setting J1909-3744_Rcvr_800_GASP_efac to 1.0504080629362422\n",
      "INFO: enterprise.signals.signal_base: Setting J1909-3744_Rcvr_800_GUPPI_efac to 1.0313779800296294\n",
      "INFO: enterprise.signals.signal_base: Setting J1909-3744_Rcvr1_2_GASP_log10_equad to -7.456278210493956\n",
      "INFO: enterprise.signals.signal_base: Setting J1909-3744_Rcvr1_2_GUPPI_log10_equad to -8.171553179171445\n",
      "INFO: enterprise.signals.signal_base: Setting J1909-3744_Rcvr_800_GASP_log10_equad to -7.037406290351743\n",
      "INFO: enterprise.signals.signal_base: Setting J1909-3744_Rcvr_800_GUPPI_log10_equad to -7.365322642903795\n",
      "INFO: enterprise.signals.signal_base: Setting J1909-3744_Rcvr1_2_GASP_log10_ecorr to -8.078816887958723\n",
      "INFO: enterprise.signals.signal_base: Setting J1909-3744_Rcvr1_2_GUPPI_log10_ecorr to -7.137638201510413\n",
      "INFO: enterprise.signals.signal_base: Setting J1909-3744_Rcvr_800_GASP_log10_ecorr to -7.871774784575877\n",
      "INFO: enterprise.signals.signal_base: Setting J1909-3744_Rcvr_800_GUPPI_log10_ecorr to -7.269816370154123\n",
      "INFO: enterprise.signals.signal_base: Setting J1910+1256_L-wide_ASP_efac to 1.063590147073229\n",
      "INFO: enterprise.signals.signal_base: Setting J1910+1256_L-wide_PUPPI_efac to 1.0931136416030962\n",
      "INFO: enterprise.signals.signal_base: Setting J1910+1256_S-wide_ASP_efac to 0.9661536934887565\n",
      "INFO: enterprise.signals.signal_base: Setting J1910+1256_S-wide_PUPPI_efac to 1.0982792255110136\n",
      "INFO: enterprise.signals.signal_base: Setting J1910+1256_L-wide_ASP_log10_equad to -7.516992859042785\n",
      "INFO: enterprise.signals.signal_base: Setting J1910+1256_L-wide_PUPPI_log10_equad to -7.585087262800533\n",
      "INFO: enterprise.signals.signal_base: Setting J1910+1256_S-wide_ASP_log10_equad to -6.218657154174941\n",
      "INFO: enterprise.signals.signal_base: Setting J1910+1256_S-wide_PUPPI_log10_equad to -7.401958120896809\n",
      "INFO: enterprise.signals.signal_base: Setting J1910+1256_L-wide_ASP_log10_ecorr to -7.259684055387137\n",
      "INFO: enterprise.signals.signal_base: Setting J1910+1256_L-wide_PUPPI_log10_ecorr to -7.403550254322336\n",
      "INFO: enterprise.signals.signal_base: Setting J1910+1256_S-wide_ASP_log10_ecorr to -7.195615972473434\n",
      "INFO: enterprise.signals.signal_base: Setting J1910+1256_S-wide_PUPPI_log10_ecorr to -6.218612073150832\n",
      "INFO: enterprise.signals.signal_base: Setting J1918-0642_Rcvr1_2_GASP_efac to 1.0272847294363423\n",
      "INFO: enterprise.signals.signal_base: Setting J1918-0642_Rcvr1_2_GUPPI_efac to 1.035664184009173\n",
      "INFO: enterprise.signals.signal_base: Setting J1918-0642_Rcvr_800_GASP_efac to 1.0557165923306966\n",
      "INFO: enterprise.signals.signal_base: Setting J1918-0642_Rcvr_800_GUPPI_efac to 1.034910727323206\n",
      "INFO: enterprise.signals.signal_base: Setting J1918-0642_Rcvr1_2_GASP_log10_equad to -7.67322161371427\n",
      "INFO: enterprise.signals.signal_base: Setting J1918-0642_Rcvr1_2_GUPPI_log10_equad to -7.3696863188027075\n",
      "INFO: enterprise.signals.signal_base: Setting J1918-0642_Rcvr_800_GASP_log10_equad to -7.105797415440444\n",
      "INFO: enterprise.signals.signal_base: Setting J1918-0642_Rcvr_800_GUPPI_log10_equad to -7.086564536955872\n",
      "INFO: enterprise.signals.signal_base: Setting J1918-0642_Rcvr1_2_GASP_log10_ecorr to -7.37828526123227\n",
      "INFO: enterprise.signals.signal_base: Setting J1918-0642_Rcvr1_2_GUPPI_log10_ecorr to -7.4935011859866485\n",
      "INFO: enterprise.signals.signal_base: Setting J1918-0642_Rcvr_800_GASP_log10_ecorr to -7.559243560441317\n",
      "INFO: enterprise.signals.signal_base: Setting J1918-0642_Rcvr_800_GUPPI_log10_ecorr to -6.525389492066881\n",
      "INFO: enterprise.signals.signal_base: Setting J1944+0907_430_ASP_efac to 1.0814498126291534\n",
      "INFO: enterprise.signals.signal_base: Setting J1944+0907_430_PUPPI_efac to 1.0727024023469869\n",
      "INFO: enterprise.signals.signal_base: Setting J1944+0907_L-wide_ASP_efac to 1.5390588569396464\n",
      "INFO: enterprise.signals.signal_base: Setting J1944+0907_L-wide_PUPPI_efac to 1.1696155596603073\n",
      "INFO: enterprise.signals.signal_base: Setting J1944+0907_430_ASP_log10_equad to -7.243114059446985\n",
      "INFO: enterprise.signals.signal_base: Setting J1944+0907_430_PUPPI_log10_equad to -6.926315089238918\n",
      "INFO: enterprise.signals.signal_base: Setting J1944+0907_L-wide_ASP_log10_equad to -7.238241222764401\n",
      "INFO: enterprise.signals.signal_base: Setting J1944+0907_L-wide_PUPPI_log10_equad to -7.693354205218862\n",
      "INFO: enterprise.signals.signal_base: Setting J1944+0907_430_ASP_log10_ecorr to -6.8879174105358185\n",
      "INFO: enterprise.signals.signal_base: Setting J1944+0907_430_PUPPI_log10_ecorr to -7.1306299212575945\n",
      "INFO: enterprise.signals.signal_base: Setting J1944+0907_L-wide_ASP_log10_ecorr to -7.104483772896318\n",
      "INFO: enterprise.signals.signal_base: Setting J1944+0907_L-wide_PUPPI_log10_ecorr to -6.546284570029579\n",
      "INFO: enterprise.signals.signal_base: Setting J2010-1323_Rcvr1_2_GASP_efac to 1.0179865222180375\n",
      "INFO: enterprise.signals.signal_base: Setting J2010-1323_Rcvr1_2_GUPPI_efac to 1.046213434079912\n",
      "INFO: enterprise.signals.signal_base: Setting J2010-1323_Rcvr_800_GASP_efac to 1.0631310225900652\n",
      "INFO: enterprise.signals.signal_base: Setting J2010-1323_Rcvr_800_GUPPI_efac to 0.9946706739052781\n",
      "INFO: enterprise.signals.signal_base: Setting J2010-1323_Rcvr1_2_GASP_log10_equad to -7.170459137166772\n",
      "INFO: enterprise.signals.signal_base: Setting J2010-1323_Rcvr1_2_GUPPI_log10_equad to -7.676454828722258\n",
      "INFO: enterprise.signals.signal_base: Setting J2010-1323_Rcvr_800_GASP_log10_equad to -7.260685669109653\n",
      "INFO: enterprise.signals.signal_base: Setting J2010-1323_Rcvr_800_GUPPI_log10_equad to -7.2177759208361\n",
      "INFO: enterprise.signals.signal_base: Setting J2010-1323_Rcvr1_2_GASP_log10_ecorr to -7.182315425909628\n",
      "INFO: enterprise.signals.signal_base: Setting J2010-1323_Rcvr1_2_GUPPI_log10_ecorr to -7.686560497366312\n",
      "INFO: enterprise.signals.signal_base: Setting J2010-1323_Rcvr_800_GASP_log10_ecorr to -7.241412604014393\n",
      "INFO: enterprise.signals.signal_base: Setting J2010-1323_Rcvr_800_GUPPI_log10_ecorr to -7.580143294343043\n",
      "INFO: enterprise.signals.signal_base: Setting J2145-0750_Rcvr1_2_GASP_efac to 1.0110230422869044\n",
      "INFO: enterprise.signals.signal_base: Setting J2145-0750_Rcvr1_2_GUPPI_efac to 1.0265447460207069\n",
      "INFO: enterprise.signals.signal_base: Setting J2145-0750_Rcvr_800_GASP_efac to 1.2601984171075302\n",
      "INFO: enterprise.signals.signal_base: Setting J2145-0750_Rcvr_800_GUPPI_efac to 1.0476740581711277\n",
      "INFO: enterprise.signals.signal_base: Setting J2145-0750_Rcvr1_2_GASP_log10_equad to -5.705026109830131\n",
      "INFO: enterprise.signals.signal_base: Setting J2145-0750_Rcvr1_2_GUPPI_log10_equad to -7.938817552005569\n",
      "INFO: enterprise.signals.signal_base: Setting J2145-0750_Rcvr_800_GASP_log10_equad to -6.513203859186709\n",
      "INFO: enterprise.signals.signal_base: Setting J2145-0750_Rcvr_800_GUPPI_log10_equad to -6.4184191843741445\n",
      "INFO: enterprise.signals.signal_base: Setting J2145-0750_Rcvr1_2_GASP_log10_ecorr to -6.243824665782128\n",
      "INFO: enterprise.signals.signal_base: Setting J2145-0750_Rcvr1_2_GUPPI_log10_ecorr to -6.355906738653193\n",
      "INFO: enterprise.signals.signal_base: Setting J2145-0750_Rcvr_800_GASP_log10_ecorr to -6.233581141499856\n",
      "INFO: enterprise.signals.signal_base: Setting J2145-0750_Rcvr_800_GUPPI_log10_ecorr to -6.598154829313346\n",
      "INFO: enterprise.signals.signal_base: Setting J2317+1439_327_ASP_efac to 1.0823722500112272\n",
      "INFO: enterprise.signals.signal_base: Setting J2317+1439_327_PUPPI_efac to 1.17384139990156\n",
      "INFO: enterprise.signals.signal_base: Setting J2317+1439_430_ASP_efac to 1.2574511773494976\n",
      "INFO: enterprise.signals.signal_base: Setting J2317+1439_430_PUPPI_efac to 1.0163851726761812\n",
      "INFO: enterprise.signals.signal_base: Setting J2317+1439_L-wide_PUPPI_efac to 1.1163982326548925\n",
      "INFO: enterprise.signals.signal_base: Setting J2317+1439_327_ASP_log10_equad to -6.457911273619141\n",
      "INFO: enterprise.signals.signal_base: Setting J2317+1439_327_PUPPI_log10_equad to -6.462306002360743\n",
      "INFO: enterprise.signals.signal_base: Setting J2317+1439_430_ASP_log10_equad to -7.3732139102446626\n",
      "INFO: enterprise.signals.signal_base: Setting J2317+1439_430_PUPPI_log10_equad to -6.535705196682452\n",
      "INFO: enterprise.signals.signal_base: Setting J2317+1439_L-wide_PUPPI_log10_equad to -7.463944437178126\n",
      "INFO: enterprise.signals.signal_base: Setting J2317+1439_327_ASP_log10_ecorr to -7.706187896212512\n",
      "INFO: enterprise.signals.signal_base: Setting J2317+1439_327_PUPPI_log10_ecorr to -6.392284847303101\n",
      "INFO: enterprise.signals.signal_base: Setting J2317+1439_430_ASP_log10_ecorr to -6.509624616624109\n",
      "INFO: enterprise.signals.signal_base: Setting J2317+1439_430_PUPPI_log10_ecorr to -6.87918040058842\n",
      "INFO: enterprise.signals.signal_base: Setting J2317+1439_L-wide_PUPPI_log10_ecorr to -6.6463560361584975\n"
     ]
    }
   ],
   "source": [
    "nmodels = 2\n",
    "mod_index = np.arange(nmodels)\n",
    "\n",
    "# Make dictionary of PTAs.\n",
    "pta = dict.fromkeys(mod_index)\n",
    "pta[0] = models.model_1(psrs, psd='powerlaw', noisedict=params, white_vary=False,\n",
    "            components=30, upper_limit=False, bayesephem=False,\n",
    "            be_type='orbel', is_wideband=False, use_dmdata=False,\n",
    "            select='backend')\n",
    "pta[1] = models.model_2a(psrs, psd='powerlaw', noisedict=params, components=30,\n",
    "             n_rnfreqs = None, n_gwbfreqs=None, gamma_common=13/3,\n",
    "             delta_common=None, upper_limit=False, bayesephem=False,\n",
    "             be_type='orbel', white_vary=False, is_wideband=False,\n",
    "             use_dmdata=False, select='backend',\n",
    "             pshift=False, pseed=None, psr_models=False)"
   ]
  },
  {
   "cell_type": "code",
   "execution_count": 87,
   "metadata": {
    "ExecuteTime": {
     "end_time": "2018-05-15T21:59:38.043468Z",
     "start_time": "2018-05-15T21:59:38.006027Z"
    }
   },
   "outputs": [],
   "source": [
    "super_model = hypermodel.HyperModel(pta)"
   ]
  },
  {
   "cell_type": "markdown",
   "metadata": {},
   "source": [
    "## Sample"
   ]
  },
  {
   "cell_type": "code",
   "execution_count": 88,
   "metadata": {
    "ExecuteTime": {
     "end_time": "2018-05-15T21:59:40.020837Z",
     "start_time": "2018-05-15T21:59:39.985755Z"
    }
   },
   "outputs": [
    {
     "output_type": "stream",
     "name": "stdout",
     "text": [
      "Adding red noise prior draws...\n\nAdding GWB uniform distribution draws...\n\nAdding gw param prior draws...\n\nAdding nmodel uniform distribution draws...\n\n"
     ]
    }
   ],
   "source": [
    "sampler = super_model.setup_sampler(resume=False, outdir=outDir, sample_nmodel=True)"
   ]
  },
  {
   "cell_type": "code",
   "execution_count": 91,
   "metadata": {
    "ExecuteTime": {
     "end_time": "2018-05-15T21:59:40.335389Z",
     "start_time": "2018-05-15T21:59:40.301829Z"
    }
   },
   "outputs": [],
   "source": [
    "# This will take about an hour to sample\n",
    "# To sample it properly will take 10+ hours\n",
    "# sampler for N steps\n",
    "N = int(1e5)  # 5e6 is a good number for a real analysis \n",
    "x0 = super_model.initial_sample()"
   ]
  },
  {
   "cell_type": "code",
   "execution_count": 90,
   "metadata": {
    "ExecuteTime": {
     "end_time": "2018-05-15T22:07:38.858293Z",
     "start_time": "2018-05-15T21:59:41.689205Z"
    }
   },
   "outputs": [
    {
     "output_type": "stream",
     "name": "stdout",
     "text": [
      "Finished 10.00 percent in 247.739465 s Acceptance rate = 0.3934Adding DE jump with weight 50\n",
      "Finished 99.00 percent in 2286.313648 s Acceptance rate = 0.416545\n",
      "Run Complete\n"
     ]
    }
   ],
   "source": [
    "# sample\n",
    "sampler.sample(x0, N, SCAMweight=30, AMweight=15, DEweight=50, )"
   ]
  },
  {
   "cell_type": "markdown",
   "metadata": {},
   "source": [
    "## Post-process"
   ]
  },
  {
   "cell_type": "code",
   "execution_count": 123,
   "metadata": {
    "ExecuteTime": {
     "end_time": "2018-05-15T22:07:42.274771Z",
     "start_time": "2018-05-15T22:07:41.979583Z"
    }
   },
   "outputs": [],
   "source": [
    "chain = np.loadtxt(outDir + '/chain_1.txt')\n",
    "burn = int(0.25*chain.shape[0])\n",
    "pars = np.loadtxt(outDir + '/pars.txt', dtype=np.unicode_)\n",
    "\n",
    "pp = model_utils.PostProcessing(chain, pars)"
   ]
  },
  {
   "cell_type": "code",
   "execution_count": 125,
   "metadata": {},
   "outputs": [
    {
     "output_type": "execute_result",
     "data": {
      "text/plain": [
       "[<matplotlib.lines.Line2D at 0x7fbd3816cc50>]"
      ]
     },
     "metadata": {},
     "execution_count": 125
    },
    {
     "output_type": "display_data",
     "data": {
      "text/plain": "<Figure size 432x288 with 1 Axes>",
      "image/png": "[encoded data removed]"
     },
     "metadata": {
      "image/png": {
       "width": 375,
       "height": 248
      },
      "needs_background": "light"
     }
    }
   ],
   "source": [
    "# Make trace-plot to diagnose sampling\n",
    "ind_model = list(pars).index('nmodel')\n",
    "plt.plot(chain[:, ind_model])"
   ]
  },
  {
   "cell_type": "code",
   "execution_count": 126,
   "metadata": {},
   "outputs": [
    {
     "output_type": "stream",
     "name": "stdout",
     "text": [
      "['B1855+09_red_noise_gamma' 'B1855+09_red_noise_log10_A'\n 'B1937+21_red_noise_gamma' 'B1937+21_red_noise_log10_A'\n 'J0030+0451_red_noise_gamma' 'J0030+0451_red_noise_log10_A'\n 'J0613-0200_red_noise_gamma' 'J0613-0200_red_noise_log10_A'\n 'J0645+5158_red_noise_gamma' 'J0645+5158_red_noise_log10_A'\n 'J1012+5307_red_noise_gamma' 'J1012+5307_red_noise_log10_A'\n 'J1024-0719_red_noise_gamma' 'J1024-0719_red_noise_log10_A'\n 'J1455-3330_red_noise_gamma' 'J1455-3330_red_noise_log10_A'\n 'J1600-3053_red_noise_gamma' 'J1600-3053_red_noise_log10_A'\n 'J1614-2230_red_noise_gamma' 'J1614-2230_red_noise_log10_A'\n 'J1640+2224_red_noise_gamma' 'J1640+2224_red_noise_log10_A'\n 'J1643-1224_red_noise_gamma' 'J1643-1224_red_noise_log10_A'\n 'J1713+0747_red_noise_gamma' 'J1713+0747_red_noise_log10_A'\n 'J1738+0333_red_noise_gamma' 'J1738+0333_red_noise_log10_A'\n 'J1744-1134_red_noise_gamma' 'J1744-1134_red_noise_log10_A'\n 'J1903+0327_red_noise_gamma' 'J1903+0327_red_noise_log10_A'\n 'J1909-3744_red_noise_gamma' 'J1909-3744_red_noise_log10_A'\n 'J1910+1256_red_noise_gamma' 'J1910+1256_red_noise_log10_A'\n 'J1918-0642_red_noise_gamma' 'J1918-0642_red_noise_log10_A'\n 'J1944+0907_red_noise_gamma' 'J1944+0907_red_noise_log10_A'\n 'J2010-1323_red_noise_gamma' 'J2010-1323_red_noise_log10_A'\n 'J2145-0750_red_noise_gamma' 'J2145-0750_red_noise_log10_A'\n 'J2317+1439_red_noise_gamma' 'J2317+1439_red_noise_log10_A' 'gw_log10_A'\n 'nmodel']\n"
     ]
    }
   ],
   "source": [
    "print(pars)"
   ]
  },
  {
   "cell_type": "code",
   "execution_count": 127,
   "metadata": {
    "ExecuteTime": {
     "end_time": "2018-05-15T22:07:44.047020Z",
     "start_time": "2018-05-15T22:07:43.807128Z"
    }
   },
   "outputs": [
    {
     "output_type": "display_data",
     "data": {
      "text/plain": "<Figure size 432x288 with 1 Axes>",
      "image/png": "[encoded data removed]"
     },
     "metadata": {
      "image/png": {
       "width": 375,
       "height": 248
      },
      "needs_background": "light"
     }
    }
   ],
   "source": [
    "# Plot histgram for GW amplitude\n",
    "chain_burn = chain[burn:,:]\n",
    "\n",
    "ind_model = list(pars).index('nmodel')\n",
    "ind_gwamp = list(pars).index('gw_log10_A')\n",
    "\n",
    "# ORF = None\n",
    "#plt.hist(chain_burn[chain_burn[:, ind_model] < 0.5, ind_gwamp], bins=40);\n",
    "\n",
    "# ORF = Hellings & Downs\n",
    "plt.hist(chain_burn[chain_burn[:, ind_model] > 0.5, ind_gwamp], bins=40);"
   ]
  },
  {
   "cell_type": "code",
   "execution_count": 128,
   "metadata": {
    "ExecuteTime": {
     "end_time": "2018-05-15T22:07:46.481391Z",
     "start_time": "2018-05-15T22:07:46.244859Z"
    }
   },
   "outputs": [
    {
     "output_type": "display_data",
     "data": {
      "text/plain": "<Figure size 432x288 with 1 Axes>",
      "image/png": "[encoded data removed]"
     },
     "metadata": {
      "image/png": {
       "width": 375,
       "height": 248
      },
      "needs_background": "light"
     }
    }
   ],
   "source": [
    "# Plot histogram for GWB model selection\n",
    "# This will tell us how much we have sampled for each model\n",
    "plt.hist(chain_burn[:, ind_model], bins=40);"
   ]
  },
  {
   "source": [
    "### Hypermodel\n",
    "* The hypermodel overwhelmingly favors the second model (nmodel > 0.5)\n",
    "* Ideally we would sample for longer and hopefully get some more samples in nmodel < 0.5"
   ],
   "cell_type": "markdown",
   "metadata": {}
  },
  {
   "cell_type": "markdown",
   "metadata": {},
   "source": [
    "### Posterior odds ratio\n",
    "\n",
    "* This gives the Bayesian odds between a model with no red process between pulsars (`model_1`), and a common (but uncorrelated) red process between pulsars (`model_2a`). \n",
    "* This will tell us if the pulsars prefer a common red noise term over no common term, but it will not tell us if this is the GWB.\n",
    "* We will return to this in the next section to compare between a common (uncorrelated) red noise term and a red noise term with Hellings and Downs (HD) correlations.\n",
    "* HD correlations would indicate that the common signal is a gravitational wave background.\n",
    "* The Bayes Factor here indicates that there is **strong** evidence for a common red noise signal among pulsars"
   ]
  },
  {
   "cell_type": "code",
   "execution_count": 129,
   "metadata": {
    "ExecuteTime": {
     "end_time": "2018-05-15T22:08:40.590729Z",
     "start_time": "2018-05-15T22:08:40.559995Z"
    }
   },
   "outputs": [
    {
     "output_type": "stream",
     "name": "stdout",
     "text": [
      "7425.0 0.0\n"
     ]
    }
   ],
   "source": [
    "# The first number is the Bayes factor (BF) and the second number is the uncertainty on the BF\n",
    "bf, unc = model_utils.odds_ratio(chain_burn[:, ind_model], models=[0,1])\n",
    "print(bf, unc)"
   ]
  },
  {
   "cell_type": "code",
   "execution_count": 130,
   "metadata": {},
   "outputs": [
    {
     "output_type": "stream",
     "name": "stdout",
     "text": [
      "3.8706964579892498\n"
     ]
    }
   ],
   "source": [
    "log10bf = np.log10(bf)\n",
    "print(log10bf)"
   ]
  },
  {
   "source": [
    "# Reproducing figures from 12.5 year stochastic paper"
   ],
   "cell_type": "markdown",
   "metadata": {}
  },
  {
   "source": [
    "## Download data from 12.5 year stochastic paper"
   ],
   "cell_type": "markdown",
   "metadata": {}
  },
  {
   "cell_type": "code",
   "execution_count": null,
   "metadata": {},
   "outputs": [],
   "source": [
    "# This is where the code will go to download the chains with a curl or wget function\n",
    "# Add in function to get hdf5 files, but do not use them here (maybe commented)\n"
   ]
  },
  {
   "cell_type": "code",
   "execution_count": null,
   "metadata": {},
   "outputs": [],
   "source": [
    "dldir = downloaded_chains/\n",
    "\n"
   ]
  },
  {
   "source": [
    "## Figure 3\n",
    "\n",
    "* In the last section we showed that there is strong evidence for a common-amplitude process which is the first arrow on Figure 3.\n",
    "* In the first part of this section, we want to revisit this result and consider a process with HD correlations vs. the uncorrelated signal."
   ],
   "cell_type": "markdown",
   "metadata": {}
  },
  {
   "cell_type": "code",
   "execution_count": 132,
   "metadata": {
    "tags": [
     "outputPrepend"
    ]
   },
   "outputs": [
    {
     "output_type": "stream",
     "name": "stderr",
     "text": [
      "orr to -7.629255580321534\n",
      "INFO: enterprise.signals.signal_base: Setting J1455-3330_Rcvr_800_GASP_log10_ecorr to -7.085458304995403\n",
      "INFO: enterprise.signals.signal_base: Setting J1455-3330_Rcvr_800_GUPPI_log10_ecorr to -6.526567653068877\n",
      "INFO: enterprise.signals.signal_base: Setting J1600-3053_Rcvr1_2_GASP_efac to 1.134993789980654\n",
      "INFO: enterprise.signals.signal_base: Setting J1600-3053_Rcvr1_2_GUPPI_efac to 1.0521556985294778\n",
      "INFO: enterprise.signals.signal_base: Setting J1600-3053_Rcvr_800_GASP_efac to 1.1935927243559799\n",
      "INFO: enterprise.signals.signal_base: Setting J1600-3053_Rcvr_800_GUPPI_efac to 1.120996265055496\n",
      "INFO: enterprise.signals.signal_base: Setting J1600-3053_Rcvr1_2_GASP_log10_equad to -6.960586084616913\n",
      "INFO: enterprise.signals.signal_base: Setting J1600-3053_Rcvr1_2_GUPPI_log10_equad to -7.761043891506745\n",
      "INFO: enterprise.signals.signal_base: Setting J1600-3053_Rcvr_800_GASP_log10_equad to -7.311693997685966\n",
      "INFO: enterprise.signals.signal_base: Setting J1600-3053_Rcvr_800_GUPPI_log10_equad to -7.374528725467375\n",
      "INFO: enterprise.signals.signal_base: Setting J1600-3053_Rcvr1_2_GASP_log10_ecorr to -7.134558712552095\n",
      "INFO: enterprise.signals.signal_base: Setting J1600-3053_Rcvr1_2_GUPPI_log10_ecorr to -6.899208552923536\n",
      "INFO: enterprise.signals.signal_base: Setting J1600-3053_Rcvr_800_GASP_log10_ecorr to -7.407293847566683\n",
      "INFO: enterprise.signals.signal_base: Setting J1600-3053_Rcvr_800_GUPPI_log10_ecorr to -6.288542964735563\n",
      "INFO: enterprise.signals.signal_base: Setting J1614-2230_Rcvr1_2_GASP_efac to 1.1369056644435913\n",
      "INFO: enterprise.signals.signal_base: Setting J1614-2230_Rcvr1_2_GUPPI_efac to 1.0636501302858106\n",
      "INFO: enterprise.signals.signal_base: Setting J1614-2230_Rcvr_800_GASP_efac to 0.9178765720365575\n",
      "INFO: enterprise.signals.signal_base: Setting J1614-2230_Rcvr_800_GUPPI_efac to 1.0115241685032286\n",
      "INFO: enterprise.signals.signal_base: Setting J1614-2230_Rcvr1_2_GASP_log10_equad to -7.32067533880299\n",
      "INFO: enterprise.signals.signal_base: Setting J1614-2230_Rcvr1_2_GUPPI_log10_equad to -7.784678758801305\n",
      "INFO: enterprise.signals.signal_base: Setting J1614-2230_Rcvr_800_GASP_log10_equad to -7.2577825388006305\n",
      "INFO: enterprise.signals.signal_base: Setting J1614-2230_Rcvr_800_GUPPI_log10_equad to -7.627864180562532\n",
      "INFO: enterprise.signals.signal_base: Setting J1614-2230_Rcvr1_2_GASP_log10_ecorr to -7.448625358285439\n",
      "INFO: enterprise.signals.signal_base: Setting J1614-2230_Rcvr1_2_GUPPI_log10_ecorr to -7.655859629011535\n",
      "INFO: enterprise.signals.signal_base: Setting J1614-2230_Rcvr_800_GASP_log10_ecorr to -7.299611199085039\n",
      "INFO: enterprise.signals.signal_base: Setting J1614-2230_Rcvr_800_GUPPI_log10_ecorr to -7.4080289590963355\n",
      "INFO: enterprise.signals.signal_base: Setting J1640+2224_430_ASP_efac to 1.143081359459332\n",
      "INFO: enterprise.signals.signal_base: Setting J1640+2224_430_PUPPI_efac to 1.0573767076899483\n",
      "INFO: enterprise.signals.signal_base: Setting J1640+2224_L-wide_ASP_efac to 1.06394287552814\n",
      "INFO: enterprise.signals.signal_base: Setting J1640+2224_L-wide_PUPPI_efac to 1.1457585235526273\n",
      "INFO: enterprise.signals.signal_base: Setting J1640+2224_430_ASP_log10_equad to -6.240784825369144\n",
      "INFO: enterprise.signals.signal_base: Setting J1640+2224_430_PUPPI_log10_equad to -6.9445789284154085\n",
      "INFO: enterprise.signals.signal_base: Setting J1640+2224_L-wide_ASP_log10_equad to -7.649274979312211\n",
      "INFO: enterprise.signals.signal_base: Setting J1640+2224_L-wide_PUPPI_log10_equad to -8.075008065199082\n",
      "INFO: enterprise.signals.signal_base: Setting J1640+2224_430_ASP_log10_ecorr to -7.788811673814794\n",
      "INFO: enterprise.signals.signal_base: Setting J1640+2224_430_PUPPI_log10_ecorr to -6.901622491949263\n",
      "INFO: enterprise.signals.signal_base: Setting J1640+2224_L-wide_ASP_log10_ecorr to -6.275572665649051\n",
      "INFO: enterprise.signals.signal_base: Setting J1640+2224_L-wide_PUPPI_log10_ecorr to -6.4079933035010095\n",
      "INFO: enterprise.signals.signal_base: Setting J1643-1224_Rcvr1_2_GASP_efac to 1.0071858015273707\n",
      "INFO: enterprise.signals.signal_base: Setting J1643-1224_Rcvr1_2_GUPPI_efac to 1.1247022811624827\n",
      "INFO: enterprise.signals.signal_base: Setting J1643-1224_Rcvr_800_GASP_efac to 1.493816799359807\n",
      "INFO: enterprise.signals.signal_base: Setting J1643-1224_Rcvr_800_GUPPI_efac to 1.1921609687505945\n",
      "INFO: enterprise.signals.signal_base: Setting J1643-1224_Rcvr1_2_GASP_log10_equad to -7.277156122921472\n",
      "INFO: enterprise.signals.signal_base: Setting J1643-1224_Rcvr1_2_GUPPI_log10_equad to -7.138128067645691\n",
      "INFO: enterprise.signals.signal_base: Setting J1643-1224_Rcvr_800_GASP_log10_equad to -7.115627957850879\n",
      "INFO: enterprise.signals.signal_base: Setting J1643-1224_Rcvr_800_GUPPI_log10_equad to -5.9780473533853655\n",
      "INFO: enterprise.signals.signal_base: Setting J1643-1224_Rcvr1_2_GASP_log10_ecorr to -7.503311141343279\n",
      "INFO: enterprise.signals.signal_base: Setting J1643-1224_Rcvr1_2_GUPPI_log10_ecorr to -6.042898081068246\n",
      "INFO: enterprise.signals.signal_base: Setting J1643-1224_Rcvr_800_GASP_log10_ecorr to -6.822037374515338\n",
      "INFO: enterprise.signals.signal_base: Setting J1643-1224_Rcvr_800_GUPPI_log10_ecorr to -5.544475232494147\n",
      "INFO: enterprise.signals.signal_base: Setting J1713+0747_L-wide_ASP_efac to 1.0524302344416032\n",
      "INFO: enterprise.signals.signal_base: Setting J1713+0747_L-wide_PUPPI_efac to 0.9796026604137508\n",
      "INFO: enterprise.signals.signal_base: Setting J1713+0747_Rcvr1_2_GASP_efac to 1.084307149708116\n",
      "INFO: enterprise.signals.signal_base: Setting J1713+0747_Rcvr1_2_GUPPI_efac to 1.017213088587959\n",
      "INFO: enterprise.signals.signal_base: Setting J1713+0747_Rcvr_800_GASP_efac to 1.117529091199639\n",
      "INFO: enterprise.signals.signal_base: Setting J1713+0747_Rcvr_800_GUPPI_efac to 1.0500383710337968\n",
      "INFO: enterprise.signals.signal_base: Setting J1713+0747_S-wide_ASP_efac to 1.1139598766607257\n",
      "INFO: enterprise.signals.signal_base: Setting J1713+0747_S-wide_PUPPI_efac to 1.0889710082237398\n",
      "INFO: enterprise.signals.signal_base: Setting J1713+0747_L-wide_ASP_log10_equad to -7.58206720746206\n",
      "INFO: enterprise.signals.signal_base: Setting J1713+0747_L-wide_PUPPI_log10_equad to -8.377098873197399\n",
      "INFO: enterprise.signals.signal_base: Setting J1713+0747_Rcvr1_2_GASP_log10_equad to -7.423897862687164\n",
      "INFO: enterprise.signals.signal_base: Setting J1713+0747_Rcvr1_2_GUPPI_log10_equad to -8.357193830632392\n",
      "INFO: enterprise.signals.signal_base: Setting J1713+0747_Rcvr_800_GASP_log10_equad to -7.251839650442933\n",
      "INFO: enterprise.signals.signal_base: Setting J1713+0747_Rcvr_800_GUPPI_log10_equad to -7.614933520652966\n",
      "INFO: enterprise.signals.signal_base: Setting J1713+0747_S-wide_ASP_log10_equad to -8.027710747783962\n",
      "INFO: enterprise.signals.signal_base: Setting J1713+0747_S-wide_PUPPI_log10_equad to -8.186781270775445\n",
      "INFO: enterprise.signals.signal_base: Setting J1713+0747_L-wide_ASP_log10_ecorr to -7.029000061406403\n",
      "INFO: enterprise.signals.signal_base: Setting J1713+0747_L-wide_PUPPI_log10_ecorr to -7.142663306094692\n",
      "INFO: enterprise.signals.signal_base: Setting J1713+0747_Rcvr1_2_GASP_log10_ecorr to -7.299970815145262\n",
      "INFO: enterprise.signals.signal_base: Setting J1713+0747_Rcvr1_2_GUPPI_log10_ecorr to -7.131010248150742\n",
      "INFO: enterprise.signals.signal_base: Setting J1713+0747_Rcvr_800_GASP_log10_ecorr to -7.788837849013025\n",
      "INFO: enterprise.signals.signal_base: Setting J1713+0747_Rcvr_800_GUPPI_log10_ecorr to -6.730867845961182\n",
      "INFO: enterprise.signals.signal_base: Setting J1713+0747_S-wide_ASP_log10_ecorr to -6.876597410265874\n",
      "INFO: enterprise.signals.signal_base: Setting J1713+0747_S-wide_PUPPI_log10_ecorr to -7.305157969602163\n",
      "INFO: enterprise.signals.signal_base: Setting J1738+0333_L-wide_ASP_efac to 1.1479069042742471\n",
      "INFO: enterprise.signals.signal_base: Setting J1738+0333_L-wide_PUPPI_efac to 1.0710506604701162\n",
      "INFO: enterprise.signals.signal_base: Setting J1738+0333_S-wide_ASP_efac to 0.9465373677964157\n",
      "INFO: enterprise.signals.signal_base: Setting J1738+0333_S-wide_PUPPI_efac to 0.8845264245078953\n",
      "INFO: enterprise.signals.signal_base: Setting J1738+0333_L-wide_ASP_log10_equad to -7.579720669663646\n",
      "INFO: enterprise.signals.signal_base: Setting J1738+0333_L-wide_PUPPI_log10_equad to -7.886362963443982\n",
      "INFO: enterprise.signals.signal_base: Setting J1738+0333_S-wide_ASP_log10_equad to -7.565578005221636\n",
      "INFO: enterprise.signals.signal_base: Setting J1738+0333_S-wide_PUPPI_log10_equad to -7.767394128812992\n",
      "INFO: enterprise.signals.signal_base: Setting J1738+0333_L-wide_ASP_log10_ecorr to -7.060532309258772\n",
      "INFO: enterprise.signals.signal_base: Setting J1738+0333_L-wide_PUPPI_log10_ecorr to -7.019786250261518\n",
      "INFO: enterprise.signals.signal_base: Setting J1738+0333_S-wide_ASP_log10_ecorr to -7.381958762803754\n",
      "INFO: enterprise.signals.signal_base: Setting J1738+0333_S-wide_PUPPI_log10_ecorr to -7.7411812625497936\n",
      "INFO: enterprise.signals.signal_base: Setting J1744-1134_Rcvr1_2_GASP_efac to 0.9978514871735024\n",
      "INFO: enterprise.signals.signal_base: Setting J1744-1134_Rcvr1_2_GUPPI_efac to 1.053362947622705\n",
      "INFO: enterprise.signals.signal_base: Setting J1744-1134_Rcvr_800_GASP_efac to 1.1285830055400954\n",
      "INFO: enterprise.signals.signal_base: Setting J1744-1134_Rcvr_800_GUPPI_efac to 1.0350590534568576\n",
      "INFO: enterprise.signals.signal_base: Setting J1744-1134_Rcvr1_2_GASP_log10_equad to -6.381411751584569\n",
      "INFO: enterprise.signals.signal_base: Setting J1744-1134_Rcvr1_2_GUPPI_log10_equad to -7.003305288540264\n",
      "INFO: enterprise.signals.signal_base: Setting J1744-1134_Rcvr_800_GASP_log10_equad to -6.4572271715342175\n",
      "INFO: enterprise.signals.signal_base: Setting J1744-1134_Rcvr_800_GUPPI_log10_equad to -6.613992229078914\n",
      "INFO: enterprise.signals.signal_base: Setting J1744-1134_Rcvr1_2_GASP_log10_ecorr to -6.292180076314258\n",
      "INFO: enterprise.signals.signal_base: Setting J1744-1134_Rcvr1_2_GUPPI_log10_ecorr to -6.537490178263718\n",
      "INFO: enterprise.signals.signal_base: Setting J1744-1134_Rcvr_800_GASP_log10_ecorr to -6.61724561091565\n",
      "INFO: enterprise.signals.signal_base: Setting J1744-1134_Rcvr_800_GUPPI_log10_ecorr to -6.396301881001724\n",
      "INFO: enterprise.signals.signal_base: Setting J1903+0327_L-wide_ASP_efac to 1.179706924996803\n",
      "INFO: enterprise.signals.signal_base: Setting J1903+0327_L-wide_PUPPI_efac to 1.168460641474899\n",
      "INFO: enterprise.signals.signal_base: Setting J1903+0327_S-wide_ASP_efac to 0.8321334329815202\n",
      "INFO: enterprise.signals.signal_base: Setting J1903+0327_S-wide_PUPPI_efac to 1.1095637896315254\n",
      "INFO: enterprise.signals.signal_base: Setting J1903+0327_L-wide_ASP_log10_equad to -7.158390864212146\n",
      "INFO: enterprise.signals.signal_base: Setting J1903+0327_L-wide_PUPPI_log10_equad to -7.759288526577286\n",
      "INFO: enterprise.signals.signal_base: Setting J1903+0327_S-wide_ASP_log10_equad to -6.16963651015452\n",
      "INFO: enterprise.signals.signal_base: Setting J1903+0327_S-wide_PUPPI_log10_equad to -7.574001886389685\n",
      "INFO: enterprise.signals.signal_base: Setting J1903+0327_L-wide_ASP_log10_ecorr to -7.172149108226772\n",
      "INFO: enterprise.signals.signal_base: Setting J1903+0327_L-wide_PUPPI_log10_ecorr to -5.636329138486162\n",
      "INFO: enterprise.signals.signal_base: Setting J1903+0327_S-wide_ASP_log10_ecorr to -7.364742895573575\n",
      "INFO: enterprise.signals.signal_base: Setting J1903+0327_S-wide_PUPPI_log10_ecorr to -7.45437286784459\n",
      "INFO: enterprise.signals.signal_base: Setting J1909-3744_Rcvr1_2_GASP_efac to 0.9505606759311833\n",
      "INFO: enterprise.signals.signal_base: Setting J1909-3744_Rcvr1_2_GUPPI_efac to 1.0339776268866265\n",
      "INFO: enterprise.signals.signal_base: Setting J1909-3744_Rcvr_800_GASP_efac to 1.0504080629362422\n",
      "INFO: enterprise.signals.signal_base: Setting J1909-3744_Rcvr_800_GUPPI_efac to 1.0313779800296294\n",
      "INFO: enterprise.signals.signal_base: Setting J1909-3744_Rcvr1_2_GASP_log10_equad to -7.456278210493956\n",
      "INFO: enterprise.signals.signal_base: Setting J1909-3744_Rcvr1_2_GUPPI_log10_equad to -8.171553179171445\n",
      "INFO: enterprise.signals.signal_base: Setting J1909-3744_Rcvr_800_GASP_log10_equad to -7.037406290351743\n",
      "INFO: enterprise.signals.signal_base: Setting J1909-3744_Rcvr_800_GUPPI_log10_equad to -7.365322642903795\n",
      "INFO: enterprise.signals.signal_base: Setting J1909-3744_Rcvr1_2_GASP_log10_ecorr to -8.078816887958723\n",
      "INFO: enterprise.signals.signal_base: Setting J1909-3744_Rcvr1_2_GUPPI_log10_ecorr to -7.137638201510413\n",
      "INFO: enterprise.signals.signal_base: Setting J1909-3744_Rcvr_800_GASP_log10_ecorr to -7.871774784575877\n",
      "INFO: enterprise.signals.signal_base: Setting J1909-3744_Rcvr_800_GUPPI_log10_ecorr to -7.269816370154123\n",
      "INFO: enterprise.signals.signal_base: Setting J1910+1256_L-wide_ASP_efac to 1.063590147073229\n",
      "INFO: enterprise.signals.signal_base: Setting J1910+1256_L-wide_PUPPI_efac to 1.0931136416030962\n",
      "INFO: enterprise.signals.signal_base: Setting J1910+1256_S-wide_ASP_efac to 0.9661536934887565\n",
      "INFO: enterprise.signals.signal_base: Setting J1910+1256_S-wide_PUPPI_efac to 1.0982792255110136\n",
      "INFO: enterprise.signals.signal_base: Setting J1910+1256_L-wide_ASP_log10_equad to -7.516992859042785\n",
      "INFO: enterprise.signals.signal_base: Setting J1910+1256_L-wide_PUPPI_log10_equad to -7.585087262800533\n",
      "INFO: enterprise.signals.signal_base: Setting J1910+1256_S-wide_ASP_log10_equad to -6.218657154174941\n",
      "INFO: enterprise.signals.signal_base: Setting J1910+1256_S-wide_PUPPI_log10_equad to -7.401958120896809\n",
      "INFO: enterprise.signals.signal_base: Setting J1910+1256_L-wide_ASP_log10_ecorr to -7.259684055387137\n",
      "INFO: enterprise.signals.signal_base: Setting J1910+1256_L-wide_PUPPI_log10_ecorr to -7.403550254322336\n",
      "INFO: enterprise.signals.signal_base: Setting J1910+1256_S-wide_ASP_log10_ecorr to -7.195615972473434\n",
      "INFO: enterprise.signals.signal_base: Setting J1910+1256_S-wide_PUPPI_log10_ecorr to -6.218612073150832\n",
      "INFO: enterprise.signals.signal_base: Setting J1918-0642_Rcvr1_2_GASP_efac to 1.0272847294363423\n",
      "INFO: enterprise.signals.signal_base: Setting J1918-0642_Rcvr1_2_GUPPI_efac to 1.035664184009173\n",
      "INFO: enterprise.signals.signal_base: Setting J1918-0642_Rcvr_800_GASP_efac to 1.0557165923306966\n",
      "INFO: enterprise.signals.signal_base: Setting J1918-0642_Rcvr_800_GUPPI_efac to 1.034910727323206\n",
      "INFO: enterprise.signals.signal_base: Setting J1918-0642_Rcvr1_2_GASP_log10_equad to -7.67322161371427\n",
      "INFO: enterprise.signals.signal_base: Setting J1918-0642_Rcvr1_2_GUPPI_log10_equad to -7.3696863188027075\n",
      "INFO: enterprise.signals.signal_base: Setting J1918-0642_Rcvr_800_GASP_log10_equad to -7.105797415440444\n",
      "INFO: enterprise.signals.signal_base: Setting J1918-0642_Rcvr_800_GUPPI_log10_equad to -7.086564536955872\n",
      "INFO: enterprise.signals.signal_base: Setting J1918-0642_Rcvr1_2_GASP_log10_ecorr to -7.37828526123227\n",
      "INFO: enterprise.signals.signal_base: Setting J1918-0642_Rcvr1_2_GUPPI_log10_ecorr to -7.4935011859866485\n",
      "INFO: enterprise.signals.signal_base: Setting J1918-0642_Rcvr_800_GASP_log10_ecorr to -7.559243560441317\n",
      "INFO: enterprise.signals.signal_base: Setting J1918-0642_Rcvr_800_GUPPI_log10_ecorr to -6.525389492066881\n",
      "INFO: enterprise.signals.signal_base: Setting J1944+0907_430_ASP_efac to 1.0814498126291534\n",
      "INFO: enterprise.signals.signal_base: Setting J1944+0907_430_PUPPI_efac to 1.0727024023469869\n",
      "INFO: enterprise.signals.signal_base: Setting J1944+0907_L-wide_ASP_efac to 1.5390588569396464\n",
      "INFO: enterprise.signals.signal_base: Setting J1944+0907_L-wide_PUPPI_efac to 1.1696155596603073\n",
      "INFO: enterprise.signals.signal_base: Setting J1944+0907_430_ASP_log10_equad to -7.243114059446985\n",
      "INFO: enterprise.signals.signal_base: Setting J1944+0907_430_PUPPI_log10_equad to -6.926315089238918\n",
      "INFO: enterprise.signals.signal_base: Setting J1944+0907_L-wide_ASP_log10_equad to -7.238241222764401\n",
      "INFO: enterprise.signals.signal_base: Setting J1944+0907_L-wide_PUPPI_log10_equad to -7.693354205218862\n",
      "INFO: enterprise.signals.signal_base: Setting J1944+0907_430_ASP_log10_ecorr to -6.8879174105358185\n",
      "INFO: enterprise.signals.signal_base: Setting J1944+0907_430_PUPPI_log10_ecorr to -7.1306299212575945\n",
      "INFO: enterprise.signals.signal_base: Setting J1944+0907_L-wide_ASP_log10_ecorr to -7.104483772896318\n",
      "INFO: enterprise.signals.signal_base: Setting J1944+0907_L-wide_PUPPI_log10_ecorr to -6.546284570029579\n",
      "INFO: enterprise.signals.signal_base: Setting J2010-1323_Rcvr1_2_GASP_efac to 1.0179865222180375\n",
      "INFO: enterprise.signals.signal_base: Setting J2010-1323_Rcvr1_2_GUPPI_efac to 1.046213434079912\n",
      "INFO: enterprise.signals.signal_base: Setting J2010-1323_Rcvr_800_GASP_efac to 1.0631310225900652\n",
      "INFO: enterprise.signals.signal_base: Setting J2010-1323_Rcvr_800_GUPPI_efac to 0.9946706739052781\n",
      "INFO: enterprise.signals.signal_base: Setting J2010-1323_Rcvr1_2_GASP_log10_equad to -7.170459137166772\n",
      "INFO: enterprise.signals.signal_base: Setting J2010-1323_Rcvr1_2_GUPPI_log10_equad to -7.676454828722258\n",
      "INFO: enterprise.signals.signal_base: Setting J2010-1323_Rcvr_800_GASP_log10_equad to -7.260685669109653\n",
      "INFO: enterprise.signals.signal_base: Setting J2010-1323_Rcvr_800_GUPPI_log10_equad to -7.2177759208361\n",
      "INFO: enterprise.signals.signal_base: Setting J2010-1323_Rcvr1_2_GASP_log10_ecorr to -7.182315425909628\n",
      "INFO: enterprise.signals.signal_base: Setting J2010-1323_Rcvr1_2_GUPPI_log10_ecorr to -7.686560497366312\n",
      "INFO: enterprise.signals.signal_base: Setting J2010-1323_Rcvr_800_GASP_log10_ecorr to -7.241412604014393\n",
      "INFO: enterprise.signals.signal_base: Setting J2010-1323_Rcvr_800_GUPPI_log10_ecorr to -7.580143294343043\n",
      "INFO: enterprise.signals.signal_base: Setting J2145-0750_Rcvr1_2_GASP_efac to 1.0110230422869044\n",
      "INFO: enterprise.signals.signal_base: Setting J2145-0750_Rcvr1_2_GUPPI_efac to 1.0265447460207069\n",
      "INFO: enterprise.signals.signal_base: Setting J2145-0750_Rcvr_800_GASP_efac to 1.2601984171075302\n",
      "INFO: enterprise.signals.signal_base: Setting J2145-0750_Rcvr_800_GUPPI_efac to 1.0476740581711277\n",
      "INFO: enterprise.signals.signal_base: Setting J2145-0750_Rcvr1_2_GASP_log10_equad to -5.705026109830131\n",
      "INFO: enterprise.signals.signal_base: Setting J2145-0750_Rcvr1_2_GUPPI_log10_equad to -7.938817552005569\n",
      "INFO: enterprise.signals.signal_base: Setting J2145-0750_Rcvr_800_GASP_log10_equad to -6.513203859186709\n",
      "INFO: enterprise.signals.signal_base: Setting J2145-0750_Rcvr_800_GUPPI_log10_equad to -6.4184191843741445\n",
      "INFO: enterprise.signals.signal_base: Setting J2145-0750_Rcvr1_2_GASP_log10_ecorr to -6.243824665782128\n",
      "INFO: enterprise.signals.signal_base: Setting J2145-0750_Rcvr1_2_GUPPI_log10_ecorr to -6.355906738653193\n",
      "INFO: enterprise.signals.signal_base: Setting J2145-0750_Rcvr_800_GASP_log10_ecorr to -6.233581141499856\n",
      "INFO: enterprise.signals.signal_base: Setting J2145-0750_Rcvr_800_GUPPI_log10_ecorr to -6.598154829313346\n",
      "INFO: enterprise.signals.signal_base: Setting J2317+1439_327_ASP_efac to 1.0823722500112272\n",
      "INFO: enterprise.signals.signal_base: Setting J2317+1439_327_PUPPI_efac to 1.17384139990156\n",
      "INFO: enterprise.signals.signal_base: Setting J2317+1439_430_ASP_efac to 1.2574511773494976\n",
      "INFO: enterprise.signals.signal_base: Setting J2317+1439_430_PUPPI_efac to 1.0163851726761812\n",
      "INFO: enterprise.signals.signal_base: Setting J2317+1439_L-wide_PUPPI_efac to 1.1163982326548925\n",
      "INFO: enterprise.signals.signal_base: Setting J2317+1439_327_ASP_log10_equad to -6.457911273619141\n",
      "INFO: enterprise.signals.signal_base: Setting J2317+1439_327_PUPPI_log10_equad to -6.462306002360743\n",
      "INFO: enterprise.signals.signal_base: Setting J2317+1439_430_ASP_log10_equad to -7.3732139102446626\n",
      "INFO: enterprise.signals.signal_base: Setting J2317+1439_430_PUPPI_log10_equad to -6.535705196682452\n",
      "INFO: enterprise.signals.signal_base: Setting J2317+1439_L-wide_PUPPI_log10_equad to -7.463944437178126\n",
      "INFO: enterprise.signals.signal_base: Setting J2317+1439_327_ASP_log10_ecorr to -7.706187896212512\n",
      "INFO: enterprise.signals.signal_base: Setting J2317+1439_327_PUPPI_log10_ecorr to -6.392284847303101\n",
      "INFO: enterprise.signals.signal_base: Setting J2317+1439_430_ASP_log10_ecorr to -6.509624616624109\n",
      "INFO: enterprise.signals.signal_base: Setting J2317+1439_430_PUPPI_log10_ecorr to -6.87918040058842\n",
      "INFO: enterprise.signals.signal_base: Setting J2317+1439_L-wide_PUPPI_log10_ecorr to -6.6463560361584975\n"
     ]
    }
   ],
   "source": [
    "nmodels = 2\n",
    "mod_index = np.arange(nmodels)\n",
    "\n",
    "# Make dictionary of PTAs.\n",
    "pta = dict.fromkeys(mod_index)\n",
    "pta[0] = models.model_2a(psrs, psd='powerlaw', noisedict=params, components=30,\n",
    "             n_rnfreqs = None, n_gwbfreqs=None, gamma_common=None,\n",
    "             delta_common=None, upper_limit=False, bayesephem=False,\n",
    "             be_type='orbel', white_vary=False, is_wideband=False,\n",
    "             use_dmdata=False, select='backend',\n",
    "             pshift=False, pseed=None, psr_models=False)\n",
    "pta[1] = models.model_3a(psrs, psd='powerlaw', noisedict=params, white_vary=False,\n",
    "             components=30, n_rnfreqs = None, n_gwbfreqs=None,\n",
    "             gamma_common=None, delta_common=None, upper_limit=False,\n",
    "             bayesephem=False, be_type='orbel', is_wideband=False,\n",
    "             use_dmdata=False, select='backend',\n",
    "             correlationsonly=False,\n",
    "             pshift=False, pseed=None, psr_models=False)"
   ]
  },
  {
   "cell_type": "code",
   "execution_count": 133,
   "metadata": {},
   "outputs": [
    {
     "output_type": "stream",
     "name": "stdout",
     "text": [
      "Adding red noise prior draws...\n",
      "\n",
      "Adding GWB uniform distribution draws...\n",
      "\n",
      "Adding gw param prior draws...\n",
      "\n",
      "Adding nmodel uniform distribution draws...\n",
      "\n",
      "Finished 90.00 percent in 2886.456657 s Acceptance rate = 0.437778\n",
      "Run Complete\n"
     ]
    }
   ],
   "source": [
    "super_model = hypermodel.HyperModel(pta)\n",
    "sampler = super_model.setup_sampler(resume=False, outdir=outDir, sample_nmodel=True)\n",
    "# This will take about an hour to sample\n",
    "# To sample it properly will take 10+ hours\n",
    "# sampler for N steps\n",
    "N = int(1e4)  # 5e6 is a good number for a real analysis \n",
    "x0 = super_model.initial_sample()\n",
    "sampler.sample(x0, N, SCAMweight=30, AMweight=15, DEweight=50, )"
   ]
  },
  {
   "cell_type": "code",
   "execution_count": 134,
   "metadata": {},
   "outputs": [],
   "source": [
    "chain = np.loadtxt(outDir + '/chain_1.txt')\n",
    "burn = int(0.25*chain.shape[0])\n",
    "pars = np.loadtxt(outDir + '/pars.txt', dtype=np.unicode_)\n",
    "\n",
    "pp = model_utils.PostProcessing(chain, pars)"
   ]
  },
  {
   "cell_type": "code",
   "execution_count": 135,
   "metadata": {},
   "outputs": [
    {
     "output_type": "stream",
     "name": "stdout",
     "text": [
      "['B1855+09_red_noise_gamma' 'B1855+09_red_noise_log10_A'\n 'B1937+21_red_noise_gamma' 'B1937+21_red_noise_log10_A'\n 'J0030+0451_red_noise_gamma' 'J0030+0451_red_noise_log10_A'\n 'J0613-0200_red_noise_gamma' 'J0613-0200_red_noise_log10_A'\n 'J0645+5158_red_noise_gamma' 'J0645+5158_red_noise_log10_A'\n 'J1012+5307_red_noise_gamma' 'J1012+5307_red_noise_log10_A'\n 'J1024-0719_red_noise_gamma' 'J1024-0719_red_noise_log10_A'\n 'J1455-3330_red_noise_gamma' 'J1455-3330_red_noise_log10_A'\n 'J1600-3053_red_noise_gamma' 'J1600-3053_red_noise_log10_A'\n 'J1614-2230_red_noise_gamma' 'J1614-2230_red_noise_log10_A'\n 'J1640+2224_red_noise_gamma' 'J1640+2224_red_noise_log10_A'\n 'J1643-1224_red_noise_gamma' 'J1643-1224_red_noise_log10_A'\n 'J1713+0747_red_noise_gamma' 'J1713+0747_red_noise_log10_A'\n 'J1738+0333_red_noise_gamma' 'J1738+0333_red_noise_log10_A'\n 'J1744-1134_red_noise_gamma' 'J1744-1134_red_noise_log10_A'\n 'J1903+0327_red_noise_gamma' 'J1903+0327_red_noise_log10_A'\n 'J1909-3744_red_noise_gamma' 'J1909-3744_red_noise_log10_A'\n 'J1910+1256_red_noise_gamma' 'J1910+1256_red_noise_log10_A'\n 'J1918-0642_red_noise_gamma' 'J1918-0642_red_noise_log10_A'\n 'J1944+0907_red_noise_gamma' 'J1944+0907_red_noise_log10_A'\n 'J2010-1323_red_noise_gamma' 'J2010-1323_red_noise_log10_A'\n 'J2145-0750_red_noise_gamma' 'J2145-0750_red_noise_log10_A'\n 'J2317+1439_red_noise_gamma' 'J2317+1439_red_noise_log10_A' 'gw_gamma'\n 'gw_log10_A' 'nmodel']\n"
     ]
    }
   ],
   "source": [
    "print(pars)"
   ]
  },
  {
   "cell_type": "code",
   "execution_count": 136,
   "metadata": {},
   "outputs": [
    {
     "output_type": "display_data",
     "data": {
      "text/plain": "<Figure size 432x288 with 1 Axes>",
      "image/png": "[encoded data removed]"
     },
     "metadata": {
      "image/png": {
       "width": 375,
       "height": 248
      },
      "needs_background": "light"
     }
    }
   ],
   "source": [
    "# Plot histgram for GW amplitude\n",
    "chain_burn = chain[burn:,:]\n",
    "\n",
    "ind_model = list(pars).index('nmodel')\n",
    "ind_gwamp = list(pars).index('gw_log10_A')\n",
    "\n",
    "# ORF = None\n",
    "#plt.hist(chain_burn[chain_burn[:, ind_model] < 0.5, ind_gwamp], bins=40);\n",
    "\n",
    "# ORF = Hellings & Downs\n",
    "plt.hist(chain_burn[chain_burn[:, ind_model] > 0.5, ind_gwamp], bins=40);"
   ]
  },
  {
   "cell_type": "code",
   "execution_count": 137,
   "metadata": {},
   "outputs": [
    {
     "output_type": "display_data",
     "data": {
      "text/plain": "<Figure size 432x288 with 1 Axes>",
      "image/png": "[encoded data removed]"
     },
     "metadata": {
      "image/png": {
       "width": 368,
       "height": 248
      },
      "needs_background": "light"
     }
    }
   ],
   "source": [
    "# Plot histogram for GWB model selection\n",
    "# This will tell us how much we have sampled for each model\n",
    "plt.hist(chain_burn[:, ind_model], bins=40);"
   ]
  },
  {
   "cell_type": "code",
   "execution_count": 138,
   "metadata": {},
   "outputs": [
    {
     "output_type": "stream",
     "name": "stdout",
     "text": [
      "8.642857142857142 1.2760218457853272\n"
     ]
    }
   ],
   "source": [
    "# The first number is the Bayes factor (BF) and the second number is the uncertainty on the BF\n",
    "bf, unc = model_utils.odds_ratio(chain_burn[:, ind_model], models=[0,1])\n",
    "print(bf, unc)"
   ]
  },
  {
   "cell_type": "code",
   "execution_count": 139,
   "metadata": {},
   "outputs": [
    {
     "output_type": "stream",
     "name": "stdout",
     "text": [
      "0.936657334638212\n"
     ]
    }
   ],
   "source": [
    "log10bf = np.log10(bf)\n",
    "print(log10bf)"
   ]
  },
  {
   "source": [
    "* Once again we have sampled this at a much lower rate that is required to get the answer in the 12.5 year paper.\n",
    "* We also have only half the pulsars.\n",
    "* In order to get the exact number listed in the 12.5 year paper, we need to fill out the posterior distribution with more samples."
   ],
   "cell_type": "markdown",
   "metadata": {}
  },
  {
   "source": [
    "## Figure 1"
   ],
   "cell_type": "markdown",
   "metadata": {}
  },
  {
   "cell_type": "code",
   "execution_count": 2,
   "metadata": {},
   "outputs": [],
   "source": [
    "## Justin's Plotting Parameters For matplotlib\n",
    "def figsize(scale):\n",
    "    fig_width_pt = 513.17 #469.755    # Get this from LaTeX using \\the\\textwidth\n",
    "    inches_per_pt = 1.0 / 72.27         # Convert pt to inch\n",
    "    golden_mean = (np.sqrt(5.0)-1.0)/2.0    # Aesthetic ratio\n",
    "    fig_width = fig_width_pt * inches_per_pt * scale  # width in inches\n",
    "    fig_height = fig_width * golden_mean              # height in inches\n",
    "    fig_size = [fig_width, fig_height]\n",
    "    return fig_size\n",
    "\n",
    "plt.rcParams.update(plt.rcParamsDefault)\n",
    "params = {'backend': 'pdf',\n",
    "    'axes.labelsize': 10,\n",
    "        'lines.markersize': 4,\n",
    "        'font.size': 10,\n",
    "        'xtick.major.size':6,\n",
    "        'xtick.minor.size':3,\n",
    "        'ytick.major.size':6,\n",
    "        'ytick.minor.size':3,\n",
    "        'xtick.major.width':0.5,\n",
    "        'ytick.major.width':0.5,\n",
    "        'xtick.minor.width':0.5,\n",
    "        'ytick.minor.width':0.5,\n",
    "        'lines.markeredgewidth':1,\n",
    "        'axes.linewidth':1.2,\n",
    "        'legend.fontsize': 7,\n",
    "        'xtick.labelsize': 10,\n",
    "        'ytick.labelsize': 10,\n",
    "        'savefig.dpi':200,\n",
    "        'path.simplify':True,\n",
    "        'font.family': 'serif',\n",
    "        'font.serif':'Times',\n",
    "        'text.latex.preamble': [r'\\usepackage{amsmath}'],\n",
    "        'text.usetex':True,\n",
    "        'figure.figsize': figsize(0.5)}\n",
    "\n",
    "plt.rcParams.update(params)"
   ]
  },
  {
   "cell_type": "code",
   "execution_count": 3,
   "metadata": {},
   "outputs": [],
   "source": [
    "# # Common Process Spectral Model Comparison Plot (Figure 1) # #\n",
    "\n",
    "## Definition for powerlaw and broken powerlaw for left side of Figure 1\n",
    "def powerlaw(f, log10_A=-16, gamma=4.3333):\n",
    "    return np.sqrt((10**log10_A)**2 / 12.0 / np.pi**2 * const.fyr**(gamma-3) * f**(-gamma) * f[0])\n",
    "\n",
    "def Broken_powerlaw(f, log10_A=-16, gamma=4.3333, log10_fb=-8, delta=0, kappa=0.1):\n",
    "    hcf = (10**log10_A) * (f / const.fyr) ** ((3-gamma) / 2) * (1 + (f / 10**log10_fb) ** (1/kappa)) ** (kappa * (gamma - delta) / 2)\n",
    "    return np.sqrt(hcf**2 / 12 / np.pi**2 / f**3 * f[0])\n",
    "\n",
    "# determine placement of frequency components\n",
    "Tspan = 12.893438736619137 * (365 * 86400) #psr.toas.max() - psr.toas.min() #\n",
    "freqs_30 = 1.0 * np.arange(1, 31) / Tspan\n",
    "freqs_5 = 1.0 * np.arange(1, 6) / Tspan"
   ]
  },
  {
   "source": [
    "* In this next cell, we put some clips of code that can be run to sample the chains.\n",
    "* We do not recommend running the chains for yourself without significant computational resources due to the large amount of time required to get the posterior sampled properly."
   ],
   "cell_type": "markdown",
   "metadata": {}
  },
  {
   "cell_type": "code",
   "execution_count": 4,
   "metadata": {},
   "outputs": [],
   "source": [
    "# import chains\n",
    "# I did some thinning of my own since the chains were so massive\n",
    "\n",
    "## broken power law\n",
    "# models.model_2a(psrs, psd='turnover', noisedict=params, components=30,\n",
    "#              n_rnfreqs = None, n_gwbfreqs=None, gamma_common=None,\n",
    "#              delta_common=None, upper_limit=False, bayesephem=False,\n",
    "#              be_type='orbel', white_vary=False, is_wideband=False,\n",
    "#              use_dmdata=False, select='backend',\n",
    "#              pshift=False, pseed=None, psr_models=False)\n",
    "\n",
    "chain_DE438_bplaw_vary = np.loadtxt('../downloaded_chains/12p5yr_DE438_model2a_PSDbrokenplaw_gammaVary_chain.gz', usecols=np.arange(-7,-3), skiprows=25000)\n",
    "chain_DE438_bplaw_vary = chain_DE438_bplaw_vary[::5]\n",
    "pars_DE438_bplaw_vary = np.loadtxt('../downloaded_chains/12p5yr_DE438_model2a_PSDbrokenplaw_gammaVary_pars.txt', dtype=np.str)\n",
    "\n",
    "## 5 frequency\n",
    "# models.model_2a(psrs, psd='powerlaw', noisedict=params, components=5,\n",
    "#              n_rnfreqs = None, n_gwbfreqs=None, gamma_common=None,\n",
    "#              delta_common=None, upper_limit=False, bayesephem=False,\n",
    "#              be_type='orbel', white_vary=False, is_wideband=False,\n",
    "#              use_dmdata=False, select='backend',\n",
    "#              pshift=False, pseed=None, psr_models=False)\n",
    "\n",
    "chain_DE438_vary = np.loadtxt('../downloaded_chains/12p5yr_DE438_model2a_cRN5freq_gammaVary_chain.gz', usecols=[90,91,92], skiprows=25000)\n",
    "chain_DE438_vary = chain_DE438_vary[::4]\n",
    "\n",
    "## 30 frequency\n",
    "# models.model_2a(psrs, psd='powerlaw', noisedict=params, components=30,\n",
    "#              n_rnfreqs = None, n_gwbfreqs=None, gamma_common=None,\n",
    "#              delta_common=None, upper_limit=False, bayesephem=False,\n",
    "#              be_type='orbel', white_vary=False, is_wideband=False,\n",
    "#              use_dmdata=False, select='backend',\n",
    "#              pshift=False, pseed=None, psr_models=False)\n",
    "\n",
    "chain_DE438_30f_vary = np.loadtxt('../downloaded_chains/12p5yr_DE438_model2a_cRN30freq_gammaVary_chain.gz', usecols=[90,91,92], skiprows=25000)\n",
    "chain_DE438_30f_vary = chain_DE438_30f_vary[::4]\n",
    "\n",
    "## Free Spectral\n",
    "# models.model_2a(psrs, psd='spectrum', noisedict=params, components=30,\n",
    "#              n_rnfreqs = None, n_gwbfreqs=None, gamma_common=None,\n",
    "#              delta_common=None, upper_limit=False, bayesephem=False,\n",
    "#              be_type='orbel', white_vary=False, is_wideband=False,\n",
    "#              use_dmdata=False, select='backend',\n",
    "#              pshift=False, pseed=None, psr_models=False)\n",
    "\n",
    "chain_DE438_FreeSpec = np.loadtxt('../downloaded_chains/12p5yr_DE438_model2a_PSDspectrum_chain.gz', usecols=np.arange(90,120), skiprows=30000)\n",
    "chain_DE438_FreeSpec = chain_DE438_FreeSpec[::5]"
   ]
  },
  {
   "cell_type": "code",
   "execution_count": 5,
   "metadata": {},
   "outputs": [],
   "source": [
    "# Pull MLV params\n",
    "DE438_vary_Bpl_idx = np.argmax(chain_DE438_bplaw_vary[:,-1])\n",
    "DE438_vary_5cRN_idx = np.argmax(chain_DE438_vary[:,-1])\n",
    "DE438_vary_30cRN_idx = np.argmax(chain_DE438_30f_vary[:,-1])\n",
    "\n",
    "# Make MLV Curves\n",
    "PL_5freq = powerlaw(freqs_5, log10_A=chain_DE438_vary[:,1][DE438_vary_5cRN_idx], gamma=chain_DE438_vary[:,0][DE438_vary_5cRN_idx])\n",
    "PL_30freq = powerlaw(freqs_30, log10_A=chain_DE438_30f_vary[:,1][DE438_vary_30cRN_idx], gamma=chain_DE438_30f_vary[:,0][DE438_vary_30cRN_idx])\n",
    "bPL = Broken_powerlaw(freqs_30, log10_A=chain_DE438_bplaw_vary[:,1][DE438_vary_Bpl_idx], log10_fb=chain_DE438_bplaw_vary[:,2][DE438_vary_Bpl_idx], gamma=chain_DE438_bplaw_vary[:,0][DE438_vary_Bpl_idx])\n"
   ]
  },
  {
   "cell_type": "code",
   "execution_count": 13,
   "metadata": {},
   "outputs": [],
   "source": [
    "# Make Figure\n",
    "plt.figure(figsize=[2*3.5503666805036667, 2.1942472810764047])\n",
    "\n",
    "# Left Hand Side Of Plot\n",
    "plt.subplot(1,2,1)\n",
    "\n",
    "# Plot MLV Curves\n",
    "plt.semilogx(freqs_30, np.log10(bPL), color='C0', label='Broken PL')\n",
    "plt.plot(freqs_5, np.log10(PL_5freq), color='C1', label='PL (5 freq.)', ls='dashed')\n",
    "plt.plot(freqs_30, np.log10(PL_30freq), color='C2', label='PL (30 freq.)', ls='dashdot')\n",
    "\n",
    "# Plot Free Spectral Violin Plot\n",
    "vpt = plt.violinplot(chain_DE438_FreeSpec, positions=(freqs_30), widths=0.05*freqs_30, showextrema=False)\n",
    "for pc in vpt['bodies']:\n",
    "    pc.set_facecolor('k')\n",
    "    pc.set_alpha(0.3)\n",
    "\n",
    "# Plot Labels\n",
    "plt.xlabel(r'Frequency [Hz]')\n",
    "plt.ylabel(r'log$_{10}$ Residual [s]')\n",
    "plt.ylim(-9, -6)\n",
    "plt.xlim(10**-8.7,10**-7.15)\n",
    "plt.legend(loc=9)\n",
    "\n",
    "# f = f_yr line\n",
    "plt.axvline(3.17e-8, color='k', linestyle='dotted')\n",
    "\n",
    "# Right Hand Plot\n",
    "plt.subplot(1,2,2)\n",
    "\n",
    "crn = corner.hist2d(chain_DE438_bplaw_vary[:,0], chain_DE438_bplaw_vary[:,1], color='C0', plot_datapoints=False, plot_density=False, levels=[0.67], countour_kwargs={'linewidths':2})\n",
    "corner.hist2d(chain_DE438_bplaw_vary[:,0], chain_DE438_bplaw_vary[:,1], color='C0', plot_datapoints=False, plot_density=False, levels=[0.95], countour_kwargs={'linewidths':1}, ax=crn)\n",
    "\n",
    "corner.hist2d(chain_DE438_vary[:,0], chain_DE438_vary[:,1], color='C1', plot_datapoints=False, plot_density=False, levels=[0.67], contour_kwargs={'linestyles':'dashed','linewidths':2}, ax=crn)\n",
    "corner.hist2d(chain_DE438_vary[:,0], chain_DE438_vary[:,1], color='C1', plot_datapoints=False, plot_density=False, levels=[0.95], contour_kwargs={'linestyles':'dashed','linewidths':1}, ax=crn)\n",
    "\n",
    "corner.hist2d(chain_DE438_30f_vary[:,0], chain_DE438_30f_vary[:,1], color='C2', plot_datapoints=False, plot_density=False, levels=[0.67], contour_kwargs={'linestyles':'dashdot','linewidths':2}, ax=crn)\n",
    "corner.hist2d(chain_DE438_30f_vary[:,0], chain_DE438_30f_vary[:,1], color='C2', plot_datapoints=False, plot_density=False, levels=[0.95], contour_kwargs={'linestyles':'dashdot','linewidths':1}, ax=crn)\n",
    "\n",
    "# gamma = 13/3 line\n",
    "plt.axvline(13/3., color='k', linestyle='dashed')\n",
    "\n",
    "# Plot Labels\n",
    "plt.ylim(-16.25, -13.25)\n",
    "plt.xlim(0,6.75)\n",
    "plt.xticks([0,1,2,3,4,5,6])\n",
    "plt.ylabel('$\\log_{10}\\, A_\\mathrm{CP}$')\n",
    "plt.xlabel(r'$\\gamma_\\mathrm{CP}$')\n",
    "\n",
    "plt.subplots_adjust(wspace=0.35)\n",
    "\n",
    "plt.savefig('Figure1.png',dpi=500,bbox_inches='tight')\n",
    "plt.clf()"
   ]
  },
  {
   "source": [
    "## Figure 2"
   ],
   "cell_type": "markdown",
   "metadata": {}
  },
  {
   "source": [
    "* Note: The models labeled as such use the `INPOP19` ephemeris. This is changed up above when the data is imported (instead of `DE438`)."
   ],
   "cell_type": "markdown",
   "metadata": {}
  },
  {
   "cell_type": "code",
   "execution_count": 8,
   "metadata": {},
   "outputs": [],
   "source": [
    "# # Common Process Posteriors\n",
    "\n",
    "## Fixed Ephemeris Chains\n",
    "pars_fixed = np.loadtxt('../downloaded_chains/12p5yr_DE438_model2a_cRN5freq_gammaFixed4.33_pars.txt', dtype=np.str)\n",
    "\n",
    "# models.model_2a(psrs, psd='powerlaw', noisedict=params, components=5,\n",
    "#              n_rnfreqs = None, n_gwbfreqs=None, gamma_common=4.33,\n",
    "#              delta_common=None, upper_limit=False, bayesephem=False,\n",
    "#              be_type='orbel', white_vary=False, is_wideband=False,\n",
    "#              use_dmdata=False, select='backend',\n",
    "#              pshift=False, pseed=None, psr_models=False)\n",
    "\n",
    "chain_DE438 = np.loadtxt('../downloaded_chains/12p5yr_DE438_model2a_cRN5freq_gammaFixed4.33_chain.gz', usecols=[90], skiprows=100000)\n",
    "\n",
    "# models.model_2a(psrs, psd='powerlaw', noisedict=params, components=5,\n",
    "#              n_rnfreqs = None, n_gwbfreqs=None, gamma_common=4.33,\n",
    "#              delta_common=None, upper_limit=False, bayesephem=False,\n",
    "#              be_type='orbel', white_vary=False, is_wideband=False,\n",
    "#              use_dmdata=False, select='backend',\n",
    "#              pshift=False, pseed=None, psr_models=False)\n",
    "\n",
    "chain_INPOP19 = np.loadtxt('../downloaded_chains/12p5yr_INPOP19_model2a_cRN5freq_gammaFixed4.33_chain.gz', usecols=[90], skiprows=100000)\n",
    "\n",
    "## BayesEphem w/SetIII Chains\n",
    "\n",
    "pars_setIII = np.loadtxt('../downloaded_chains/12p5yr_DE438wBayesEphem_model2a_cRN5freq_gammaFixed4.33_pars.txt', dtype=np.str)\n",
    "\n",
    "# models.model_2a(psrs, psd='powerlaw', noisedict=params, components=5,\n",
    "#              n_rnfreqs = None, n_gwbfreqs=None, gamma_common=4.33,\n",
    "#              delta_common=None, upper_limit=False, bayesephem=True,\n",
    "#              be_type='orbel', white_vary=False, is_wideband=False,\n",
    "#              use_dmdata=False, select='backend',\n",
    "#              pshift=False, pseed=None, psr_models=False)\n",
    "\n",
    "chain_DE438_s3 = np.loadtxt('../downloaded_chains/12p5yr_DE438wBayesEphem_model2a_cRN5freq_gammaFixed4.33_chain.gz', usecols=[95], skiprows=100000)\n",
    "\n",
    "# models.model_2a(psrs, psd='powerlaw', noisedict=params, components=5,\n",
    "#              n_rnfreqs = None, n_gwbfreqs=None, gamma_common=4.33,\n",
    "#              delta_common=None, upper_limit=False, bayesephem=True,\n",
    "#              be_type='orbel', white_vary=False, is_wideband=False,\n",
    "#              use_dmdata=False, select='backend',\n",
    "#              pshift=False, pseed=None, psr_models=False)\n",
    "\n",
    "chain_INPOP19_s3 = np.loadtxt('../downloaded_chains/12p5yr_INPOP19wBayesEphem_model2a_cRN5freq_gammaFixed4.33_chain.gz', usecols=[95], skiprows=100000)\n"
   ]
  },
  {
   "cell_type": "code",
   "execution_count": 9,
   "metadata": {},
   "outputs": [],
   "source": [
    "## Combine chains\n",
    "gw_chains = []\n",
    "#gw_chains.append(chain_DE430_s3[100000::10])\n",
    "#gw_chains.append(chain_DE430[100000::10])\n",
    "#gw_chains.append(chain_DE436_s3[100000::10])\n",
    "#gw_chains.append(chain_DE436[100000::10])\n",
    "gw_chains.append(chain_DE438_s3[100000::10])\n",
    "gw_chains.append(chain_DE438[100000::10])\n",
    "gw_chains.append(chain_INPOP19_s3[100000::10])\n",
    "gw_chains.append(chain_INPOP19[100000::10])"
   ]
  },
  {
   "cell_type": "code",
   "execution_count": 14,
   "metadata": {},
   "outputs": [],
   "source": [
    "# Make Figure\n",
    "figsize(0.5)\n",
    "\n",
    "agwrange = [-15.5,-14.3]\n",
    "agwbins = 45\n",
    "\n",
    "# Plot Posteriors\n",
    "for i,eph in enumerate(['DE438','INPOP19']):\n",
    "    plt.hist(gw_chains[2*i], histtype='step', density=True, bins=agwbins, range=agwrange,\n",
    "            color=\"C%d\"%(i), ls=':')\n",
    "\n",
    "    plt.hist(gw_chains[(2*i)+1], histtype='step', density=True, bins=agwbins, range=agwrange,\n",
    "            color=\"C%d\"%(i), label=eph)\n",
    "\n",
    "# Set Plot Axes\n",
    "plt.axis(xmin=agwrange[0],xmax=agwrange[1])\n",
    "plt.xticks([-15.5,-15,-14.5])\n",
    "plt.xlabel('$\\log_{10}\\, A_\\mathrm{CP}$')\n",
    "plt.ylabel('probability density')\n",
    "\n",
    "# Add text\n",
    "plt.text(-15.45,3.9,'$p(\\log_{10}\\, A_\\mathrm{CP})$')\n",
    "plt.text(-14.5,4,'fixed SSE',ha='center')\n",
    "plt.text(-15.27,0.95,r'$\\textsc{BayesEphem}$',ha='center')\n",
    "\n",
    "# Add legend\n",
    "plt.legend(loc=6)\n",
    "\n",
    "plt.savefig('Figure2.png',bbox_inches='tight')\n",
    "plt.clf()"
   ]
  },
  {
   "cell_type": "code",
   "execution_count": null,
   "metadata": {},
   "outputs": [],
   "source": []
  }
 ],
 "metadata": {
  "anaconda-cloud": {},
  "kernelspec": {
   "name": "python3",
   "display_name": "Python 3.7.9 64-bit ('enterprise': conda)",
   "metadata": {
    "interpreter": {
     "hash": "497d9c4393a15640d3ed179114c4caa6c531d732438b37a92e8b369821f8ef79"
    }
   }
  },
  "language_info": {
   "codemirror_mode": {
    "name": "ipython",
    "version": 3
   },
   "file_extension": ".py",
   "mimetype": "text/x-python",
   "name": "python",
   "nbconvert_exporter": "python",
   "pygments_lexer": "ipython3",
   "version": "3.7.9-final"
  },
  "toc": {
   "nav_menu": {},
   "number_sections": true,
   "sideBar": true,
   "skip_h1_title": false,
   "toc_cell": false,
   "toc_position": {
    "height": "743px",
    "left": "0px",
    "right": "1458px",
    "top": "107px",
    "width": "212px"
   },
   "toc_section_display": "block",
   "toc_window_display": true
  }
 },
 "nbformat": 4,
 "nbformat_minor": 2
}